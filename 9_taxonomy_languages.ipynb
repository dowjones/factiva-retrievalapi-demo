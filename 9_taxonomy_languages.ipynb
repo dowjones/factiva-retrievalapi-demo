{
 "cells": [
  {
   "cell_type": "markdown",
   "id": "7bf76fa4",
   "metadata": {},
   "source": [
    "# Taxonomy - Languages\n",
    "This notebook helps retrieving the full list of Languages used by factiva. Returned codes can be added to the Retrieval API payload.\n",
    "\n",
    "## Code Initialisation\n",
    "Dependencies and environment initialisation. Taxonomy requests require authentication.\n",
    "\n",
    "Ensure there's a `.env` file with your credentials in the same directory as this script. Use the `env` file as template."
   ]
  },
  {
   "cell_type": "code",
   "execution_count": 1,
   "id": "1d3e90ab",
   "metadata": {},
   "outputs": [
    {
     "data": {
      "text/plain": [
       "True"
      ]
     },
     "execution_count": 1,
     "metadata": {},
     "output_type": "execute_result"
    }
   ],
   "source": [
    "import os\n",
    "import requests as r\n",
    "import pandas as pd\n",
    "from IPython.display import Markdown\n",
    "import utils as u\n",
    "from dotenv import load_dotenv\n",
    "\n",
    "load_dotenv()"
   ]
  },
  {
   "cell_type": "markdown",
   "id": "7af05a55",
   "metadata": {},
   "source": [
    "## Constants"
   ]
  },
  {
   "cell_type": "code",
   "execution_count": 2,
   "id": "a739e1a5",
   "metadata": {},
   "outputs": [],
   "source": [
    "API_HOST = 'api.dowjones.com'\n",
    "AUTH_HOST = 'accounts.dowjones.com'\n",
    "CLIENT_ID = os.getenv('FACTIVA_CLIENTID')\n",
    "USERNAME = os.getenv('FACTIVA_USERNAME')\n",
    "PASSWORD = os.getenv('FACTIVA_PASSWORD')\n",
    "AUTH_URL = f\"https://{AUTH_HOST}/oauth2/v1/token\"\n",
    "LANG_URL = f\"https://{API_HOST}/taxonomy/factiva-languages\""
   ]
  },
  {
   "cell_type": "markdown",
   "id": "1aedfd9e",
   "metadata": {},
   "source": [
    "## Authentication - Generate Bearer\n",
    "\n",
    "For details about getting the `bearer_token`, please see the `utils.py` file."
   ]
  },
  {
   "cell_type": "code",
   "execution_count": 3,
   "id": "7faeaa37",
   "metadata": {},
   "outputs": [
    {
     "data": {
      "text/markdown": [
       "**Authentication Successful**: Bearer token created for user 9ZZZ159100"
      ],
      "text/plain": [
       "<IPython.core.display.Markdown object>"
      ]
     },
     "metadata": {},
     "output_type": "display_data"
    }
   ],
   "source": [
    "bearer_token = u.get_bearer_token(CLIENT_ID, USERNAME, PASSWORD, AUTH_URL)\n",
    "if bearer_token:\n",
    "    display(Markdown(f\"**Authentication Successful**: Bearer token created for user {USERNAME.split('@')[0].split('-')[0]}\"))\n",
    "else:\n",
    "    display(Markdown(f\"**Authentication Failed**: Cannot obtain the Bearer token for the user {USERNAME.split('@')[0].split('-')[0]}\"))\n",
    "    \n",
    "req_headers = {\n",
    "    \"Authorization\": f\"Bearer {bearer_token}\",\n",
    "    \"Content-Type\": \"application/json\",\n",
    "    \"Accept\": \"application/json\"\n",
    "}"
   ]
  },
  {
   "cell_type": "markdown",
   "id": "1760b206",
   "metadata": {},
   "source": [
    "## Taxonomy API Request"
   ]
  },
  {
   "cell_type": "code",
   "execution_count": 4,
   "id": "b1aa26ab",
   "metadata": {},
   "outputs": [],
   "source": [
    "lang_response = r.get(f\"{LANG_URL}\", headers=req_headers)\n",
    "lang_dict = lang_response.json()['data']['attributes']['languages']\n",
    "lang_df = pd.DataFrame(lang_dict)\n",
    "lang_df = lang_df.dropna()\n",
    "lang_df = lang_df.sort_values(by='descriptor', ascending=True)\n",
    "lang_df = lang_df.reset_index(drop=True)"
   ]
  },
  {
   "cell_type": "markdown",
   "id": "7da85877",
   "metadata": {},
   "source": [
    "## Displaying Language List"
   ]
  },
  {
   "cell_type": "code",
   "execution_count": 5,
   "id": "d0f77fbb",
   "metadata": {},
   "outputs": [
    {
     "data": {
      "text/html": [
       "<div>\n",
       "<style scoped>\n",
       "    .dataframe tbody tr th:only-of-type {\n",
       "        vertical-align: middle;\n",
       "    }\n",
       "\n",
       "    .dataframe tbody tr th {\n",
       "        vertical-align: top;\n",
       "    }\n",
       "\n",
       "    .dataframe thead th {\n",
       "        text-align: right;\n",
       "    }\n",
       "</style>\n",
       "<table border=\"1\" class=\"dataframe\">\n",
       "  <thead>\n",
       "    <tr style=\"text-align: right;\">\n",
       "      <th></th>\n",
       "      <th>code</th>\n",
       "      <th>descriptor</th>\n",
       "    </tr>\n",
       "  </thead>\n",
       "  <tbody>\n",
       "    <tr>\n",
       "      <th>0</th>\n",
       "      <td>AR</td>\n",
       "      <td>Arabic</td>\n",
       "    </tr>\n",
       "    <tr>\n",
       "      <th>1</th>\n",
       "      <td>ID</td>\n",
       "      <td>BahasaIndonesia</td>\n",
       "    </tr>\n",
       "    <tr>\n",
       "      <th>2</th>\n",
       "      <td>MS</td>\n",
       "      <td>BahasaMalaysia</td>\n",
       "    </tr>\n",
       "    <tr>\n",
       "      <th>3</th>\n",
       "      <td>BG</td>\n",
       "      <td>Bulgarian</td>\n",
       "    </tr>\n",
       "    <tr>\n",
       "      <th>4</th>\n",
       "      <td>CA</td>\n",
       "      <td>Catalan</td>\n",
       "    </tr>\n",
       "    <tr>\n",
       "      <th>5</th>\n",
       "      <td>CS</td>\n",
       "      <td>Czech</td>\n",
       "    </tr>\n",
       "    <tr>\n",
       "      <th>6</th>\n",
       "      <td>DA</td>\n",
       "      <td>Danish</td>\n",
       "    </tr>\n",
       "    <tr>\n",
       "      <th>7</th>\n",
       "      <td>NL</td>\n",
       "      <td>Dutch</td>\n",
       "    </tr>\n",
       "    <tr>\n",
       "      <th>8</th>\n",
       "      <td>EN</td>\n",
       "      <td>English</td>\n",
       "    </tr>\n",
       "    <tr>\n",
       "      <th>9</th>\n",
       "      <td>FI</td>\n",
       "      <td>Finnish</td>\n",
       "    </tr>\n",
       "    <tr>\n",
       "      <th>10</th>\n",
       "      <td>FR</td>\n",
       "      <td>French</td>\n",
       "    </tr>\n",
       "    <tr>\n",
       "      <th>11</th>\n",
       "      <td>DE</td>\n",
       "      <td>German</td>\n",
       "    </tr>\n",
       "    <tr>\n",
       "      <th>12</th>\n",
       "      <td>HU</td>\n",
       "      <td>Hungarian</td>\n",
       "    </tr>\n",
       "    <tr>\n",
       "      <th>13</th>\n",
       "      <td>IT</td>\n",
       "      <td>Italian</td>\n",
       "    </tr>\n",
       "    <tr>\n",
       "      <th>14</th>\n",
       "      <td>JA</td>\n",
       "      <td>Japanese</td>\n",
       "    </tr>\n",
       "    <tr>\n",
       "      <th>15</th>\n",
       "      <td>KO</td>\n",
       "      <td>Korean</td>\n",
       "    </tr>\n",
       "    <tr>\n",
       "      <th>16</th>\n",
       "      <td>NO</td>\n",
       "      <td>Norwegian</td>\n",
       "    </tr>\n",
       "    <tr>\n",
       "      <th>17</th>\n",
       "      <td>PL</td>\n",
       "      <td>Polish</td>\n",
       "    </tr>\n",
       "    <tr>\n",
       "      <th>18</th>\n",
       "      <td>PT</td>\n",
       "      <td>Portuguese</td>\n",
       "    </tr>\n",
       "    <tr>\n",
       "      <th>19</th>\n",
       "      <td>RU</td>\n",
       "      <td>Russian</td>\n",
       "    </tr>\n",
       "    <tr>\n",
       "      <th>20</th>\n",
       "      <td>ZHCN</td>\n",
       "      <td>SimplifiedChinese</td>\n",
       "    </tr>\n",
       "    <tr>\n",
       "      <th>21</th>\n",
       "      <td>SK</td>\n",
       "      <td>Slovak</td>\n",
       "    </tr>\n",
       "    <tr>\n",
       "      <th>22</th>\n",
       "      <td>ES</td>\n",
       "      <td>Spanish</td>\n",
       "    </tr>\n",
       "    <tr>\n",
       "      <th>23</th>\n",
       "      <td>SV</td>\n",
       "      <td>Swedish</td>\n",
       "    </tr>\n",
       "    <tr>\n",
       "      <th>24</th>\n",
       "      <td>ZHTW</td>\n",
       "      <td>TraditionalChinese</td>\n",
       "    </tr>\n",
       "    <tr>\n",
       "      <th>25</th>\n",
       "      <td>TR</td>\n",
       "      <td>Turkish</td>\n",
       "    </tr>\n",
       "  </tbody>\n",
       "</table>\n",
       "</div>"
      ],
      "text/plain": [
       "    code          descriptor\n",
       "0     AR              Arabic\n",
       "1     ID     BahasaIndonesia\n",
       "2     MS      BahasaMalaysia\n",
       "3     BG           Bulgarian\n",
       "4     CA             Catalan\n",
       "5     CS               Czech\n",
       "6     DA              Danish\n",
       "7     NL               Dutch\n",
       "8     EN             English\n",
       "9     FI             Finnish\n",
       "10    FR              French\n",
       "11    DE              German\n",
       "12    HU           Hungarian\n",
       "13    IT             Italian\n",
       "14    JA            Japanese\n",
       "15    KO              Korean\n",
       "16    NO           Norwegian\n",
       "17    PL              Polish\n",
       "18    PT          Portuguese\n",
       "19    RU             Russian\n",
       "20  ZHCN   SimplifiedChinese\n",
       "21    SK              Slovak\n",
       "22    ES             Spanish\n",
       "23    SV             Swedish\n",
       "24  ZHTW  TraditionalChinese\n",
       "25    TR             Turkish"
      ]
     },
     "execution_count": 5,
     "metadata": {},
     "output_type": "execute_result"
    }
   ],
   "source": [
    "lang_df"
   ]
  }
 ],
 "metadata": {
  "kernelspec": {
   "display_name": "frapidemo",
   "language": "python",
   "name": "python3"
  },
  "language_info": {
   "codemirror_mode": {
    "name": "ipython",
    "version": 3
   },
   "file_extension": ".py",
   "mimetype": "text/x-python",
   "name": "python",
   "nbconvert_exporter": "python",
   "pygments_lexer": "ipython3",
   "version": "3.12.9"
  }
 },
 "nbformat": 4,
 "nbformat_minor": 5
}
