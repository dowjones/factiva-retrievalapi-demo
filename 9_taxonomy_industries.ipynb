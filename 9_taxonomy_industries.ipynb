{
 "cells": [
  {
   "cell_type": "markdown",
   "id": "7bf76fa4",
   "metadata": {},
   "source": [
    "# Taxonomy - Industries\n",
    "This notebook helps retrieving the full list of Industries used by factiva. Returned codes can be added to the Retrieval API payload.\n",
    "\n",
    "## Code Initialisation\n",
    "Dependencies and environment initialisation. Taxonomy requests require authentication.\n",
    "\n",
    "Ensure there's a `.env` file with your credentials in the same directory as this script. Use the `.env.example` file as template."
   ]
  },
  {
   "cell_type": "code",
   "execution_count": 15,
   "id": "1d3e90ab",
   "metadata": {},
   "outputs": [
    {
     "data": {
      "text/plain": [
       "True"
      ]
     },
     "execution_count": 15,
     "metadata": {},
     "output_type": "execute_result"
    }
   ],
   "source": [
    "import os\n",
    "import requests as r\n",
    "import pandas as pd\n",
    "from IPython.display import Markdown\n",
    "import utils as u\n",
    "from dotenv import load_dotenv\n",
    "\n",
    "load_dotenv()"
   ]
  },
  {
   "cell_type": "markdown",
   "id": "7af05a55",
   "metadata": {},
   "source": [
    "## Constants"
   ]
  },
  {
   "cell_type": "code",
   "execution_count": 16,
   "id": "a739e1a5",
   "metadata": {},
   "outputs": [],
   "source": [
    "API_HOST = 'api.dowjones.com'\n",
    "AUTH_HOST = 'accounts.dowjones.com'\n",
    "CLIENT_ID = os.getenv('FACTIVA_CLIENTID')\n",
    "USERNAME = os.getenv('FACTIVA_USERNAME')\n",
    "PASSWORD = os.getenv('FACTIVA_PASSWORD')\n",
    "AUTH_URL = f\"https://{AUTH_HOST}/oauth2/v1/token\"\n",
    "IND_URL = f\"https://{API_HOST}/taxonomy/factiva-industries/list\""
   ]
  },
  {
   "cell_type": "markdown",
   "id": "1aedfd9e",
   "metadata": {},
   "source": [
    "## Authentication - Generate Bearer\n",
    "\n",
    "For details about getting the `bearer_token`, please see the `utils.py` file."
   ]
  },
  {
   "cell_type": "code",
   "execution_count": 17,
   "id": "7faeaa37",
   "metadata": {},
   "outputs": [
    {
     "data": {
      "text/markdown": [
       "**Authentication Successful**: Bearer token created for user 9ZZZ159100"
      ],
      "text/plain": [
       "<IPython.core.display.Markdown object>"
      ]
     },
     "metadata": {},
     "output_type": "display_data"
    }
   ],
   "source": [
    "bearer_token = u.get_bearer_token(CLIENT_ID, USERNAME, PASSWORD, AUTH_URL)\n",
    "if bearer_token:\n",
    "    display(Markdown(f\"**Authentication Successful**: Bearer token created for user {USERNAME.split('@')[0].split('-')[0]}\"))\n",
    "else:\n",
    "    display(Markdown(f\"**Authentication Failed**: Cannot obtain the Bearer token for the user {USERNAME.split('@')[0].split('-')[0]}\"))\n",
    "    \n",
    "req_headers = {\n",
    "    \"Authorization\": f\"Bearer {bearer_token}\",\n",
    "    \"Content-Type\": \"application/json\",\n",
    "    \"Accept\": \"application/json\"\n",
    "}"
   ]
  },
  {
   "cell_type": "markdown",
   "id": "1760b206",
   "metadata": {},
   "source": [
    "## Taxonomy API Request"
   ]
  },
  {
   "cell_type": "code",
   "execution_count": 18,
   "id": "b1aa26ab",
   "metadata": {},
   "outputs": [
    {
     "data": {
      "text/markdown": [
       "**Industries Retrieved Successfully**"
      ],
      "text/plain": [
       "<IPython.core.display.Markdown object>"
      ]
     },
     "metadata": {},
     "output_type": "display_data"
    },
    {
     "data": {
      "text/markdown": [
       "Returned 949 industries"
      ],
      "text/plain": [
       "<IPython.core.display.Markdown object>"
      ]
     },
     "metadata": {},
     "output_type": "display_data"
    }
   ],
   "source": [
    "ind_response = r.get(f\"{IND_URL}?language=en&parts=All\", headers=req_headers)\n",
    "ind_dict = ind_response.json()['data']['attributes']['industries']\n",
    "flat_ind = []\n",
    "for item in ind_dict:\n",
    "    parents = []\n",
    "    if 'parent' in item and item['parent']:\n",
    "        # parent can be a dict or a list of dicts\n",
    "        if isinstance(item['parent'], dict):\n",
    "            parents.append(item['parent'].get('code'))\n",
    "        elif isinstance(item['parent'], list):\n",
    "            parents = [p.get('code') for p in item['parent'] if 'code' in p]\n",
    "    flat_ind.append({\n",
    "        'ind_code': item.get('code'),\n",
    "        'ind_name': item.get('descriptor'),\n",
    "        'description': item.get('description'),\n",
    "        'parents': parents\n",
    "    })\n",
    "ind_df = pd.DataFrame(flat_ind)\n",
    "if ind_df.shape[0] > 5:\n",
    "    display(Markdown(\"**Industries Retrieved Successfully**\"))\n",
    "    display(Markdown(f\"Returned {ind_df.shape[0]} industries\"))\n",
    "else:\n",
    "    display(Markdown(\"**Industries Retrieval Failed**\"))"
   ]
  },
  {
   "cell_type": "markdown",
   "id": "7da85877",
   "metadata": {},
   "source": [
    "## Displaying and filtering News Subjects\n",
    "\n",
    "### Display & Filter"
   ]
  },
  {
   "cell_type": "code",
   "execution_count": 19,
   "id": "d0f77fbb",
   "metadata": {},
   "outputs": [
    {
     "data": {
      "text/html": [
       "<div>\n",
       "<style scoped>\n",
       "    .dataframe tbody tr th:only-of-type {\n",
       "        vertical-align: middle;\n",
       "    }\n",
       "\n",
       "    .dataframe tbody tr th {\n",
       "        vertical-align: top;\n",
       "    }\n",
       "\n",
       "    .dataframe thead th {\n",
       "        text-align: right;\n",
       "    }\n",
       "</style>\n",
       "<table border=\"1\" class=\"dataframe\">\n",
       "  <thead>\n",
       "    <tr style=\"text-align: right;\">\n",
       "      <th></th>\n",
       "      <th>ind_code</th>\n",
       "      <th>ind_name</th>\n",
       "      <th>description</th>\n",
       "      <th>parents</th>\n",
       "    </tr>\n",
       "  </thead>\n",
       "  <tbody>\n",
       "    <tr>\n",
       "      <th>151</th>\n",
       "      <td>i3302</td>\n",
       "      <td>Computers/Consumer Electronics</td>\n",
       "      <td>The manufacture of computers and consumer elec...</td>\n",
       "      <td>[itech]</td>\n",
       "    </tr>\n",
       "    <tr>\n",
       "      <th>160</th>\n",
       "      <td>i3302022</td>\n",
       "      <td>Artificial Intelligence Technologies</td>\n",
       "      <td>Artificial Intelligence Technologies</td>\n",
       "      <td>[itech]</td>\n",
       "    </tr>\n",
       "    <tr>\n",
       "      <th>171</th>\n",
       "      <td>i3441</td>\n",
       "      <td>Telecommunications Equipment</td>\n",
       "      <td>Equipment and components used to enable the pr...</td>\n",
       "      <td>[itech]</td>\n",
       "    </tr>\n",
       "    <tr>\n",
       "      <th>216</th>\n",
       "      <td>i3dprn</td>\n",
       "      <td>3D/4D Printing Technology</td>\n",
       "      <td>3D and 4D printing technologies. Includes biop...</td>\n",
       "      <td>[itech]</td>\n",
       "    </tr>\n",
       "    <tr>\n",
       "      <th>559</th>\n",
       "      <td>iadrive</td>\n",
       "      <td>Autonomous Driving Technologies</td>\n",
       "      <td>Technologies that assist the driver in some as...</td>\n",
       "      <td>[iaut, itech]</td>\n",
       "    </tr>\n",
       "    <tr>\n",
       "      <th>565</th>\n",
       "      <td>iagtech</td>\n",
       "      <td>Agriculture Technology</td>\n",
       "      <td>Technologies used in agriculture, aquaculture,...</td>\n",
       "      <td>[itech]</td>\n",
       "    </tr>\n",
       "    <tr>\n",
       "      <th>597</th>\n",
       "      <td>iblock</td>\n",
       "      <td>Blockchain Technology</td>\n",
       "      <td>Blockchain is a decentralized, digital databas...</td>\n",
       "      <td>[itech]</td>\n",
       "    </tr>\n",
       "    <tr>\n",
       "      <th>678</th>\n",
       "      <td>ielear</td>\n",
       "      <td>E-learning/Educational Technology</td>\n",
       "      <td>Software and online platforms that provide onl...</td>\n",
       "      <td>[i983, itech]</td>\n",
       "    </tr>\n",
       "    <tr>\n",
       "      <th>701</th>\n",
       "      <td>ifmsoft</td>\n",
       "      <td>Financial Technology</td>\n",
       "      <td>FinTech is the design and provision of technol...</td>\n",
       "      <td>[ifinal, itech]</td>\n",
       "    </tr>\n",
       "    <tr>\n",
       "      <th>742</th>\n",
       "      <td>iindele</td>\n",
       "      <td>Industrial Electronics</td>\n",
       "      <td>Electronic equipment, parts and components for...</td>\n",
       "      <td>[iindstrls, itech]</td>\n",
       "    </tr>\n",
       "    <tr>\n",
       "      <th>747</th>\n",
       "      <td>iint</td>\n",
       "      <td>Online Service Providers</td>\n",
       "      <td>The provision of services via the web or mobil...</td>\n",
       "      <td>[itech]</td>\n",
       "    </tr>\n",
       "    <tr>\n",
       "      <th>829</th>\n",
       "      <td>iphhit</td>\n",
       "      <td>Healthcare Information Technologies</td>\n",
       "      <td>Information technologies applied to the health...</td>\n",
       "      <td>[itech]</td>\n",
       "    </tr>\n",
       "    <tr>\n",
       "      <th>835</th>\n",
       "      <td>iphmetrix</td>\n",
       "      <td>Biometrics Technology</td>\n",
       "      <td>Technology used in biometrics identification a...</td>\n",
       "      <td>[itech]</td>\n",
       "    </tr>\n",
       "    <tr>\n",
       "      <th>902</th>\n",
       "      <td>isptech</td>\n",
       "      <td>Sports Technologies</td>\n",
       "      <td>Technologies used by sports performers, coache...</td>\n",
       "      <td>[itech]</td>\n",
       "    </tr>\n",
       "    <tr>\n",
       "      <th>938</th>\n",
       "      <td>ivrealt</td>\n",
       "      <td>Virtual Reality Technologies</td>\n",
       "      <td>Technologies used to simulate real or imagined...</td>\n",
       "      <td>[itech]</td>\n",
       "    </tr>\n",
       "  </tbody>\n",
       "</table>\n",
       "</div>"
      ],
      "text/plain": [
       "      ind_code                              ind_name  \\\n",
       "151      i3302        Computers/Consumer Electronics   \n",
       "160   i3302022  Artificial Intelligence Technologies   \n",
       "171      i3441          Telecommunications Equipment   \n",
       "216     i3dprn             3D/4D Printing Technology   \n",
       "559    iadrive       Autonomous Driving Technologies   \n",
       "565    iagtech                Agriculture Technology   \n",
       "597     iblock                 Blockchain Technology   \n",
       "678     ielear     E-learning/Educational Technology   \n",
       "701    ifmsoft                  Financial Technology   \n",
       "742    iindele                Industrial Electronics   \n",
       "747       iint              Online Service Providers   \n",
       "829     iphhit   Healthcare Information Technologies   \n",
       "835  iphmetrix                 Biometrics Technology   \n",
       "902    isptech                   Sports Technologies   \n",
       "938    ivrealt          Virtual Reality Technologies   \n",
       "\n",
       "                                           description             parents  \n",
       "151  The manufacture of computers and consumer elec...             [itech]  \n",
       "160               Artificial Intelligence Technologies             [itech]  \n",
       "171  Equipment and components used to enable the pr...             [itech]  \n",
       "216  3D and 4D printing technologies. Includes biop...             [itech]  \n",
       "559  Technologies that assist the driver in some as...       [iaut, itech]  \n",
       "565  Technologies used in agriculture, aquaculture,...             [itech]  \n",
       "597  Blockchain is a decentralized, digital databas...             [itech]  \n",
       "678  Software and online platforms that provide onl...       [i983, itech]  \n",
       "701  FinTech is the design and provision of technol...     [ifinal, itech]  \n",
       "742  Electronic equipment, parts and components for...  [iindstrls, itech]  \n",
       "747  The provision of services via the web or mobil...             [itech]  \n",
       "829  Information technologies applied to the health...             [itech]  \n",
       "835  Technology used in biometrics identification a...             [itech]  \n",
       "902  Technologies used by sports performers, coache...             [itech]  \n",
       "938  Technologies used to simulate real or imagined...             [itech]  "
      ]
     },
     "execution_count": 19,
     "metadata": {},
     "output_type": "execute_result"
    }
   ],
   "source": [
    "# Show all\n",
    "# ind_df\n",
    "# Top Industries in the hierarchy\n",
    "# ind_df[ind_df['parents'].apply(lambda x: len(x) == 0)]\n",
    "# By industry code\n",
    "# ind_df[ind_df.ind_code == 'i3302022']\n",
    "# Filter by parent\n",
    "ind_df[ind_df['parents'].apply(lambda x: 'itech' in x)]"
   ]
  },
  {
   "cell_type": "markdown",
   "id": "d4686785",
   "metadata": {},
   "source": [
    "### Search Keywords"
   ]
  },
  {
   "cell_type": "code",
   "execution_count": 22,
   "id": "fbede3dd",
   "metadata": {},
   "outputs": [
    {
     "data": {
      "text/html": [
       "<div>\n",
       "<style scoped>\n",
       "    .dataframe tbody tr th:only-of-type {\n",
       "        vertical-align: middle;\n",
       "    }\n",
       "\n",
       "    .dataframe tbody tr th {\n",
       "        vertical-align: top;\n",
       "    }\n",
       "\n",
       "    .dataframe thead th {\n",
       "        text-align: right;\n",
       "    }\n",
       "</style>\n",
       "<table border=\"1\" class=\"dataframe\">\n",
       "  <thead>\n",
       "    <tr style=\"text-align: right;\">\n",
       "      <th></th>\n",
       "      <th>ind_code</th>\n",
       "      <th>ind_name</th>\n",
       "      <th>description</th>\n",
       "      <th>parents</th>\n",
       "    </tr>\n",
       "  </thead>\n",
       "  <tbody>\n",
       "    <tr>\n",
       "      <th>160</th>\n",
       "      <td>i3302022</td>\n",
       "      <td>Artificial Intelligence Technologies</td>\n",
       "      <td>Artificial Intelligence Technologies</td>\n",
       "      <td>[itech]</td>\n",
       "    </tr>\n",
       "  </tbody>\n",
       "</table>\n",
       "</div>"
      ],
      "text/plain": [
       "     ind_code                              ind_name  \\\n",
       "160  i3302022  Artificial Intelligence Technologies   \n",
       "\n",
       "                              description  parents  \n",
       "160  Artificial Intelligence Technologies  [itech]  "
      ]
     },
     "execution_count": 22,
     "metadata": {},
     "output_type": "execute_result"
    }
   ],
   "source": [
    "# By industry name\n",
    "ind_df[ind_df.ind_name.str.contains('artificial intelligence', case=False)]\n",
    "# By industry description\n",
    "# ind_df[ind_df.description.str.contains('artificial intelligence', case=False)]"
   ]
  }
 ],
 "metadata": {
  "kernelspec": {
   "display_name": "frapidemo",
   "language": "python",
   "name": "python3"
  },
  "language_info": {
   "codemirror_mode": {
    "name": "ipython",
    "version": 3
   },
   "file_extension": ".py",
   "mimetype": "text/x-python",
   "name": "python",
   "nbconvert_exporter": "python",
   "pygments_lexer": "ipython3",
   "version": "3.12.9"
  }
 },
 "nbformat": 4,
 "nbformat_minor": 5
}
