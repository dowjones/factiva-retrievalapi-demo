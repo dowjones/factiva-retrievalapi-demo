{
 "cells": [
  {
   "cell_type": "markdown",
   "id": "7bf76fa4",
   "metadata": {},
   "source": [
    "# Taxonomy - Sources Search\n",
    "This notebook helps retrieving sepcific source codes based on a set of parameters. Returned codes can be added to the Retrieval API payload.\n",
    "\n",
    "## Code Initialization\n",
    "Dependencies and environment initialization. Taxonomy requests require authentication.\n",
    "\n",
    "Ensure there's a `.env` file with your credentials in the same directory as this script. Use the `.env.example` file as template."
   ]
  },
  {
   "cell_type": "code",
   "execution_count": 1,
   "id": "1d3e90ab",
   "metadata": {},
   "outputs": [
    {
     "data": {
      "text/plain": [
       "True"
      ]
     },
     "execution_count": 1,
     "metadata": {},
     "output_type": "execute_result"
    }
   ],
   "source": [
    "import os\n",
    "import requests as r\n",
    "import pandas as pd\n",
    "from IPython.display import Markdown\n",
    "import utils as u\n",
    "from dotenv import load_dotenv\n",
    "\n",
    "load_dotenv()"
   ]
  },
  {
   "cell_type": "markdown",
   "id": "7af05a55",
   "metadata": {},
   "source": [
    "## Constants"
   ]
  },
  {
   "cell_type": "code",
   "execution_count": 2,
   "id": "a739e1a5",
   "metadata": {},
   "outputs": [],
   "source": [
    "API_HOST = 'api.dowjones.com'\n",
    "AUTH_HOST = 'accounts.dowjones.com'\n",
    "CLIENT_ID = os.getenv('FACTIVA_CLIENTID')\n",
    "USERNAME = os.getenv('FACTIVA_USERNAME')\n",
    "PASSWORD = os.getenv('FACTIVA_PASSWORD')\n",
    "AUTH_URL = f\"https://{AUTH_HOST}/oauth2/v1/token\"\n",
    "SRC_URL = f\"https://{API_HOST}/taxonomy/factiva-sources/search\""
   ]
  },
  {
   "cell_type": "markdown",
   "id": "1aedfd9e",
   "metadata": {},
   "source": [
    "## Authentication - Generate Bearer\n",
    "\n",
    "For details about getting the `bearer_token`, please see the `utils.py` file."
   ]
  },
  {
   "cell_type": "code",
   "execution_count": 3,
   "id": "7faeaa37",
   "metadata": {},
   "outputs": [
    {
     "data": {
      "text/markdown": [
       "**Authentication Successful**: Bearer token created for user 9ZZZ159100"
      ],
      "text/plain": [
       "<IPython.core.display.Markdown object>"
      ]
     },
     "metadata": {},
     "output_type": "display_data"
    }
   ],
   "source": [
    "bearer_token = u.get_bearer_token(CLIENT_ID, USERNAME, PASSWORD, AUTH_URL)\n",
    "if bearer_token:\n",
    "    display(Markdown(f\"**Authentication Successful**: Bearer token created for user {USERNAME.split('@')[0].split('-')[0]}\"))\n",
    "else:\n",
    "    display(Markdown(f\"**Authentication Failed**: Cannot obtain the Bearer token for the user {USERNAME.split('@')[0].split('-')[0]}\"))\n",
    "    \n",
    "req_headers = {\n",
    "    \"Authorization\": f\"Bearer {bearer_token}\",\n",
    "    \"Content-Type\": \"application/json\",\n",
    "    \"Accept\": \"application/json\"\n",
    "}"
   ]
  },
  {
   "cell_type": "markdown",
   "id": "47fa0f61",
   "metadata": {},
   "source": [
    "## Source Search Keyword"
   ]
  },
  {
   "cell_type": "code",
   "execution_count": 4,
   "id": "50fe650d",
   "metadata": {},
   "outputs": [],
   "source": [
    "source_keyword = \"wsj\""
   ]
  },
  {
   "cell_type": "markdown",
   "id": "1760b206",
   "metadata": {},
   "source": [
    "## Taxonomy API Request"
   ]
  },
  {
   "cell_type": "code",
   "execution_count": 5,
   "id": "b1aa26ab",
   "metadata": {},
   "outputs": [
    {
     "data": {
      "text/markdown": [
       "Found: 14 results for the keyword 'wsj'"
      ],
      "text/plain": [
       "<IPython.core.display.Markdown object>"
      ]
     },
     "metadata": {},
     "output_type": "display_data"
    }
   ],
   "source": [
    "src_response = r.get(f\"{SRC_URL}?language=en&filter.search_string={source_keyword}&filter.alias_only=false&filter.exclude_discontinued=true&filter.search_in_groups=false\", headers=req_headers)\n",
    "if src_response.status_code == 200:\n",
    "    src_dict = src_response.json()['data']\n",
    "    src_count = src_response.json()['meta']['total_count']\n",
    "    display(Markdown(f\"Found: {src_count} results for the keyword '{source_keyword}'\"))\n",
    "else:\n",
    "    display(Markdown(f\"**Error**: {src_response.status_code} - {src_response.reason}\"))\n"
   ]
  },
  {
   "cell_type": "markdown",
   "id": "84593f99",
   "metadata": {},
   "source": [
    "Results processing and transform into a Pandas DataFrame"
   ]
  },
  {
   "cell_type": "code",
   "execution_count": 6,
   "id": "c0e941d6",
   "metadata": {},
   "outputs": [],
   "source": [
    "flat_src = []\n",
    "for item in src_dict:\n",
    "    flat_src.append({\n",
    "        'source_code': item.get('attributes').get('code'),\n",
    "        'source_name': item.get('attributes').get('descriptor'),\n",
    "        'status': item.get('attributes').get('status').get('active_status', ''),\n",
    "        'common_name': item.get('attributes').get('alternative_names').get('common_name', '') if item.get('attributes').get('alternative_names') else '',\n",
    "        'local_name': item.get('attributes').get('alternative_names').get('local_name', '') if item.get('attributes').get('alternative_names') else ''\n",
    "    })\n",
    "src_df = pd.DataFrame(flat_src)"
   ]
  },
  {
   "cell_type": "markdown",
   "id": "7da85877",
   "metadata": {},
   "source": [
    "## Display Sources Results"
   ]
  },
  {
   "cell_type": "code",
   "execution_count": 7,
   "id": "d0f77fbb",
   "metadata": {},
   "outputs": [
    {
     "data": {
      "text/html": [
       "<div>\n",
       "<style scoped>\n",
       "    .dataframe tbody tr th:only-of-type {\n",
       "        vertical-align: middle;\n",
       "    }\n",
       "\n",
       "    .dataframe tbody tr th {\n",
       "        vertical-align: top;\n",
       "    }\n",
       "\n",
       "    .dataframe thead th {\n",
       "        text-align: right;\n",
       "    }\n",
       "</style>\n",
       "<table border=\"1\" class=\"dataframe\">\n",
       "  <thead>\n",
       "    <tr style=\"text-align: right;\">\n",
       "      <th></th>\n",
       "      <th>source_code</th>\n",
       "      <th>source_name</th>\n",
       "      <th>status</th>\n",
       "      <th>common_name</th>\n",
       "      <th>local_name</th>\n",
       "    </tr>\n",
       "  </thead>\n",
       "  <tbody>\n",
       "    <tr>\n",
       "      <th>0</th>\n",
       "      <td>WSJCOM</td>\n",
       "      <td>Buy Side from WSJ</td>\n",
       "      <td>Active</td>\n",
       "      <td>Buy Side from WSJ</td>\n",
       "      <td>Buy Side from WSJ</td>\n",
       "    </tr>\n",
       "    <tr>\n",
       "      <th>1</th>\n",
       "      <td>WSJCN</td>\n",
       "      <td>The Wall Street Journal Online (Chinese - Simp...</td>\n",
       "      <td>Active</td>\n",
       "      <td>The Wall Street Journal Online (Chinese Langua...</td>\n",
       "      <td>华尔街日报中文版 (简体)</td>\n",
       "    </tr>\n",
       "    <tr>\n",
       "      <th>2</th>\n",
       "      <td>WSJOJP</td>\n",
       "      <td>The Wall Street Journal Online</td>\n",
       "      <td>Active</td>\n",
       "      <td>The Wall Street Journal Online (Japanese Langu...</td>\n",
       "      <td>ウォール・ストリート・ジャーナル日本版</td>\n",
       "    </tr>\n",
       "    <tr>\n",
       "      <th>3</th>\n",
       "      <td>WSJO</td>\n",
       "      <td>The Wall Street Journal Online</td>\n",
       "      <td>Active</td>\n",
       "      <td>The Wall Street Journal Online</td>\n",
       "      <td>The Wall Street Journal Online</td>\n",
       "    </tr>\n",
       "    <tr>\n",
       "      <th>4</th>\n",
       "      <td>J</td>\n",
       "      <td>The Wall Street Journal</td>\n",
       "      <td>Active</td>\n",
       "      <td>The Wall Street Journal</td>\n",
       "      <td>The Wall Street Journal</td>\n",
       "    </tr>\n",
       "    <tr>\n",
       "      <th>5</th>\n",
       "      <td>WSJNLT</td>\n",
       "      <td>WSJ Newsletters</td>\n",
       "      <td>Active</td>\n",
       "      <td>WSJ Newsletters</td>\n",
       "      <td>WSJ Newsletters</td>\n",
       "    </tr>\n",
       "    <tr>\n",
       "      <th>6</th>\n",
       "      <td>WSJPOD</td>\n",
       "      <td>WSJ Podcasts</td>\n",
       "      <td>Active</td>\n",
       "      <td>WSJ Podcasts</td>\n",
       "      <td>WSJ Podcasts</td>\n",
       "    </tr>\n",
       "    <tr>\n",
       "      <th>7</th>\n",
       "      <td>RSTPROBK</td>\n",
       "      <td>WSJ Pro Bankruptcy</td>\n",
       "      <td>Active</td>\n",
       "      <td>WSJ Pro Bankruptcy</td>\n",
       "      <td>WSJ Pro Bankruptcy</td>\n",
       "    </tr>\n",
       "    <tr>\n",
       "      <th>8</th>\n",
       "      <td>RSTPROCB</td>\n",
       "      <td>WSJ Pro Central Banking</td>\n",
       "      <td>Active</td>\n",
       "      <td>WSJ Pro Central Banking</td>\n",
       "      <td>WSJ Pro Central Banking</td>\n",
       "    </tr>\n",
       "    <tr>\n",
       "      <th>9</th>\n",
       "      <td>RSTPROCY</td>\n",
       "      <td>WSJ Pro Cybersecurity</td>\n",
       "      <td>Active</td>\n",
       "      <td>WSJ Pro Cybersecurity</td>\n",
       "      <td>WSJ Pro Cybersecurity</td>\n",
       "    </tr>\n",
       "    <tr>\n",
       "      <th>10</th>\n",
       "      <td>RSTPROPE</td>\n",
       "      <td>WSJ Pro Private Equity</td>\n",
       "      <td>Active</td>\n",
       "      <td>WSJ Pro Private Equity</td>\n",
       "      <td>WSJ Pro Private Equity</td>\n",
       "    </tr>\n",
       "    <tr>\n",
       "      <th>11</th>\n",
       "      <td>RSTPROSB</td>\n",
       "      <td>WSJ Pro Sustainable Business</td>\n",
       "      <td>Active</td>\n",
       "      <td>WSJ Pro Sustainable Business</td>\n",
       "      <td>WSJ Pro Sustainable Business</td>\n",
       "    </tr>\n",
       "    <tr>\n",
       "      <th>12</th>\n",
       "      <td>RSTPROVC</td>\n",
       "      <td>WSJ Pro Venture Capital</td>\n",
       "      <td>Active</td>\n",
       "      <td>WSJ Pro Venture Capital</td>\n",
       "      <td>WSJ Pro Venture Capital</td>\n",
       "    </tr>\n",
       "    <tr>\n",
       "      <th>13</th>\n",
       "      <td>WSJM</td>\n",
       "      <td>WSJ. The Magazine from The Wall Street Journal</td>\n",
       "      <td>Active</td>\n",
       "      <td>WSJ. The Magazine from The Wall Street Journal</td>\n",
       "      <td>WSJ. The Magazine from The Wall Street Journal</td>\n",
       "    </tr>\n",
       "  </tbody>\n",
       "</table>\n",
       "</div>"
      ],
      "text/plain": [
       "   source_code                                        source_name  status  \\\n",
       "0       WSJCOM                                  Buy Side from WSJ  Active   \n",
       "1        WSJCN  The Wall Street Journal Online (Chinese - Simp...  Active   \n",
       "2       WSJOJP                     The Wall Street Journal Online  Active   \n",
       "3         WSJO                     The Wall Street Journal Online  Active   \n",
       "4            J                            The Wall Street Journal  Active   \n",
       "5       WSJNLT                                    WSJ Newsletters  Active   \n",
       "6       WSJPOD                                       WSJ Podcasts  Active   \n",
       "7     RSTPROBK                                 WSJ Pro Bankruptcy  Active   \n",
       "8     RSTPROCB                            WSJ Pro Central Banking  Active   \n",
       "9     RSTPROCY                              WSJ Pro Cybersecurity  Active   \n",
       "10    RSTPROPE                             WSJ Pro Private Equity  Active   \n",
       "11    RSTPROSB                       WSJ Pro Sustainable Business  Active   \n",
       "12    RSTPROVC                            WSJ Pro Venture Capital  Active   \n",
       "13        WSJM     WSJ. The Magazine from The Wall Street Journal  Active   \n",
       "\n",
       "                                          common_name  \\\n",
       "0                                   Buy Side from WSJ   \n",
       "1   The Wall Street Journal Online (Chinese Langua...   \n",
       "2   The Wall Street Journal Online (Japanese Langu...   \n",
       "3                      The Wall Street Journal Online   \n",
       "4                             The Wall Street Journal   \n",
       "5                                     WSJ Newsletters   \n",
       "6                                        WSJ Podcasts   \n",
       "7                                  WSJ Pro Bankruptcy   \n",
       "8                             WSJ Pro Central Banking   \n",
       "9                               WSJ Pro Cybersecurity   \n",
       "10                             WSJ Pro Private Equity   \n",
       "11                       WSJ Pro Sustainable Business   \n",
       "12                            WSJ Pro Venture Capital   \n",
       "13     WSJ. The Magazine from The Wall Street Journal   \n",
       "\n",
       "                                        local_name  \n",
       "0                                Buy Side from WSJ  \n",
       "1                                    华尔街日报中文版 (简体)  \n",
       "2                              ウォール・ストリート・ジャーナル日本版  \n",
       "3                   The Wall Street Journal Online  \n",
       "4                          The Wall Street Journal  \n",
       "5                                  WSJ Newsletters  \n",
       "6                                     WSJ Podcasts  \n",
       "7                               WSJ Pro Bankruptcy  \n",
       "8                          WSJ Pro Central Banking  \n",
       "9                            WSJ Pro Cybersecurity  \n",
       "10                          WSJ Pro Private Equity  \n",
       "11                    WSJ Pro Sustainable Business  \n",
       "12                         WSJ Pro Venture Capital  \n",
       "13  WSJ. The Magazine from The Wall Street Journal  "
      ]
     },
     "execution_count": 7,
     "metadata": {},
     "output_type": "execute_result"
    }
   ],
   "source": [
    "src_df"
   ]
  }
 ],
 "metadata": {
  "kernelspec": {
   "display_name": "frapidemo",
   "language": "python",
   "name": "python3"
  },
  "language_info": {
   "codemirror_mode": {
    "name": "ipython",
    "version": 3
   },
   "file_extension": ".py",
   "mimetype": "text/x-python",
   "name": "python",
   "nbconvert_exporter": "python",
   "pygments_lexer": "ipython3",
   "version": "3.12.9"
  }
 },
 "nbformat": 4,
 "nbformat_minor": 5
}
