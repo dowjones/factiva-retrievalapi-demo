{
 "cells": [
  {
   "cell_type": "markdown",
   "metadata": {},
   "source": [
    "# Retrieval API DEMO"
   ]
  },
  {
   "cell_type": "markdown",
   "metadata": {},
   "source": [
    "## Code Initialisation\n",
    "Dependencies and environment initialisation.\n",
    "\n",
    "Ensure there's a `.env` file with your credentials in the same directory as this script. Use the `env` file as template."
   ]
  },
  {
   "cell_type": "code",
   "execution_count": 1,
   "metadata": {},
   "outputs": [
    {
     "data": {
      "text/plain": [
       "True"
      ]
     },
     "execution_count": 1,
     "metadata": {},
     "output_type": "execute_result"
    }
   ],
   "source": [
    "import os\n",
    "import json\n",
    "import requests as r\n",
    "from IPython.display import Markdown\n",
    "import utils as u\n",
    "from dotenv import load_dotenv\n",
    "\n",
    "load_dotenv()"
   ]
  },
  {
   "cell_type": "markdown",
   "metadata": {},
   "source": [
    "## Constants"
   ]
  },
  {
   "cell_type": "code",
   "execution_count": 2,
   "metadata": {},
   "outputs": [],
   "source": [
    "API_HOST = 'api.dowjones.com'\n",
    "AUTH_HOST = 'accounts.dowjones.com'\n",
    "CLIENT_ID = os.getenv('FACTIVA_CLIENTID')\n",
    "USERNAME = os.getenv('FACTIVA_USERNAME')\n",
    "PASSWORD = os.getenv('FACTIVA_PASSWORD')\n",
    "AUTH_URL = f\"https://{AUTH_HOST}/oauth2/v1/token\"\n",
    "GCP_PROJECT = os.getenv('GCP_PROJECT')\n",
    "GCP_LOCATION = os.getenv('GCP_LOCATION')\n",
    "GCP_MODEL = os.getenv('GCP_MODEL')"
   ]
  },
  {
   "cell_type": "markdown",
   "metadata": {},
   "source": [
    "## Authentication - Generate Bearer\n",
    "\n",
    "For details about getting the `bearer_token`, please see the `utils.py` file."
   ]
  },
  {
   "cell_type": "code",
   "execution_count": 3,
   "metadata": {},
   "outputs": [
    {
     "data": {
      "text/markdown": [
       "**Authentication Successful**: Bearer token OK for user 9ZZZ159100"
      ],
      "text/plain": [
       "<IPython.core.display.Markdown object>"
      ]
     },
     "metadata": {},
     "output_type": "display_data"
    }
   ],
   "source": [
    "bearer_token = u.get_bearer_token(CLIENT_ID, USERNAME, PASSWORD, AUTH_URL)\n",
    "if bearer_token:\n",
    "    display(Markdown(f\"**Authentication Successful**: Bearer token OK for user {USERNAME.split('@')[0].split('-')[0]}\"))\n",
    "else:\n",
    "    display(Markdown(f\"**Authentication Failed**: Cannot obtain the Bearer token for the user {USERNAME.split('@')[0].split('-')[0]}\"))"
   ]
  },
  {
   "cell_type": "code",
   "execution_count": 4,
   "metadata": {},
   "outputs": [],
   "source": [
    "req_headers = {\n",
    "    \"Authorization\": f\"Bearer {bearer_token}\",\n",
    "    \"Content-Type\": \"application/json\",\n",
    "    \"Accept\": \"application/json\"\n",
    "}"
   ]
  },
  {
   "cell_type": "markdown",
   "metadata": {},
   "source": [
    "## Factiva Retrieval API Query\n",
    "\n",
    "### Prompt\n",
    "Add the prompt to be sent to the Retrieval API"
   ]
  },
  {
   "cell_type": "code",
   "execution_count": 13,
   "metadata": {},
   "outputs": [],
   "source": [
    "# \"What are NASA's planned missions to the Moon in 2025, and what are their primary objectives?\"\n",
    "# \"中国2025年计划进行哪些月球探测任务？其主要目标是什么？\"   # What are China's planned missions to the Moon in 2025, and what are their primary objectives?\n",
    "# \"今後12か月間の日本の半導体業界の見通しはどのようなものですか?\"  # What are the perspectives for the semiconductors industry in Japan for the next 12 months?\n",
    "# \"Summarise the latest earnings report from Microsoft Corp\"\n",
    "# \"What are the perspectives of bitcoin for the next 12 months?\"\n",
    "frapi_prompt = \"Summarise tariff decisions by the US administration during the first week of April 2025 and their impact on the world economy.\""
   ]
  },
  {
   "cell_type": "markdown",
   "metadata": {},
   "source": [
    "Assemble the Retrieval API payload"
   ]
  },
  {
   "cell_type": "code",
   "execution_count": 14,
   "metadata": {},
   "outputs": [],
   "source": [
    "frapi_query = {\n",
    "  \"data\": {\n",
    "    \"attributes\": {\n",
    "      \"response_limit\": 5,\n",
    "      \"query\": {\n",
    "        \"search_filters\": [\n",
    "          {\n",
    "            \"scope\": \"Language\",\n",
    "            \"value\": \"en\"       # en or ja or de or it or es\n",
    "          }\n",
    "        ],\n",
    "\n",
    "        \"value\": frapi_prompt\n",
    "      }\n",
    "    },\n",
    "    \"id\": \"GenAIRetrievalExample\",\n",
    "    \"type\": \"genai-content\"\n",
    "  }\n",
    "}\n"
   ]
  },
  {
   "cell_type": "markdown",
   "metadata": {},
   "source": [
    "## Send Query and Receive Chunks from the Retrieval API"
   ]
  },
  {
   "cell_type": "code",
   "execution_count": 15,
   "metadata": {},
   "outputs": [
    {
     "name": "stdout",
     "output_type": "stream",
     "text": [
      "Successfully retrieved chunks\n"
     ]
    }
   ],
   "source": [
    "chunks_resp = r.post(f\"https://{API_HOST}/content/gen-ai/retrieve\", json=frapi_query, headers=req_headers)\n",
    "\n",
    "if chunks_resp.status_code == 200:\n",
    "    print('Successfully retrieved chunks')\n",
    "else:\n",
    "    print(f\"Request Failed: {chunks_resp.json()}\")"
   ]
  },
  {
   "cell_type": "markdown",
   "metadata": {},
   "source": [
    "## Print Chunks"
   ]
  },
  {
   "cell_type": "code",
   "execution_count": 16,
   "metadata": {},
   "outputs": [
    {
     "data": {
      "text/markdown": [
       "### Trump announces pause in 'reciprocal' tariffs for all countries but China "
      ],
      "text/plain": [
       "<IPython.core.display.Markdown object>"
      ]
     },
     "metadata": {},
     "output_type": "display_data"
    },
    {
     "data": {
      "text/markdown": [
       "**Washington Post.com** - 2025-04-09 - WPCOM00020250409el490018j - Lang: en"
      ],
      "text/plain": [
       "<IPython.core.display.Markdown object>"
      ]
     },
     "metadata": {},
     "output_type": "display_data"
    },
    {
     "data": {
      "text/markdown": [
       "President Donald Trump on Wednesday raised tariffs on imports from China to 125 percent while simultaneously pausing many new tariffs on goods from ot..."
      ],
      "text/plain": [
       "<IPython.core.display.Markdown object>"
      ]
     },
     "metadata": {},
     "output_type": "display_data"
    },
    {
     "data": {
      "text/markdown": [
       "---"
      ],
      "text/plain": [
       "<IPython.core.display.Markdown object>"
      ]
     },
     "metadata": {},
     "output_type": "display_data"
    },
    {
     "data": {
      "text/markdown": [
       "### Stocks sink despite talk of trade deals"
      ],
      "text/plain": [
       "<IPython.core.display.Markdown object>"
      ]
     },
     "metadata": {},
     "output_type": "display_data"
    },
    {
     "data": {
      "text/markdown": [
       "**The Washington Post** - 2025-04-09 - WP00000020250409el4900013 - Lang: en"
      ],
      "text/plain": [
       "<IPython.core.display.Markdown object>"
      ]
     },
     "metadata": {},
     "output_type": "display_data"
    },
    {
     "data": {
      "text/markdown": [
       "The stock market staged a brief rally Tuesday on hopes that President Donald Trump would turn from raising tariffs to cutting deals, before sinking am..."
      ],
      "text/plain": [
       "<IPython.core.display.Markdown object>"
      ]
     },
     "metadata": {},
     "output_type": "display_data"
    },
    {
     "data": {
      "text/markdown": [
       "---"
      ],
      "text/plain": [
       "<IPython.core.display.Markdown object>"
      ]
     },
     "metadata": {},
     "output_type": "display_data"
    },
    {
     "data": {
      "text/markdown": [
       "### 4th LD-Writethru-China Focus: China vows firm countermeasures following U.S. tariff moves, urges dialogue"
      ],
      "text/plain": [
       "<IPython.core.display.Markdown object>"
      ]
     },
     "metadata": {},
     "output_type": "display_data"
    },
    {
     "data": {
      "text/markdown": [
       "**Xinhua News Agency** - 2025-04-09 - XNEWS00020250409el490083p - Lang: en"
      ],
      "text/plain": [
       "<IPython.core.display.Markdown object>"
      ]
     },
     "metadata": {},
     "output_type": "display_data"
    },
    {
     "data": {
      "text/markdown": [
       "BEIJING, April 9 (Xinhua) -- China on Wednesday vowed to take countermeasures with \"firm will\" and \"abundant means\" following U.S. tariff hikes, while..."
      ],
      "text/plain": [
       "<IPython.core.display.Markdown object>"
      ]
     },
     "metadata": {},
     "output_type": "display_data"
    },
    {
     "data": {
      "text/markdown": [
       "---"
      ],
      "text/plain": [
       "<IPython.core.display.Markdown object>"
      ]
     },
     "metadata": {},
     "output_type": "display_data"
    },
    {
     "data": {
      "text/markdown": [
       "### The Outlook: Tariffs Erase Economy's Solid Outlook -- WSJ"
      ],
      "text/plain": [
       "<IPython.core.display.Markdown object>"
      ]
     },
     "metadata": {},
     "output_type": "display_data"
    },
    {
     "data": {
      "text/markdown": [
       "**Dow Jones Institutional News** - 2025-04-07 - DJDN000020250407el47000dg - Lang: en"
      ],
      "text/plain": [
       "<IPython.core.display.Markdown object>"
      ]
     },
     "metadata": {},
     "output_type": "display_data"
    },
    {
     "data": {
      "text/markdown": [
       "Recession likelihood soars as uncertainty on Trump's course weighs on markets The Outlook: Tariffs Erase Economy's Solid Outlook -- WSJ Recession like..."
      ],
      "text/plain": [
       "<IPython.core.display.Markdown object>"
      ]
     },
     "metadata": {},
     "output_type": "display_data"
    },
    {
     "data": {
      "text/markdown": [
       "---"
      ],
      "text/plain": [
       "<IPython.core.display.Markdown object>"
      ]
     },
     "metadata": {},
     "output_type": "display_data"
    },
    {
     "data": {
      "text/markdown": [
       "### China increases levies on U.S. as Trump's 104% tariffs take effect; stocks sink "
      ],
      "text/plain": [
       "<IPython.core.display.Markdown object>"
      ]
     },
     "metadata": {},
     "output_type": "display_data"
    },
    {
     "data": {
      "text/markdown": [
       "**Washington Post.com** - 2025-04-09 - WPCOM00020250409el4900001 - Lang: en"
      ],
      "text/plain": [
       "<IPython.core.display.Markdown object>"
      ]
     },
     "metadata": {},
     "output_type": "display_data"
    },
    {
     "data": {
      "text/markdown": [
       "Beijing hit back Wednesday against President Donald Trump's tariffs by imposing an 84 percent levy on all U.S. goods, as the world's second-largest ec..."
      ],
      "text/plain": [
       "<IPython.core.display.Markdown object>"
      ]
     },
     "metadata": {},
     "output_type": "display_data"
    },
    {
     "data": {
      "text/markdown": [
       "---"
      ],
      "text/plain": [
       "<IPython.core.display.Markdown object>"
      ]
     },
     "metadata": {},
     "output_type": "display_data"
    }
   ],
   "source": [
    "chunks_list = chunks_resp.json()['data']\n",
    "\n",
    "# u.print_full_chunks(chunks_list)\n",
    "u.print_partial_chunks(chunks_list)"
   ]
  },
  {
   "cell_type": "markdown",
   "metadata": {},
   "source": [
    "## Retrieval API Conclusion\n",
    "\n",
    "Up to this point it the seen functionalities are connected with the Retrieval API.\n",
    "\n",
    "However, given that this service is an intermediate component in a full-stack solution, the below Test LLM steps and the [Read Article](2_read_article.ipynb) notebook are the two complementary avenues to get a full working solution."
   ]
  },
  {
   "cell_type": "markdown",
   "metadata": {},
   "source": [
    "## Test LLM"
   ]
  },
  {
   "cell_type": "markdown",
   "metadata": {},
   "source": [
    "This is a downstream step that is only illustrative on how the response generation stage can be implemented. In the below example only a few articles are used to respond the prompt using an LLM hosted in **Google Cloud Vertex AI**. The passed request is built from the original prompt enhanced with the retrieved articles as gounding context.\n",
    "\n",
    "The tested LLM is Google Gemini 2.0 Flash. Response generations took a few seconds for a context between 3K to 4K LLM tokens.\n",
    "\n",
    "### Prerequisite\n",
    "\n",
    "To successfully complete the following steps, it's important that there's an active GCloud authentication in the environment where this notbeook is executed from. This can be done by running the following command:\n",
    "\n",
    "```bash\n",
    "$ gcloud auth application-default login\n",
    "```\n",
    "\n",
    "For more information see [Set up ADC for a local development environment](https://cloud.google.com/docs/authentication/set-up-adc-local-dev-environment).\n",
    "\n",
    "### Gemini Structured Prompt"
   ]
  },
  {
   "cell_type": "code",
   "execution_count": 17,
   "metadata": {},
   "outputs": [],
   "source": [
    "instructions_text =\"\"\"\n",
    "    You are an experienced business analyst that respond in a professional manner.\n",
    "    Answer the query using only the information provided in the list of articles.\n",
    "    If you use information from an article, cite it using squared brackets containing the index number.\n",
    "    At the end of the answer, show a list of the cited articles ordered by index and under the title Cited Articles.\n",
    "    Each cited article must be displayed in the following Markdown format:\n",
    "    - [index] [headline - source_name - publication_date](url)\n",
    "    Use Markdown for the output.\n",
    "\"\"\"\n",
    "article_list = []\n",
    "\n",
    "for chunk in chunks_list:\n",
    "    article = {\n",
    "        'index': len(article_list) + 1,\n",
    "        'url': f\"https://dj.factiva.com/article?id=drn:archive.newsarticle.{str(chunk['meta']['original_doc_id']).strip()}\",\n",
    "        'source_name': str(chunk['meta']['source']['name']).strip(),\n",
    "        'headline': str(chunk['attributes']['headline']['main']['text']).strip(),\n",
    "        'publication_date': chunk['attributes']['publication_date'],\n",
    "        'content': f\"{str(chunk['attributes']['snippet']['content'][0]['text']).strip()} {str(chunk['attributes']['content'][0]['text']).strip()}\"\n",
    "    }\n",
    "    article_list.append(article)\n",
    "\n",
    "llm_prompt = {\n",
    "    'query': frapi_prompt,\n",
    "    'articles': article_list,\n",
    "    \"instructions\": instructions_text.strip()\n",
    "}"
   ]
  },
  {
   "cell_type": "code",
   "execution_count": 18,
   "metadata": {},
   "outputs": [
    {
     "name": "stdout",
     "output_type": "stream",
     "text": [
      "{\n",
      "    \"query\": \"Summarise tariff decisions by the US administration during the first week of April 2025 and their impact on the world economy.\",\n",
      "    \"articles\": [\n",
      "        {\n",
      "            \"index\": 1,\n",
      "            \"url\": \"https://dj.factiva.com/article?id=drn:archive.newsarticle.WPCOM00020250409el490018j\",\n",
      "            \"source_name\": \"Washington Post.com\",\n",
      "            \"headline\": \"Trump announces pause in 'reciprocal' tariffs for all countries but China\",\n",
      "            \"publication_date\": \"2025-04-09\",\n",
      "            \"content\": \"President Donald Trump on Wednesday raised tariffs on imports from China to 125 percent while simultaneously pausing many new tariffs on goods from ot...\"\n",
      "        },\n",
      "        {\n",
      "            \"index\": 2,\n",
      "            \"url\": \"https://dj.factiva.com/article?id=drn:archive.newsarticle.WP00000020250409el4900013\",\n",
      "            \"source_name\": \"The Washington Post\",\n",
      "            \"headline\": \"Stocks sink despite talk of trade deals\",\n",
      "            \"publication_date\": \"2025-04-09\",\n",
      "            \"content\": \"The stock market staged a brief rally Tuesday on hopes that President Donald Trump would turn from raising tariffs to cutting deals, before sinking am...\"\n",
      "        },\n",
      "        {\n",
      "            \"index\": 3,\n",
      "            \"url\": \"https://dj.factiva.com/article?id=drn:archive.newsarticle.XNEWS00020250409el490083p\",\n",
      "            \"source_name\": \"Xinhua News Agency\",\n",
      "            \"headline\": \"4th LD-Writethru-China Focus: China vows firm countermeasures following U.S. tariff moves, urges dialogue\",\n",
      "            \"publication_date\": \"2025-04-09\",\n",
      "            \"content\": \"BEIJING, April 9 (Xinhua) -- China on Wednesday vowed to take countermeasures with \\\"firm will\\\" and \\\"abundant means\\\" following U.S. tariff hikes, while...\"\n",
      "        },\n",
      "        {\n",
      "            \"index\": 4,\n",
      "            \"url\": \"https://dj.factiva.com/article?id=drn:archive.newsarticle.DJDN000020250407el47000dg\",\n",
      "            \"source_name\": \"Dow Jones Institutional News\",\n",
      "            \"headline\": \"The Outlook: Tariffs Erase Economy's Solid Outlook -- WSJ\",\n",
      "            \"publication_date\": \"2025-04-07\",\n",
      "            \"content\": \"Recession likelihood soars as uncertainty on Trump's course weighs on markets The Outlook: Tariffs Erase Economy's Solid Outlook -- WSJ Recession like...\"\n",
      "        },\n",
      "        {\n",
      "            \"index\": 5,\n",
      "            \"url\": \"https://dj.factiva.com/article?id=drn:archive.newsarticle.WPCOM00020250409el4900001\",\n",
      "            \"source_name\": \"Washington Post.com\",\n",
      "            \"headline\": \"China increases levies on U.S. as Trump's 104% tariffs take effect; stocks sink\",\n",
      "            \"publication_date\": \"2025-04-09\",\n",
      "            \"content\": \"Beijing hit back Wednesday against President Donald Trump's tariffs by imposing an 84 percent levy on all U.S. goods, as the world's second-largest ec...\"\n",
      "        }\n",
      "    ],\n",
      "    \"instructions\": \"You are an experienced business analyst that respond in a professional manner.\\n    Answer the query using only the information provided in the list of articles.\\n    If you use information from an article, cite it using squared brackets containing the index number.\\n    At the end of the answer, show a list of the cited articles ordered by index and under the title Cited Articles.\\n    Each cited article must be displayed in the following Markdown format:\\n    - [index] [headline - source_name - publication_date](url)\\n    Use Markdown for the output.\"\n",
      "}\n"
     ]
    }
   ],
   "source": [
    "# u.print_full_llm_prompt(llm_prompt)\n",
    "u.print_partial_llm_prompt(llm_prompt)"
   ]
  },
  {
   "cell_type": "markdown",
   "metadata": {},
   "source": [
    "### Gemini Request"
   ]
  },
  {
   "cell_type": "code",
   "execution_count": 19,
   "metadata": {},
   "outputs": [
    {
     "data": {
      "text/markdown": [
       "**Prompt:** Summarise tariff decisions by the US administration during the first week of April 2025 and their impact on the world economy. \n",
       " --------------------"
      ],
      "text/plain": [
       "<IPython.core.display.Markdown object>"
      ]
     },
     "metadata": {},
     "output_type": "display_data"
    },
    {
     "data": {
      "text/markdown": [
       "During the first week of April 2025, the US administration, under President Trump, made several tariff decisions that significantly impacted the world economy.\n",
       "\n",
       "On April 2nd, President Trump announced massive tariffs on almost every country, effectively the largest U.S. tax increase since 1968 [4]. These tariffs raised the average effective U.S. tariff rate from 2.5% in 2024 to around 22.5% [4]. JPMorgan raised the probability of a global recession to 60% from 40% and expected U.S. GDP to contract 0.3% in the fourth quarter of 2025 [4].\n",
       "\n",
       "On April 9th, Trump raised tariffs on imports from China to 125 percent while simultaneously pausing many new tariffs on goods from other nations [1]. This move sent the stock market surging after a tumultuous week [1]. However, this pause could compromise the White House's plans to raise $6 trillion in new revenue to fund tax cuts [1].\n",
       "\n",
       "China retaliated by imposing an 84 percent levy on all U.S. goods [5]. The State Council stated that this was a response to Trump's \"Liberation Day\" tariffs, which raised U.S. duties on all imports from China to 104 percent [5]. China also expressed a willingness to resolve differences through dialogue and consultation [5].\n",
       "\n",
       "Other countries also responded with tariffs. Canada's tariffs of 25 percent on U.S. autos took effect, matching U.S. tariffs [1]. The European Union issued tariffs of 25 percent on some U.S. products [1].\n",
       "\n",
       "The global stock markets reacted negatively to these developments. European markets sold off, with London's FTSE 100, France's CAC index, and Germany's DAX each down roughly 3 percent [1]. In Asia, Japan's Nikkei 225 lost 4 percent, while South Korea's KOSPI ended the day roughly 2 percent lower [1]. Hong Kong's Hang Seng Index initially fell sharply but recovered to a modest gain [1]. The S&P 500 index closed down 1.5 percent, bringing its total loss since mid-February to almost 20 percent, indicating a bear market [2].\n",
       "\n",
       "Pharmaceutical companies were also affected, with European companies like AstraZeneca and Roche experiencing sell-offs after Trump hinted at impending tariffs on imported pharmaceuticals [1, 5].\n",
       "\n",
       "Cited Articles:\n",
       "\n",
       "- [1] [Trump announces pause in 'reciprocal' tariffs for all countries but China - Washington Post.com - 2025-04-09](https://dj.factiva.com/article?id=drn:archive.newsarticle.WPCOM00020250409el490018j)\n",
       "- [2] [Stocks sink despite talk of trade deals - The Washington Post - 2025-04-09](https://dj.factiva.com/article?id=drn:archive.newsarticle.WP00000020250409el4900013)\n",
       "- [4] [The Outlook: Tariffs Erase Economy's Solid Outlook -- WSJ - Dow Jones Institutional News - 2025-04-07](https://dj.factiva.com/article?id=drn:archive.newsarticle.DJDN000020250407el47000dg)\n",
       "- [5] [China increases levies on U.S. as Trump's 104% tariffs take effect; stocks sink - Washington Post.com - 2025-04-09](https://dj.factiva.com/article?id=drn:archive.newsarticle.WPCOM00020250409el4900001)\n"
      ],
      "text/plain": [
       "<IPython.core.display.Markdown object>"
      ]
     },
     "metadata": {},
     "output_type": "display_data"
    }
   ],
   "source": [
    "response = u.gemini_generate(llm_prompt, GCP_PROJECT, GCP_LOCATION, GCP_MODEL)\n",
    "display(Markdown(f\"**Prompt:** {frapi_prompt} \\n --------------------\"))\n",
    "display(Markdown(response))"
   ]
  }
 ],
 "metadata": {
  "kernelspec": {
   "display_name": "frapidemo",
   "language": "python",
   "name": "python3"
  },
  "language_info": {
   "codemirror_mode": {
    "name": "ipython",
    "version": 3
   },
   "file_extension": ".py",
   "mimetype": "text/x-python",
   "name": "python",
   "nbconvert_exporter": "python",
   "pygments_lexer": "ipython3",
   "version": "3.12.9"
  }
 },
 "nbformat": 4,
 "nbformat_minor": 2
}
