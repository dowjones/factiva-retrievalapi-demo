{
 "cells": [
  {
   "cell_type": "markdown",
   "metadata": {},
   "source": [
    "# Retrieval API DEMO"
   ]
  },
  {
   "cell_type": "markdown",
   "metadata": {},
   "source": [
    "## Code Initialisation\n",
    "Dependencies and environment initialisation. Ensure there's a `.env` file with your credentials in the same directory as this script. Use the `env` file as reference."
   ]
  },
  {
   "cell_type": "code",
   "execution_count": 1,
   "metadata": {},
   "outputs": [
    {
     "data": {
      "text/plain": [
       "True"
      ]
     },
     "execution_count": 1,
     "metadata": {},
     "output_type": "execute_result"
    }
   ],
   "source": [
    "import os\n",
    "import json\n",
    "import requests as r\n",
    "from IPython.display import Markdown\n",
    "import utils as u\n",
    "from dotenv import load_dotenv\n",
    "\n",
    "load_dotenv()"
   ]
  },
  {
   "cell_type": "markdown",
   "metadata": {},
   "source": [
    "## Constants"
   ]
  },
  {
   "cell_type": "code",
   "execution_count": 2,
   "metadata": {},
   "outputs": [],
   "source": [
    "API_HOST = 'api.dowjones.com'\n",
    "AUTH_HOST = 'accounts.dowjones.com'\n",
    "CLIENT_ID = os.getenv('FACTIVA_CLIENTID')\n",
    "USERNAME = os.getenv('FACTIVA_USERNAME')\n",
    "PASSWORD = os.getenv('FACTIVA_PASSWORD')\n",
    "AUTH_URL = f\"https://{AUTH_HOST}/oauth2/v1/token\"\n",
    "GCP_PROJECT = os.getenv('GCP_PROJECT')\n",
    "GCP_LOCATION = os.getenv('GCP_LOCATION')"
   ]
  },
  {
   "cell_type": "markdown",
   "metadata": {},
   "source": [
    "## Authentication - Generate Bearer\n",
    "\n",
    "For details about getting the `bearer_token`, please see the `utils.py` file."
   ]
  },
  {
   "cell_type": "code",
   "execution_count": 3,
   "metadata": {},
   "outputs": [
    {
     "data": {
      "text/markdown": [
       "**Authentication Successful**: Bearer token OK for user 9ZZZ159100-svcaccount"
      ],
      "text/plain": [
       "<IPython.core.display.Markdown object>"
      ]
     },
     "metadata": {},
     "output_type": "display_data"
    }
   ],
   "source": [
    "bearer_token = u.get_bearer_token(CLIENT_ID, USERNAME, PASSWORD, AUTH_URL)\n",
    "if bearer_token:\n",
    "    display(Markdown(f\"**Authentication Successful**: Bearer token OK for user {USERNAME.split('@')[0]}\"))\n",
    "else:\n",
    "    display(Markdown('**Authentication Failed**: Cannot obtain the Bearer token'))"
   ]
  },
  {
   "cell_type": "code",
   "execution_count": 4,
   "metadata": {},
   "outputs": [],
   "source": [
    "req_headers = {\n",
    "    \"Authorization\": f\"Bearer {bearer_token}\",\n",
    "    \"Content-Type\": \"application/json\"\n",
    "}"
   ]
  },
  {
   "cell_type": "markdown",
   "metadata": {},
   "source": [
    "## Factiva Retrieval API Query\n",
    "\n",
    "### Prompt\n",
    "Add the prompt to be sent to the Retrieval API"
   ]
  },
  {
   "cell_type": "code",
   "execution_count": 5,
   "metadata": {},
   "outputs": [],
   "source": [
    "# \"What are NASA's planned missions to the Moon in 2025, and what are their primary objectives?\"\n",
    "# \"美国宇航局计划在 2025 年进行哪些月球任务？其主要目标是什么?\"\n",
    "# \"Summarise the latest earnings report from Microsoft Corp\"\n",
    "# \"What are the perspectives of bitcoin in the next year?\"\n",
    "frapi_prompt = \"Summarise the latest earnings report from Microsoft Corp\""
   ]
  },
  {
   "cell_type": "markdown",
   "metadata": {},
   "source": [
    "Assemble the Retrieval API payload"
   ]
  },
  {
   "cell_type": "code",
   "execution_count": 6,
   "metadata": {},
   "outputs": [],
   "source": [
    "frapi_query = {\n",
    "  \"data\": {\n",
    "    \"attributes\": {\n",
    "      \"response_limit\": 4,\n",
    "      \"query\": {\n",
    "        \"search_filters\": [\n",
    "          {\n",
    "            \"scope\": \"Language\",\n",
    "            \"value\": \"en\"\n",
    "          }\n",
    "        ],\n",
    "\n",
    "        \"value\": frapi_prompt\n",
    "      }\n",
    "    },\n",
    "    \"id\": \"GenAIRetrievalExample\",\n",
    "    \"type\": \"genai-content\"\n",
    "  }\n",
    "}\n"
   ]
  },
  {
   "cell_type": "markdown",
   "metadata": {},
   "source": [
    "## Send Query and Receive Chunks from the Retrieval API"
   ]
  },
  {
   "cell_type": "code",
   "execution_count": 7,
   "metadata": {},
   "outputs": [
    {
     "name": "stdout",
     "output_type": "stream",
     "text": [
      "Successfully retrieved chunks\n"
     ]
    }
   ],
   "source": [
    "chunks_resp = r.post(f\"https://{API_HOST}/content/gen-ai/retrieve\", json=frapi_query, headers=req_headers)\n",
    "\n",
    "if chunks_resp.status_code == 200:\n",
    "    print('Successfully retrieved chunks')\n",
    "else:\n",
    "    print(f\"Request Failed: {chunks_resp.json()}\")"
   ]
  },
  {
   "cell_type": "markdown",
   "metadata": {},
   "source": [
    "## Print Chunks"
   ]
  },
  {
   "cell_type": "code",
   "execution_count": 8,
   "metadata": {},
   "outputs": [
    {
     "data": {
      "text/markdown": [
       "###                            Microsoft Corporation - Earnings Release FY25 Q2"
      ],
      "text/plain": [
       "<IPython.core.display.Markdown object>"
      ]
     },
     "metadata": {},
     "output_type": "display_data"
    },
    {
     "data": {
      "text/markdown": [
       "**Public Companies News and Documents via PUBT** - 2025-01-29 - LCDVP00020250129el1t00rh3 - Lang: en"
      ],
      "text/plain": [
       "<IPython.core.display.Markdown object>"
      ]
     },
     "metadata": {},
     "output_type": "display_data"
    },
    {
     "data": {
      "text/markdown": [
       "Access the original document here · potential consequences of trade and anti-corruption laws; · potential consequences of existing and increasing legal and regulatory requirements; · laws and regulations relating to the handling of personal data that may impede the adoption of our services or result in increased costs, legal claims, fines, or reputational damage; · claims against us that may result in adverse outcomes in legal disputes; · uncertainties relating to our business with government customers; · additional tax liabilities; · sustainability regulations and expectations that may expose us to increased costs and legal and reputational risk; · an inability to protect and utilize our intellectual property may harm our business and operating results; · claims that Microsoft has infringed the intellectual property rights of others; · damage to our reputation or our brands that may harm our business and results of operations; · adverse economic or market conditions that may harm our business; · catastrophic events or geo-political conditions, such as the COVID-19 pandemic, that may disrupt our business; · exposure to increased economic and operational uncertainties from operating a global business, including the effects of foreign currency exchange; and · the dependence of our business on our ability to attract and retain talented employees. For more information about risks and uncertainties associated with Microsoft's business, please refer to the \"Management's Discussion and Analysis of Financial Condition and Results of Operations\" and \"Risk Factors\" sections of Microsoft's SEC filings, including, but not limited to, its annual report on Form 10-K and quarterly reports on Form 10-Q, copies of which may be obtained by contacting Microsoft's Investor Relations department at (800) 285-7772 or at Microsoft's Investor Relations website at http://www.microsoft.com/en-us/investor . All information in this release is as of December 31, 2024. The company undertakes no duty to update any forward-looking statement to conform the statement to actual results or changes in the company's expectations. For more information, press only: Microsoft Media Relations, WE Communications for Microsoft, (425) 638-7777, rrt@we-worldwide.com For more information, financial analysts and investors only: Brett Iversen, Vice President, Investor Relations, (425) 706-4400 Note to editors: For more information, news and perspectives from Microsoft, please visit the Microsoft News Center at http://www.microsoft.com/news . Web links, telephone numbers, and titles were correct at time of publication, but may since have changed. Shareholder and financial information, as well as today's 2:30 p.m. Pacific time conference call with investors and analysts, is available at http://www.microsoft.com/en-us/investor . Three Months EndedDecember 31, Six Months EndedDecember 31,\n",
       " \n",
       "\n",
       "2024 2023 2024 2023\n",
       "Revenue: \n",
       "Product $16,219 $18,941 $31,491 $34,476\n",
       "Service and other 53,413 43,079 103,726 84,061\n",
       "Total revenue 69,632 62,020 135,217 118,537\n",
       "Cost of revenue: \n",
       "Product 3,856 5,964 7,150 9,495\n",
       "Service and other 17,943 13,659 34,748 26,430\n",
       "Total cost of revenue 21,799 19,623 41,898 35,925\n",
       "Gross margin 47,833 42,397 93,319 82,612\n",
       "Research and development 7,917 7,142 15,461 13,801\n",
       "Sales and marketing 6,440 6,246 12,157 11,433\n",
       "General and administrative 1,823 1,977 3,496 3,451\n",
       "Operating income 31,653 27,032 62,205 53,927\n",
       "Other expense, net (2,288) (506) (2,571) (117)\n",
       "Income before income taxes 29,365 26,526 59,634 53,810\n",
       "Provision for income taxes 5,257 4,656 10,859 9,649\n",
       "Net income $24,108 $21,870 $48,775 $44,161\n",
       "Earnings per share: \n",
       "Basic $3.24 $2.94 $6.56 $5.94\n",
       "Diluted $3.23 $2.93 $6.53 $5.92\n",
       "Weighted average shares outstanding: \n",
       "Basic 7,435 7,432 7,434 7,431\n",
       "Diluted 7,468 7,468 7,469 7,465\n",
       " Three Months EndedDecember 31, Six Months EndedDecember 31,\n",
       " \n",
       "\n",
       "2024 2023 2024 2023\n",
       "Net income $24,108 $21,870 $48,775 $44,161\n",
       "Other comprehensive income (loss), net of tax: \n",
       "Net change related to derivatives 34 (3) 24 18\n",
       "Net change related to investments (434) 1,331 680 1,071\n",
       "Translation adjustments and other (1,034) 660 (730) 305\n",
       "Other comprehensive income (loss) (1,434) 1,988 (26) 1,394\n",
       "Comprehensive income $22,674 $23,858 $48,749 $45,555\n"
      ],
      "text/plain": [
       "<IPython.core.display.Markdown object>"
      ]
     },
     "metadata": {},
     "output_type": "display_data"
    },
    {
     "data": {
      "text/markdown": [
       "---"
      ],
      "text/plain": [
       "<IPython.core.display.Markdown object>"
      ]
     },
     "metadata": {},
     "output_type": "display_data"
    },
    {
     "data": {
      "text/markdown": [
       "### EXTRA: Soft Azure showing casts a cloud over strong Microsoft quarter"
      ],
      "text/plain": [
       "<IPython.core.display.Markdown object>"
      ]
     },
     "metadata": {},
     "output_type": "display_data"
    },
    {
     "data": {
      "text/markdown": [
       "**Alliance News Global 500 Corporate** - 2025-01-29 - ALNEG00020250130el1t00001 - Lang: en"
      ],
      "text/plain": [
       "<IPython.core.display.Markdown object>"
      ]
     },
     "metadata": {},
     "output_type": "display_data"
    },
    {
     "data": {
      "text/markdown": [
       "(Alliance News) - Microsoft Corp on Wednesday reported second quarter results which beat expectations but investors were left underwhelmed by a weaker than expected contribution from its cloud computing business, Azure. EXTRA: Soft Azure showing casts a cloud over strong Microsoft quarter \n",
       "\n",
       " (Alliance News) - Microsoft Corp on Wednesday reported second quarter results which beat expectations but investors were left underwhelmed by a weaker than expected contribution from its cloud computing business, Azure. \n",
       "\n",
       " Shares in Microsoft were 4.8% lower in after hours trading. They had earlier closed down 1.1% at USD442.33. \n",
       "\n",
       " \\\"The fact that its AI units could barely meet expectations has been seen as a disappointment,\\\" said Kathleen Brooks at XTB. \n",
       "\n",
       " The Redmond, Washington software provider said net income rose 10% to USD24.10 billion in the three months to December 31 from USD21.87 billion a year prior. Diluted earnings per share climbed 10% to USD3.23 from USD2.93 and beat FactSet consensus of USD3.11. \n",
       "\n",
       " Revenue jumped 12% to USD69.63 billion from USD62.02 billion, beating the FactSet consensus for USD68.87 billion. \n",
       "\n",
       " Chief Financial Officer Amy Hood said results were driven by strong demand for cloud and AI offerings, and improved operating leverage with higher-than-expected operating income growth. \n",
       "\n",
       " \\\"This quarter Microsoft Cloud revenue was USD40.9 billion, up 21% year-over-year,\\\" she noted. \\\"We remain committed to balancing operational discipline with continued investments in our cloud and AI infrastructure.\\\" \n",
       "\n",
       " Intelligent Cloud revenue was USD25.5 billion, up 19%. Within this the Azure cloud computing business reported a 31% revenue gain compared with a 34% pace in the prior quarter, and below the 32% forecast by analysts. \n",
       "\n",
       " Hood explained to analysts that Azure growth included 13 points from AI Services, which grew 157% year-over-year and was ahead of expectations even as demand continued to be higher than available capacity . \n",
       "\n",
       " But growth in non-AI services was slightly lower-than-expected due to \\\"go-to-market execution challenges, particularly with our customers that we primarily reach through our scale motions as we balance driving near-term non-AI consumption with AI growth.\\\" \n",
       "\n",
       " In the third quarter, Hood forecast Azure revenue would grow between 31% and 32% in constant-currency, little changed from the quarter just ended. \n",
       "\n",
       " Elsewhere, revenue in Productivity and Business Processes was USD29.4 billion, up 14%, including 15% growth in Microsoft 365 Commercial products and cloud services revenue. LinkedIn revenue increased 9%. \n",
       "\n",
       " Revenue in More Personal Computing was USD14.7 billion and was relatively unchanged. \n",
       "\n",
       " \\\"We are innovating across our tech stack and helping customers unlock the full [return on investment] of AI to capture the massive opportunity ahead,\\\" said Satya Nadella, chair and chief executive officer. \\\"Already, our AI business has surpassed an annual revenue run rate of USD13 billion, up 175% year-over-year.\\\" \n",
       "\n",
       " Nadella highlighted more than doubled overall data center capacity in the last three years, noting the firm added more capacity last year than any other year in its history. \n",
       "\n",
       " \\\"Our data centers, networks, racks and silicon are all coming together as a complete system to drive new efficiencies to power both the cloud workloads of today and the next-generation AI workloads,\\\" he added. \n",
       "\n",
       " Although Azure missed forecast, the Microsoft boss said it continues to see customers like UBS move workloads to Azure . \n",
       "\n",
       " On Copilot, Nadella said the business is seeing accelerated customer adoption across all deal sizes. The number of people who use Copilot daily again more than doubled quarter-over-quarter. \n",
       "\n",
       " Windows is seeing momentum build as the end of support for Windows 10 approaches. \n",
       "\n",
       " Customers are choosing the latest Windows 11 devices for their enhanced security and advanced AI capabilities, Nadella said, noting 15% of premium-priced laptops in the US this holiday were Copilot plus PCs. \n",
       "\n",
       " Concluding, Nadella said he is \\\"energized by the many opportunities ahead\\\". \n",
       "\n",
       " Away from Azure, Hood said in productivity and business processes, revenue is expected to grow between 11% and 12% in constant-currency to USD29.4 billion to USD29.7 billion.. \n",
       "\n",
       " For Intelligent Cloud, she expects revenue to grow between 19% and 20% in constant-currency to USD25.9 billion to USD26.2 billion. \n",
       "\n",
       " In More Personal Computing, she expects revenue to be USD12.4 billion to USD12.8 billion with continued prioritization of higher-margin opportunities . \n",
       "\n",
       " For the financial year, Microsoft continues to expect double-digit revenue and operating income growth. The firm now expects full-year operating margins to be up slightly year-over-year. \n",
       "\n",
       " Copyright 2024 Alliance News Ltd. All Rights reserved. \n",
       "\n",
       " "
      ],
      "text/plain": [
       "<IPython.core.display.Markdown object>"
      ]
     },
     "metadata": {},
     "output_type": "display_data"
    },
    {
     "data": {
      "text/markdown": [
       "---"
      ],
      "text/plain": [
       "<IPython.core.display.Markdown object>"
      ]
     },
     "metadata": {},
     "output_type": "display_data"
    },
    {
     "data": {
      "text/markdown": [
       "###                            Microsoft earns 10% more but growth of its cloud business slows down"
      ],
      "text/plain": [
       "<IPython.core.display.Markdown object>"
      ]
     },
     "metadata": {},
     "output_type": "display_data"
    },
    {
     "data": {
      "text/markdown": [
       "**CE NoticiasFinancieras** - 2025-01-29 - NFINCE0020250129el1t00dwo - Lang: en"
      ],
      "text/plain": [
       "<IPython.core.display.Markdown object>"
      ]
     },
     "metadata": {},
     "output_type": "display_data"
    },
    {
     "data": {
      "text/markdown": [
       "Microsoft published on Wednesday results for the second quarter of its fiscal year with lights and shadows. The technology giant slightly exceeded most analysts' forecasts, as its net profit reached 24,108 million dollars (23,140 million ...                             Microsoft earns 10% more but growth of its cloud business slows down \n",
       "\n",
       "                          Microsoft published on Wednesday results for the second quarter of its fiscal year with lights and shadows. The technology giant slightly exceeded most analysts' forecasts, as its net profit reached 24,108 million dollars (23,140 million euros), 10% more than in the same period last year. In addition, earnings per share came in at 3.23 dollars, compared to the 3.11 dollars expected by the market. \n",
       "\n",
       " In turn, the group's revenues rose by 12% between October and December, to $69.632 billion, compared to the $68.78 billion predicted by experts. \n",
       "\n",
       " However, the shares of the group led by Satya Nadella fell 2% in the prolonged closure of Wall Street in the wake of the slowdown in the growth of its cloud business. The company already warned in October that this could be hurt by delays at one of its suppliers. \n",
       "\n",
       " DivisionsThe Intelligent Cloud division, which groups together the company's entire cloud business, posted revenue of $25.544 billion, up 19% from the same period last year, but fell short of the $25.830 billion expected by the market. In addition, revenue from Azure and other services increased 31%, up from 33% in the year-ago quarter. \n",
       "\n",
       " This is the Microsoft business that analysts are always most on the lookout for, as it competes directly with Amazon Web Services (AWS) and Google. \n",
       "\n",
       " \\\"Our AI business has already surpassed an annual revenue rate of $13 billion, up 175% year-over-year,\\\" Nadella highlighted in the company's statement. \n",
       "\n",
       " For its part, the production and business processes division, where Microsoft 365 and LinkedIn subscriptions are collected, did beat expectations, as it increased its revenue by 14% to $29.437 billion. \n",
       "\n",
       " As for the personal computing division, which includes sales of the Xbox console, Surface and Windows, it contributed $14,651 million to the group, practically the same as in the same period of the previous year. \n",
       "\n",
       " "
      ],
      "text/plain": [
       "<IPython.core.display.Markdown object>"
      ]
     },
     "metadata": {},
     "output_type": "display_data"
    },
    {
     "data": {
      "text/markdown": [
       "---"
      ],
      "text/plain": [
       "<IPython.core.display.Markdown object>"
      ]
     },
     "metadata": {},
     "output_type": "display_data"
    },
    {
     "data": {
      "text/markdown": [
       "###                            Microsoft Corporation Bottom Line Advances In Q2, Beats Estimates"
      ],
      "text/plain": [
       "<IPython.core.display.Markdown object>"
      ]
     },
     "metadata": {},
     "output_type": "display_data"
    },
    {
     "data": {
      "text/markdown": [
       "**RTT News** - 2025-01-29 - RTTNEW0020250129el1t0040k - Lang: en"
      ],
      "text/plain": [
       "<IPython.core.display.Markdown object>"
      ]
     },
     "metadata": {},
     "output_type": "display_data"
    },
    {
     "data": {
      "text/markdown": [
       "Microsoft Corporation (MSFT) revealed a profit for its second quarter that increased from the same period last year and beat the Street estimates.                             Microsoft Corporation Bottom Line Advances In Q2, Beats Estimates \n",
       "\n",
       "                          Microsoft Corporation (MSFT) revealed a profit for its second quarter that increased from the same period last year and beat the Street estimates. \n",
       "\n",
       " The company's earnings came in at $24.11 billion, or $3.23 per share. This compares with $21.87 billion, or $2.93 per share, last year. \n",
       "\n",
       " Analysts on average had expected the company to earn $3.11 per share. Analysts' estimates typically exclude special items. \n",
       "\n",
       " The company's revenue for the period rose 12.3% to $69.632 billion from $62.020 billion last year. \n",
       "\n",
       "                       Microsoft Corporation earnings at a glance (GAAP) : \n",
       "\n",
       " -Earnings: $24.11 Bln. vs. $21.87 Bln. last year. \n",
       "\n",
       " -EPS: $3.23 vs. $2.93 last year. \n",
       "\n",
       " -Revenue: $69.632 Bln vs. $62.020 Bln last year. \n",
       "\n",
       " "
      ],
      "text/plain": [
       "<IPython.core.display.Markdown object>"
      ]
     },
     "metadata": {},
     "output_type": "display_data"
    },
    {
     "data": {
      "text/markdown": [
       "---"
      ],
      "text/plain": [
       "<IPython.core.display.Markdown object>"
      ]
     },
     "metadata": {},
     "output_type": "display_data"
    }
   ],
   "source": [
    "chunks_list = chunks_resp.json()['data']\n",
    "for article in chunks_list:\n",
    "    display(Markdown(f\"### {article['attributes']['headline']['main']['text']}\"))\n",
    "    display(Markdown(f\"**{article['meta']['source']['name']}** - {article['attributes']['publication_date']} - {article['meta']['original_doc_id']} - Lang: {article['meta']['language']['code']}\"))\n",
    "    display(Markdown(f\"{article['attributes']['snippet']['content'][0]['text']} {article['attributes']['content'][0]['text']}\"))\n",
    "    display(Markdown(f\"---\"))"
   ]
  },
  {
   "cell_type": "markdown",
   "metadata": {},
   "source": [
    "## Retrieval API Conclusion\n",
    "\n",
    "Up to this point it the seen functionalities are connected with the Retrieval API.\n",
    "\n",
    "However, given that this service is an intermediate component in a full-stack solution, the below Test LLM steps and the [Read Article](2_read_article.ipynb) notebook are the two complementary avenues to get a full working solution."
   ]
  },
  {
   "cell_type": "markdown",
   "metadata": {},
   "source": [
    "## Test LLM"
   ]
  },
  {
   "cell_type": "markdown",
   "metadata": {},
   "source": [
    "This is a downstream step that is only illustrative on how the response generation stage can be implemented. In the below example only a few articles are used to respond the prompt using an LLM hosted in Google Cloud Vertex AI. The passed request is built from the original prompt enhanced with the retrieved articles as gounding context.\n",
    "\n",
    "The tested LLM is Google Gemini 2.0 Flash. Response generations took a few seconds for a context between 3K to 4K LLM tokens.\n",
    "\n",
    "### Gemini Structured Prompt"
   ]
  },
  {
   "cell_type": "code",
   "execution_count": 9,
   "metadata": {},
   "outputs": [],
   "source": [
    "instructions_text =\"\"\"\n",
    "    You are an experienced business analyst that respond in a professional manner.\n",
    "    Answer the query using only the information provided in the list of articles.\n",
    "    If you use information from an article, cite it using squared brackets containing the index number.\n",
    "    At the end of the answer, show a list of the cited articles ordered by index and under the title Cited Articles.\n",
    "    Each cited article must be displayed in the following Markdown format:\n",
    "    - [index] [headline - source_name - publication_date](url)\n",
    "    Use Markdown for the output.\n",
    "\"\"\"\n",
    "article_list = []\n",
    "\n",
    "for chunk in chunks_list:\n",
    "    article = {\n",
    "        'index': len(article_list) + 1,\n",
    "        'url': f\"https://dj.factiva.com/article?id=drn:archive.newsarticle.{str(chunk['meta']['original_doc_id']).strip()}\",\n",
    "        'source_name': str(chunk['meta']['source']['name']).strip(),\n",
    "        'headline': str(chunk['attributes']['headline']['main']['text']).strip(),\n",
    "        'publication_date': chunk['attributes']['publication_date'],\n",
    "        'content': f\"{str(chunk['attributes']['snippet']['content'][0]['text']).strip()} {str(chunk['attributes']['content'][0]['text']).strip()}\"\n",
    "    }\n",
    "    article_list.append(article)\n",
    "\n",
    "llm_prompt = {\n",
    "    'query': frapi_prompt,\n",
    "    'articles': article_list,\n",
    "    \"instructions\": instructions_text.strip()\n",
    "}"
   ]
  },
  {
   "cell_type": "code",
   "execution_count": 10,
   "metadata": {},
   "outputs": [
    {
     "name": "stdout",
     "output_type": "stream",
     "text": [
      "{\n",
      "    \"query\": \"Summarise the latest earnings report from Microsoft Corp\",\n",
      "    \"articles\": [\n",
      "        {\n",
      "            \"index\": 1,\n",
      "            \"url\": \"https://dj.factiva.com/article?id=drn:archive.newsarticle.LCDVP00020250129el1t00rh3\",\n",
      "            \"source_name\": \"Public Companies News and Documents via PUBT\",\n",
      "            \"headline\": \"Microsoft Corporation - Earnings Release FY25 Q2\",\n",
      "            \"publication_date\": \"2025-01-29\",\n",
      "            \"content\": \"Access the original document here \\u00b7 potential consequences of trade and anti-corruption laws; \\u00b7 potential consequences of existing and increasing legal and regulatory requirements; \\u00b7 laws and regulations relating to the handling of personal data that may impede the adoption of our services or result in increased costs, legal claims, fines, or reputational damage; \\u00b7 claims against us that may result in adverse outcomes in legal disputes; \\u00b7 uncertainties relating to our business with government customers; \\u00b7 additional tax liabilities; \\u00b7 sustainability regulations and expectations that may expose us to increased costs and legal and reputational risk; \\u00b7 an inability to protect and utilize our intellectual property may harm our business and operating results; \\u00b7 claims that Microsoft has infringed the intellectual property rights of others; \\u00b7 damage to our reputation or our brands that may harm our business and results of operations; \\u00b7 adverse economic or market conditions that may harm our business; \\u00b7 catastrophic events or geo-political conditions, such as the COVID-19 pandemic, that may disrupt our business; \\u00b7 exposure to increased economic and operational uncertainties from operating a global business, including the effects of foreign currency exchange; and \\u00b7 the dependence of our business on our ability to attract and retain talented employees. For more information about risks and uncertainties associated with Microsoft's business, please refer to the \\\"Management's Discussion and Analysis of Financial Condition and Results of Operations\\\" and \\\"Risk Factors\\\" sections of Microsoft's SEC filings, including, but not limited to, its annual report on Form 10-K and quarterly reports on Form 10-Q, copies of which may be obtained by contacting Microsoft's Investor Relations department at (800) 285-7772 or at Microsoft's Investor Relations website at http://www.microsoft.com/en-us/investor . All information in this release is as of December 31, 2024. The company undertakes no duty to update any forward-looking statement to conform the statement to actual results or changes in the company's expectations. For more information, press only: Microsoft Media Relations, WE Communications for Microsoft, (425) 638-7777, rrt@we-worldwide.com For more information, financial analysts and investors only: Brett Iversen, Vice President, Investor Relations, (425) 706-4400 Note to editors: For more information, news and perspectives from Microsoft, please visit the Microsoft News Center at http://www.microsoft.com/news . Web links, telephone numbers, and titles were correct at time of publication, but may since have changed. Shareholder and financial information, as well as today's 2:30 p.m. Pacific time conference call with investors and analysts, is available at http://www.microsoft.com/en-us/investor . Three Months EndedDecember 31, Six Months EndedDecember 31,\\n \\n\\n2024 2023 2024 2023\\nRevenue: \\nProduct $16,219 $18,941 $31,491 $34,476\\nService and other 53,413 43,079 103,726 84,061\\nTotal revenue 69,632 62,020 135,217 118,537\\nCost of revenue: \\nProduct 3,856 5,964 7,150 9,495\\nService and other 17,943 13,659 34,748 26,430\\nTotal cost of revenue 21,799 19,623 41,898 35,925\\nGross margin 47,833 42,397 93,319 82,612\\nResearch and development 7,917 7,142 15,461 13,801\\nSales and marketing 6,440 6,246 12,157 11,433\\nGeneral and administrative 1,823 1,977 3,496 3,451\\nOperating income 31,653 27,032 62,205 53,927\\nOther expense, net (2,288) (506) (2,571) (117)\\nIncome before income taxes 29,365 26,526 59,634 53,810\\nProvision for income taxes 5,257 4,656 10,859 9,649\\nNet income $24,108 $21,870 $48,775 $44,161\\nEarnings per share: \\nBasic $3.24 $2.94 $6.56 $5.94\\nDiluted $3.23 $2.93 $6.53 $5.92\\nWeighted average shares outstanding: \\nBasic 7,435 7,432 7,434 7,431\\nDiluted 7,468 7,468 7,469 7,465\\n Three Months EndedDecember 31, Six Months EndedDecember 31,\\n \\n\\n2024 2023 2024 2023\\nNet income $24,108 $21,870 $48,775 $44,161\\nOther comprehensive income (loss), net of tax: \\nNet change related to derivatives 34 (3) 24 18\\nNet change related to investments (434) 1,331 680 1,071\\nTranslation adjustments and other (1,034) 660 (730) 305\\nOther comprehensive income (loss) (1,434) 1,988 (26) 1,394\\nComprehensive income $22,674 $23,858 $48,749 $45,555\"\n",
      "        },\n",
      "        {\n",
      "            \"index\": 2,\n",
      "            \"url\": \"https://dj.factiva.com/article?id=drn:archive.newsarticle.ALNEG00020250130el1t00001\",\n",
      "            \"source_name\": \"Alliance News Global 500 Corporate\",\n",
      "            \"headline\": \"EXTRA: Soft Azure showing casts a cloud over strong Microsoft quarter\",\n",
      "            \"publication_date\": \"2025-01-29\",\n",
      "            \"content\": \"(Alliance News) - Microsoft Corp on Wednesday reported second quarter results which beat expectations but investors were left underwhelmed by a weaker than expected contribution from its cloud computing business, Azure. EXTRA: Soft Azure showing casts a cloud over strong Microsoft quarter \\n\\n (Alliance News) - Microsoft Corp on Wednesday reported second quarter results which beat expectations but investors were left underwhelmed by a weaker than expected contribution from its cloud computing business, Azure. \\n\\n Shares in Microsoft were 4.8% lower in after hours trading. They had earlier closed down 1.1% at USD442.33. \\n\\n \\\\\\\"The fact that its AI units could barely meet expectations has been seen as a disappointment,\\\\\\\" said Kathleen Brooks at XTB. \\n\\n The Redmond, Washington software provider said net income rose 10% to USD24.10 billion in the three months to December 31 from USD21.87 billion a year prior. Diluted earnings per share climbed 10% to USD3.23 from USD2.93 and beat FactSet consensus of USD3.11. \\n\\n Revenue jumped 12% to USD69.63 billion from USD62.02 billion, beating the FactSet consensus for USD68.87 billion. \\n\\n Chief Financial Officer Amy Hood said results were driven by strong demand for cloud and AI offerings, and improved operating leverage with higher-than-expected operating income growth. \\n\\n \\\\\\\"This quarter Microsoft Cloud revenue was USD40.9 billion, up 21% year-over-year,\\\\\\\" she noted. \\\\\\\"We remain committed to balancing operational discipline with continued investments in our cloud and AI infrastructure.\\\\\\\" \\n\\n Intelligent Cloud revenue was USD25.5 billion, up 19%. Within this the Azure cloud computing business reported a 31% revenue gain compared with a 34% pace in the prior quarter, and below the 32% forecast by analysts. \\n\\n Hood explained to analysts that Azure growth included 13 points from AI Services, which grew 157% year-over-year and was ahead of expectations even as demand continued to be higher than available capacity . \\n\\n But growth in non-AI services was slightly lower-than-expected due to \\\\\\\"go-to-market execution challenges, particularly with our customers that we primarily reach through our scale motions as we balance driving near-term non-AI consumption with AI growth.\\\\\\\" \\n\\n In the third quarter, Hood forecast Azure revenue would grow between 31% and 32% in constant-currency, little changed from the quarter just ended. \\n\\n Elsewhere, revenue in Productivity and Business Processes was USD29.4 billion, up 14%, including 15% growth in Microsoft 365 Commercial products and cloud services revenue. LinkedIn revenue increased 9%. \\n\\n Revenue in More Personal Computing was USD14.7 billion and was relatively unchanged. \\n\\n \\\\\\\"We are innovating across our tech stack and helping customers unlock the full [return on investment] of AI to capture the massive opportunity ahead,\\\\\\\" said Satya Nadella, chair and chief executive officer. \\\\\\\"Already, our AI business has surpassed an annual revenue run rate of USD13 billion, up 175% year-over-year.\\\\\\\" \\n\\n Nadella highlighted more than doubled overall data center capacity in the last three years, noting the firm added more capacity last year than any other year in its history. \\n\\n \\\\\\\"Our data centers, networks, racks and silicon are all coming together as a complete system to drive new efficiencies to power both the cloud workloads of today and the next-generation AI workloads,\\\\\\\" he added. \\n\\n Although Azure missed forecast, the Microsoft boss said it continues to see customers like UBS move workloads to Azure . \\n\\n On Copilot, Nadella said the business is seeing accelerated customer adoption across all deal sizes. The number of people who use Copilot daily again more than doubled quarter-over-quarter. \\n\\n Windows is seeing momentum build as the end of support for Windows 10 approaches. \\n\\n Customers are choosing the latest Windows 11 devices for their enhanced security and advanced AI capabilities, Nadella said, noting 15% of premium-priced laptops in the US this holiday were Copilot plus PCs. \\n\\n Concluding, Nadella said he is \\\\\\\"energized by the many opportunities ahead\\\\\\\". \\n\\n Away from Azure, Hood said in productivity and business processes, revenue is expected to grow between 11% and 12% in constant-currency to USD29.4 billion to USD29.7 billion.. \\n\\n For Intelligent Cloud, she expects revenue to grow between 19% and 20% in constant-currency to USD25.9 billion to USD26.2 billion. \\n\\n In More Personal Computing, she expects revenue to be USD12.4 billion to USD12.8 billion with continued prioritization of higher-margin opportunities . \\n\\n For the financial year, Microsoft continues to expect double-digit revenue and operating income growth. The firm now expects full-year operating margins to be up slightly year-over-year. \\n\\n Copyright 2024 Alliance News Ltd. All Rights reserved.\"\n",
      "        },\n",
      "        {\n",
      "            \"index\": 3,\n",
      "            \"url\": \"https://dj.factiva.com/article?id=drn:archive.newsarticle.NFINCE0020250129el1t00dwo\",\n",
      "            \"source_name\": \"CE NoticiasFinancieras\",\n",
      "            \"headline\": \"Microsoft earns 10% more but growth of its cloud business slows down\",\n",
      "            \"publication_date\": \"2025-01-29\",\n",
      "            \"content\": \"Microsoft published on Wednesday results for the second quarter of its fiscal year with lights and shadows. The technology giant slightly exceeded most analysts' forecasts, as its net profit reached 24,108 million dollars (23,140 million ... Microsoft earns 10% more but growth of its cloud business slows down \\n\\n                          Microsoft published on Wednesday results for the second quarter of its fiscal year with lights and shadows. The technology giant slightly exceeded most analysts' forecasts, as its net profit reached 24,108 million dollars (23,140 million euros), 10% more than in the same period last year. In addition, earnings per share came in at 3.23 dollars, compared to the 3.11 dollars expected by the market. \\n\\n In turn, the group's revenues rose by 12% between October and December, to $69.632 billion, compared to the $68.78 billion predicted by experts. \\n\\n However, the shares of the group led by Satya Nadella fell 2% in the prolonged closure of Wall Street in the wake of the slowdown in the growth of its cloud business. The company already warned in October that this could be hurt by delays at one of its suppliers. \\n\\n DivisionsThe Intelligent Cloud division, which groups together the company's entire cloud business, posted revenue of $25.544 billion, up 19% from the same period last year, but fell short of the $25.830 billion expected by the market. In addition, revenue from Azure and other services increased 31%, up from 33% in the year-ago quarter. \\n\\n This is the Microsoft business that analysts are always most on the lookout for, as it competes directly with Amazon Web Services (AWS) and Google. \\n\\n \\\\\\\"Our AI business has already surpassed an annual revenue rate of $13 billion, up 175% year-over-year,\\\\\\\" Nadella highlighted in the company's statement. \\n\\n For its part, the production and business processes division, where Microsoft 365 and LinkedIn subscriptions are collected, did beat expectations, as it increased its revenue by 14% to $29.437 billion. \\n\\n As for the personal computing division, which includes sales of the Xbox console, Surface and Windows, it contributed $14,651 million to the group, practically the same as in the same period of the previous year.\"\n",
      "        },\n",
      "        {\n",
      "            \"index\": 4,\n",
      "            \"url\": \"https://dj.factiva.com/article?id=drn:archive.newsarticle.RTTNEW0020250129el1t0040k\",\n",
      "            \"source_name\": \"RTT News\",\n",
      "            \"headline\": \"Microsoft Corporation Bottom Line Advances In Q2, Beats Estimates\",\n",
      "            \"publication_date\": \"2025-01-29\",\n",
      "            \"content\": \"Microsoft Corporation (MSFT) revealed a profit for its second quarter that increased from the same period last year and beat the Street estimates. Microsoft Corporation Bottom Line Advances In Q2, Beats Estimates \\n\\n                          Microsoft Corporation (MSFT) revealed a profit for its second quarter that increased from the same period last year and beat the Street estimates. \\n\\n The company's earnings came in at $24.11 billion, or $3.23 per share. This compares with $21.87 billion, or $2.93 per share, last year. \\n\\n Analysts on average had expected the company to earn $3.11 per share. Analysts' estimates typically exclude special items. \\n\\n The company's revenue for the period rose 12.3% to $69.632 billion from $62.020 billion last year. \\n\\n                       Microsoft Corporation earnings at a glance (GAAP) : \\n\\n -Earnings: $24.11 Bln. vs. $21.87 Bln. last year. \\n\\n -EPS: $3.23 vs. $2.93 last year. \\n\\n -Revenue: $69.632 Bln vs. $62.020 Bln last year.\"\n",
      "        }\n",
      "    ],\n",
      "    \"instructions\": \"You are an experienced business analyst that respond in a professional manner.\\n    Answer the query using only the information provided in the list of articles.\\n    If you use information from an article, cite it using squared brackets containing the index number.\\n    At the end of the answer, show a list of the cited articles ordered by index and under the title Cited Articles.\\n    Each cited article must be displayed in the following Markdown format:\\n    - [index] [headline - source_name - publication_date](url)\\n    Use Markdown for the output.\"\n",
      "}\n"
     ]
    }
   ],
   "source": [
    "print(json.dumps(llm_prompt, indent=4))"
   ]
  },
  {
   "cell_type": "markdown",
   "metadata": {},
   "source": [
    "### Gemini Request"
   ]
  },
  {
   "cell_type": "code",
   "execution_count": 11,
   "metadata": {},
   "outputs": [
    {
     "data": {
      "text/markdown": [
       "Microsoft Corp's second quarter results, for the period ending December 31, 2024, showed a net income increase of 10% to $24.11 billion, or $3.23 per share, compared to $21.87 billion, or $2.93 per share, the previous year [2, 4]. This exceeded analysts' expectations of $3.11 per share [2, 4]. Revenue also increased by 12% to $69.63 billion, surpassing the FactSet consensus of $68.87 billion [2, 4]. The company's results were driven by strong demand for cloud and AI offerings [2]. Microsoft Cloud revenue was $40.9 billion, up 21% year-over-year [2].\n",
       "\n",
       "However, the growth of the Azure cloud computing business slowed, with a 31% revenue gain compared to 34% in the prior quarter and below the 32% forecast by analysts [2, 3]. Despite this, Azure's growth included 13 points from AI Services, which grew 157% year-over-year [2]. Microsoft's AI business has surpassed an annual revenue run rate of $13 billion, up 175% year-over-year [2, 3].\n",
       "\n",
       "The Productivity and Business Processes segment saw revenue increase by 14% to $29.4 billion, including 15% growth in Microsoft 365 Commercial products and cloud services revenue. LinkedIn revenue increased 9% [2]. Revenue in More Personal Computing was $14.7 billion and was relatively unchanged [2].\n",
       "\n",
       "For the third quarter, Microsoft expects Azure revenue to grow between 31% and 32% in constant-currency [2]. In productivity and business processes, revenue is expected to grow between 11% and 12% in constant-currency to USD29.4 billion to USD29.7 billion. For Intelligent Cloud, revenue is expected to grow between 19% and 20% in constant-currency to USD25.9 billion to USD26.2 billion. In More Personal Computing, revenue is expected to be USD12.4 billion to USD12.8 billion [2]. For the full financial year, Microsoft continues to expect double-digit revenue and operating income growth [2].\n",
       "\n",
       "**Cited Articles**\n",
       "- [2] [EXTRA: Soft Azure showing casts a cloud over strong Microsoft quarter - Alliance News Global 500 Corporate - 2025-01-29](https://dj.factiva.com/article?id=drn:archive.newsarticle.ALNEG00020250130el1t00001)\n",
       "- [3] [Microsoft earns 10% more but growth of its cloud business slows down - CE NoticiasFinancieras - 2025-01-29](https://dj.factiva.com/article?id=drn:archive.newsarticle.NFINCE0020250129el1t00dwo)\n",
       "- [4] [Microsoft Corporation Bottom Line Advances In Q2, Beats Estimates - RTT News - 2025-01-29](https://dj.factiva.com/article?id=drn:archive.newsarticle.RTTNEW0020250129el1t0040k)\n"
      ],
      "text/plain": [
       "<IPython.core.display.Markdown object>"
      ]
     },
     "metadata": {},
     "output_type": "display_data"
    }
   ],
   "source": [
    "response = u.gemini_generate(llm_prompt, GCP_PROJECT, GCP_LOCATION)\n",
    "display(Markdown(response))"
   ]
  }
 ],
 "metadata": {
  "kernelspec": {
   "display_name": "fadev",
   "language": "python",
   "name": "python3"
  },
  "language_info": {
   "codemirror_mode": {
    "name": "ipython",
    "version": 3
   },
   "file_extension": ".py",
   "mimetype": "text/x-python",
   "name": "python",
   "nbconvert_exporter": "python",
   "pygments_lexer": "ipython3",
   "version": "3.12.7"
  }
 },
 "nbformat": 4,
 "nbformat_minor": 2
}
