{
 "cells": [
  {
   "cell_type": "markdown",
   "metadata": {},
   "source": [
    "# Retrieval API - Step 1 - Get Chunks"
   ]
  },
  {
   "cell_type": "markdown",
   "metadata": {},
   "source": [
    "## Code Initialization\n",
    "Dependencies and environment initialization.\n",
    "\n",
    "Ensure there's a `.env` file with your credentials in the same directory as this script. Use the `.env.example` file as template."
   ]
  },
  {
   "cell_type": "code",
   "execution_count": 1,
   "metadata": {},
   "outputs": [
    {
     "data": {
      "text/plain": [
       "True"
      ]
     },
     "execution_count": 1,
     "metadata": {},
     "output_type": "execute_result"
    }
   ],
   "source": [
    "import os\n",
    "import requests as r\n",
    "from IPython.display import Markdown\n",
    "import utils as u\n",
    "from dotenv import load_dotenv\n",
    "\n",
    "load_dotenv()"
   ]
  },
  {
   "cell_type": "markdown",
   "metadata": {},
   "source": [
    "## Constants"
   ]
  },
  {
   "cell_type": "code",
   "execution_count": 2,
   "metadata": {},
   "outputs": [],
   "source": [
    "API_HOST = 'api.dowjones.com'\n",
    "AUTH_HOST = 'accounts.dowjones.com'\n",
    "USER_EMAIL = 'retrieval.api@mycompany.com'\n",
    "CLIENT_ID = os.getenv('FACTIVA_CLIENTID')\n",
    "USERNAME = os.getenv('FACTIVA_USERNAME')\n",
    "PASSWORD = os.getenv('FACTIVA_PASSWORD')\n",
    "AUTH_URL = f\"https://{AUTH_HOST}/oauth2/v1/token\""
   ]
  },
  {
   "cell_type": "markdown",
   "metadata": {},
   "source": [
    "## Authentication - Generate Bearer\n",
    "\n",
    "For details about getting the `bearer_token`, please see the `utils.py` file."
   ]
  },
  {
   "cell_type": "code",
   "execution_count": 3,
   "metadata": {},
   "outputs": [
    {
     "data": {
      "text/markdown": [
       "**Authentication Successful**: Bearer token created for user 9ZZZ159100"
      ],
      "text/plain": [
       "<IPython.core.display.Markdown object>"
      ]
     },
     "metadata": {},
     "output_type": "display_data"
    }
   ],
   "source": [
    "bearer_token = u.get_bearer_token(CLIENT_ID, USERNAME, PASSWORD, AUTH_URL)\n",
    "if bearer_token:\n",
    "    display(Markdown(f\"**Authentication Successful**: Bearer token created for user {USERNAME.split('@')[0].split('-')[0]}\"))\n",
    "else:\n",
    "    display(Markdown(f\"**Authentication Failed**: Cannot obtain the Bearer token for the user {USERNAME.split('@')[0].split('-')[0]}\"))"
   ]
  },
  {
   "cell_type": "markdown",
   "metadata": {},
   "source": [
    "This creates the headers to be used in the Retrieval API requests.\n",
    "\n",
    "Additionally, `user_email_hash` is calculated as `user_id`. This must be a unique and constant value per user, so the API statistics keep track of the right number of users. The recommendation is calculating a MD5 hash of the user email. This value is always the same and do not expose any PII.\n",
    "\n",
    "In the case of `work_id`, this value must be calculated differently for each API request. For convenience, it can be taken from the environment's transaction if it exists, or calculated randomly before calling the API. In this case it is calculated randomly before the API request. See the payload section below."
   ]
  },
  {
   "cell_type": "code",
   "execution_count": 4,
   "metadata": {},
   "outputs": [],
   "source": [
    "req_headers = {\n",
    "    \"Authorization\": f\"Bearer {bearer_token}\",\n",
    "    \"Content-Type\": \"application/json\",\n",
    "    \"Accept\": \"application/json\"\n",
    "}\n",
    "\n",
    "user_email_hash = u.md5_hash(USER_EMAIL)"
   ]
  },
  {
   "cell_type": "markdown",
   "metadata": {},
   "source": [
    "## Factiva Retrieval API Query\n",
    "\n",
    "### Prompt\n",
    "Add the prompt to be sent to the Retrieval API"
   ]
  },
  {
   "cell_type": "code",
   "execution_count": 5,
   "metadata": {},
   "outputs": [],
   "source": [
    "# \"What are NASA's planned missions to the Moon in 2025, and what are their primary objectives?\"\n",
    "# \"中国2025年计划进行哪些月球探测任务？其主要目标是什么？\"   # What are China's planned missions to the Moon in 2025, and what are their primary objectives?\n",
    "# \"今後12か月間の日本の半導体業界の見通しはどのようなものですか?\"  # What are the perspectives for the semiconductors industry in Japan for the next 12 months?\n",
    "# \"Summarise the latest earnings report from Microsoft Corp\"\n",
    "# \"What are the perspectives of bitcoin for the next 12 months?\"\n",
    "frapi_prompt = \"Summarise tariff decisions by the US administration during April and May 2025 and their impact for Tesla\""
   ]
  },
  {
   "cell_type": "markdown",
   "metadata": {},
   "source": [
    "### Search Filters\n",
    "* **Language**: Factiva language code(s), composed of two characters. Please see [Taxonomy - Languages](9_taxonomy_languages.ipynb)\n",
    "* **Organization**: Factiva company/orgnization code(s). Please see [Taxonomy - Organizations](9_taxonomy_organizations.ipynb)\n",
    "* **News Subjects**: Factiva company/orgnization code(s). Please see [Taxonomy - News Subjects](9_taxonomy_news_subjects.ipynb)\n",
    "* **Industries**: Factiva Industries. Please see [Taxonomy - Industries](9_taxonomy_industries.ipynb)\n",
    "* **Sources**: Factiva Sources (publishers). Please see [Taxonomy - Sources](9_taxonomy_sources.ipynb)\n",
    "* **Regions**: Factiva Regions. Please see [Taxonomy - Regions](9_taxonomy_regions.ipynb)\n",
    "\n",
    "\n",
    "### API Payload\n",
    "Assemble the Retrieval API payload"
   ]
  },
  {
   "cell_type": "code",
   "execution_count": 6,
   "metadata": {},
   "outputs": [],
   "source": [
    "work_id = u.generate_random_guid()\n",
    "\n",
    "frapi_query = {\n",
    "  \"data\": {\n",
    "    \"attributes\": {\n",
    "      \"response_limit\": 10,    # max 50\n",
    "      \"query\": {\n",
    "        \"value\": frapi_prompt,\n",
    "        \"search_filters\": [\n",
    "          { \"scope\": \"Language\", \"value\": \"en or es or it\" },\n",
    "          { \"scope\": \"Organization\", \"value\": \"TESLMI\" },\n",
    "          { \"scope\": \"NewsSubject\", \"value\": \"C151\" },\n",
    "          { \"scope\": \"Industry\", \"value\": \"IAUT\" },\n",
    "          { \"scope\": \"Source\", \"value\": \"DJDN or J or WSJO or B\" },\n",
    "          { \"scope\": \"Region\", \"value\": \"USA\" }\n",
    "        ],\n",
    "        \"date\": {\n",
    "          \"custom\": {\n",
    "            \"from\": \"2025-04-01\",\n",
    "            \"to\": \"2025-05-31\"\n",
    "          }\n",
    "        }\n",
    "      },\n",
    "      \"metrics_data\": {\n",
    "        \"user_id\": user_email_hash,\n",
    "        \"work_id\": work_id,\n",
    "      }\n",
    "    },\n",
    "    \"id\": \"GenAIRetrievalExample\",\n",
    "    \"type\": \"genai-content\"\n",
    "  }\n",
    "}"
   ]
  },
  {
   "cell_type": "markdown",
   "metadata": {},
   "source": [
    "## Send Retrieval API Request and Receive Chunks Back"
   ]
  },
  {
   "cell_type": "code",
   "execution_count": 7,
   "metadata": {},
   "outputs": [
    {
     "name": "stdout",
     "output_type": "stream",
     "text": [
      "Successfully retrieved chunks\n"
     ]
    }
   ],
   "source": [
    "chunks_resp = r.post(f\"https://{API_HOST}/content/gen-ai/retrieve\", json=frapi_query, headers=req_headers)\n",
    "\n",
    "if chunks_resp.status_code == 200:\n",
    "    print('Successfully retrieved chunks')\n",
    "else:\n",
    "    print(f\"Request Failed: {chunks_resp.json()}\")"
   ]
  },
  {
   "cell_type": "markdown",
   "metadata": {},
   "source": [
    "## Print & Save Chunks"
   ]
  },
  {
   "cell_type": "code",
   "execution_count": 8,
   "metadata": {},
   "outputs": [
    {
     "data": {
      "text/markdown": [
       "###                            Tesla Stock Got a Lift From Trump's Trade Deal -- Barrons.com"
      ],
      "text/plain": [
       "<IPython.core.display.Markdown object>"
      ]
     },
     "metadata": {},
     "output_type": "display_data"
    },
    {
     "data": {
      "text/markdown": [
       "**Dow Jones Institutional News** - 2025-05-08 - DJDN000020250508el58004jd - Lang: en"
      ],
      "text/plain": [
       "<IPython.core.display.Markdown object>"
      ]
     },
     "metadata": {},
     "output_type": "display_data"
    },
    {
     "data": {
      "text/markdown": [
       "Al Root Tesla Stock Got a Lift From Trump's Trade Deal -- Barrons.com Al Root Tesla stock rose Thursday as President Donald Trump's trade deal with th..."
      ],
      "text/plain": [
       "<IPython.core.display.Markdown object>"
      ]
     },
     "metadata": {},
     "output_type": "display_data"
    },
    {
     "data": {
      "text/markdown": [
       "---"
      ],
      "text/plain": [
       "<IPython.core.display.Markdown object>"
      ]
     },
     "metadata": {},
     "output_type": "display_data"
    },
    {
     "data": {
      "text/markdown": [
       "###                            Tesla Stock Falls Amid Tariffs Turmoil. What Ford Earnings Mean for Auto Makers. -- Barrons.com"
      ],
      "text/plain": [
       "<IPython.core.display.Markdown object>"
      ]
     },
     "metadata": {},
     "output_type": "display_data"
    },
    {
     "data": {
      "text/markdown": [
       "**Dow Jones Institutional News** - 2025-05-06 - DJDN000020250506el56000ps - Lang: en"
      ],
      "text/plain": [
       "<IPython.core.display.Markdown object>"
      ]
     },
     "metadata": {},
     "output_type": "display_data"
    },
    {
     "data": {
      "text/markdown": [
       "Al Root Tesla Stock Falls Amid Tariffs Turmoil. What Ford Earnings Mean for Auto Makers. -- Barrons.com Al Root Tesla stock was falling in premarket t..."
      ],
      "text/plain": [
       "<IPython.core.display.Markdown object>"
      ]
     },
     "metadata": {},
     "output_type": "display_data"
    },
    {
     "data": {
      "text/markdown": [
       "---"
      ],
      "text/plain": [
       "<IPython.core.display.Markdown object>"
      ]
     },
     "metadata": {},
     "output_type": "display_data"
    },
    {
     "data": {
      "text/markdown": [
       "###                            Tesla Stock Drops on Fall in Chinese Sales, Trump's Plan to Kill EV Credit -- Barrons.com"
      ],
      "text/plain": [
       "<IPython.core.display.Markdown object>"
      ]
     },
     "metadata": {},
     "output_type": "display_data"
    },
    {
     "data": {
      "text/markdown": [
       "**Dow Jones Institutional News** - 2025-05-13 - DJDN000020250513el5d002pj - Lang: en"
      ],
      "text/plain": [
       "<IPython.core.display.Markdown object>"
      ]
     },
     "metadata": {},
     "output_type": "display_data"
    },
    {
     "data": {
      "text/markdown": [
       "Al Root Tesla Stock Drops on Fall in Chinese Sales, Trump's Plan to Kill EV Credit -- Barrons.com Al Root Tesla stock was rising again early Tuesday a..."
      ],
      "text/plain": [
       "<IPython.core.display.Markdown object>"
      ]
     },
     "metadata": {},
     "output_type": "display_data"
    },
    {
     "data": {
      "text/markdown": [
       "---"
      ],
      "text/plain": [
       "<IPython.core.display.Markdown object>"
      ]
     },
     "metadata": {},
     "output_type": "display_data"
    },
    {
     "data": {
      "text/markdown": [
       "### Tesla's China Sales Stink. Why the Stock Is Rising Anyway. -- Barrons.com"
      ],
      "text/plain": [
       "<IPython.core.display.Markdown object>"
      ]
     },
     "metadata": {},
     "output_type": "display_data"
    },
    {
     "data": {
      "text/markdown": [
       "**Dow Jones Newswires** - 2025-05-20 - DJDN000020250520el5k002n6 - Lang: en"
      ],
      "text/plain": [
       "<IPython.core.display.Markdown object>"
      ]
     },
     "metadata": {},
     "output_type": "display_data"
    },
    {
     "data": {
      "text/markdown": [
       "Al Root Tesla's China Sales Stink. Why the Stock Is Rising Anyway. -- Barrons.com Al Root Tesla stock rose early Tuesday despite more weak sales data...."
      ],
      "text/plain": [
       "<IPython.core.display.Markdown object>"
      ]
     },
     "metadata": {},
     "output_type": "display_data"
    },
    {
     "data": {
      "text/markdown": [
       "---"
      ],
      "text/plain": [
       "<IPython.core.display.Markdown object>"
      ]
     },
     "metadata": {},
     "output_type": "display_data"
    },
    {
     "data": {
      "text/markdown": [
       "###                            Tesla Stock Is Rising. There's Little Evidence of a Post-DOGE Sales Recovery. -- Barrons.com"
      ],
      "text/plain": [
       "<IPython.core.display.Markdown object>"
      ]
     },
     "metadata": {},
     "output_type": "display_data"
    },
    {
     "data": {
      "text/markdown": [
       "**Dow Jones Institutional News** - 2025-05-08 - DJDN000020250508el58002y4 - Lang: en"
      ],
      "text/plain": [
       "<IPython.core.display.Markdown object>"
      ]
     },
     "metadata": {},
     "output_type": "display_data"
    },
    {
     "data": {
      "text/markdown": [
       "Al Root Tesla Stock Is Rising. There's Little Evidence of a Post-DOGE Sales Recovery. -- Barrons.com Al Root Tesla stock was rising in early Thursday ..."
      ],
      "text/plain": [
       "<IPython.core.display.Markdown object>"
      ]
     },
     "metadata": {},
     "output_type": "display_data"
    },
    {
     "data": {
      "text/markdown": [
       "---"
      ],
      "text/plain": [
       "<IPython.core.display.Markdown object>"
      ]
     },
     "metadata": {},
     "output_type": "display_data"
    },
    {
     "data": {
      "text/markdown": [
       "###                            Tesla Demand Hasn't Rebounded Yet. Watch China This Week. -- Barrons.com"
      ],
      "text/plain": [
       "<IPython.core.display.Markdown object>"
      ]
     },
     "metadata": {},
     "output_type": "display_data"
    },
    {
     "data": {
      "text/markdown": [
       "**Dow Jones Newswires** - 2025-05-18 - DJDN000020250518el5i00017 - Lang: en"
      ],
      "text/plain": [
       "<IPython.core.display.Markdown object>"
      ]
     },
     "metadata": {},
     "output_type": "display_data"
    },
    {
     "data": {
      "text/markdown": [
       "Al Root Tesla Demand Hasn't Rebounded Yet. Watch China This Week. -- Barrons.com Al Root Investors are looking for evidence that brand \"challenges\" ca..."
      ],
      "text/plain": [
       "<IPython.core.display.Markdown object>"
      ]
     },
     "metadata": {},
     "output_type": "display_data"
    },
    {
     "data": {
      "text/markdown": [
       "---"
      ],
      "text/plain": [
       "<IPython.core.display.Markdown object>"
      ]
     },
     "metadata": {},
     "output_type": "display_data"
    },
    {
     "data": {
      "text/markdown": [
       "###                            Tesla Stock Falls as Sales in Germany Tumble. It's About More Than Musk. -- Barrons.com"
      ],
      "text/plain": [
       "<IPython.core.display.Markdown object>"
      ]
     },
     "metadata": {},
     "output_type": "display_data"
    },
    {
     "data": {
      "text/markdown": [
       "**Dow Jones Institutional News** - 2025-05-06 - DJDN000020250506el56001q4 - Lang: en"
      ],
      "text/plain": [
       "<IPython.core.display.Markdown object>"
      ]
     },
     "metadata": {},
     "output_type": "display_data"
    },
    {
     "data": {
      "text/markdown": [
       "Al Root Tesla Stock Falls as Sales in Germany Tumble. It's About More Than Musk. -- Barrons.com Al Root Tesla stock fell early Tuesday after more bad ..."
      ],
      "text/plain": [
       "<IPython.core.display.Markdown object>"
      ]
     },
     "metadata": {},
     "output_type": "display_data"
    },
    {
     "data": {
      "text/markdown": [
       "---"
      ],
      "text/plain": [
       "<IPython.core.display.Markdown object>"
      ]
     },
     "metadata": {},
     "output_type": "display_data"
    },
    {
     "data": {
      "text/markdown": [
       "###                            Tesla Profit Sinks, Hurt by Backlash Over Elon Musk's Political Role -- Update"
      ],
      "text/plain": [
       "<IPython.core.display.Markdown object>"
      ]
     },
     "metadata": {},
     "output_type": "display_data"
    },
    {
     "data": {
      "text/markdown": [
       "**Dow Jones Institutional News** - 2025-04-22 - DJDN000020250422el4m003rc - Lang: en"
      ],
      "text/plain": [
       "<IPython.core.display.Markdown object>"
      ]
     },
     "metadata": {},
     "output_type": "display_data"
    },
    {
     "data": {
      "text/markdown": [
       "Tesla's net income slid 71% in the first quarter, as the company struggled to overcome competitive pressure overseas and a reputational hit from Chief..."
      ],
      "text/plain": [
       "<IPython.core.display.Markdown object>"
      ]
     },
     "metadata": {},
     "output_type": "display_data"
    },
    {
     "data": {
      "text/markdown": [
       "---"
      ],
      "text/plain": [
       "<IPython.core.display.Markdown object>"
      ]
     },
     "metadata": {},
     "output_type": "display_data"
    },
    {
     "data": {
      "text/markdown": [
       "###                            Tesla Profit Sinks, Hurt by Backlash Over Elon Musk's Political Role; CEO says he will spend significantly less time on DOGE starting in May; electric-vehicle maker's net income falls 71%"
      ],
      "text/plain": [
       "<IPython.core.display.Markdown object>"
      ]
     },
     "metadata": {},
     "output_type": "display_data"
    },
    {
     "data": {
      "text/markdown": [
       "**The Wall Street Journal Online** - 2025-04-22 - WSJO000020250422el4m0053d - Lang: en"
      ],
      "text/plain": [
       "<IPython.core.display.Markdown object>"
      ]
     },
     "metadata": {},
     "output_type": "display_data"
    },
    {
     "data": {
      "text/markdown": [
       "Tesla's net income slid 71% in the first quarter, as the company struggled to overcome competitive pressure overseas and a reputational hit from Chief..."
      ],
      "text/plain": [
       "<IPython.core.display.Markdown object>"
      ]
     },
     "metadata": {},
     "output_type": "display_data"
    },
    {
     "data": {
      "text/markdown": [
       "---"
      ],
      "text/plain": [
       "<IPython.core.display.Markdown object>"
      ]
     },
     "metadata": {},
     "output_type": "display_data"
    },
    {
     "data": {
      "text/markdown": [
       "###                            Tesla Profit Sinks, Hurt by Backlash Over Elon Musk's Political Role -- WSJ"
      ],
      "text/plain": [
       "<IPython.core.display.Markdown object>"
      ]
     },
     "metadata": {},
     "output_type": "display_data"
    },
    {
     "data": {
      "text/markdown": [
       "**Dow Jones Institutional News** - 2025-04-22 - DJDN000020250422el4m003sa - Lang: en"
      ],
      "text/plain": [
       "<IPython.core.display.Markdown object>"
      ]
     },
     "metadata": {},
     "output_type": "display_data"
    },
    {
     "data": {
      "text/markdown": [
       "Tesla's net income slid 71% in the first quarter, as the company struggled to overcome competitive pressure overseas and a reputational hit from Chief..."
      ],
      "text/plain": [
       "<IPython.core.display.Markdown object>"
      ]
     },
     "metadata": {},
     "output_type": "display_data"
    },
    {
     "data": {
      "text/markdown": [
       "---"
      ],
      "text/plain": [
       "<IPython.core.display.Markdown object>"
      ]
     },
     "metadata": {},
     "output_type": "display_data"
    }
   ],
   "source": [
    "chunks_list = chunks_resp.json()['data']\n",
    "\n",
    "u.save_dict_json(chunks_list, f\"chunks.json\")\n",
    "u.save_dict_json(frapi_query, f\"query.json\")\n",
    "\n",
    "# u.print_full_chunks(chunks_list)\n",
    "u.print_partial_chunks(chunks_list)"
   ]
  },
  {
   "cell_type": "markdown",
   "metadata": {},
   "source": [
    "## Retrieval API Conclusion\n",
    "Up to this point it the seen functionalities are connected with the Retrieval API.\n",
    "\n",
    "However, given that this service is an intermediate component in a full-stack solution, the below Test LLM steps and the [Read Article](2_read_article.ipynb) notebook are the two complementary avenues to get a full working solution.\n",
    "\n",
    "## Next Step\n",
    "Use any of the notebooks named as `2_llm_answer_*.ipynb` to explore what the LLM request looks like either using only the chunks resopnse or a combination of other data and the provided article chunks."
   ]
  }
 ],
 "metadata": {
  "kernelspec": {
   "display_name": "frapidemo",
   "language": "python",
   "name": "python3"
  },
  "language_info": {
   "codemirror_mode": {
    "name": "ipython",
    "version": 3
   },
   "file_extension": ".py",
   "mimetype": "text/x-python",
   "name": "python",
   "nbconvert_exporter": "python",
   "pygments_lexer": "ipython3",
   "version": "3.12.9"
  }
 },
 "nbformat": 4,
 "nbformat_minor": 2
}
