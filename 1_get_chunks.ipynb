{
 "cells": [
  {
   "cell_type": "markdown",
   "metadata": {},
   "source": [
    "# Retrieval API DEMO"
   ]
  },
  {
   "cell_type": "markdown",
   "metadata": {},
   "source": [
    "## Code Initialisation\n",
    "Dependencies and environment initialisation.\n",
    "\n",
    "Ensure there's a `.env` file with your credentials in the same directory as this script. Use the `env` file as template."
   ]
  },
  {
   "cell_type": "code",
   "execution_count": 1,
   "metadata": {},
   "outputs": [
    {
     "data": {
      "text/plain": [
       "True"
      ]
     },
     "execution_count": 1,
     "metadata": {},
     "output_type": "execute_result"
    }
   ],
   "source": [
    "import os\n",
    "import json\n",
    "import requests as r\n",
    "from IPython.display import Markdown\n",
    "import utils as u\n",
    "from dotenv import load_dotenv\n",
    "\n",
    "load_dotenv()"
   ]
  },
  {
   "cell_type": "markdown",
   "metadata": {},
   "source": [
    "## Constants"
   ]
  },
  {
   "cell_type": "code",
   "execution_count": 2,
   "metadata": {},
   "outputs": [],
   "source": [
    "API_HOST = 'api.dowjones.com'\n",
    "AUTH_HOST = 'accounts.dowjones.com'\n",
    "USER_EMAIL = 'retrieval.api@mycompany.com'\n",
    "CLIENT_ID = os.getenv('FACTIVA_CLIENTID')\n",
    "USERNAME = os.getenv('FACTIVA_USERNAME')\n",
    "PASSWORD = os.getenv('FACTIVA_PASSWORD')\n",
    "AUTH_URL = f\"https://{AUTH_HOST}/oauth2/v1/token\"\n",
    "GCP_PROJECT = os.getenv('GCP_PROJECT')\n",
    "GCP_LOCATION = os.getenv('GCP_LOCATION')\n",
    "GCP_MODEL = os.getenv('GCP_MODEL')"
   ]
  },
  {
   "cell_type": "markdown",
   "metadata": {},
   "source": [
    "## Authentication - Generate Bearer\n",
    "\n",
    "For details about getting the `bearer_token`, please see the `utils.py` file."
   ]
  },
  {
   "cell_type": "code",
   "execution_count": 3,
   "metadata": {},
   "outputs": [
    {
     "data": {
      "text/markdown": [
       "**Authentication Successful**: Bearer token OK for user 9ZZZ159100"
      ],
      "text/plain": [
       "<IPython.core.display.Markdown object>"
      ]
     },
     "metadata": {},
     "output_type": "display_data"
    }
   ],
   "source": [
    "bearer_token = u.get_bearer_token(CLIENT_ID, USERNAME, PASSWORD, AUTH_URL)\n",
    "if bearer_token:\n",
    "    display(Markdown(f\"**Authentication Successful**: Bearer token OK for user {USERNAME.split('@')[0].split('-')[0]}\"))\n",
    "else:\n",
    "    display(Markdown(f\"**Authentication Failed**: Cannot obtain the Bearer token for the user {USERNAME.split('@')[0].split('-')[0]}\"))"
   ]
  },
  {
   "cell_type": "markdown",
   "metadata": {},
   "source": [
    "This creates the headers to be used in the Retrieval API requests.\n",
    "\n",
    "Additionally, `user_email_hash` is calculated as `user_id`. This must be a unique and constant value per user, so the API statistics keep track of the right number of users. The recommendation is calculating a MD5 hash of the user email. This value is always the same and do not expose any PII.\n",
    "\n",
    "In the case of `work_id`, this value must be calculated different for each API request. For convenience, it can be taken from the environment's transaction if it exists, or calculated randomly before calling the API. In this case it is calculated randomly before the API request."
   ]
  },
  {
   "cell_type": "code",
   "execution_count": 4,
   "metadata": {},
   "outputs": [],
   "source": [
    "req_headers = {\n",
    "    \"Authorization\": f\"Bearer {bearer_token}\",\n",
    "    \"Content-Type\": \"application/json\",\n",
    "    \"Accept\": \"application/json\"\n",
    "}\n",
    "\n",
    "user_email_hash = u.md5_hash(USER_EMAIL)\n",
    "work_id = u.generate_random_guid()"
   ]
  },
  {
   "cell_type": "markdown",
   "metadata": {},
   "source": [
    "## Factiva Retrieval API Query\n",
    "\n",
    "### Prompt\n",
    "Add the prompt to be sent to the Retrieval API"
   ]
  },
  {
   "cell_type": "code",
   "execution_count": 5,
   "metadata": {},
   "outputs": [],
   "source": [
    "# \"What are NASA's planned missions to the Moon in 2025, and what are their primary objectives?\"\n",
    "# \"中国2025年计划进行哪些月球探测任务？其主要目标是什么？\"   # What are China's planned missions to the Moon in 2025, and what are their primary objectives?\n",
    "# \"今後12か月間の日本の半導体業界の見通しはどのようなものですか?\"  # What are the perspectives for the semiconductors industry in Japan for the next 12 months?\n",
    "# \"Summarise the latest earnings report from Microsoft Corp\"\n",
    "# \"What are the perspectives of bitcoin for the next 12 months?\"\n",
    "frapi_prompt = \"Summarise tariff decisions by the US administration during April 2025 and their impact on the world economy\""
   ]
  },
  {
   "cell_type": "markdown",
   "metadata": {},
   "source": [
    "Assemble the Retrieval API payload"
   ]
  },
  {
   "cell_type": "code",
   "execution_count": 6,
   "metadata": {},
   "outputs": [],
   "source": [
    "frapi_query = {\n",
    "  \"data\": {\n",
    "    \"attributes\": {\n",
    "      \"response_limit\": 10,\n",
    "      \"query\": {\n",
    "        \"search_filters\": [\n",
    "          {\n",
    "            \"scope\": \"Language\",\n",
    "            \"value\": \"en\"       # en or ja or de or it or es\n",
    "          }\n",
    "        ],\n",
    "\n",
    "        \"value\": frapi_prompt\n",
    "      },\n",
    "      \"metrics_data\": {\n",
    "        \"user_key\": user_email_hash,\n",
    "        \"work_id\": work_id,\n",
    "      }\n",
    "    },\n",
    "    \"id\": \"GenAIRetrievalExample\",\n",
    "    \"type\": \"genai-content\"\n",
    "  }\n",
    "}\n"
   ]
  },
  {
   "cell_type": "markdown",
   "metadata": {},
   "source": [
    "## Send Retrieval API Request and Receive Chunks Back"
   ]
  },
  {
   "cell_type": "code",
   "execution_count": 7,
   "metadata": {},
   "outputs": [
    {
     "name": "stdout",
     "output_type": "stream",
     "text": [
      "Successfully retrieved chunks\n"
     ]
    }
   ],
   "source": [
    "chunks_resp = r.post(f\"https://{API_HOST}/content/gen-ai/retrieve\", json=frapi_query, headers=req_headers)\n",
    "\n",
    "if chunks_resp.status_code == 200:\n",
    "    print('Successfully retrieved chunks')\n",
    "else:\n",
    "    print(f\"Request Failed: {chunks_resp.json()}\")"
   ]
  },
  {
   "cell_type": "markdown",
   "metadata": {},
   "source": [
    "## Print Chunks"
   ]
  },
  {
   "cell_type": "code",
   "execution_count": 8,
   "metadata": {},
   "outputs": [
    {
     "data": {
      "text/markdown": [
       "### The trade deficit hit a record in March as companies rushed to import goods ahead of tariffs; At some point, tide will shift and imports will 'drop like a stone,' economist says"
      ],
      "text/plain": [
       "<IPython.core.display.Markdown object>"
      ]
     },
     "metadata": {},
     "output_type": "display_data"
    },
    {
     "data": {
      "text/markdown": [
       "**MarketWatch** - 2025-05-06 - MRKWC00020250506el56000ul - Lang: en"
      ],
      "text/plain": [
       "<IPython.core.display.Markdown object>"
      ]
     },
     "metadata": {},
     "output_type": "display_data"
    },
    {
     "data": {
      "text/markdown": [
       "The numbers: The U.S. international trade deficit, including goods and services, widened 14% in March to a record seasonally adjusted $140.5 billion, ..."
      ],
      "text/plain": [
       "<IPython.core.display.Markdown object>"
      ]
     },
     "metadata": {},
     "output_type": "display_data"
    },
    {
     "data": {
      "text/markdown": [
       "---"
      ],
      "text/plain": [
       "<IPython.core.display.Markdown object>"
      ]
     },
     "metadata": {},
     "output_type": "display_data"
    },
    {
     "data": {
      "text/markdown": [
       "### Economy Shrinks as Tariffs Take Toll -- WSJ"
      ],
      "text/plain": [
       "<IPython.core.display.Markdown object>"
      ]
     },
     "metadata": {},
     "output_type": "display_data"
    },
    {
     "data": {
      "text/markdown": [
       "**Dow Jones Institutional News** - 2025-05-01 - DJDN000020250501el51000f1 - Lang: en"
      ],
      "text/plain": [
       "<IPython.core.display.Markdown object>"
      ]
     },
     "metadata": {},
     "output_type": "display_data"
    },
    {
     "data": {
      "text/markdown": [
       "GDP declines 0.3% on rush to snap up imports as spending by consumers slows Economy Shrinks as Tariffs Take Toll -- WSJ GDP declines 0.3% on rush to s..."
      ],
      "text/plain": [
       "<IPython.core.display.Markdown object>"
      ]
     },
     "metadata": {},
     "output_type": "display_data"
    },
    {
     "data": {
      "text/markdown": [
       "---"
      ],
      "text/plain": [
       "<IPython.core.display.Markdown object>"
      ]
     },
     "metadata": {},
     "output_type": "display_data"
    },
    {
     "data": {
      "text/markdown": [
       "### Logistics Report: Tariffs Cloud Forecasts, Drag on Defense; China's Industrial Plan"
      ],
      "text/plain": [
       "<IPython.core.display.Markdown object>"
      ]
     },
     "metadata": {},
     "output_type": "display_data"
    },
    {
     "data": {
      "text/markdown": [
       "**Dow Jones Institutional News** - 2025-05-06 - DJDN000020250506el56001ae - Lang: en"
      ],
      "text/plain": [
       "<IPython.core.display.Markdown object>"
      ]
     },
     "metadata": {},
     "output_type": "display_data"
    },
    {
     "data": {
      "text/markdown": [
       "Sponsored by Logistics Report: Tariffs Cloud Forecasts, Drag on Defense; China's Industrial Plan Sponsored by Tariffs Cloud More Forecasts, Risk Drag ..."
      ],
      "text/plain": [
       "<IPython.core.display.Markdown object>"
      ]
     },
     "metadata": {},
     "output_type": "display_data"
    },
    {
     "data": {
      "text/markdown": [
       "---"
      ],
      "text/plain": [
       "<IPython.core.display.Markdown object>"
      ]
     },
     "metadata": {},
     "output_type": "display_data"
    },
    {
     "data": {
      "text/markdown": [
       "### Tariffs and economic outlook"
      ],
      "text/plain": [
       "<IPython.core.display.Markdown object>"
      ]
     },
     "metadata": {},
     "output_type": "display_data"
    },
    {
     "data": {
      "text/markdown": [
       "**Pakistan Today** - 2025-05-04 - ASPTOD0020250505el540002y - Lang: en"
      ],
      "text/plain": [
       "<IPython.core.display.Markdown object>"
      ]
     },
     "metadata": {},
     "output_type": "display_data"
    },
    {
     "data": {
      "text/markdown": [
       "Although implementation of drastically increased tariffs by the USA on virtually all trading partners in early April was halted later on- except a uni..."
      ],
      "text/plain": [
       "<IPython.core.display.Markdown object>"
      ]
     },
     "metadata": {},
     "output_type": "display_data"
    },
    {
     "data": {
      "text/markdown": [
       "---"
      ],
      "text/plain": [
       "<IPython.core.display.Markdown object>"
      ]
     },
     "metadata": {},
     "output_type": "display_data"
    },
    {
     "data": {
      "text/markdown": [
       "### Not just tariffs, Donald Trump's trade policies take aim at currency exchange rate, tax, and product standards too"
      ],
      "text/plain": [
       "<IPython.core.display.Markdown object>"
      ]
     },
     "metadata": {},
     "output_type": "display_data"
    },
    {
     "data": {
      "text/markdown": [
       "**The Times of India** - 2025-05-06 - TOI0000020250505el56000g1 - Lang: en"
      ],
      "text/plain": [
       "<IPython.core.display.Markdown object>"
      ]
     },
     "metadata": {},
     "output_type": "display_data"
    },
    {
     "data": {
      "text/markdown": [
       "The US administration’s April 2 tariff announcement (later paused for 90 days) is part of a broader strategy aimed at compelling foreign governments t..."
      ],
      "text/plain": [
       "<IPython.core.display.Markdown object>"
      ]
     },
     "metadata": {},
     "output_type": "display_data"
    },
    {
     "data": {
      "text/markdown": [
       "---"
      ],
      "text/plain": [
       "<IPython.core.display.Markdown object>"
      ]
     },
     "metadata": {},
     "output_type": "display_data"
    },
    {
     "data": {
      "text/markdown": [
       "### RECESSION BLUES MARK TRUMP’S 100 TARIFF DAYS"
      ],
      "text/plain": [
       "<IPython.core.display.Markdown object>"
      ]
     },
     "metadata": {},
     "output_type": "display_data"
    },
    {
     "data": {
      "text/markdown": [
       "**New Indian Express** - 2025-05-04 - NIEXPR0020250504el540002q - Lang: en"
      ],
      "text/plain": [
       "<IPython.core.display.Markdown object>"
      ]
     },
     "metadata": {},
     "output_type": "display_data"
    },
    {
     "data": {
      "text/markdown": [
       "It was a told-you-so moment. Official US government data released recently showed the US economy had shrunk 0.3 percent in the first 3 months of the y..."
      ],
      "text/plain": [
       "<IPython.core.display.Markdown object>"
      ]
     },
     "metadata": {},
     "output_type": "display_data"
    },
    {
     "data": {
      "text/markdown": [
       "---"
      ],
      "text/plain": [
       "<IPython.core.display.Markdown object>"
      ]
     },
     "metadata": {},
     "output_type": "display_data"
    },
    {
     "data": {
      "text/markdown": [
       "### U.S. trade deficit reached historic levels in March due to tariff wars"
      ],
      "text/plain": [
       "<IPython.core.display.Markdown object>"
      ]
     },
     "metadata": {},
     "output_type": "display_data"
    },
    {
     "data": {
      "text/markdown": [
       "**CE NoticiasFinancieras** - 2025-05-06 - NFINCE0020250506el5601wgo - Lang: en"
      ],
      "text/plain": [
       "<IPython.core.display.Markdown object>"
      ]
     },
     "metadata": {},
     "output_type": "display_data"
    },
    {
     "data": {
      "text/markdown": [
       "The U.S. trade deficit reached $140.498 billion in March, a 14% increase over the previous month and an all-time record in the midst of the tariff war..."
      ],
      "text/plain": [
       "<IPython.core.display.Markdown object>"
      ]
     },
     "metadata": {},
     "output_type": "display_data"
    },
    {
     "data": {
      "text/markdown": [
       "---"
      ],
      "text/plain": [
       "<IPython.core.display.Markdown object>"
      ]
     },
     "metadata": {},
     "output_type": "display_data"
    },
    {
     "data": {
      "text/markdown": [
       "### AICD - Underlying inflation back below three per cent"
      ],
      "text/plain": [
       "<IPython.core.display.Markdown object>"
      ]
     },
     "metadata": {},
     "output_type": "display_data"
    },
    {
     "data": {
      "text/markdown": [
       "**Australian Political and Economic Organizations News via PUBT** - 2025-05-02 - APEO000020250502el520008d - Lang: en"
      ],
      "text/plain": [
       "<IPython.core.display.Markdown object>"
      ]
     },
     "metadata": {},
     "output_type": "display_data"
    },
    {
     "data": {
      "text/markdown": [
       "Access the original document here AICD - Underlying inflation back below three per cent Access the original document here Underlying inflation back be..."
      ],
      "text/plain": [
       "<IPython.core.display.Markdown object>"
      ]
     },
     "metadata": {},
     "output_type": "display_data"
    },
    {
     "data": {
      "text/markdown": [
       "---"
      ],
      "text/plain": [
       "<IPython.core.display.Markdown object>"
      ]
     },
     "metadata": {},
     "output_type": "display_data"
    },
    {
     "data": {
      "text/markdown": [
       "### US tariffs: impact and path forward"
      ],
      "text/plain": [
       "<IPython.core.display.Markdown object>"
      ]
     },
     "metadata": {},
     "output_type": "display_data"
    },
    {
     "data": {
      "text/markdown": [
       "**Business Recorder** - 2025-05-04 - AIWBUR0020250504el5400011 - Lang: en"
      ],
      "text/plain": [
       "<IPython.core.display.Markdown object>"
      ]
     },
     "metadata": {},
     "output_type": "display_data"
    },
    {
     "data": {
      "text/markdown": [
       "US President Trump's across-the-board tariff hikes up to 46 percent on some partners and a flat 29 percent on Pakistan continue to polarise economists..."
      ],
      "text/plain": [
       "<IPython.core.display.Markdown object>"
      ]
     },
     "metadata": {},
     "output_type": "display_data"
    },
    {
     "data": {
      "text/markdown": [
       "---"
      ],
      "text/plain": [
       "<IPython.core.display.Markdown object>"
      ]
     },
     "metadata": {},
     "output_type": "display_data"
    },
    {
     "data": {
      "text/markdown": [
       "### Global stock markets steady amid tariff turbulence; US GDP declines"
      ],
      "text/plain": [
       "<IPython.core.display.Markdown object>"
      ]
     },
     "metadata": {},
     "output_type": "display_data"
    },
    {
     "data": {
      "text/markdown": [
       "**Kuwait Times** - 2025-05-04 - MEWKUT0020250505el540002u - Lang: en"
      ],
      "text/plain": [
       "<IPython.core.display.Markdown object>"
      ]
     },
     "metadata": {},
     "output_type": "display_data"
    },
    {
     "data": {
      "text/markdown": [
       "KUWAIT: Global markets showed resilience in early May, supported by robust economic data despite lingering tariff uncertainties. In the US, stocks ral..."
      ],
      "text/plain": [
       "<IPython.core.display.Markdown object>"
      ]
     },
     "metadata": {},
     "output_type": "display_data"
    },
    {
     "data": {
      "text/markdown": [
       "---"
      ],
      "text/plain": [
       "<IPython.core.display.Markdown object>"
      ]
     },
     "metadata": {},
     "output_type": "display_data"
    }
   ],
   "source": [
    "chunks_list = chunks_resp.json()['data']\n",
    "\n",
    "# u.print_full_chunks(chunks_list)\n",
    "u.print_partial_chunks(chunks_list)"
   ]
  },
  {
   "cell_type": "markdown",
   "metadata": {},
   "source": [
    "## Retrieval API Conclusion\n",
    "\n",
    "Up to this point it the seen functionalities are connected with the Retrieval API.\n",
    "\n",
    "However, given that this service is an intermediate component in a full-stack solution, the below Test LLM steps and the [Read Article](2_read_article.ipynb) notebook are the two complementary avenues to get a full working solution."
   ]
  },
  {
   "cell_type": "markdown",
   "metadata": {},
   "source": [
    "## Test LLM"
   ]
  },
  {
   "cell_type": "markdown",
   "metadata": {},
   "source": [
    "This is a downstream step that is only illustrative on how the response generation stage can be implemented. In the below example only a few articles are used to respond the prompt using an LLM hosted in **Google Cloud Vertex AI**. The passed request is built from the original prompt enhanced with the retrieved articles as gounding context.\n",
    "\n",
    "The tested LLM is Google Gemini 2.0 Flash. Response generations took a few seconds for a context between 3K to 4K LLM tokens.\n",
    "\n",
    "### Prerequisite\n",
    "\n",
    "To successfully complete the following steps, it's important that there's an active GCloud authentication in the environment where this notbeook is executed from. This can be done by running the following command:\n",
    "\n",
    "```bash\n",
    "$ gcloud auth application-default login\n",
    "```\n",
    "\n",
    "For more information see [Set up ADC for a local development environment](https://cloud.google.com/docs/authentication/set-up-adc-local-dev-environment).\n",
    "\n",
    "### Gemini Structured Prompt"
   ]
  },
  {
   "cell_type": "code",
   "execution_count": 9,
   "metadata": {},
   "outputs": [],
   "source": [
    "instructions_text =\"\"\"\n",
    "    You are an experienced business analyst that respond in a professional manner.\n",
    "    Answer the query using only the information provided in the list of articles.\n",
    "    If you use information from an article, cite it using squared brackets containing the index number.\n",
    "    At the end of the answer, show a list of the cited articles ordered by index and under the title Cited Articles.\n",
    "    Each cited article must be displayed in the following Markdown format:\n",
    "    - [index] [headline - source_name - publication_date](url)\n",
    "    Use Markdown for the output.\n",
    "\"\"\"\n",
    "article_list = []\n",
    "\n",
    "for chunk in chunks_list:\n",
    "    article = {\n",
    "        'index': len(article_list) + 1,\n",
    "        'url': f\"https://dj.factiva.com/article?id=drn:archive.newsarticle.{str(chunk['meta']['original_doc_id']).strip()}\",\n",
    "        'source_name': str(chunk['meta']['source']['name']).strip(),\n",
    "        'headline': str(chunk['attributes']['headline']['main']['text']).strip(),\n",
    "        'publication_date': chunk['attributes']['publication_date'],\n",
    "        'content': f\"{str(chunk['attributes']['snippet']['content'][0]['text']).strip()} {str(chunk['attributes']['content'][0]['text']).strip()}\"\n",
    "    }\n",
    "    article_list.append(article)\n",
    "\n",
    "llm_prompt = {\n",
    "    'query': frapi_prompt,\n",
    "    'articles': article_list,\n",
    "    \"instructions\": instructions_text.strip()\n",
    "}"
   ]
  },
  {
   "cell_type": "code",
   "execution_count": 10,
   "metadata": {},
   "outputs": [
    {
     "name": "stdout",
     "output_type": "stream",
     "text": [
      "{\n",
      "    \"query\": \"Summarise tariff decisions by the US administration during April 2025 and their impact on the world economy\",\n",
      "    \"articles\": [\n",
      "        {\n",
      "            \"index\": 1,\n",
      "            \"url\": \"https://dj.factiva.com/article?id=drn:archive.newsarticle.MRKWC00020250506el56000ul\",\n",
      "            \"source_name\": \"MarketWatch\",\n",
      "            \"headline\": \"The trade deficit hit a record in March as companies rushed to import goods ahead of tariffs; At some point, tide will shift and imports will 'drop like a stone,' economist says\",\n",
      "            \"publication_date\": \"2025-05-06\",\n",
      "            \"content\": \"The numbers: The U.S. international trade deficit, including goods and services, widened 14% in March to a record seasonally adjusted $140.5 billion, ...\"\n",
      "        },\n",
      "        {\n",
      "            \"index\": 2,\n",
      "            \"url\": \"https://dj.factiva.com/article?id=drn:archive.newsarticle.DJDN000020250501el51000f1\",\n",
      "            \"source_name\": \"Dow Jones Institutional News\",\n",
      "            \"headline\": \"Economy Shrinks as Tariffs Take Toll -- WSJ\",\n",
      "            \"publication_date\": \"2025-05-01\",\n",
      "            \"content\": \"GDP declines 0.3% on rush to snap up imports as spending by consumers slows Economy Shrinks as Tariffs Take Toll -- WSJ GDP declines 0.3% on rush to s...\"\n",
      "        },\n",
      "        {\n",
      "            \"index\": 3,\n",
      "            \"url\": \"https://dj.factiva.com/article?id=drn:archive.newsarticle.DJDN000020250506el56001ae\",\n",
      "            \"source_name\": \"Dow Jones Institutional News\",\n",
      "            \"headline\": \"Logistics Report: Tariffs Cloud Forecasts, Drag on Defense; China's Industrial Plan\",\n",
      "            \"publication_date\": \"2025-05-06\",\n",
      "            \"content\": \"Sponsored by Logistics Report: Tariffs Cloud Forecasts, Drag on Defense; China's Industrial Plan Sponsored by Tariffs Cloud More Forecasts, Risk Drag ...\"\n",
      "        },\n",
      "        {\n",
      "            \"index\": 4,\n",
      "            \"url\": \"https://dj.factiva.com/article?id=drn:archive.newsarticle.ASPTOD0020250505el540002y\",\n",
      "            \"source_name\": \"Pakistan Today\",\n",
      "            \"headline\": \"Tariffs and economic outlook\",\n",
      "            \"publication_date\": \"2025-05-04\",\n",
      "            \"content\": \"Although implementation of drastically increased tariffs by the USA on virtually all trading partners in early April was halted later on- except a uni...\"\n",
      "        },\n",
      "        {\n",
      "            \"index\": 5,\n",
      "            \"url\": \"https://dj.factiva.com/article?id=drn:archive.newsarticle.TOI0000020250505el56000g1\",\n",
      "            \"source_name\": \"The Times of India\",\n",
      "            \"headline\": \"Not just tariffs, Donald Trump's trade policies take aim at currency exchange rate, tax, and product standards too\",\n",
      "            \"publication_date\": \"2025-05-06\",\n",
      "            \"content\": \"The US administration\\u2019s April 2 tariff announcement (later paused for 90 days) is part of a broader strategy aimed at compelling foreign governments t...\"\n",
      "        },\n",
      "        {\n",
      "            \"index\": 6,\n",
      "            \"url\": \"https://dj.factiva.com/article?id=drn:archive.newsarticle.NIEXPR0020250504el540002q\",\n",
      "            \"source_name\": \"New Indian Express\",\n",
      "            \"headline\": \"RECESSION BLUES MARK TRUMP\\u2019S 100 TARIFF DAYS\",\n",
      "            \"publication_date\": \"2025-05-04\",\n",
      "            \"content\": \"It was a told-you-so moment. Official US government data released recently showed the US economy had shrunk 0.3 percent in the first 3 months of the y...\"\n",
      "        },\n",
      "        {\n",
      "            \"index\": 7,\n",
      "            \"url\": \"https://dj.factiva.com/article?id=drn:archive.newsarticle.NFINCE0020250506el5601wgo\",\n",
      "            \"source_name\": \"CE NoticiasFinancieras\",\n",
      "            \"headline\": \"U.S. trade deficit reached historic levels in March due to tariff wars\",\n",
      "            \"publication_date\": \"2025-05-06\",\n",
      "            \"content\": \"The U.S. trade deficit reached $140.498 billion in March, a 14% increase over the previous month and an all-time record in the midst of the tariff war...\"\n",
      "        },\n",
      "        {\n",
      "            \"index\": 8,\n",
      "            \"url\": \"https://dj.factiva.com/article?id=drn:archive.newsarticle.APEO000020250502el520008d\",\n",
      "            \"source_name\": \"Australian Political and Economic Organizations News via PUBT\",\n",
      "            \"headline\": \"AICD - Underlying inflation back below three per cent\",\n",
      "            \"publication_date\": \"2025-05-02\",\n",
      "            \"content\": \"Access the original document here AICD - Underlying inflation back below three per cent Access the original document here Underlying inflation back be...\"\n",
      "        },\n",
      "        {\n",
      "            \"index\": 9,\n",
      "            \"url\": \"https://dj.factiva.com/article?id=drn:archive.newsarticle.AIWBUR0020250504el5400011\",\n",
      "            \"source_name\": \"Business Recorder\",\n",
      "            \"headline\": \"US tariffs: impact and path forward\",\n",
      "            \"publication_date\": \"2025-05-04\",\n",
      "            \"content\": \"US President Trump's across-the-board tariff hikes up to 46 percent on some partners and a flat 29 percent on Pakistan continue to polarise economists...\"\n",
      "        },\n",
      "        {\n",
      "            \"index\": 10,\n",
      "            \"url\": \"https://dj.factiva.com/article?id=drn:archive.newsarticle.MEWKUT0020250505el540002u\",\n",
      "            \"source_name\": \"Kuwait Times\",\n",
      "            \"headline\": \"Global stock markets steady amid tariff turbulence; US GDP declines\",\n",
      "            \"publication_date\": \"2025-05-04\",\n",
      "            \"content\": \"KUWAIT: Global markets showed resilience in early May, supported by robust economic data despite lingering tariff uncertainties. In the US, stocks ral...\"\n",
      "        }\n",
      "    ],\n",
      "    \"instructions\": \"You are an experienced business analyst that respond in a professional manner.\\n    Answer the query using only the information provided in the list of articles.\\n    If you use information from an article, cite it using squared brackets containing the index number.\\n    At the end of the answer, show a list of the cited articles ordered by index and under the title Cited Articles.\\n    Each cited article must be displayed in the following Markdown format:\\n    - [index] [headline - source_name - publication_date](url)\\n    Use Markdown for the output.\"\n",
      "}\n"
     ]
    }
   ],
   "source": [
    "# u.print_full_llm_prompt(llm_prompt)\n",
    "u.print_partial_llm_prompt(llm_prompt)"
   ]
  },
  {
   "cell_type": "markdown",
   "metadata": {},
   "source": [
    "### Gemini Request"
   ]
  },
  {
   "cell_type": "code",
   "execution_count": 11,
   "metadata": {},
   "outputs": [
    {
     "data": {
      "text/markdown": [
       "**Prompt:** Summarise tariff decisions by the US administration during April 2025 and their impact on the world economy \n",
       " --------------------"
      ],
      "text/plain": [
       "<IPython.core.display.Markdown object>"
      ]
     },
     "metadata": {},
     "output_type": "display_data"
    },
    {
     "data": {
      "text/markdown": [
       "In April 2025, the US administration, under President Trump, implemented and then partially halted a series of tariff decisions that significantly impacted the world economy.\n",
       "\n",
       "**Tariff Decisions:**\n",
       "\n",
       "*   **Initial Announcement:** On April 2nd, the US administration announced drastically increased tariffs on virtually all trading partners [5, 4].\n",
       "*   **Partial Halt:** Implementation of the increased tariffs was later halted for most countries, except for China, with a uniform 10% tariff remaining in place for other trading partners [4].\n",
       "*   **China Tariffs:** Tariffs on Chinese goods took effect, with China retaliating significantly by placing tariffs on the US [5, 4]. China retaliated in virtually the same way, and placed tariffs on the USA of 125 percent, after the USA increased tariffs on China to 145 percent overall [4].\n",
       "*   **Broader Strategy:** The tariff announcements were part of a broader strategy to compel foreign governments to reduce trade barriers to American goods, targeting non-tariff barriers like agricultural regulations, taxation systems, currency practices, product standards, legal frameworks, and customs procedures [5]. Countries were given a three-month deadline to make concessions or face new tariffs ranging from 10% to over 50% [5].\n",
       "\n",
       "**Impact on the World Economy:**\n",
       "\n",
       "*   **Global Economic Slowdown:** The IMF indicated that the tariff increases and uncertainty would lead to a significant slowdown in global growth in the near term [4]. The IMF downgraded its global growth projection for 2025 to 2.8% and 3% in 2026, down from 3.3% in the January 2025 forecast [8, 4].\n",
       "*   **US Economic Contraction:** The US economy contracted by 0.3% in the first quarter of 2025, the first contraction since early 2022 [6, 2]. This was partly attributed to businesses rushing to import goods ahead of the tariffs [2]. Net exports subtracted nearly 5 percentage points from headline GDP, the biggest quarterly drag since 1947 [2].\n",
       "*   **Trade Deficit:** The US international trade deficit widened to a record $140.5 billion in March as companies rushed to import foreign products before tariffs were imposed [7, 1]. Year-to-date, the trade deficit had doubled from the previous year [1].\n",
       "*   **Uncertainty and Business Impact:** Companies like Ford, Cummins, and Mattel withdrew or suspended their financial outlooks due to economic uncertainty driven by tariffs [3]. Ford estimated tariff-related costs would reduce pretax earnings by $1.5 billion [3]. Tyson Foods saw tariffs and economic uncertainty slicing into Americans' appetite for steaks [3].\n",
       "*   **Inflation:** President Trump’s tariffs are expected to push inflation higher in the coming months [10].\n",
       "*   **Impact on Specific Countries:**\n",
       "    *   **China:** China's factory activity fell as export channels were blocked [6].\n",
       "    *   **Pakistan:** Pakistan faced a 29% tariff on its exports to the US, potentially impacting its textile industry [9].\n",
       "    *   **Australia:** The IMF trimmed its forecast for Australian economic growth in 2025 by half a percentage point [8].\n",
       "*   **Stock Market Volatility:** Financial-market volatility continued due to on-off tariff announcements [2].\n",
       "\n",
       "**Cited Articles**\n",
       "\n",
       "- [1] [The trade deficit hit a record in March as companies rushed to import goods ahead of tariffs; At some point, tide will shift and imports will 'drop like a stone,' economist says - MarketWatch - 2025-05-06](https://dj.factiva.com/article?id=drn:archive.newsarticle.MRKWC00020250506el56000ul)\n",
       "- [2] [Economy Shrinks as Tariffs Take Toll -- WSJ - Dow Jones Institutional News - 2025-05-01](https://dj.factiva.com/article?id=drn:archive.newsarticle.DJDN000020250501el51000f1)\n",
       "- [3] [Logistics Report: Tariffs Cloud Forecasts, Drag on Defense; China's Industrial Plan - Dow Jones Institutional News - 2025-05-06](https://dj.factiva.com/article?id=drn:archive.newsarticle.DJDN000020250506el56001ae)\n",
       "- [4] [Tariffs and economic outlook - Pakistan Today - 2025-05-04](https://dj.factiva.com/article?id=drn:archive.newsarticle.ASPTOD0020250505el540002y)\n",
       "- [5] [Not just tariffs, Donald Trump's trade policies take aim at currency exchange rate, tax, and product standards too - The Times of India - 2025-05-06](https://dj.factiva.com/article?id=drn:archive.newsarticle.TOI0000020250505el56000g1)\n",
       "- [6] [RECESSION BLUES MARK TRUMP\\u2019S 100 TARIFF DAYS - New Indian Express - 2025-05-04](https://dj.factiva.com/article?id=drn:archive.newsarticle.NIEXPR0020250504el540002q)\n",
       "- [7] [U.S. trade deficit reached historic levels in March due to tariff wars - CE NoticiasFinancieras - 2025-05-06](https://dj.factiva.com/article?id=drn:archive.newsarticle.NFINCE0020250506el5601wgo)\n",
       "- [8] [AICD - Underlying inflation back below three per cent - Australian Political and Economic Organizations News via PUBT - 2025-05-02](https://dj.factiva.com/article?id=drn:archive.newsarticle.APEO000020250502el520008d)\n",
       "- [9] [US tariffs: impact and path forward - Business Recorder - 2025-05-04](https://dj.factiva.com/article?id=drn:archive.newsarticle.AIWBUR0020250504el5400011)\n",
       "- [10] [Global stock markets steady amid tariff turbulence; US GDP declines - Kuwait Times - 2025-05-04](https://dj.factiva.com/article?id=drn:archive.newsarticle.MEWKUT0020250505el540002u)\n"
      ],
      "text/plain": [
       "<IPython.core.display.Markdown object>"
      ]
     },
     "metadata": {},
     "output_type": "display_data"
    }
   ],
   "source": [
    "response = u.gemini_generate(llm_prompt, GCP_PROJECT, GCP_LOCATION, GCP_MODEL)\n",
    "display(Markdown(f\"**Prompt:** {frapi_prompt} \\n --------------------\"))\n",
    "display(Markdown(response))"
   ]
  }
 ],
 "metadata": {
  "kernelspec": {
   "display_name": "frapidemo",
   "language": "python",
   "name": "python3"
  },
  "language_info": {
   "codemirror_mode": {
    "name": "ipython",
    "version": 3
   },
   "file_extension": ".py",
   "mimetype": "text/x-python",
   "name": "python",
   "nbconvert_exporter": "python",
   "pygments_lexer": "ipython3",
   "version": "3.12.9"
  }
 },
 "nbformat": 4,
 "nbformat_minor": 2
}
