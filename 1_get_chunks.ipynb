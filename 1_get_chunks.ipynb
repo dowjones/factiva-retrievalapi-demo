{
 "cells": [
  {
   "cell_type": "markdown",
   "metadata": {},
   "source": [
    "# Retrieval API DEMO"
   ]
  },
  {
   "cell_type": "markdown",
   "metadata": {},
   "source": [
    "## Code Initialization\n",
    "Dependencies and environment initialization.\n",
    "\n",
    "Ensure there's a `.env` file with your credentials in the same directory as this script. Use the `.env.example` file as template."
   ]
  },
  {
   "cell_type": "code",
   "execution_count": 1,
   "metadata": {},
   "outputs": [
    {
     "data": {
      "text/plain": [
       "True"
      ]
     },
     "execution_count": 1,
     "metadata": {},
     "output_type": "execute_result"
    }
   ],
   "source": [
    "import os\n",
    "import requests as r\n",
    "from IPython.display import Markdown\n",
    "import utils as u\n",
    "from dotenv import load_dotenv\n",
    "\n",
    "load_dotenv()"
   ]
  },
  {
   "cell_type": "markdown",
   "metadata": {},
   "source": [
    "## Constants"
   ]
  },
  {
   "cell_type": "code",
   "execution_count": 2,
   "metadata": {},
   "outputs": [],
   "source": [
    "API_HOST = 'api.dowjones.com'\n",
    "AUTH_HOST = 'accounts.dowjones.com'\n",
    "USER_EMAIL = 'retrieval.api@mycompany.com'\n",
    "CLIENT_ID = os.getenv('FACTIVA_CLIENTID')\n",
    "USERNAME = os.getenv('FACTIVA_USERNAME')\n",
    "PASSWORD = os.getenv('FACTIVA_PASSWORD')\n",
    "AUTH_URL = f\"https://{AUTH_HOST}/oauth2/v1/token\"\n",
    "GCP_PROJECT = os.getenv('GCP_PROJECT')\n",
    "GCP_LOCATION = os.getenv('GCP_LOCATION')\n",
    "GCP_MODEL = os.getenv('GCP_MODEL')"
   ]
  },
  {
   "cell_type": "markdown",
   "metadata": {},
   "source": [
    "## Authentication - Generate Bearer\n",
    "\n",
    "For details about getting the `bearer_token`, please see the `utils.py` file."
   ]
  },
  {
   "cell_type": "code",
   "execution_count": 3,
   "metadata": {},
   "outputs": [
    {
     "data": {
      "text/markdown": [
       "**Authentication Successful**: Bearer token created for user 9ZZZ159100"
      ],
      "text/plain": [
       "<IPython.core.display.Markdown object>"
      ]
     },
     "metadata": {},
     "output_type": "display_data"
    }
   ],
   "source": [
    "bearer_token = u.get_bearer_token(CLIENT_ID, USERNAME, PASSWORD, AUTH_URL)\n",
    "if bearer_token:\n",
    "    display(Markdown(f\"**Authentication Successful**: Bearer token created for user {USERNAME.split('@')[0].split('-')[0]}\"))\n",
    "else:\n",
    "    display(Markdown(f\"**Authentication Failed**: Cannot obtain the Bearer token for the user {USERNAME.split('@')[0].split('-')[0]}\"))"
   ]
  },
  {
   "cell_type": "markdown",
   "metadata": {},
   "source": [
    "This creates the headers to be used in the Retrieval API requests.\n",
    "\n",
    "Additionally, `user_email_hash` is calculated as `user_id`. This must be a unique and constant value per user, so the API statistics keep track of the right number of users. The recommendation is calculating a MD5 hash of the user email. This value is always the same and do not expose any PII.\n",
    "\n",
    "In the case of `work_id`, this value must be calculated differently for each API request. For convenience, it can be taken from the environment's transaction if it exists, or calculated randomly before calling the API. In this case it is calculated randomly before the API request. See the payload section below."
   ]
  },
  {
   "cell_type": "code",
   "execution_count": 4,
   "metadata": {},
   "outputs": [],
   "source": [
    "req_headers = {\n",
    "    \"Authorization\": f\"Bearer {bearer_token}\",\n",
    "    \"Content-Type\": \"application/json\",\n",
    "    \"Accept\": \"application/json\"\n",
    "}\n",
    "\n",
    "user_email_hash = u.md5_hash(USER_EMAIL)"
   ]
  },
  {
   "cell_type": "markdown",
   "metadata": {},
   "source": [
    "## Factiva Retrieval API Query\n",
    "\n",
    "### Prompt\n",
    "Add the prompt to be sent to the Retrieval API"
   ]
  },
  {
   "cell_type": "code",
   "execution_count": 5,
   "metadata": {},
   "outputs": [],
   "source": [
    "# \"What are NASA's planned missions to the Moon in 2025, and what are their primary objectives?\"\n",
    "# \"中国2025年计划进行哪些月球探测任务？其主要目标是什么？\"   # What are China's planned missions to the Moon in 2025, and what are their primary objectives?\n",
    "# \"今後12か月間の日本の半導体業界の見通しはどのようなものですか?\"  # What are the perspectives for the semiconductors industry in Japan for the next 12 months?\n",
    "# \"Summarise the latest earnings report from Microsoft Corp\"\n",
    "# \"What are the perspectives of bitcoin for the next 12 months?\"\n",
    "frapi_prompt = \"Summarise tariff decisions by the US administration during April and May 2025 and their impact for Tesla\""
   ]
  },
  {
   "cell_type": "markdown",
   "metadata": {},
   "source": [
    "### Search Filters\n",
    "* **Language**: Factiva language code(s), composed of two characters. Please see [Taxonomy - Languages](9_taxonomy_languages.ipynb)\n",
    "* **Organization**: Factiva company/orgnization code(s). Please see [Taxonomy - Organizations](9_taxonomy_organizations.ipynb)\n",
    "* **News Subjects**: Factiva company/orgnization code(s). Please see [Taxonomy - News Subjects](9_taxonomy_news_subjects.ipynb)\n",
    "* **Industries**: Factiva Industries. Please see [Taxonomy - Industries](9_taxonomy_industries.ipynb)\n",
    "* **Sources**: Factiva Sources (publishers). Please see [Taxonomy - Sources](9_taxonomy_sources.ipynb)\n",
    "* **Regions**: Factiva Regions. Please see [Taxonomy - Regions](9_taxonomy_regions.ipynb)\n",
    "\n",
    "\n",
    "### API Payload\n",
    "Assemble the Retrieval API payload"
   ]
  },
  {
   "cell_type": "code",
   "execution_count": 6,
   "metadata": {},
   "outputs": [],
   "source": [
    "work_id = u.generate_random_guid()\n",
    "\n",
    "frapi_query = {\n",
    "  \"data\": {\n",
    "    \"attributes\": {\n",
    "      \"response_limit\": 10,    # max 50\n",
    "      \"query\": {\n",
    "        \"value\": frapi_prompt,\n",
    "        \"search_filters\": [\n",
    "          { \"scope\": \"Language\", \"value\": \"en or es or it\" },\n",
    "          { \"scope\": \"Organization\", \"value\": \"TESLMI\" },\n",
    "          { \"scope\": \"NewsSubject\", \"value\": \"C151\" },\n",
    "          { \"scope\": \"Industry\", \"value\": \"IAUT\" },\n",
    "          { \"scope\": \"Source\", \"value\": \"DJDN or J or WSJO or B\" },\n",
    "          { \"scope\": \"Region\", \"value\": \"USA\" }\n",
    "        ],\n",
    "        \"date\": {\n",
    "          \"custom\": {\n",
    "            \"from\": \"2025-04-01\",\n",
    "            \"to\": \"2025-05-31\"\n",
    "          }\n",
    "        }\n",
    "      },\n",
    "      \"metrics_data\": {\n",
    "        \"user_id\": user_email_hash,\n",
    "        \"work_id\": work_id,\n",
    "      }\n",
    "    },\n",
    "    \"id\": \"GenAIRetrievalExample\",\n",
    "    \"type\": \"genai-content\"\n",
    "  }\n",
    "}"
   ]
  },
  {
   "cell_type": "markdown",
   "metadata": {},
   "source": [
    "## Send Retrieval API Request and Receive Chunks Back"
   ]
  },
  {
   "cell_type": "code",
   "execution_count": 7,
   "metadata": {},
   "outputs": [
    {
     "name": "stdout",
     "output_type": "stream",
     "text": [
      "Successfully retrieved chunks\n"
     ]
    }
   ],
   "source": [
    "chunks_resp = r.post(f\"https://{API_HOST}/content/gen-ai/retrieve\", json=frapi_query, headers=req_headers)\n",
    "\n",
    "if chunks_resp.status_code == 200:\n",
    "    print('Successfully retrieved chunks')\n",
    "else:\n",
    "    print(f\"Request Failed: {chunks_resp.json()}\")"
   ]
  },
  {
   "cell_type": "markdown",
   "metadata": {},
   "source": [
    "## Print & Save Chunks"
   ]
  },
  {
   "cell_type": "code",
   "execution_count": 8,
   "metadata": {},
   "outputs": [
    {
     "data": {
      "text/markdown": [
       "###                            Tesla Demand Hasn't Rebounded Yet. Watch China This Week. -- Barrons.com"
      ],
      "text/plain": [
       "<IPython.core.display.Markdown object>"
      ]
     },
     "metadata": {},
     "output_type": "display_data"
    },
    {
     "data": {
      "text/markdown": [
       "**Dow Jones Newswires** - 2025-05-18 - DJDN000020250518el5i00017 - Lang: en"
      ],
      "text/plain": [
       "<IPython.core.display.Markdown object>"
      ]
     },
     "metadata": {},
     "output_type": "display_data"
    },
    {
     "data": {
      "text/markdown": [
       "Al Root Tesla Demand Hasn't Rebounded Yet. Watch China This Week. -- Barrons.com Al Root Investors are looking for evidence that brand \"challenges\" ca..."
      ],
      "text/plain": [
       "<IPython.core.display.Markdown object>"
      ]
     },
     "metadata": {},
     "output_type": "display_data"
    },
    {
     "data": {
      "text/markdown": [
       "---"
      ],
      "text/plain": [
       "<IPython.core.display.Markdown object>"
      ]
     },
     "metadata": {},
     "output_type": "display_data"
    },
    {
     "data": {
      "text/markdown": [
       "###                            Tesla Stock Got a Lift From Trump's Trade Deal -- Barrons.com"
      ],
      "text/plain": [
       "<IPython.core.display.Markdown object>"
      ]
     },
     "metadata": {},
     "output_type": "display_data"
    },
    {
     "data": {
      "text/markdown": [
       "**Dow Jones Institutional News** - 2025-05-08 - DJDN000020250508el58004jd - Lang: en"
      ],
      "text/plain": [
       "<IPython.core.display.Markdown object>"
      ]
     },
     "metadata": {},
     "output_type": "display_data"
    },
    {
     "data": {
      "text/markdown": [
       "Al Root Tesla Stock Got a Lift From Trump's Trade Deal -- Barrons.com Al Root Tesla stock rose Thursday as President Donald Trump's trade deal with th..."
      ],
      "text/plain": [
       "<IPython.core.display.Markdown object>"
      ]
     },
     "metadata": {},
     "output_type": "display_data"
    },
    {
     "data": {
      "text/markdown": [
       "---"
      ],
      "text/plain": [
       "<IPython.core.display.Markdown object>"
      ]
     },
     "metadata": {},
     "output_type": "display_data"
    },
    {
     "data": {
      "text/markdown": [
       "###                            Tesla Stock Falls Amid Tariffs Turmoil. What Ford Earnings Mean for Auto Makers. -- Barrons.com"
      ],
      "text/plain": [
       "<IPython.core.display.Markdown object>"
      ]
     },
     "metadata": {},
     "output_type": "display_data"
    },
    {
     "data": {
      "text/markdown": [
       "**Dow Jones Institutional News** - 2025-05-06 - DJDN000020250506el56000ps - Lang: en"
      ],
      "text/plain": [
       "<IPython.core.display.Markdown object>"
      ]
     },
     "metadata": {},
     "output_type": "display_data"
    },
    {
     "data": {
      "text/markdown": [
       "Al Root Tesla Stock Falls Amid Tariffs Turmoil. What Ford Earnings Mean for Auto Makers. -- Barrons.com Al Root Tesla stock was falling in premarket t..."
      ],
      "text/plain": [
       "<IPython.core.display.Markdown object>"
      ]
     },
     "metadata": {},
     "output_type": "display_data"
    },
    {
     "data": {
      "text/markdown": [
       "---"
      ],
      "text/plain": [
       "<IPython.core.display.Markdown object>"
      ]
     },
     "metadata": {},
     "output_type": "display_data"
    },
    {
     "data": {
      "text/markdown": [
       "###                            Tesla Stock Drops on Fall in Chinese Sales, Trump's Plan to Kill EV Credit -- Barrons.com"
      ],
      "text/plain": [
       "<IPython.core.display.Markdown object>"
      ]
     },
     "metadata": {},
     "output_type": "display_data"
    },
    {
     "data": {
      "text/markdown": [
       "**Dow Jones Institutional News** - 2025-05-13 - DJDN000020250513el5d002pj - Lang: en"
      ],
      "text/plain": [
       "<IPython.core.display.Markdown object>"
      ]
     },
     "metadata": {},
     "output_type": "display_data"
    },
    {
     "data": {
      "text/markdown": [
       "Al Root Tesla Stock Drops on Fall in Chinese Sales, Trump's Plan to Kill EV Credit -- Barrons.com Al Root Tesla stock was rising again early Tuesday a..."
      ],
      "text/plain": [
       "<IPython.core.display.Markdown object>"
      ]
     },
     "metadata": {},
     "output_type": "display_data"
    },
    {
     "data": {
      "text/markdown": [
       "---"
      ],
      "text/plain": [
       "<IPython.core.display.Markdown object>"
      ]
     },
     "metadata": {},
     "output_type": "display_data"
    },
    {
     "data": {
      "text/markdown": [
       "### Tesla's China Sales Stink. Why the Stock Is Rising Anyway. -- Barrons.com"
      ],
      "text/plain": [
       "<IPython.core.display.Markdown object>"
      ]
     },
     "metadata": {},
     "output_type": "display_data"
    },
    {
     "data": {
      "text/markdown": [
       "**Dow Jones Newswires** - 2025-05-20 - DJDN000020250520el5k002n6 - Lang: en"
      ],
      "text/plain": [
       "<IPython.core.display.Markdown object>"
      ]
     },
     "metadata": {},
     "output_type": "display_data"
    },
    {
     "data": {
      "text/markdown": [
       "Al Root Tesla's China Sales Stink. Why the Stock Is Rising Anyway. -- Barrons.com Al Root Tesla stock rose early Tuesday despite more weak sales data...."
      ],
      "text/plain": [
       "<IPython.core.display.Markdown object>"
      ]
     },
     "metadata": {},
     "output_type": "display_data"
    },
    {
     "data": {
      "text/markdown": [
       "---"
      ],
      "text/plain": [
       "<IPython.core.display.Markdown object>"
      ]
     },
     "metadata": {},
     "output_type": "display_data"
    },
    {
     "data": {
      "text/markdown": [
       "###                            Tesla Stock Is Rising. There's Little Evidence of a Post-DOGE Sales Recovery. -- Barrons.com"
      ],
      "text/plain": [
       "<IPython.core.display.Markdown object>"
      ]
     },
     "metadata": {},
     "output_type": "display_data"
    },
    {
     "data": {
      "text/markdown": [
       "**Dow Jones Institutional News** - 2025-05-08 - DJDN000020250508el58002y4 - Lang: en"
      ],
      "text/plain": [
       "<IPython.core.display.Markdown object>"
      ]
     },
     "metadata": {},
     "output_type": "display_data"
    },
    {
     "data": {
      "text/markdown": [
       "Al Root Tesla Stock Is Rising. There's Little Evidence of a Post-DOGE Sales Recovery. -- Barrons.com Al Root Tesla stock was rising in early Thursday ..."
      ],
      "text/plain": [
       "<IPython.core.display.Markdown object>"
      ]
     },
     "metadata": {},
     "output_type": "display_data"
    },
    {
     "data": {
      "text/markdown": [
       "---"
      ],
      "text/plain": [
       "<IPython.core.display.Markdown object>"
      ]
     },
     "metadata": {},
     "output_type": "display_data"
    },
    {
     "data": {
      "text/markdown": [
       "###                            Tesla Stock Falls as Sales in Germany Tumble. It's About More Than Musk. -- Barrons.com"
      ],
      "text/plain": [
       "<IPython.core.display.Markdown object>"
      ]
     },
     "metadata": {},
     "output_type": "display_data"
    },
    {
     "data": {
      "text/markdown": [
       "**Dow Jones Institutional News** - 2025-05-06 - DJDN000020250506el56001q4 - Lang: en"
      ],
      "text/plain": [
       "<IPython.core.display.Markdown object>"
      ]
     },
     "metadata": {},
     "output_type": "display_data"
    },
    {
     "data": {
      "text/markdown": [
       "Al Root Tesla Stock Falls as Sales in Germany Tumble. It's About More Than Musk. -- Barrons.com Al Root Tesla stock fell early Tuesday after more bad ..."
      ],
      "text/plain": [
       "<IPython.core.display.Markdown object>"
      ]
     },
     "metadata": {},
     "output_type": "display_data"
    },
    {
     "data": {
      "text/markdown": [
       "---"
      ],
      "text/plain": [
       "<IPython.core.display.Markdown object>"
      ]
     },
     "metadata": {},
     "output_type": "display_data"
    },
    {
     "data": {
      "text/markdown": [
       "###                            Tesla Profit Sinks, Hurt by Backlash Over Elon Musk's Political Role -- Update"
      ],
      "text/plain": [
       "<IPython.core.display.Markdown object>"
      ]
     },
     "metadata": {},
     "output_type": "display_data"
    },
    {
     "data": {
      "text/markdown": [
       "**Dow Jones Institutional News** - 2025-04-22 - DJDN000020250422el4m003rc - Lang: en"
      ],
      "text/plain": [
       "<IPython.core.display.Markdown object>"
      ]
     },
     "metadata": {},
     "output_type": "display_data"
    },
    {
     "data": {
      "text/markdown": [
       "Tesla's net income slid 71% in the first quarter, as the company struggled to overcome competitive pressure overseas and a reputational hit from Chief..."
      ],
      "text/plain": [
       "<IPython.core.display.Markdown object>"
      ]
     },
     "metadata": {},
     "output_type": "display_data"
    },
    {
     "data": {
      "text/markdown": [
       "---"
      ],
      "text/plain": [
       "<IPython.core.display.Markdown object>"
      ]
     },
     "metadata": {},
     "output_type": "display_data"
    },
    {
     "data": {
      "text/markdown": [
       "###                            Tesla Profit Sinks, Hurt by Backlash Over Elon Musk's Political Role; CEO says he will spend significantly less time on DOGE starting in May; electric-vehicle maker's net income falls 71%"
      ],
      "text/plain": [
       "<IPython.core.display.Markdown object>"
      ]
     },
     "metadata": {},
     "output_type": "display_data"
    },
    {
     "data": {
      "text/markdown": [
       "**The Wall Street Journal Online** - 2025-04-22 - WSJO000020250422el4m0053d - Lang: en"
      ],
      "text/plain": [
       "<IPython.core.display.Markdown object>"
      ]
     },
     "metadata": {},
     "output_type": "display_data"
    },
    {
     "data": {
      "text/markdown": [
       "Tesla's net income slid 71% in the first quarter, as the company struggled to overcome competitive pressure overseas and a reputational hit from Chief..."
      ],
      "text/plain": [
       "<IPython.core.display.Markdown object>"
      ]
     },
     "metadata": {},
     "output_type": "display_data"
    },
    {
     "data": {
      "text/markdown": [
       "---"
      ],
      "text/plain": [
       "<IPython.core.display.Markdown object>"
      ]
     },
     "metadata": {},
     "output_type": "display_data"
    },
    {
     "data": {
      "text/markdown": [
       "###                            Tesla Profit Sinks, Hurt by Backlash Over Elon Musk's Political Role -- WSJ"
      ],
      "text/plain": [
       "<IPython.core.display.Markdown object>"
      ]
     },
     "metadata": {},
     "output_type": "display_data"
    },
    {
     "data": {
      "text/markdown": [
       "**Dow Jones Institutional News** - 2025-04-22 - DJDN000020250422el4m003sa - Lang: en"
      ],
      "text/plain": [
       "<IPython.core.display.Markdown object>"
      ]
     },
     "metadata": {},
     "output_type": "display_data"
    },
    {
     "data": {
      "text/markdown": [
       "Tesla's net income slid 71% in the first quarter, as the company struggled to overcome competitive pressure overseas and a reputational hit from Chief..."
      ],
      "text/plain": [
       "<IPython.core.display.Markdown object>"
      ]
     },
     "metadata": {},
     "output_type": "display_data"
    },
    {
     "data": {
      "text/markdown": [
       "---"
      ],
      "text/plain": [
       "<IPython.core.display.Markdown object>"
      ]
     },
     "metadata": {},
     "output_type": "display_data"
    }
   ],
   "source": [
    "chunks_list = chunks_resp.json()['data']\n",
    "\n",
    "# u.print_full_chunks(chunks_list)\n",
    "u.print_partial_chunks(chunks_list)"
   ]
  },
  {
   "cell_type": "markdown",
   "metadata": {},
   "source": [
    "## Retrieval API Conclusion\n",
    "\n",
    "Up to this point it the seen functionalities are connected with the Retrieval API.\n",
    "\n",
    "However, given that this service is an intermediate component in a full-stack solution, the below Test LLM steps and the [Read Article](2_read_article.ipynb) notebook are the two complementary avenues to get a full working solution."
   ]
  },
  {
   "cell_type": "markdown",
   "metadata": {},
   "source": [
    "## Test LLM"
   ]
  },
  {
   "cell_type": "markdown",
   "metadata": {},
   "source": [
    "This is a downstream step that is only illustrative on how the response generation stage can be implemented. In the below example the retrieved articles are used to respond the prompt using an LLM hosted in **Google Cloud Vertex AI**. The passed request is built from the original prompt enhanced with the retrieved articles as gounding context.\n",
    "\n",
    "The tested LLM is **Google Gemini 2.5 Flash Preview 05-20**. Response generations took a few seconds for a context between 5K to 8K LLM tokens.\n",
    "\n",
    "### Prerequisite\n",
    "\n",
    "To successfully complete the following steps, it's important that there's an active GCloud authentication in the environment where this notbeook is executed from. This can be done by running the following command:\n",
    "\n",
    "```bash\n",
    "$ gcloud auth application-default login\n",
    "```\n",
    "\n",
    "For more information see [Set up ADC for a local development environment](https://cloud.google.com/docs/authentication/set-up-adc-local-dev-environment).\n",
    "\n",
    "### Gemini Structured Prompt"
   ]
  },
  {
   "cell_type": "code",
   "execution_count": 9,
   "metadata": {},
   "outputs": [],
   "source": [
    "instructions_text =\"\"\"\n",
    "    You are an experienced business analyst that respond in a professional manner.\n",
    "    Answer the query using only the information provided in the list of articles.\n",
    "    If you use information from an article, cite it using squared brackets containing the index number.\n",
    "    At the end of the answer, show a list of the cited articles ordered by index and under the title Cited Articles.\n",
    "    Each cited article must be displayed in the following Markdown format:\n",
    "    - [index] [headline - source_name - publication_date](url)\n",
    "    Use Markdown for the output.\n",
    "\"\"\"\n",
    "article_list = []\n",
    "\n",
    "for chunk in chunks_list:\n",
    "    article = {\n",
    "        'index': len(article_list) + 1,\n",
    "        'url': f\"https://dj.factiva.com/article?id=drn:archive.newsarticle.{str(chunk['meta']['original_doc_id']).strip()}\",\n",
    "        'source_name': str(chunk['meta']['source']['name']).strip(),\n",
    "        'headline': str(chunk['attributes']['headline']['main']['text']).strip(),\n",
    "        'publication_date': chunk['attributes']['publication_date'],\n",
    "        'content': f\"{str(chunk['attributes']['snippet']['content'][0]['text']).strip()} {str(chunk['attributes']['content'][0]['text']).strip()}\"\n",
    "    }\n",
    "    article_list.append(article)\n",
    "\n",
    "llm_prompt = {\n",
    "    'query': frapi_prompt,\n",
    "    'articles': article_list,\n",
    "    \"instructions\": instructions_text.strip()\n",
    "}"
   ]
  },
  {
   "cell_type": "code",
   "execution_count": 10,
   "metadata": {},
   "outputs": [
    {
     "name": "stdout",
     "output_type": "stream",
     "text": [
      "{\n",
      "    \"query\": \"Summarise tariff decisions by the US administration during April and May 2025 and their impact for Tesla\",\n",
      "    \"articles\": [\n",
      "        {\n",
      "            \"index\": 1,\n",
      "            \"url\": \"https://dj.factiva.com/article?id=drn:archive.newsarticle.DJDN000020250518el5i00017\",\n",
      "            \"source_name\": \"Dow Jones Newswires\",\n",
      "            \"headline\": \"Tesla Demand Hasn't Rebounded Yet. Watch China This Week. -- Barrons.com\",\n",
      "            \"publication_date\": \"2025-05-18\",\n",
      "            \"content\": \"Al Root Tesla Demand Hasn't Rebounded Yet. Watch China This Week. -- Barrons.com Al Root Investors are looking for evidence that brand \\\"challenges\\\" ca...\"\n",
      "        },\n",
      "        {\n",
      "            \"index\": 2,\n",
      "            \"url\": \"https://dj.factiva.com/article?id=drn:archive.newsarticle.DJDN000020250508el58004jd\",\n",
      "            \"source_name\": \"Dow Jones Institutional News\",\n",
      "            \"headline\": \"Tesla Stock Got a Lift From Trump's Trade Deal -- Barrons.com\",\n",
      "            \"publication_date\": \"2025-05-08\",\n",
      "            \"content\": \"Al Root Tesla Stock Got a Lift From Trump's Trade Deal -- Barrons.com Al Root Tesla stock rose Thursday as President Donald Trump's trade deal with th...\"\n",
      "        },\n",
      "        {\n",
      "            \"index\": 3,\n",
      "            \"url\": \"https://dj.factiva.com/article?id=drn:archive.newsarticle.DJDN000020250506el56000ps\",\n",
      "            \"source_name\": \"Dow Jones Institutional News\",\n",
      "            \"headline\": \"Tesla Stock Falls Amid Tariffs Turmoil. What Ford Earnings Mean for Auto Makers. -- Barrons.com\",\n",
      "            \"publication_date\": \"2025-05-06\",\n",
      "            \"content\": \"Al Root Tesla Stock Falls Amid Tariffs Turmoil. What Ford Earnings Mean for Auto Makers. -- Barrons.com Al Root Tesla stock was falling in premarket t...\"\n",
      "        },\n",
      "        {\n",
      "            \"index\": 4,\n",
      "            \"url\": \"https://dj.factiva.com/article?id=drn:archive.newsarticle.DJDN000020250513el5d002pj\",\n",
      "            \"source_name\": \"Dow Jones Institutional News\",\n",
      "            \"headline\": \"Tesla Stock Drops on Fall in Chinese Sales, Trump's Plan to Kill EV Credit -- Barrons.com\",\n",
      "            \"publication_date\": \"2025-05-13\",\n",
      "            \"content\": \"Al Root Tesla Stock Drops on Fall in Chinese Sales, Trump's Plan to Kill EV Credit -- Barrons.com Al Root Tesla stock was rising again early Tuesday a...\"\n",
      "        },\n",
      "        {\n",
      "            \"index\": 5,\n",
      "            \"url\": \"https://dj.factiva.com/article?id=drn:archive.newsarticle.DJDN000020250520el5k002n6\",\n",
      "            \"source_name\": \"Dow Jones Newswires\",\n",
      "            \"headline\": \"Tesla's China Sales Stink. Why the Stock Is Rising Anyway. -- Barrons.com\",\n",
      "            \"publication_date\": \"2025-05-20\",\n",
      "            \"content\": \"Al Root Tesla's China Sales Stink. Why the Stock Is Rising Anyway. -- Barrons.com Al Root Tesla stock rose early Tuesday despite more weak sales data....\"\n",
      "        },\n",
      "        {\n",
      "            \"index\": 6,\n",
      "            \"url\": \"https://dj.factiva.com/article?id=drn:archive.newsarticle.DJDN000020250508el58002y4\",\n",
      "            \"source_name\": \"Dow Jones Institutional News\",\n",
      "            \"headline\": \"Tesla Stock Is Rising. There's Little Evidence of a Post-DOGE Sales Recovery. -- Barrons.com\",\n",
      "            \"publication_date\": \"2025-05-08\",\n",
      "            \"content\": \"Al Root Tesla Stock Is Rising. There's Little Evidence of a Post-DOGE Sales Recovery. -- Barrons.com Al Root Tesla stock was rising in early Thursday ...\"\n",
      "        },\n",
      "        {\n",
      "            \"index\": 7,\n",
      "            \"url\": \"https://dj.factiva.com/article?id=drn:archive.newsarticle.DJDN000020250506el56001q4\",\n",
      "            \"source_name\": \"Dow Jones Institutional News\",\n",
      "            \"headline\": \"Tesla Stock Falls as Sales in Germany Tumble. It's About More Than Musk. -- Barrons.com\",\n",
      "            \"publication_date\": \"2025-05-06\",\n",
      "            \"content\": \"Al Root Tesla Stock Falls as Sales in Germany Tumble. It's About More Than Musk. -- Barrons.com Al Root Tesla stock fell early Tuesday after more bad ...\"\n",
      "        },\n",
      "        {\n",
      "            \"index\": 8,\n",
      "            \"url\": \"https://dj.factiva.com/article?id=drn:archive.newsarticle.DJDN000020250422el4m003rc\",\n",
      "            \"source_name\": \"Dow Jones Institutional News\",\n",
      "            \"headline\": \"Tesla Profit Sinks, Hurt by Backlash Over Elon Musk's Political Role -- Update\",\n",
      "            \"publication_date\": \"2025-04-22\",\n",
      "            \"content\": \"Tesla's net income slid 71% in the first quarter, as the company struggled to overcome competitive pressure overseas and a reputational hit from Chief...\"\n",
      "        },\n",
      "        {\n",
      "            \"index\": 9,\n",
      "            \"url\": \"https://dj.factiva.com/article?id=drn:archive.newsarticle.WSJO000020250422el4m0053d\",\n",
      "            \"source_name\": \"The Wall Street Journal Online\",\n",
      "            \"headline\": \"Tesla Profit Sinks, Hurt by Backlash Over Elon Musk's Political Role; CEO says he will spend significantly less time on DOGE starting in May; electric-vehicle maker's net income falls 71%\",\n",
      "            \"publication_date\": \"2025-04-22\",\n",
      "            \"content\": \"Tesla's net income slid 71% in the first quarter, as the company struggled to overcome competitive pressure overseas and a reputational hit from Chief...\"\n",
      "        },\n",
      "        {\n",
      "            \"index\": 10,\n",
      "            \"url\": \"https://dj.factiva.com/article?id=drn:archive.newsarticle.DJDN000020250422el4m003sa\",\n",
      "            \"source_name\": \"Dow Jones Institutional News\",\n",
      "            \"headline\": \"Tesla Profit Sinks, Hurt by Backlash Over Elon Musk's Political Role -- WSJ\",\n",
      "            \"publication_date\": \"2025-04-22\",\n",
      "            \"content\": \"Tesla's net income slid 71% in the first quarter, as the company struggled to overcome competitive pressure overseas and a reputational hit from Chief...\"\n",
      "        }\n",
      "    ],\n",
      "    \"instructions\": \"You are an experienced business analyst that respond in a professional manner.\\n    Answer the query using only the information provided in the list of articles.\\n    If you use information from an article, cite it using squared brackets containing the index number.\\n    At the end of the answer, show a list of the cited articles ordered by index and under the title Cited Articles.\\n    Each cited article must be displayed in the following Markdown format:\\n    - [index] [headline - source_name - publication_date](url)\\n    Use Markdown for the output.\"\n",
      "}\n"
     ]
    }
   ],
   "source": [
    "# u.print_full_llm_prompt(llm_prompt)\n",
    "u.print_partial_llm_prompt(llm_prompt)"
   ]
  },
  {
   "cell_type": "markdown",
   "metadata": {},
   "source": [
    "### Gemini Request/Response"
   ]
  },
  {
   "cell_type": "code",
   "execution_count": 12,
   "metadata": {},
   "outputs": [
    {
     "data": {
      "text/markdown": [
       "**LLM Model:** gemini-2.5-flash-preview-05-20"
      ],
      "text/plain": [
       "<IPython.core.display.Markdown object>"
      ]
     },
     "metadata": {},
     "output_type": "display_data"
    },
    {
     "data": {
      "text/markdown": [
       "**Prompt:** Summarise tariff decisions by the US administration during April and May 2025 and their impact for Tesla \n",
       " --------------------"
      ],
      "text/plain": [
       "<IPython.core.display.Markdown object>"
      ]
     },
     "metadata": {},
     "output_type": "display_data"
    },
    {
     "data": {
      "text/markdown": [
       "During April and May 2025, the U.S. administration made several tariff-related decisions. In early May, U.S. and Chinese officials announced a 90-day pause on steep import tariffs, which had previously been over 100%, following talks in Switzerland [4]. Additionally, President Donald Trump's trade deal with the U.K. included smaller tariffs on vehicle imports from Britain and lower U.K. levies on U.S. cars [2]. Prior to May 6, President Trump also altered auto tariff policies, providing manufacturers with some relief on imported parts [7].\n",
       "\n",
       "These decisions had a mixed impact on Tesla:\n",
       "\n",
       "*   **Positive Impacts:**\n",
       "    *   The 90-day pause on U.S.-China tariffs was seen as an improvement in trade relations and contributed to a rise in Tesla's stock [4]. This pause was anticipated to help, as Chinese consumers had been avoiding American products due to escalating trade tensions [4].\n",
       "    *   The U.S.-U.K. trade deal, which included lower tariffs, was considered a \"boon for all auto makers\" [2].\n",
       "    *   The relief on imported parts tariffs was also viewed as a positive development [7].\n",
       "\n",
       "*   **Ongoing Challenges/Negative Impacts (from existing tariff regime):**\n",
       "    *   Despite some relief, tariffs continued to stress supply chains and add to automakers' costs [8, 9].\n",
       "    *   Tesla, while assembling all cars sold domestically in the U.S., still faced tariffs on some imported parts [3, 7, 10]. CEO Elon Musk noted that tariffs were particularly tough given the company's low operating margins [3, 7].\n",
       "    *   The broader \"trade war\" with China continued to influence Chinese car buyers to favor local models, contributing to significant year-over-year sales declines for Tesla in China, including a 15% drop in the five weeks ending May 4 and a 56% drop in early May [2, 4, 6].\n",
       "    *   The administration's tariff regime was cited as a factor in Tesla's 71% net income slide in the first quarter of 2025, stressing supply chains and adding costs [8, 9, 10]. The trade fight and changing political sentiment were also noted as potential factors weighing on demand for Tesla vehicles [8, 9].\n",
       "\n",
       "### Cited Articles\n",
       "\n",
       "*   [1] [Tesla Demand Hasn't Rebounded Yet. Watch China This Week. -- Barrons.com - Dow Jones Newswires - 2025-05-18](https://dj.factiva.com/article?id=drn:archive.newsarticle.DJDN000020250518el5i00017)\n",
       "*   [2] [Tesla Stock Got a Lift From Trump's Trade Deal -- Barrons.com - Dow Jones Institutional News - 2025-05-08](https://dj.factiva.com/article?id=drn:archive.newsarticle.DJDN000020250508el58004jd)\n",
       "*   [3] [Tesla Stock Falls Amid Tariffs Turmoil. What Ford Earnings Mean for Auto Makers. -- Barrons.com - Dow Jones Institutional News - 2025-05-06](https://dj.factiva.com/article?id=drn:archive.newsarticle.DJDN000020250506el56000ps)\n",
       "*   [4] [Tesla Stock Drops on Fall in Chinese Sales, Trump's Plan to Kill EV Credit -- Barrons.com - Dow Jones Institutional News - 2025-05-13](https://dj.factiva.com/article?id=drn:archive.newsarticle.DJDN000020250513el5d002pj)\n",
       "*   [5] [Tesla's China Sales Stink. Why the Stock Is Rising Anyway. -- Barrons.com - Dow Jones Newswires - 2025-05-20](https://dj.factiva.com/article?id=drn:archive.newsarticle.DJDN000020250520el5k002n6)\n",
       "*   [6] [Tesla Stock Is Rising. There's Little Evidence of a Post-DOGE Sales Recovery. -- Barrons.com - Dow Jones Institutional News - 2025-05-08](https://dj.factiva.com/article?id=drn:archive.newsarticle.DJDN000020250508el58002y4)\n",
       "*   [7] [Tesla Stock Falls as Sales in Germany Tumble. It's About More Than Musk. -- Barrons.com - Dow Jones Institutional News - 2025-05-06](https://dj.factiva.com/article?id=drn:archive.newsarticle.DJDN000020250506el56001q4)\n",
       "*   [8] [Tesla Profit Sinks, Hurt by Backlash Over Elon Musk's Political Role -- Update - Dow Jones Newswires - 2025-04-22](https://dj.factiva.com/article?id=drn:archive.newsarticle.DJDN000020250422el4m003rc)\n",
       "*   [9] [Tesla Profit Sinks, Hurt by Backlash Over Elon Musk's Political Role; CEO says he will spend significantly less time on DOGE starting in May; electric-vehicle maker's net income falls 71% - The Wall Street Journal Online - 2025-04-22](https://dj.factiva.com/article?id=drn:archive.newsarticle.WSJO000020250422el4m0053d)\n",
       "*   [10] [Tesla Profit Sinks, Hurt by Backlash Over Elon Musk's Political Role -- WSJ - Dow Jones Institutional News - 2025-04-22](https://dj.factiva.com/article?id=drn:archive.newsarticle.DJDN000020250422el4m003sa)"
      ],
      "text/plain": [
       "<IPython.core.display.Markdown object>"
      ]
     },
     "metadata": {},
     "output_type": "display_data"
    }
   ],
   "source": [
    "response = u.gemini_generate(llm_prompt, GCP_PROJECT, GCP_LOCATION, GCP_MODEL)\n",
    "display(Markdown(f\"**LLM Model:** {GCP_MODEL}\"))\n",
    "display(Markdown(f\"**Prompt:** {frapi_prompt} \\n --------------------\"))\n",
    "display(Markdown(response))"
   ]
  }
 ],
 "metadata": {
  "kernelspec": {
   "display_name": "frapidemo",
   "language": "python",
   "name": "python3"
  },
  "language_info": {
   "codemirror_mode": {
    "name": "ipython",
    "version": 3
   },
   "file_extension": ".py",
   "mimetype": "text/x-python",
   "name": "python",
   "nbconvert_exporter": "python",
   "pygments_lexer": "ipython3",
   "version": "3.12.9"
  }
 },
 "nbformat": 4,
 "nbformat_minor": 2
}
