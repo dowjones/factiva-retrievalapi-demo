{
 "cells": [
  {
   "cell_type": "markdown",
   "metadata": {},
   "source": [
    "# Retrieval API DEMO"
   ]
  },
  {
   "cell_type": "markdown",
   "metadata": {},
   "source": [
    "## Code Initialisation"
   ]
  },
  {
   "cell_type": "code",
   "execution_count": 1,
   "metadata": {},
   "outputs": [
    {
     "data": {
      "text/plain": [
       "True"
      ]
     },
     "execution_count": 1,
     "metadata": {},
     "output_type": "execute_result"
    }
   ],
   "source": [
    "import os\n",
    "import re\n",
    "import requests as r\n",
    "from IPython.display import Markdown, HTML\n",
    "import utils as u\n",
    "from dotenv import load_dotenv\n",
    "\n",
    "load_dotenv()"
   ]
  },
  {
   "cell_type": "markdown",
   "metadata": {},
   "source": [
    "## Constants"
   ]
  },
  {
   "cell_type": "code",
   "execution_count": 2,
   "metadata": {},
   "outputs": [],
   "source": [
    "API_HOST = 'api.dowjones.com'\n",
    "AUTH_HOST = 'accounts.dowjones.com'\n",
    "CLIENT_ID = os.getenv('FACTIVA_CLIENTID')\n",
    "USERNAME = os.getenv('FACTIVA_USERNAME')\n",
    "PASSWORD = os.getenv('FACTIVA_PASSWORD')\n",
    "AUTH_URL = f\"https://{AUTH_HOST}/oauth2/v1/token\"\n",
    "LLM_CONTEXT_SIZE = 4096"
   ]
  },
  {
   "cell_type": "markdown",
   "metadata": {},
   "source": [
    "## Authentication - Generate Bearer\n",
    "\n",
    "For details about getting the `bearer_token`, please see the `utils.py` file."
   ]
  },
  {
   "cell_type": "code",
   "execution_count": 3,
   "metadata": {},
   "outputs": [
    {
     "name": "stdout",
     "output_type": "stream",
     "text": [
      "Bearer token obtained successfully\n"
     ]
    }
   ],
   "source": [
    "bearer_token = u.get_bearer_token(CLIENT_ID, USERNAME, PASSWORD, AUTH_URL)\n",
    "if bearer_token:\n",
    "    print('Bearer token obtained successfully')\n",
    "else:\n",
    "    print('Failed to obtain bearer token')"
   ]
  },
  {
   "cell_type": "code",
   "execution_count": 4,
   "metadata": {},
   "outputs": [],
   "source": [
    "req_headers = {\n",
    "    \"Authorization\": f\"Bearer {bearer_token}\",\n",
    "    \"Content-Type\": \"application/json\"\n",
    "}"
   ]
  },
  {
   "cell_type": "markdown",
   "metadata": {},
   "source": [
    "## Factiva Retrieval API Query"
   ]
  },
  {
   "cell_type": "code",
   "execution_count": 5,
   "metadata": {},
   "outputs": [],
   "source": [
    "frapi_query = {\n",
    "  \"data\": {\n",
    "    \"attributes\": {\n",
    "      \"response_limit\": 10,\n",
    "      \"query\": {\n",
    "        \"search_filters\": [\n",
    "          {\n",
    "            \"scope\": \"Language\",\n",
    "            \"value\": \"en\"\n",
    "          }\n",
    "        ],\n",
    "        # \"What are NASA's planned missions to the Moon in 2025, and what are their primary objectives?\"\n",
    "        # \"Summarise the latest earnings report from Microsoft Corp\"\n",
    "        \"value\": \"Summarise the latest earnings report from Microsoft Corp\"\n",
    "      }\n",
    "    },\n",
    "    \"id\": \"GenAIRetrievalExample\",\n",
    "    \"type\": \"genai-content\"\n",
    "  }\n",
    "}\n"
   ]
  },
  {
   "cell_type": "markdown",
   "metadata": {},
   "source": [
    "## Send Query and Receive Chunks"
   ]
  },
  {
   "cell_type": "code",
   "execution_count": 6,
   "metadata": {},
   "outputs": [],
   "source": [
    "chunks_resp = r.post(f\"https://{API_HOST}/content/gen-ai/retrieve\", json=frapi_query, headers=req_headers)"
   ]
  },
  {
   "cell_type": "markdown",
   "metadata": {},
   "source": [
    "## Print Chunks"
   ]
  },
  {
   "cell_type": "code",
   "execution_count": 8,
   "metadata": {},
   "outputs": [
    {
     "data": {
      "text/markdown": [
       "### Investigating Microsoft's Standing In Software Industry Compared To Competitors"
      ],
      "text/plain": [
       "<IPython.core.display.Markdown object>"
      ]
     },
     "metadata": {},
     "output_type": "display_data"
    },
    {
     "data": {
      "text/markdown": [
       "**Benzinga.com** - 2025-02-11 - BNZNGA0020250211el2b00133 - Lang: en"
      ],
      "text/plain": [
       "<IPython.core.display.Markdown object>"
      ]
     },
     "metadata": {},
     "output_type": "display_data"
    },
    {
     "data": {
      "text/markdown": [
       "In today's rapidly changing and highly competitive business world, it is imperative for investors and industry observers to carefully assess companies before making investment choices. In this article, we will undertake a comprehensive ... Investigating Microsoft's Standing In Software Industry Compared To Competitors In today's rapidly changing and highly competitive business world, it is imperative for investors and industry observers to carefully assess companies before making investment choices. In this article, we will undertake a comprehensive industry comparison, evaluating Microsoft (NASDAQ:MSFT) vis-à-vis its key competitors in the Software industry. Through a detailed analysis of important financial indicators, market standing, and growth potential, our goal is to provide valuable insights and highlight company's performance in the industry. Microsoft Background Microsoft develops and licenses consumer and enterprise software. It is known for its Windows operating systems and Office productivity suite. The company is organized into three equally sized broad segments: productivity and business processes (legacy Microsoft Office, cloud-based Office 365, Exchange, SharePoint, Skype, LinkedIn, Dynamics), intelligence cloud (infrastructure- and platform-as-a-service offerings Azure, Windows Server OS, SQL Server), and more personal computing (Windows Client, Xbox, Bing search, display advertising, and Surface laptops, tablets, and desktops). Company P/E P/B P/S ROE EBITDA (in billions) Gross Profit (in billions) Revenue Growth Microsoft Corp 33.22 10.12 11.76 8.17% $36.79 $47.83 12.27% Oracle Corp 43.75 36.41 9.26 25.66% $5.75 $9.97 8.64% ServiceNow Inc 149.39 21.96 19.39 4.06% $0.62 $2.33 21.34% Palo Alto Networks Inc 50.95 21.80 16.83 6.33% $0.45 $1.58 13.88% CrowdStrike Holdings Inc 841.02 34.55 28.67 -0.57% $0.05 $0.76 28.52% Fortinet Inc 48.47 56.21 14.20 90.26% $0.66 $1.24 13.0% Gen Digital Inc 27.57 8.06 4.52 7.48% $0.45 $0.79 4.01% Monday.Com Ltd 526.74 15.81 17.61 -1.28% $-0.02 $0.23 32.67% Dolby Laboratories Inc 31.30 3.25 6.25 2.72% $0.11 $0.32 13.13% CommVault Systems Inc 47.19 27.41 8.59 3.9% $0.02 $0.21 21.13% QXO Inc 23.63 1.21 21.53 -0.21% $-0.03 $0.01 -2.0% Qualys Inc 29.61 10.56 8.47 10.53% $0.05 $0.13 8.36% SolarWinds Corp 83.23 2.29 4 0.94% $0.07 $0.18 5.5% Teradata Corp 36.39 23.68 1.70 32.0% $0.08 $0.27 0.46% Progress Software Corp 37.66 5.73 3.42 0.27% $0.05 $0.18 21.47% Average 141.21 19.21 11.75 13.01% $0.59 $1.3 13.58% By conducting a comprehensive analysis of Microsoft, the following trends become evident: * With a Price to Earnings ratio of 33.22, which is 0.24x less than the industry average, the stock shows potential for growth at a reasonable price, making it an interesting consideration for market participants. * The current Price to Book ratio of 10.12, which is 0.53x the industry average, is substantially lower than the industry average, indicating potential undervaluation. * The Price to Sales ratio of 11.76, which is 1.0x the industry average, suggests the stock could potentially be overvalued in relation to its sales performance compared to its peers. * With a Return on Equity (ROE) of 8.17% that is 4.84% below the industry average, it appears that the company exhibits potential inefficiency in utilizing equity to generate profits. * Compared to its industry, the company has higher Earnings Before Interest, Taxes, Depreciation, and Amortization (EBITDA) of $36.79 Billion, which is 62.36x above the industry average, indicating stronger profitability and robust cash flow generation. * Compared to its industry, the company has higher gross profit of $47.83 Billion, which indicates 36.79x above the industry average, indicating stronger profitability and higher earnings from its core operations. * With a revenue growth of 12.27%, which is much lower than the industry average of 13.58%, the company is experiencing a notable slowdown in sales expansion. Debt To Equity Ratio The debt-to-equity (D/E) ratio is an important measure to assess the financial structure and risk profile of a company. Considering the debt-to-equity ratio in industry comparisons allows for a concise evaluation of a company's financial health and risk profile, aiding in informed decision-making. In terms of the Debt-to-Equity ratio, Microsoft stands in comparison with its top 4 peers, leading to the following comparisons: * Microsoft has a stronger financial position compared to its top 4 peers, as evidenced by its lower debt-to-equity ratio of 0.21. * This suggests that the company has a more favorable balance between debt and equity, which can be perceived as a positive indicator by investors. Key Takeaways For Microsoft in the Software industry, the PE and PB ratios suggest the stock is undervalued compared to peers, indicating potential for growth. However, the high PS ratio implies the stock may be overvalued based on revenue. In terms of ROE, Microsoft's performance is lower than industry peers, while its high EBITDA and gross profit indicate strong operational efficiency. The low revenue growth suggests a need for strategic initiatives to drive top-line expansion. This article was generated by Benzinga's automated content engine and reviewed by an editor. © 2025 Benzinga.com. Benzinga does not provide investment advice. All rights reserved."
      ],
      "text/plain": [
       "<IPython.core.display.Markdown object>"
      ]
     },
     "metadata": {},
     "output_type": "display_data"
    },
    {
     "data": {
      "text/markdown": [
       "---"
      ],
      "text/plain": [
       "<IPython.core.display.Markdown object>"
      ]
     },
     "metadata": {},
     "output_type": "display_data"
    },
    {
     "data": {
      "text/markdown": [
       "### This Magnificent Seven Tech Cuts Its Loss In 2025; Is Microsoft Stock A Buy In February?"
      ],
      "text/plain": [
       "<IPython.core.display.Markdown object>"
      ]
     },
     "metadata": {},
     "output_type": "display_data"
    },
    {
     "data": {
      "text/markdown": [
       "**Investor's Business Daily** - 2025-02-10 - INVDAI0020250206el26001up - Lang: en"
      ],
      "text/plain": [
       "<IPython.core.display.Markdown object>"
      ]
     },
     "metadata": {},
     "output_type": "display_data"
    },
    {
     "data": {
      "text/markdown": [
       "Is Microsoft stock a buy in February? This fresh take on the long-term leader among tech stocks and growth companies pinpoints the fundamentals, technicals and fund ownership factors that are influencing the stock's recent action. This Magnificent Seven Tech Cuts Its Loss In 2025; Is Microsoft Stock A Buy In February? Is Microsoft stock a buy in February? This fresh take on the long-term leader among tech stocks and growth companies pinpoints the fundamentals, technicals and fund ownership factors that are influencing the stock's recent action. On Thursday, shares in one of the largest companies on the Nasdaq and in the U.S. market edged 0.6% higher to 415.82. But on Friday, Microsoft stock fell harder than the general market. While the S&P 500 sank nearly 0.9% and the Nasdaq 100 slipped 1.1%, Mr. Softy slumped almost 1.5% and made an intraday low of 408.10. On Monday, Microsoft stock recouped a sliver of Friday's loss, up 0.5% in late-afternoon trade. Ultimately, a stock price is determined by the laws of supply and demand. Growth investors focused on making money right when a potential leader is poised to make a bullish breakout past a proper buy point should consider looking closely at the stock's chart action across multiple time frames. Please watch the video at Investors.com - What Makes Trump 2.0 Different And Why DeepSeek Is Not The End Of The AI World Is Microsoft Stock A Buy? First, the fundamentals. According to IBD Stock Checkup, Microsoft ranks first among stocks in the desktop software group. However, a 63 Composite Rating on a scale of 1 to 99 has dropped 3 points in recent days. It also falls well short of the ideal level of 90 or higher. The IBD Composite Rating combines metrics in earnings, sales, profit margins, return on equity with measures of the stock's relative strength vs. all companies in IBD's database. On top of these factors, IBD layers in the quantity of buying vs. selling in Microsoft stock plus industry performance. Microsoft's 88 Earnings Per Share Rating is quite good. It means the business software and cloud computing giant's earnings have grown at a quicker pace than 88% of all stocks in the Investor's Business Daily database of more than 10,000 stocks. In terms of EPS Rating, Microsoft ranks No. 2 in its industry group behind Adobe. Going beyond the EPS Rating, Microsoft's profit picture looks solid but not spectacular. Wall Street consensus forecasts call for earnings in the current fiscal year ending in June to rise 12% to $13.15 a share, a slight downward revision. Still, that's more than quadruple what the Redmond, Wash., firm earned in fiscal 2018 ($3.88). Fiscal 2026 earnings are seen accelerating slightly, up 14% to $14.99 a share. IBD's Big Picture: 'Positive' Volatility; Also, Will These Names Outperform The Chip Sector Leader? Technical Action Today Looking at a monthly chart of Microsoft stock, the megacap tech is obviously not leading the stock market higher. Since reaching an all-time high of 468.35 in July, shares have treaded water, even as the S&P 500 and Nasdaq continued their course of higher highs and higher lows. On the positive side, Microsoft stock appears to be getting support at 400, a psychologically important round number for investors. Let's check out the weekly chart. It shows a seven-month consolidation pattern in the works. Microsoft stock is only 11% off its peak. But it's also trading below its flatlining 10-week and 40-week moving averages. A great stock normally trades above these technical levels right before a powerful breakout to new highs — the best time to grab shares for growth investors. Who Are The Future Microsofts of The Market? Check These Key Growth Stock Lists Microsoft's Relative Strength Measure Another way to get a handle on the technical action? Consider using IBD's unique Relative Strength Rating. Compared with all other companies in the IBD database, Microsoft stock currently gets a lowly 43 Relative Strength Rating. This means Microsoft has outperformed only 43% of all stocks over the past 12 months. MarketSurge, meanwhile, notes an even worse 25 score for the six-month RS Rating. And the three-month rating? It's a horrible 19. Picking the best growth stocks absolutely involves selecting those that are already outperforming their peers before they stage a new strong run."
      ],
      "text/plain": [
       "<IPython.core.display.Markdown object>"
      ]
     },
     "metadata": {},
     "output_type": "display_data"
    },
    {
     "data": {
      "text/markdown": [
       "---"
      ],
      "text/plain": [
       "<IPython.core.display.Markdown object>"
      ]
     },
     "metadata": {},
     "output_type": "display_data"
    },
    {
     "data": {
      "text/markdown": [
       "### The Good—and Bad—in Apple, Amazon, and Other Big Tech Earnings"
      ],
      "text/plain": [
       "<IPython.core.display.Markdown object>"
      ]
     },
     "metadata": {},
     "output_type": "display_data"
    },
    {
     "data": {
      "text/markdown": [
       "**Barron's Online** - 2025-02-07 - BON0000020250207el27001e1 - Lang: en"
      ],
      "text/plain": [
       "<IPython.core.display.Markdown object>"
      ]
     },
     "metadata": {},
     "output_type": "display_data"
    },
    {
     "data": {
      "text/markdown": [
       "It is about halfway through the fourth-quarter earnings season, with results available for most of the market's top heavyweights. The Good—and Bad—in Apple, Amazon, and Other Big Tech Earnings It is about halfway through the fourth-quarter earnings season, with results available for most of the market's top heavyweights. Google-parent Alphabet, Amazon.com, Apple, Facebook and Instagram owner Meta Platforms, and Microsoft have all reported. Strong growth in advertising revenue was a big theme, as were huge spending plans for artificial intelligence-related capital expenditures. Slowing growth in all-important cloud revenue tripped up several of the Big Tech companies' results. The five companies had a combined $128 billion in net income on $523 billion in revenue during the last three months of 2025. That's a 26% increase in profit and 10% higher sales than in the same period a year ago. It has been a mixed start to 2025 for shares of the fab five, which command a combined market capitalization of more than $13 trillion. Meta stock has surged out of the gate, rising 21% already, while Apple is down 7% since the start of the year. Amazon is up 9%, a post-earnings swoon cut Alphabet's gain to 1%, and Microsoft is down 1%. Compare that to a 3% year-to-date rise by the S&P 500. Not to be forgotten: Nvidia will publish results for its November-December-January fiscal quarter on Feb. 26. Here are some highlights from each company's reports: Alphabet What was reported: $26.5 billion in net income, or $2.15 in earnings per share (up 31%), on $96.5 billion in revenue (up 12%) What was expected: $2.12 in earnings per share and $96.7 billion in revenue The good: YouTube advertising revenue surged. The Google-parent will invest $75 billion in capital expenditures to accelerate AI initiatives in 2025. The bad: All-important cloud revenue growth decelerated, up 30% from a year earlier, versus a 35% rise in the previous quarter. It also missed expectations. The stock reaction: Alphabet stock dropped 7.3% on Wednesday. Our coverage of the report Amazon What was reported: $20.0 billion in net income, or $1.86 in earnings per share (up 86%), on $187.8 billion in revenue (up 10%) What was expected: $1.49 in earnings per share and $187.3 billion in revenue The good: Black Friday and Cyber Monday week sales broke records. Advertising revenue surged. The bad: Amazon's revenue and profit outlooks for the first quarter both fell well short of expectations. AWS cloud revenue rose by a smaller-than-expected 19%. The stock reaction: Amazon stock was down approximately 3% in early trading on Friday. Our coverage of the report Apple What was reported: $36.3 billion in net income, or $2.40 in earnings per share (up 10%), on $124.3 billion in revenue (up 4%) What was expected: $2.35 in earnings per share on $124.1 billion in revenue The good: Apple's installed base of devices surpassed 2.35 billion. The company reported double-digit growth in its Mac, iPad, and services businesses. The bad: iPhone sales were down 1% from a year earlier. Overall revenue in China declined by 11%. Management expects current-quarter revenue to grow by only \"low-to-mid single digits.\" The stock reaction: Apple stock slipped 0.7% on Friday, Jan. 31. Our coverage of the report Meta Platforms What was reported: $20.8 billion in net income, or $8.02 in earnings per share (up 51%), on $48.4 billion in revenue (up 21%) What was expected: $6.76 in earnings per share on $47 billion in revenue The good: Meta topped earnings estimates by a mile. The number of ads users saw rose by 6% and the average prices for ads jumped 14%. The bad: Meta's revenue outlook came in soft. Management expects expenses to grow by 22% in 2025. TikTok wasn't banned. The stock reaction: Meta stock rose 1.6% on Thursday, Jan. 30. Our coverage of the report Microsoft What was reported: $24.1 billion in net income, or $3.23 in earnings per share (up 10%), on $69.6 billion in revenue (up 12%) What was expected: $3.11 in earnings per share on $68.8 billion in revenue The good: Earnings and revenue beat, and management expects double-digit sales and income growth this year. The bad: Revenue from Azure and other cloud services was up by 31%, slower than growth of 33% one quarter earlier. The DeepSeek threat loomed large over Microsoft's $80 billion AI-spending plan for 2025. The stock reaction: Microsoft dropped 6.2% on Thursday, Jan. 30. Our coverage of the report Write to Nicholas Jasinski at nicholas.jasinski@barrons.com"
      ],
      "text/plain": [
       "<IPython.core.display.Markdown object>"
      ]
     },
     "metadata": {},
     "output_type": "display_data"
    },
    {
     "data": {
      "text/markdown": [
       "---"
      ],
      "text/plain": [
       "<IPython.core.display.Markdown object>"
      ]
     },
     "metadata": {},
     "output_type": "display_data"
    },
    {
     "data": {
      "text/markdown": [
       "### Market Analysis: Microsoft And Competitors In Software Industry"
      ],
      "text/plain": [
       "<IPython.core.display.Markdown object>"
      ]
     },
     "metadata": {},
     "output_type": "display_data"
    },
    {
     "data": {
      "text/markdown": [
       "**Benzinga.com** - 2025-02-06 - BNZNGA0020250206el26000xj - Lang: en"
      ],
      "text/plain": [
       "<IPython.core.display.Markdown object>"
      ]
     },
     "metadata": {},
     "output_type": "display_data"
    },
    {
     "data": {
      "text/markdown": [
       "In today's fast-paced and highly competitive business world, it is crucial for investors and industry followers to conduct comprehensive company evaluations. In this article, we will delve into an extensive industry comparison, evaluating ... Market Analysis: Microsoft And Competitors In Software Industry In today's fast-paced and highly competitive business world, it is crucial for investors and industry followers to conduct comprehensive company evaluations. In this article, we will delve into an extensive industry comparison, evaluating Microsoft (NASDAQ:MSFT) in relation to its major competitors in the Software industry. By closely examining key financial metrics, market standing, and growth prospects, our objective is to provide valuable insights and highlight company's performance in the industry. Microsoft Background Microsoft develops and licenses consumer and enterprise software. It is known for its Windows operating systems and Office productivity suite. The company is organized into three equally sized broad segments: productivity and business processes (legacy Microsoft Office, cloud-based Office 365, Exchange, SharePoint, Skype, LinkedIn, Dynamics), intelligence cloud (infrastructure- and platform-as-a-service offerings Azure, Windows Server OS, SQL Server), and more personal computing (Windows Client, Xbox, Bing search, display advertising, and Surface laptops, tablets, and desktops). Company P/E P/B P/S ROE EBITDA (in billions) Gross Profit (in billions) Revenue Growth Microsoft Corp 33.30 10.15 11.79 8.17% $36.79 $47.83 12.27% Oracle Corp 41.97 34.93 8.88 25.66% $5.75 $9.97 8.64% ServiceNow Inc 150.15 22.07 19.49 4.06% $0.62 $2.33 21.34% Palo Alto Networks Inc 48.47 20.74 16.01 6.33% $0.45 $1.58 13.88% CrowdStrike Holdings Inc 818.08 33.61 27.89 -0.57% $0.05 $0.76 28.52% Fortinet Inc 52.80 88.68 14.19 90.26% $0.66 $1.24 13.0% Gen Digital Inc 26.97 7.88 4.42 7.48% $0.45 $0.79 4.01% Monday.Com Ltd 603.47 13.32 14.71 -1.28% $-0.02 $0.23 32.67% Dolby Laboratories Inc 31.28 3.25 6.24 2.72% $0.11 $0.32 13.13% CommVault Systems Inc 45 26.14 8.19 3.9% $0.02 $0.21 21.13% QXO Inc 25.30 1.30 23.05 -0.21% $-0.03 $0.01 -2.0% Qualys Inc 32.22 11.88 9.24 10.53% $0.05 $0.13 8.36% Teradata Corp 37.24 24.23 1.74 32.0% $0.08 $0.27 0.46% SolarWinds Corp 69 1.90 3.31 0.94% $0.07 $0.18 5.5% Progress Software Corp 37.42 5.70 3.40 0.27% $0.05 $0.18 21.47% Average 144.24 21.12 11.48 13.01% $0.59 $1.3 13.58% When closely examining Microsoft, the following trends emerge: * The Price to Earnings ratio of 33.3 is 0.23x lower than the industry average, indicating potential undervaluation for the stock. * Considering a Price to Book ratio of 10.15, which is well below the industry average by 0.48x, the stock may be undervalued based on its book value compared to its peers. * The stock's relatively high Price to Sales ratio of 11.79, surpassing the industry average by 1.03x, may indicate an aspect of overvaluation in terms of sales performance. * The company has a lower Return on Equity (ROE) of 8.17%, which is 4.84% below the industry average. This indicates potential inefficiency in utilizing equity to generate profits, which could be attributed to various factors. * With higher Earnings Before Interest, Taxes, Depreciation, and Amortization (EBITDA) of $36.79 Billion, which is 62.36x above the industry average, the company demonstrates stronger profitability and robust cash flow generation. * The company has higher gross profit of $47.83 Billion, which indicates 36.79x above the industry average, indicating stronger profitability and higher earnings from its core operations. * The company's revenue growth of 12.27% is significantly lower compared to the industry average of 13.58%. This indicates a potential fall in the company's sales performance. Debt To Equity Ratio The debt-to-equity (D/E) ratio is an important measure to assess the financial structure and risk profile of a company. Considering the debt-to-equity ratio in industry comparisons allows for a concise evaluation of a company's financial health and risk profile, aiding in informed decision-making. When comparing Microsoft with its top 4 peers based on the Debt-to-Equity ratio, the following insights can be observed: * Microsoft has a stronger financial position compared to its top 4 peers, as evidenced by its lower debt-to-equity ratio of 0.21. * This suggests that the company has a more favorable balance between debt and equity, which can be perceived as a positive indicator by investors. Key Takeaways For Microsoft in the Software industry, the PE and PB ratios suggest that the stock is undervalued compared to its peers. However, the high PS ratio indicates that the stock may be overvalued based on revenue. In terms of ROE, EBITDA, and gross profit, Microsoft shows strong performance, indicating efficient operations and profitability. The low revenue growth suggests that Microsoft may be facing challenges in expanding its top line compared to industry peers. This article was generated by Benzinga's automated content engine and reviewed by an editor. © 2025 Benzinga.com. Benzinga does not provide investment advice. All rights reserved."
      ],
      "text/plain": [
       "<IPython.core.display.Markdown object>"
      ]
     },
     "metadata": {},
     "output_type": "display_data"
    },
    {
     "data": {
      "text/markdown": [
       "---"
      ],
      "text/plain": [
       "<IPython.core.display.Markdown object>"
      ]
     },
     "metadata": {},
     "output_type": "display_data"
    },
    {
     "data": {
      "text/markdown": [
       "### Competitor Analysis: Evaluating Microsoft And Competitors In Software Industry"
      ],
      "text/plain": [
       "<IPython.core.display.Markdown object>"
      ]
     },
     "metadata": {},
     "output_type": "display_data"
    },
    {
     "data": {
      "text/markdown": [
       "**Benzinga.com** - 2025-02-05 - BNZNGA0020250205el25000xg - Lang: en"
      ],
      "text/plain": [
       "<IPython.core.display.Markdown object>"
      ]
     },
     "metadata": {},
     "output_type": "display_data"
    },
    {
     "data": {
      "text/markdown": [
       "In today's rapidly changing and fiercely competitive business landscape, it is vital for investors and industry enthusiasts to carefully evaluate companies. In this article, we will perform a comprehensive industry comparison, evaluating ... Competitor Analysis: Evaluating Microsoft And Competitors In Software Industry In today's rapidly changing and fiercely competitive business landscape, it is vital for investors and industry enthusiasts to carefully evaluate companies. In this article, we will perform a comprehensive industry comparison, evaluating Microsoft (NASDAQ:MSFT) against its key competitors in the Software industry. By analyzing important financial metrics, market position, and growth prospects, we aim to provide valuable insights for investors and shed light on company's performance within the industry. Microsoft Background Microsoft develops and licenses consumer and enterprise software. It is known for its Windows operating systems and Office productivity suite. The company is organized into three equally sized broad segments: productivity and business processes (legacy Microsoft Office, cloud-based Office 365, Exchange, SharePoint, Skype, LinkedIn, Dynamics), intelligence cloud (infrastructure- and platform-as-a-service offerings Azure, Windows Server OS, SQL Server), and more personal computing (Windows Client, Xbox, Bing search, display advertising, and Surface laptops, tablets, and desktops). Company P/E P/B P/S ROE EBITDA (in billions) Gross Profit (in billions) Revenue Growth Microsoft Corp 33.23 10.13 11.77 8.17% $36.79 $47.83 12.27% Oracle Corp 41.05 34.16 8.69 25.66% $5.75 $9.97 8.64% ServiceNow Inc 147.68 21.71 19.17 4.06% $0.62 $2.33 21.34% Palo Alto Networks Inc 47.57 20.36 15.72 6.33% $0.45 $1.58 13.88% CrowdStrike Holdings Inc 799.06 32.83 27.24 -0.57% $0.05 $0.76 28.52% Fortinet Inc 51.65 86.75 13.88 90.26% $0.66 $1.24 13.0% Gen Digital Inc 26.51 7.75 4.35 7.48% $0.45 $0.79 4.01% Monday.Com Ltd 591.12 13.05 14.41 -1.28% $-0.02 $0.23 32.67% Dolby Laboratories Inc 31.24 3.24 6.24 2.72% $0.11 $0.32 13.13% CommVault Systems Inc 44.02 25.57 8.01 3.9% $0.02 $0.21 21.13% QXO Inc 24.89 1.28 22.68 -0.21% $-0.03 $0.01 -2.0% Qualys Inc 31.66 11.67 9.08 10.53% $0.05 $0.13 8.36% Teradata Corp 37.55 24.44 1.76 32.0% $0.08 $0.27 0.46% SolarWinds Corp 68.14 1.87 3.27 0.94% $0.07 $0.18 5.5% Progress Software Corp 37.23 5.67 3.38 0.27% $0.05 $0.18 21.47% Average 141.38 20.74 11.28 13.01% $0.59 $1.3 13.58% After examining Microsoft, the following trends can be inferred: * A Price to Earnings ratio of 33.23 significantly below the industry average by 0.24x suggests undervaluation. This can make the stock appealing for those seeking growth. * Considering a Price to Book ratio of 10.13, which is well below the industry average by 0.49x, the stock may be undervalued based on its book value compared to its peers. * With a relatively high Price to Sales ratio of 11.77, which is 1.04x the industry average, the stock might be considered overvalued based on sales performance. * With a Return on Equity (ROE) of 8.17% that is 4.84% below the industry average, it appears that the company exhibits potential inefficiency in utilizing equity to generate profits. * The company exhibits higher Earnings Before Interest, Taxes, Depreciation, and Amortization (EBITDA) of $36.79 Billion, which is 62.36x above the industry average, implying stronger profitability and robust cash flow generation. * The company has higher gross profit of $47.83 Billion, which indicates 36.79x above the industry average, indicating stronger profitability and higher earnings from its core operations. * The company is witnessing a substantial decline in revenue growth, with a rate of 12.27% compared to the industry average of 13.58%, which indicates a challenging sales environment. Debt To Equity Ratio The debt-to-equity (D/E) ratio assesses the extent to which a company relies on borrowed funds compared to its equity. Considering the debt-to-equity ratio in industry comparisons allows for a concise evaluation of a company's financial health and risk profile, aiding in informed decision-making. In terms of the Debt-to-Equity ratio, Microsoft can be assessed by comparing it to its top 4 peers, resulting in the following observations: * Microsoft exhibits a stronger financial position compared to its top 4 peers in the sector, as indicated by its lower debt-to-equity ratio of 0.21. * This suggests that the company has a more favorable balance between debt and equity, which can be seen as a positive aspect for investors. Key Takeaways For Microsoft in the Software industry, the PE and PB ratios suggest that the stock is undervalued compared to its peers. However, the high PS ratio indicates that the stock may be overvalued based on revenue. In terms of ROE, EBITDA, and gross profit, Microsoft shows strong performance compared to its peers, indicating efficient operations and profitability. The low revenue growth suggests that Microsoft may be facing challenges in expanding its top line compared to industry peers. This article was generated by Benzinga's automated content engine and reviewed by an editor. © 2025 Benzinga.com. Benzinga does not provide investment advice. All rights reserved."
      ],
      "text/plain": [
       "<IPython.core.display.Markdown object>"
      ]
     },
     "metadata": {},
     "output_type": "display_data"
    },
    {
     "data": {
      "text/markdown": [
       "---"
      ],
      "text/plain": [
       "<IPython.core.display.Markdown object>"
      ]
     },
     "metadata": {},
     "output_type": "display_data"
    },
    {
     "data": {
      "text/markdown": [
       "### *Microsoft 2Q Rev $69.6B >MSFT"
      ],
      "text/plain": [
       "<IPython.core.display.Markdown object>"
      ]
     },
     "metadata": {},
     "output_type": "display_data"
    },
    {
     "data": {
      "text/markdown": [
       "**Dow Jones Institutional News** - 2025-01-29 - DJDN000020250129el1t0038c - Lang: en"
      ],
      "text/plain": [
       "<IPython.core.display.Markdown object>"
      ]
     },
     "metadata": {},
     "output_type": "display_data"
    },
    {
     "data": {
      "text/markdown": [
       "29 Jan 2025 16:05 ET *Microsoft 2Q EPS $3.23 >MSFT *Microsoft 2Q Rev $69.6B >MSFT 29 Jan 2025 16:05 ET *Microsoft 2Q EPS $3.23 >MSFT 29 Jan 2025 16:08 ET *Microsoft: Revenue in Productivity and Business Processes Was $29.4 Billion and Increased 14% (up 13% in Constant Currency) >MSFT 29 Jan 2025 16:08 ET *Microsoft: Revenue in Intelligent Cloud Was $25.5 Billion and Increased 19% >MSFT 29 Jan 2025 16:08 ET *Microsoft: Server Products and Cloud Services Revenue Increased 21% Driven by Azure and Other Cloud Services Revenue Growth of 31% >MSFT 29 Jan 2025 16:08 ET *Microsoft: This Quarter Cloud Revenue Was $40.9 Billion, Up 21% Year-Over-Year, Remain Committed to Balancing Operational Discipline With Continued Investments in Cloud and AI Infrastructure >MSFT 29 Jan 2025 16:10 ET *Microsoft: Innovating Across Tech Stack and Helping Customers Unlock the Full ROI of AI to Capture the Massive Opportunity Ahead >MSFT 29 Jan 2025 16:10 ET *Microsoft: AI Business Has Surpassed an Annual Revenue Run Rate of $13 Billion, Up 175% Year-over-Year >MSFT 29 Jan 2025 16:10 ET *Microsoft: Will Provide Forward-Looking Guidance in Connection With This Quarterly Earnings Announcement on Earnings Conference Call and Webcast >MSFT 29 Jan 2025 16:14 ET *Microsoft: 2Q Operating Income $31.7 Billion and Increased 17% YoY (Up 16% in Constant Currency) >MSFT 29 Jan 2025 16:20 ET *Microsoft: 2Q Microsoft 365 Commercial Products and Cloud Services Revenue Increased 15% Driven by Microsoft 365 Commercial Cloud Revenue Growth of 16% (up 15% in Constant Currency) >MSFT 29 Jan 2025 16:20 ET *Microsoft: Microsoft 365 Consumer Products and Cloud Services Revenue Increased 8% Driven by Microsoft 365 Consumer Cloud Revenue Growth of 8% >MSFT 29 Jan 2025 16:20 ET *Microsoft: LinkedIn Revenue Increased 9% >MSFT 29 Jan 2025 16:20 ET *Microsoft: Dynamics Products and Cloud Services Revenue Increased 15% (Up 14% in Constant Currency) Driven by Dynamics 365 Revenue Growth of 19% (up 18% in Constant Currency)>MSFT 29 Jan 2025 16:20 ET *Microsoft: Revenue in More Personal Computing Was $14.7 Billion and Was Relatively Unchanged >MSFT 29 Jan 2025 16:20 ET *Microsoft: Windows OEM and Devices Revenue Increased 4% >MSFT 29 Jan 2025 16:20 ET *Microsoft: Xbox Content and Services Revenue Increased 2% >MSFT 29 Jan 2025 16:21 ET *Microsoft: Search and News Advertising Revenue Excluding Traffic Acquisition Costs Increased 21% (Up 20% in Constant Currency) >MSFT 29 Jan 2025 16:21 ET *Microsoft: Returned $9.7 Billion to Shareholders in the Form of Dividends and Share Repurchases in 2Q >MSFT (MORE TO FOLLOW) Dow Jones Newswires January 29, 2025 16:21 ET (21:21 GMT)"
      ],
      "text/plain": [
       "<IPython.core.display.Markdown object>"
      ]
     },
     "metadata": {},
     "output_type": "display_data"
    },
    {
     "data": {
      "text/markdown": [
       "---"
      ],
      "text/plain": [
       "<IPython.core.display.Markdown object>"
      ]
     },
     "metadata": {},
     "output_type": "display_data"
    },
    {
     "data": {
      "text/markdown": [
       "###                            Microsoft reports Q2 EPS $3.23, consensus $3.10"
      ],
      "text/plain": [
       "<IPython.core.display.Markdown object>"
      ]
     },
     "metadata": {},
     "output_type": "display_data"
    },
    {
     "data": {
      "text/markdown": [
       "**The Fly** - 2025-01-29 - FLYWAL0020250129el1t00qmd - Lang: en"
      ],
      "text/plain": [
       "<IPython.core.display.Markdown object>"
      ]
     },
     "metadata": {},
     "output_type": "display_data"
    },
    {
     "data": {
      "text/markdown": [
       "Reports Q2 revenue $69.63B, consensus $68.81B. \"We are innovating across our tech stack and helping customers unlock the full ROI of AI to capture the massive opportunity ahead,\" said Satya Nadella, chairman and chief executive officer of ... Microsoft reports Q2 EPS $3.23, consensus $3.10 Reports Q2 revenue $69.63B, consensus $68.81B. \"We are innovating across our tech stack and helping customers unlock the full ROI of AI to capture the massive opportunity ahead,\" said Satya Nadella, chairman and chief executive officer of Microsoft. \"Already, our AI business has surpassed an annual revenue run rate of $13 billion, up 175% year-over-year.\" \"This quarter Microsoft Cloud revenue was $40.9 billion, up 21% year-over-year,\" said Amy Hood, executive vice president and chief financial officer of Microsoft. \"We remain committed to balancing operational discipline with continued investments in our cloud and AI infrastructure.\""
      ],
      "text/plain": [
       "<IPython.core.display.Markdown object>"
      ]
     },
     "metadata": {},
     "output_type": "display_data"
    },
    {
     "data": {
      "text/markdown": [
       "---"
      ],
      "text/plain": [
       "<IPython.core.display.Markdown object>"
      ]
     },
     "metadata": {},
     "output_type": "display_data"
    },
    {
     "data": {
      "text/markdown": [
       "###                            Microsoft Gears Up For Q2 Earnings: Will The Bullish Trend Hold?"
      ],
      "text/plain": [
       "<IPython.core.display.Markdown object>"
      ]
     },
     "metadata": {},
     "output_type": "display_data"
    },
    {
     "data": {
      "text/markdown": [
       "**Benzinga.com** - 2025-01-28 - BNZNGA0020250128el1s000pi - Lang: en"
      ],
      "text/plain": [
       "<IPython.core.display.Markdown object>"
      ]
     },
     "metadata": {},
     "output_type": "display_data"
    },
    {
     "data": {
      "text/markdown": [
       "Microsoft Corp (NASDAQ:MSFT) heads into its second-quarter earnings report on Wednesday with bullish technical indicators but mixed sentiment from partners. Microsoft Gears Up For Q2 Earnings: Will The Bullish Trend Hold? Microsoft Corp (NASDAQ:MSFT) heads into its second-quarter earnings report on Wednesday with bullish technical indicators but mixed sentiment from partners. The tech company's stock is up 6.06% over the past year and 3.82% year to date, with a share price of $434.56. Chart created using Benzinga Pro However, the short-term moving averages flash conflicting signals. While the eight-day simple moving average (SMA) ($434.99) suggests a slight pullback, the 20-day ($428.17), 50-day ($430.77), and 200-day ($425.56) SMAs all paint a bullish picture. The moving average convergence/divergence (MACD) at 1.97 reinforces this upward momentum, while the relative strength index (RSI) of 52.43 suggests there's room to climb without entering overbought territory. Overall, buying pressure remains intact, positioning Microsoft for potential gains—if earnings don't spoil the party. Read Also: Microsofts AI Revenue Set To Surpass $10 Billion: Piper Sandler Maintains Overweight Rating The Q2 Earnings Setup: Cautious Optimism? Wall Street expects Microsoft to post earnings per share of $3.12 on revenue of $68.6 billion, according to Benzinga Pro data. JPMorgan's Mark R. Murphy notes that Microsoft's second-quarter survey shows that its partners finished 3% above plan—an improvement from last quarter, but not quite as strong as last year. While business momentum is positive, Azure growth expectations remain lukewarm, with partners expecting 30%-31% growth in the coming quarters—slightly below consensus. The bigger wildcard? AI. M365 Copilot adoption is expected to rise over the next five years, but pricing concerns could slow near-term traction. Meanwhile, hyperscaler rivals are ramping up AI and cloud investments, adding competitive pressure. There's also the looming FX headwind (~1.5% hit to CY25) and lingering concerns over Microsoft's December Cruise charge. The Verdict: Bullish, But With A Caveat Technically, Microsoft stock has the makings of a continued bullish run, with strong moving averages and MACD backing the trend. However, partner sentiment on Azure and AI growth could introduce near-term volatility. If earnings impress, Microsoft could solidify its momentum; if guidance disappoints, investors may have to navigate some turbulence before the long-term AI narrative takes hold. Read Next: * Fundstrats Tom Lee Sees Nvidias 17% Plunge As An ‘Opportunity, Calls Nasdaqs Over 600 Points Plunge Drop A Market ‘Overreaction Image: Shutterstock Latest Ratings for MSFT Date Firm Action From To Feb 2022 Tigress Financial Maintains Buy Jan 2022 Citigroup Maintains Buy Jan 2022 Morgan Stanley Maintains Overweight View More Analyst Ratings for MSFT View the Latest Analyst Ratings © 2025 Benzinga.com. Benzinga does not provide investment advice. All rights reserved."
      ],
      "text/plain": [
       "<IPython.core.display.Markdown object>"
      ]
     },
     "metadata": {},
     "output_type": "display_data"
    },
    {
     "data": {
      "text/markdown": [
       "---"
      ],
      "text/plain": [
       "<IPython.core.display.Markdown object>"
      ]
     },
     "metadata": {},
     "output_type": "display_data"
    },
    {
     "data": {
      "text/markdown": [
       "###                            Microsoft Corporation Bottom Line Advances In Q2, Beats Estimates"
      ],
      "text/plain": [
       "<IPython.core.display.Markdown object>"
      ]
     },
     "metadata": {},
     "output_type": "display_data"
    },
    {
     "data": {
      "text/markdown": [
       "**RTT News** - 2025-01-29 - RTTNEW0020250129el1t0040k - Lang: en"
      ],
      "text/plain": [
       "<IPython.core.display.Markdown object>"
      ]
     },
     "metadata": {},
     "output_type": "display_data"
    },
    {
     "data": {
      "text/markdown": [
       "Microsoft Corporation (MSFT) revealed a profit for its second quarter that increased from the same period last year and beat the Street estimates. Microsoft Corporation Bottom Line Advances In Q2, Beats Estimates Microsoft Corporation (MSFT) revealed a profit for its second quarter that increased from the same period last year and beat the Street estimates. The company's earnings came in at $24.11 billion, or $3.23 per share. This compares with $21.87 billion, or $2.93 per share, last year. Analysts on average had expected the company to earn $3.11 per share. Analysts' estimates typically exclude special items. The company's revenue for the period rose 12.3% to $69.632 billion from $62.020 billion last year. Microsoft Corporation earnings at a glance (GAAP) : -Earnings: $24.11 Bln. vs. $21.87 Bln. last year. -EPS: $3.23 vs. $2.93 last year. -Revenue: $69.632 Bln vs. $62.020 Bln last year."
      ],
      "text/plain": [
       "<IPython.core.display.Markdown object>"
      ]
     },
     "metadata": {},
     "output_type": "display_data"
    },
    {
     "data": {
      "text/markdown": [
       "---"
      ],
      "text/plain": [
       "<IPython.core.display.Markdown object>"
      ]
     },
     "metadata": {},
     "output_type": "display_data"
    },
    {
     "data": {
      "text/markdown": [
       "### Q2 2025 Microsoft Corp Earnings Call - Final"
      ],
      "text/plain": [
       "<IPython.core.display.Markdown object>"
      ]
     },
     "metadata": {},
     "output_type": "display_data"
    },
    {
     "data": {
      "text/markdown": [
       "**VIQ FD Disclosure** - 2025-01-29 - FNDW000020250130el1t00b9l - Lang: en"
      ],
      "text/plain": [
       "<IPython.core.display.Markdown object>"
      ]
     },
     "metadata": {},
     "output_type": "display_data"
    },
    {
     "data": {
      "text/markdown": [
       "Presentation Now, on to our consumer businesses, starting with LinkedIn. More professionals than ever are engaging in high-value conversations on LinkedIn, with comments up 37% year-over-year. Short-form video continues to grow on the platform, with video creation all-up growing at twice the rate of other post formats. We're also innovating with agents to help recruiters and small businesses find qualified candidates faster. And our hiring business again took share. In subscriptions, LinkedIn Premium surpassed $2 billion in annual revenue for the first time this quarter. Subscriber growth has increased nearly 50% over the past two years, and nearly 40% of subscribers have used our AI features to improve their profiles. And LinkedIn Marketing Solutions remains the leader in B2B advertising. Now, on to Search, Advertising and News. We once again took share across Bing and Edge. Edge surpassed 30% market share in the US on Windows, and has taken share for 15 consecutive quarters. The investments we have made in improving our ad rates are paying off, and advertisers increasingly see our network as an essential platform to optimize ROI. And our Copilot consumer app is seeing increased engagement and retention, with its improved speed, unique personality, first-of-its-kind features like Copilot Vision. Just today we made Think Deeper, powered by o1, free and default for all Copilot users globally. Now, on to gaming. We are focused on improving the profitability of the business, in order to position it for long-term growth, driven by higher-margin content and platform services. And we are delivering on this plan. Black Ops 6 was the top-selling game on Xbox and PlayStation this quarter and saw more players in its launch quarter than any other paid release in franchise history. And we saw rave reviews of Indiana Jones and the Great Circle, which has already been played by more than 4 million people. We also continue to see strong momentum for Xbox Cloud Gaming, with a record 140 million hours streamed this quarter. All-up, Game Pass set a new quarterly record for revenue and grew its PC subscriber base by over 30%, as we focus on driving fully-paid subscribers across endpoints. In closing, we continue to innovate across our tech stack to help our customers in this AI era. And I am energized by the many opportunities ahead. With that, let me turn it over to Amy. AMY HOOD, CHIEF FINANCIAL OFFICER, EXECUTIVE VICE PRESIDENT, MICROSOFT CORP: Thank you, Satya, and good afternoon everyone. This quarter, revenue was $69.6 billion, up 12%. Gross margin dollars increased 13% and 12% in constant currency while operating income increased 17% and 16% in constant currency. And earnings per share was $3.23, an increase of 10%. We delivered another quarter of double-digit top and bottom-line growth. Results were driven by strong demand for our cloud and AI offerings while we also improved our operating leverage with higher-than-expected operating income growth. As you heard from Satya, our AI business annual revenue run rate surpassed $13 billion and was above expectations. Commercial bookings increased 67% and 75% in constant currency and were significantly ahead of expectations driven by Azure commitments from OpenAI. Execution was strong across our core annuity sales motions with growth in the number of 100-million-dollar-plus contracts for both Azure and Microsoft 365. Commercial remaining performance obligation increased to $298 billion, up 34% and 36% in constant currency. Roughly 40% will be recognized in revenue in the next 12 months, up 21% year-over-year. The remaining portion, recognized beyond the next 12 months, increased 45%. And this quarter, our annuity mix was 97%. FX did not have a significant impact on our results and was roughly in line with expectations on total company revenue, More Personal Computing revenue, total company COGS, and operating expense. FX decreased revenue more than expected in our commercial segments. Microsoft Cloud revenue was $40.9 billion and grew 21%. Microsoft Cloud gross margin percentage was 70%, in line with expectations, and decreased 2 points year-over-year driven by scaling our AI infrastructure. Company gross margin percentage increased slightly year-over-year to 69% primarily driven by sales mix shift to higher margin businesses as well as improvement in Gaming and Search, partially offset by the impact of scaling our AI infrastructure."
      ],
      "text/plain": [
       "<IPython.core.display.Markdown object>"
      ]
     },
     "metadata": {},
     "output_type": "display_data"
    },
    {
     "data": {
      "text/markdown": [
       "---"
      ],
      "text/plain": [
       "<IPython.core.display.Markdown object>"
      ]
     },
     "metadata": {},
     "output_type": "display_data"
    }
   ],
   "source": [
    "chunks_obj = chunks_resp.json()\n",
    "for article in chunks_obj['data']:\n",
    "    display(Markdown(f\"### {article['attributes']['headline']['main']['text']}\"))\n",
    "    display(Markdown(f\"**{article['meta']['source']['name']}** - {article['attributes']['publication_date']} - {article['meta']['original_doc_id']} - Lang: {article['meta']['language']['code']}\"))\n",
    "    display(Markdown(f\"{article['attributes']['snippet']['content'][0]['text']} {article['attributes']['content'][0]['text']}\"))\n",
    "    display(Markdown(f\"---\"))"
   ]
  },
  {
   "cell_type": "markdown",
   "metadata": {},
   "source": [
    "## Retrieval API Conclusion\n",
    "\n",
    "Up to this point it the seen functionalities are connected with the Retrieval API.\n",
    "\n",
    "However, given that this service is an intermediate component in a full-stack solution, the below Test LLM steps and the [Read Article](2_read_article.ipynb) notebook are the two complementary avenues to get a full working solution."
   ]
  },
  {
   "cell_type": "markdown",
   "metadata": {},
   "source": [
    "## Test LLM"
   ]
  },
  {
   "cell_type": "markdown",
   "metadata": {},
   "source": [
    "This is a downstream step that is only illustrative on how the response generation stage can be implemented. In the below example only a few articles are used to repond the prompt in a locally running LLM. The passed request is built from the original prompt enhanced with a few retrieved articles as additional context.\n",
    "\n",
    "The goal of using only a few articles is to improve performance as the LLM can take several minutes to summarise all returned articles given the natural limitations of a desktop hardware.\n",
    "\n",
    "The tested LLM was Microsoft's Phi-4 with 14Bn parameters. Response generations took between 1 and 2 minutes for a context between 3K to 4K tokens."
   ]
  },
  {
   "cell_type": "code",
   "execution_count": 9,
   "metadata": {},
   "outputs": [],
   "source": [
    "prompt_text = f\"{frapi_query['data']['attributes']['query']['value']}. To answer use the following information:\\n\\n\"\n",
    "\n",
    "chunks_obj = chunks_resp.json()['data']\n",
    "process_chunks = chunks_obj[0:3]\n",
    "for article in process_chunks:\n",
    "    prompt_text += f\"{article['attributes']['headline']['main']['text']} - {article['attributes']['publication_date']}\"\n",
    "    prompt_text += f\"{article['attributes']['snippet']['content'][0]['text']} {article['attributes']['content'][0]['text']}\\n------\\n\"\n"
   ]
  },
  {
   "cell_type": "code",
   "execution_count": 10,
   "metadata": {},
   "outputs": [
    {
     "name": "stdout",
     "output_type": "stream",
     "text": [
      "Summarise the latest earnings report from Microsoft Corp. To answer use the following information:\n",
      "\n",
      "Investigating Microsoft's Standing In Software Industry Compared To Competitors - 2025-02-11In today's rapidly changing and highly competitive business world, it is imperative for investors and industry observers to carefully assess companies before making investment choices. In this article, we will undertake a comprehensive ... Investigating Microsoft's Standing In Software Industry Compared To Competitors In today's rapidly changing and highly competitive business world, it is imperative for investors and industry observers to carefully assess companies before making investment choices. In this article, we will undertake a comprehensive industry comparison, evaluating Microsoft (NASDAQ:MSFT) vis-à-vis its key competitors in the Software industry. Through a detailed analysis of important financial indicators, market standing, and growth potential, our goal is to provide valuable insights and highlight company's performance in the industry. Microsoft Background Microsoft develops and licenses consumer and enterprise software. It is known for its Windows operating systems and Office productivity suite. The company is organized into three equally sized broad segments: productivity and business processes (legacy Microsoft Office, cloud-based Office 365, Exchange, SharePoint, Skype, LinkedIn, Dynamics), intelligence cloud (infrastructure- and platform-as-a-service offerings Azure, Windows Server OS, SQL Server), and more personal computing (Windows Client, Xbox, Bing search, display advertising, and Surface laptops, tablets, and desktops). Company P/E P/B P/S ROE EBITDA (in billions) Gross Profit (in billions) Revenue Growth Microsoft Corp 33.22 10.12 11.76 8.17% $36.79 $47.83 12.27% Oracle Corp 43.75 36.41 9.26 25.66% $5.75 $9.97 8.64% ServiceNow Inc 149.39 21.96 19.39 4.06% $0.62 $2.33 21.34% Palo Alto Networks Inc 50.95 21.80 16.83 6.33% $0.45 $1.58 13.88% CrowdStrike Holdings Inc 841.02 34.55 28.67 -0.57% $0.05 $0.76 28.52% Fortinet Inc 48.47 56.21 14.20 90.26% $0.66 $1.24 13.0% Gen Digital Inc 27.57 8.06 4.52 7.48% $0.45 $0.79 4.01% Monday.Com Ltd 526.74 15.81 17.61 -1.28% $-0.02 $0.23 32.67% Dolby Laboratories Inc 31.30 3.25 6.25 2.72% $0.11 $0.32 13.13% CommVault Systems Inc 47.19 27.41 8.59 3.9% $0.02 $0.21 21.13% QXO Inc 23.63 1.21 21.53 -0.21% $-0.03 $0.01 -2.0% Qualys Inc 29.61 10.56 8.47 10.53% $0.05 $0.13 8.36% SolarWinds Corp 83.23 2.29 4 0.94% $0.07 $0.18 5.5% Teradata Corp 36.39 23.68 1.70 32.0% $0.08 $0.27 0.46% Progress Software Corp 37.66 5.73 3.42 0.27% $0.05 $0.18 21.47% Average 141.21 19.21 11.75 13.01% $0.59 $1.3 13.58% By conducting a comprehensive analysis of Microsoft, the following trends become evident: * With a Price to Earnings ratio of 33.22, which is 0.24x less than the industry average, the stock shows potential for growth at a reasonable price, making it an interesting consideration for market participants. * The current Price to Book ratio of 10.12, which is 0.53x the industry average, is substantially lower than the industry average, indicating potential undervaluation. * The Price to Sales ratio of 11.76, which is 1.0x the industry average, suggests the stock could potentially be overvalued in relation to its sales performance compared to its peers. * With a Return on Equity (ROE) of 8.17% that is 4.84% below the industry average, it appears that the company exhibits potential inefficiency in utilizing equity to generate profits. * Compared to its industry, the company has higher Earnings Before Interest, Taxes, Depreciation, and Amortization (EBITDA) of $36.79 Billion, which is 62.36x above the industry average, indicating stronger profitability and robust cash flow generation. * Compared to its industry, the company has higher gross profit of $47.83 Billion, which indicates 36.79x above the industry average, indicating stronger profitability and higher earnings from its core operations. * With a revenue growth of 12.27%, which is much lower than the industry average of 13.58%, the company is experiencing a notable slowdown in sales expansion. Debt To Equity Ratio The debt-to-equity (D/E) ratio is an important measure to assess the financial structure and risk profile of a company. Considering the debt-to-equity ratio in industry comparisons allows for a concise evaluation of a company's financial health and risk profile, aiding in informed decision-making. In terms of the Debt-to-Equity ratio, Microsoft stands in comparison with its top 4 peers, leading to the following comparisons: * Microsoft has a stronger financial position compared to its top 4 peers, as evidenced by its lower debt-to-equity ratio of 0.21. * This suggests that the company has a more favorable balance between debt and equity, which can be perceived as a positive indicator by investors. Key Takeaways For Microsoft in the Software industry, the PE and PB ratios suggest the stock is undervalued compared to peers, indicating potential for growth. However, the high PS ratio implies the stock may be overvalued based on revenue. In terms of ROE, Microsoft's performance is lower than industry peers, while its high EBITDA and gross profit indicate strong operational efficiency. The low revenue growth suggests a need for strategic initiatives to drive top-line expansion. This article was generated by Benzinga's automated content engine and reviewed by an editor. © 2025 Benzinga.com. Benzinga does not provide investment advice. All rights reserved.\n",
      "------\n",
      "This Magnificent Seven Tech Cuts Its Loss In 2025; Is Microsoft Stock A Buy In February? - 2025-02-10Is Microsoft stock a buy in February? This fresh take on the long-term leader among tech stocks and growth companies pinpoints the fundamentals, technicals and fund ownership factors that are influencing the stock's recent action. This Magnificent Seven Tech Cuts Its Loss In 2025; Is Microsoft Stock A Buy In February? Is Microsoft stock a buy in February? This fresh take on the long-term leader among tech stocks and growth companies pinpoints the fundamentals, technicals and fund ownership factors that are influencing the stock's recent action. On Thursday, shares in one of the largest companies on the Nasdaq and in the U.S. market edged 0.6% higher to 415.82. But on Friday, Microsoft stock fell harder than the general market. While the S&P 500 sank nearly 0.9% and the Nasdaq 100 slipped 1.1%, Mr. Softy slumped almost 1.5% and made an intraday low of 408.10. On Monday, Microsoft stock recouped a sliver of Friday's loss, up 0.5% in late-afternoon trade. Ultimately, a stock price is determined by the laws of supply and demand. Growth investors focused on making money right when a potential leader is poised to make a bullish breakout past a proper buy point should consider looking closely at the stock's chart action across multiple time frames. Please watch the video at Investors.com - What Makes Trump 2.0 Different And Why DeepSeek Is Not The End Of The AI World Is Microsoft Stock A Buy? First, the fundamentals. According to IBD Stock Checkup, Microsoft ranks first among stocks in the desktop software group. However, a 63 Composite Rating on a scale of 1 to 99 has dropped 3 points in recent days. It also falls well short of the ideal level of 90 or higher. The IBD Composite Rating combines metrics in earnings, sales, profit margins, return on equity with measures of the stock's relative strength vs. all companies in IBD's database. On top of these factors, IBD layers in the quantity of buying vs. selling in Microsoft stock plus industry performance. Microsoft's 88 Earnings Per Share Rating is quite good. It means the business software and cloud computing giant's earnings have grown at a quicker pace than 88% of all stocks in the Investor's Business Daily database of more than 10,000 stocks. In terms of EPS Rating, Microsoft ranks No. 2 in its industry group behind Adobe. Going beyond the EPS Rating, Microsoft's profit picture looks solid but not spectacular. Wall Street consensus forecasts call for earnings in the current fiscal year ending in June to rise 12% to $13.15 a share, a slight downward revision. Still, that's more than quadruple what the Redmond, Wash., firm earned in fiscal 2018 ($3.88). Fiscal 2026 earnings are seen accelerating slightly, up 14% to $14.99 a share. IBD's Big Picture: 'Positive' Volatility; Also, Will These Names Outperform The Chip Sector Leader? Technical Action Today Looking at a monthly chart of Microsoft stock, the megacap tech is obviously not leading the stock market higher. Since reaching an all-time high of 468.35 in July, shares have treaded water, even as the S&P 500 and Nasdaq continued their course of higher highs and higher lows. On the positive side, Microsoft stock appears to be getting support at 400, a psychologically important round number for investors. Let's check out the weekly chart. It shows a seven-month consolidation pattern in the works. Microsoft stock is only 11% off its peak. But it's also trading below its flatlining 10-week and 40-week moving averages. A great stock normally trades above these technical levels right before a powerful breakout to new highs — the best time to grab shares for growth investors. Who Are The Future Microsofts of The Market? Check These Key Growth Stock Lists Microsoft's Relative Strength Measure Another way to get a handle on the technical action? Consider using IBD's unique Relative Strength Rating. Compared with all other companies in the IBD database, Microsoft stock currently gets a lowly 43 Relative Strength Rating. This means Microsoft has outperformed only 43% of all stocks over the past 12 months. MarketSurge, meanwhile, notes an even worse 25 score for the six-month RS Rating. And the three-month rating? It's a horrible 19. Picking the best growth stocks absolutely involves selecting those that are already outperforming their peers before they stage a new strong run.\n",
      "------\n",
      "The Good—and Bad—in Apple, Amazon, and Other Big Tech Earnings - 2025-02-07It is about halfway through the fourth-quarter earnings season, with results available for most of the market's top heavyweights. The Good—and Bad—in Apple, Amazon, and Other Big Tech Earnings It is about halfway through the fourth-quarter earnings season, with results available for most of the market's top heavyweights. Google-parent Alphabet, Amazon.com, Apple, Facebook and Instagram owner Meta Platforms, and Microsoft have all reported. Strong growth in advertising revenue was a big theme, as were huge spending plans for artificial intelligence-related capital expenditures. Slowing growth in all-important cloud revenue tripped up several of the Big Tech companies' results. The five companies had a combined $128 billion in net income on $523 billion in revenue during the last three months of 2025. That's a 26% increase in profit and 10% higher sales than in the same period a year ago. It has been a mixed start to 2025 for shares of the fab five, which command a combined market capitalization of more than $13 trillion. Meta stock has surged out of the gate, rising 21% already, while Apple is down 7% since the start of the year. Amazon is up 9%, a post-earnings swoon cut Alphabet's gain to 1%, and Microsoft is down 1%. Compare that to a 3% year-to-date rise by the S&P 500. Not to be forgotten: Nvidia will publish results for its November-December-January fiscal quarter on Feb. 26. Here are some highlights from each company's reports: Alphabet What was reported: $26.5 billion in net income, or $2.15 in earnings per share (up 31%), on $96.5 billion in revenue (up 12%) What was expected: $2.12 in earnings per share and $96.7 billion in revenue The good: YouTube advertising revenue surged. The Google-parent will invest $75 billion in capital expenditures to accelerate AI initiatives in 2025. The bad: All-important cloud revenue growth decelerated, up 30% from a year earlier, versus a 35% rise in the previous quarter. It also missed expectations. The stock reaction: Alphabet stock dropped 7.3% on Wednesday. Our coverage of the report Amazon What was reported: $20.0 billion in net income, or $1.86 in earnings per share (up 86%), on $187.8 billion in revenue (up 10%) What was expected: $1.49 in earnings per share and $187.3 billion in revenue The good: Black Friday and Cyber Monday week sales broke records. Advertising revenue surged. The bad: Amazon's revenue and profit outlooks for the first quarter both fell well short of expectations. AWS cloud revenue rose by a smaller-than-expected 19%. The stock reaction: Amazon stock was down approximately 3% in early trading on Friday. Our coverage of the report Apple What was reported: $36.3 billion in net income, or $2.40 in earnings per share (up 10%), on $124.3 billion in revenue (up 4%) What was expected: $2.35 in earnings per share on $124.1 billion in revenue The good: Apple's installed base of devices surpassed 2.35 billion. The company reported double-digit growth in its Mac, iPad, and services businesses. The bad: iPhone sales were down 1% from a year earlier. Overall revenue in China declined by 11%. Management expects current-quarter revenue to grow by only \"low-to-mid single digits.\" The stock reaction: Apple stock slipped 0.7% on Friday, Jan. 31. Our coverage of the report Meta Platforms What was reported: $20.8 billion in net income, or $8.02 in earnings per share (up 51%), on $48.4 billion in revenue (up 21%) What was expected: $6.76 in earnings per share on $47 billion in revenue The good: Meta topped earnings estimates by a mile. The number of ads users saw rose by 6% and the average prices for ads jumped 14%. The bad: Meta's revenue outlook came in soft. Management expects expenses to grow by 22% in 2025. TikTok wasn't banned. The stock reaction: Meta stock rose 1.6% on Thursday, Jan. 30. Our coverage of the report Microsoft What was reported: $24.1 billion in net income, or $3.23 in earnings per share (up 10%), on $69.6 billion in revenue (up 12%) What was expected: $3.11 in earnings per share on $68.8 billion in revenue The good: Earnings and revenue beat, and management expects double-digit sales and income growth this year. The bad: Revenue from Azure and other cloud services was up by 31%, slower than growth of 33% one quarter earlier. The DeepSeek threat loomed large over Microsoft's $80 billion AI-spending plan for 2025. The stock reaction: Microsoft dropped 6.2% on Thursday, Jan. 30. Our coverage of the report Write to Nicholas Jasinski at nicholas.jasinski@barrons.com\n",
      "------\n",
      "\n"
     ]
    }
   ],
   "source": [
    "print(prompt_text)"
   ]
  },
  {
   "cell_type": "markdown",
   "metadata": {},
   "source": [
    "This is a quick check to ensure the estimated number of Tokes from the `prompt_text` are below the `LLM_CONTEXT_SIZE`."
   ]
  },
  {
   "cell_type": "code",
   "execution_count": 11,
   "metadata": {},
   "outputs": [
    {
     "data": {
      "text/plain": [
       "True"
      ]
     },
     "execution_count": 11,
     "metadata": {},
     "output_type": "execute_result"
    }
   ],
   "source": [
    "len(re.split(r\"\\b\\w+\\b\", prompt_text)) * 1.25 < LLM_CONTEXT_SIZE"
   ]
  },
  {
   "cell_type": "markdown",
   "metadata": {},
   "source": [
    "LLM Payload requesting a structured response"
   ]
  },
  {
   "cell_type": "code",
   "execution_count": 12,
   "metadata": {},
   "outputs": [],
   "source": [
    "prompt_payload = {\n",
    "    \"model\": \"phi-4\",\n",
    "    \"messages\": [\n",
    "      {\n",
    "        \"role\": \"system\",\n",
    "        \"content\": \"You are an expert news analyst that respond in a professional manner. Use only the context provided by the user to answer its request at the beginning of the prompt.\"\n",
    "      },\n",
    "      {\n",
    "        \"role\": \"user\",\n",
    "        \"content\": prompt_text\n",
    "      }\n",
    "    ],\n",
    "    \"response_format\": {\n",
    "      \"type\": \"json_schema\",\n",
    "      \"json_schema\": {\n",
    "        \"name\": \"prompt_response\",\n",
    "        \"strict\": \"true\",\n",
    "        \"schema\": {\n",
    "          \"type\": \"object\",\n",
    "          \"properties\": {\n",
    "            \"response\": {\n",
    "              \"type\": \"string\"\n",
    "            }\n",
    "          },\n",
    "        \"required\": [\"response\"]\n",
    "        }\n",
    "      }\n",
    "    },\n",
    "    \"temperature\": 0.1,\n",
    "    \"max_tokens\": 500,\n",
    "    \"stream\": False\n",
    "  }"
   ]
  },
  {
   "cell_type": "markdown",
   "metadata": {},
   "source": [
    "The endpoint URL will depend on where the model is running. A tool like LM Studio provides details for developers on the ip address that can be used for this API request. Nonetheless, the general structure is simialar to the OpenAI API and can easily be adapted to use their service.\n",
    "\n",
    "This is the request that can take 1+ minutes to complete."
   ]
  },
  {
   "cell_type": "code",
   "execution_count": 13,
   "metadata": {},
   "outputs": [],
   "source": [
    "summ_resp = r.post(f\"http://192.168.1.10:1234/v1/chat/completions\", json=prompt_payload, headers={'Content-Type': 'application/json'})"
   ]
  },
  {
   "cell_type": "code",
   "execution_count": 14,
   "metadata": {},
   "outputs": [
    {
     "data": {
      "text/html": [
       "<h3>Response:</h3><p>{ \"response\": \"The latest earnings report for Microsoft Corp indicates a mixed performance with several positive and negative aspects highlighted in recent analyses. Financially, Microsoft reported $24.1 billion in net income, or $3.23 per share, on revenue of $69.6 billion, both figures surpassing expectations of $3.11 per share and $68.8 billion in revenue respectively. This performance reflects a 10% increase in earnings and a 12% rise in revenue compared to the previous period. However, there are concerns regarding slower growth in Azure and other cloud services, which saw a 31% increase—a deceleration from the prior quarter's 33%. Despite this, Microsoft anticipates double-digit sales and income growth for the year ahead. The company has also announced an $80 billion investment plan focused on artificial intelligence initiatives for 2025, although there are concerns about competition in AI, notably from DeepSeek. Overall, while Microsoft demonstrates strong profitability and operational efficiency with high EBITDA and gross profit figures, its revenue growth is slightly below the industry average, indicating a need for strategic efforts to enhance top-line expansion.\" }</p>"
      ],
      "text/plain": [
       "<IPython.core.display.HTML object>"
      ]
     },
     "metadata": {},
     "output_type": "display_data"
    }
   ],
   "source": [
    "display(HTML(f\"<h3>Response:</h3><p>{summ_resp.json()['choices'][0]['message']['content']}</p>\"))"
   ]
  }
 ],
 "metadata": {
  "kernelspec": {
   "display_name": "fadev",
   "language": "python",
   "name": "python3"
  },
  "language_info": {
   "codemirror_mode": {
    "name": "ipython",
    "version": 3
   },
   "file_extension": ".py",
   "mimetype": "text/x-python",
   "name": "python",
   "nbconvert_exporter": "python",
   "pygments_lexer": "ipython3",
   "version": "3.12.7"
  }
 },
 "nbformat": 4,
 "nbformat_minor": 2
}
