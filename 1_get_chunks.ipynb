{
 "cells": [
  {
   "cell_type": "markdown",
   "metadata": {},
   "source": [
    "# Retrieval API DEMO"
   ]
  },
  {
   "cell_type": "markdown",
   "metadata": {},
   "source": [
    "## Code Initialisation"
   ]
  },
  {
   "cell_type": "code",
   "execution_count": 15,
   "metadata": {},
   "outputs": [
    {
     "data": {
      "text/plain": [
       "True"
      ]
     },
     "execution_count": 15,
     "metadata": {},
     "output_type": "execute_result"
    }
   ],
   "source": [
    "import os\n",
    "import re\n",
    "import requests as r\n",
    "from IPython.display import Markdown, HTML\n",
    "import utils as u\n",
    "from dotenv import load_dotenv\n",
    "\n",
    "load_dotenv()"
   ]
  },
  {
   "cell_type": "markdown",
   "metadata": {},
   "source": [
    "## Constants"
   ]
  },
  {
   "cell_type": "code",
   "execution_count": 16,
   "metadata": {},
   "outputs": [],
   "source": [
    "API_HOST = 'api.dowjones.com'\n",
    "AUTH_HOST = 'accounts.dowjones.com'\n",
    "CLIENT_ID = os.getenv('FACTIVA_CLIENTID')\n",
    "USERNAME = os.getenv('FACTIVA_USERNAME')\n",
    "PASSWORD = os.getenv('FACTIVA_PASSWORD')\n",
    "AUTH_URL = f\"https://{AUTH_HOST}/oauth2/v1/token\"\n",
    "LLM_CONTEXT_SIZE = 4096"
   ]
  },
  {
   "cell_type": "markdown",
   "metadata": {},
   "source": [
    "## Authentication - Generate Bearer\n",
    "\n",
    "For details about getting the `bearer_token`, please see the `utils.py` file."
   ]
  },
  {
   "cell_type": "code",
   "execution_count": 17,
   "metadata": {},
   "outputs": [
    {
     "data": {
      "text/markdown": [
       "**Authentication Successful**: Bearer token OK"
      ],
      "text/plain": [
       "<IPython.core.display.Markdown object>"
      ]
     },
     "metadata": {},
     "output_type": "display_data"
    }
   ],
   "source": [
    "bearer_token = u.get_bearer_token(CLIENT_ID, USERNAME, PASSWORD, AUTH_URL)\n",
    "if bearer_token:\n",
    "    display(Markdown('**Authentication Successful**: Bearer token OK'))\n",
    "else:\n",
    "    display(Markdown('**Authentication Failed**: Cannot obtain the Bearer token'))"
   ]
  },
  {
   "cell_type": "code",
   "execution_count": 18,
   "metadata": {},
   "outputs": [],
   "source": [
    "req_headers = {\n",
    "    \"Authorization\": f\"Bearer {bearer_token}\",\n",
    "    \"Content-Type\": \"application/json\"\n",
    "}"
   ]
  },
  {
   "cell_type": "markdown",
   "metadata": {},
   "source": [
    "## Factiva Retrieval API Query"
   ]
  },
  {
   "cell_type": "code",
   "execution_count": 19,
   "metadata": {},
   "outputs": [],
   "source": [
    "frapi_query = {\n",
    "  \"data\": {\n",
    "    \"attributes\": {\n",
    "      \"response_limit\": 3,\n",
    "      \"query\": {\n",
    "        \"search_filters\": [\n",
    "          {\n",
    "            \"scope\": \"Language\",\n",
    "            \"value\": \"en\"\n",
    "          }\n",
    "        ],\n",
    "        # \"What are NASA's planned missions to the Moon in 2025, and what are their primary objectives?\"\n",
    "        # \"Summarise the latest earnings report from Microsoft Corp\"\n",
    "        \"value\": \"Summarise the latest earnings report from Microsoft Corp\"\n",
    "      }\n",
    "    },\n",
    "    \"id\": \"GenAIRetrievalExample\",\n",
    "    \"type\": \"genai-content\"\n",
    "  }\n",
    "}\n"
   ]
  },
  {
   "cell_type": "markdown",
   "metadata": {},
   "source": [
    "## Send Query and Receive Chunks from the Retrieval API"
   ]
  },
  {
   "cell_type": "code",
   "execution_count": 21,
   "metadata": {},
   "outputs": [
    {
     "name": "stdout",
     "output_type": "stream",
     "text": [
      "Successfully retrieved chunks\n"
     ]
    }
   ],
   "source": [
    "chunks_resp = r.post(f\"https://{API_HOST}/content/gen-ai/retrieve\", json=frapi_query, headers=req_headers)\n",
    "\n",
    "if chunks_resp.status_code == 200:\n",
    "    print('Successfully retrieved chunks')\n",
    "else:\n",
    "    print(f\"Request Failed: {chunks_resp.json()}\")"
   ]
  },
  {
   "cell_type": "markdown",
   "metadata": {},
   "source": [
    "## Print Chunks"
   ]
  },
  {
   "cell_type": "code",
   "execution_count": 22,
   "metadata": {},
   "outputs": [
    {
     "data": {
      "text/markdown": [
       "### Investigating Microsoft's Standing In Software Industry Compared To Competitors"
      ],
      "text/plain": [
       "<IPython.core.display.Markdown object>"
      ]
     },
     "metadata": {},
     "output_type": "display_data"
    },
    {
     "data": {
      "text/markdown": [
       "**Benzinga.com** - 2025-02-13 - BNZNGA0020250213el2d000xg - Lang: en"
      ],
      "text/plain": [
       "<IPython.core.display.Markdown object>"
      ]
     },
     "metadata": {},
     "output_type": "display_data"
    },
    {
     "data": {
      "text/markdown": [
       "In today's rapidly changing and fiercely competitive business landscape, it is essential for investors and industry enthusiasts to thoroughly analyze companies. In this article, we will conduct a comprehensive industry comparison, ... Investigating Microsoft's Standing In Software Industry Compared To Competitors In today's rapidly changing and fiercely competitive business landscape, it is essential for investors and industry enthusiasts to thoroughly analyze companies. In this article, we will conduct a comprehensive industry comparison, evaluating Microsoft (NASDAQ:MSFT) against its key competitors in the Software industry. By examining key financial metrics, market position, and growth prospects, we aim to provide valuable insights for investors and shed light on company's performance within the industry. Microsoft Background Microsoft develops and licenses consumer and enterprise software. It is known for its Windows operating systems and Office productivity suite. The company is organized into three equally sized broad segments: productivity and business processes (legacy Microsoft Office, cloud-based Office 365, Exchange, SharePoint, Skype, LinkedIn, Dynamics), intelligence cloud (infrastructure- and platform-as-a-service offerings Azure, Windows Server OS, SQL Server), and more personal computing (Windows Client, Xbox, Bing search, display advertising, and Surface laptops, tablets, and desktops). Company P/E P/B P/S ROE EBITDA (in billions) Gross Profit (in billions) Revenue Growth Microsoft Corp 32.96 10.05 11.67 8.17% $36.79 $47.83 12.27% Oracle Corp 42.11 35.04 8.91 25.66% $5.75 $9.97 8.64% ServiceNow Inc 143.63 21.11 18.64 4.06% $0.62 $2.33 21.34% Palo Alto Networks Inc 51.03 21.84 16.86 6.33% $0.45 $1.58 13.88% CrowdStrike Holdings Inc 852.22 35.01 29.06 -0.57% $0.05 $0.76 28.52% Fortinet Inc 47.65 55.26 13.96 90.26% $0.66 $1.24 13.0% Gen Digital Inc 26.89 7.86 4.41 7.48% $0.45 $0.79 4.01% Monday.Com Ltd 512.47 15.38 17.14 -1.28% $-0.02 $0.23 32.67% Dolby Laboratories Inc 30.73 3.19 6.14 2.72% $0.11 $0.32 13.13% CommVault Systems Inc 46.99 27.29 8.55 3.9% $0.02 $0.21 21.13% QXO Inc 23.51 1.21 21.42 -0.21% $-0.03 $0.01 -2.0% Qualys Inc 29.69 10.59 8.49 10.53% $0.05 $0.13 8.36% SolarWinds Corp 83.23 2.29 4 0.94% $0.07 $0.18 5.5% Progress Software Corp 37.07 5.64 3.37 0.27% $0.05 $0.18 21.47% Teradata Corp 21.22 17.72 1.38 32.0% $0.08 $0.27 0.46% Average 139.17 18.53 11.6 13.01% $0.59 $1.3 13.58% Upon closer analysis of Microsoft, the following trends become apparent: * A Price to Earnings ratio of 32.96 significantly below the industry average by 0.24x suggests undervaluation. This can make the stock appealing for those seeking growth. * Considering a Price to Book ratio of 10.05, which is well below the industry average by 0.54x, the stock may be undervalued based on its book value compared to its peers. * The Price to Sales ratio of 11.67, which is 1.01x the industry average, suggests the stock could potentially be overvalued in relation to its sales performance compared to its peers. * The Return on Equity (ROE) of 8.17% is 4.84% below the industry average, suggesting potential inefficiency in utilizing equity to generate profits. * Compared to its industry, the company has higher Earnings Before Interest, Taxes, Depreciation, and Amortization (EBITDA) of $36.79 Billion, which is 62.36x above the industry average, indicating stronger profitability and robust cash flow generation. * With higher gross profit of $47.83 Billion, which indicates 36.79x above the industry average, the company demonstrates stronger profitability and higher earnings from its core operations. * The company is witnessing a substantial decline in revenue growth, with a rate of 12.27% compared to the industry average of 13.58%, which indicates a challenging sales environment. Debt To Equity Ratio The debt-to-equity (D/E) ratio indicates the proportion of debt and equity used by a company to finance its assets and operations. Considering the debt-to-equity ratio in industry comparisons allows for a concise evaluation of a company's financial health and risk profile, aiding in informed decision-making. By analyzing Microsoft in relation to its top 4 peers based on the Debt-to-Equity ratio, the following insights can be derived: * Among its top 4 peers, Microsoft has a stronger financial position with a lower debt-to-equity ratio of 0.21. * This indicates that the company relies less on debt financing and maintains a more favorable balance between debt and equity, which can be viewed positively by investors. Key Takeaways For Microsoft in the Software industry, the PE and PB ratios suggest that the company is undervalued compared to its peers. However, the high PS ratio indicates that the market values Microsoft's sales more highly. In terms of ROE, EBITDA, and gross profit, Microsoft outperforms its peers, reflecting strong profitability and operational efficiency. The low revenue growth rate may indicate a need for Microsoft to focus on expanding its top line to align with industry trends. This article was generated by Benzinga's automated content engine and reviewed by an editor. © 2025 Benzinga.com. Benzinga does not provide investment advice. All rights reserved."
      ],
      "text/plain": [
       "<IPython.core.display.Markdown object>"
      ]
     },
     "metadata": {},
     "output_type": "display_data"
    },
    {
     "data": {
      "text/markdown": [
       "---"
      ],
      "text/plain": [
       "<IPython.core.display.Markdown object>"
      ]
     },
     "metadata": {},
     "output_type": "display_data"
    },
    {
     "data": {
      "text/markdown": [
       "### This Magnificent Seven Tech Hits New Low In 2025; Is Microsoft Stock A Buy In February?"
      ],
      "text/plain": [
       "<IPython.core.display.Markdown object>"
      ]
     },
     "metadata": {},
     "output_type": "display_data"
    },
    {
     "data": {
      "text/markdown": [
       "**Investor's Business Daily** - 2025-02-12 - INVDAI0020250206el26001up - Lang: en"
      ],
      "text/plain": [
       "<IPython.core.display.Markdown object>"
      ]
     },
     "metadata": {},
     "output_type": "display_data"
    },
    {
     "data": {
      "text/markdown": [
       "Is Microsoft stock a buy in February? This fresh take on the long-term leader among tech stocks and growth companies pinpoints the fundamentals, technicals and fund ownership factors that are influencing the stock's recent action. This Magnificent Seven Tech Hits New Low In 2025; Is Microsoft Stock A Buy In February? Is Microsoft stock a buy in February? This fresh take on the long-term leader among tech stocks and growth companies pinpoints the fundamentals, technicals and fund ownership factors that are influencing the stock's recent action. In Wednesday trading, Microsoft stock bounced off its intraday low of 404.37 and cut its loss to around 0.6%. Yet that's disappointing action, given that the Nasdaq composite turned early losses into a tiny gain and the S&P 500 fell only 0.3%. At the session low of 404.37, MSFT marked a six-month low as well. It closed the day at 409.04, marking the worst close since Nov. 4. Please watch the video at Investors.com - What Makes Trump 2.0 Different And Why DeepSeek Is Not The End Of The AI World Ultimately, a stock price is determined by the laws of supply and demand. Growth investors focused on making money right when a potential leader is poised to make a bullish breakout past a proper buy point should consider looking closely at the stock's chart action across multiple time frames. Is Microsoft Stock A Buy? First, the fundamentals. According to IBD Stock Checkup, Microsoft ranks first among stocks in the desktop software group. However, a 61 Composite Rating on a scale of 1 to 99 dropped from 65 the prior day. And it falls well short of the ideal level of 90 or higher. The IBD Composite Rating combines metrics in earnings, sales, profit margins, return on equity with measures of the stock's relative strength vs. all companies in IBD's database. On top of these factors, IBD layers in the quantity of buying vs. selling in Microsoft stock plus industry performance. Microsoft's 89 Earnings Per Share Rating is quite good. It means the business software and cloud computing giant's earnings have grown at a quicker pace than 88% of all stocks in the Investor's Business Daily database of more than 10,000 stocks. In terms of EPS Rating, Microsoft ranks No. 2 in its industry group behind Adobe. Going beyond the EPS Rating, Microsoft's profit picture looks solid but not spectacular. Wall Street consensus forecasts call for earnings in the current fiscal year ending in June to rise 12% to $13.15 a share, a slight downward revision. Still, that's more than quadruple what the Redmond, Wash., firm earned in fiscal 2018 ($3.88). Fiscal 2026 earnings are seen accelerating slightly, up 14% to $14.96 a share. IBD's Big Picture: 'Positive' Volatility; Also, Will These Names Outperform The Chip Sector Leader? Technical Action Today Looking at a monthly chart of Microsoft stock, the megacap tech is obviously not leading the stock market higher. Since reaching an all-time high of 468.35 in July, shares have treaded water, even as the S&P 500 and Nasdaq continued their course of higher highs and higher lows. On the positive side, Microsoft stock appears to be getting support at 400, a psychologically important round number for investors. Let's check out the weekly chart. It shows a seven-month consolidation pattern in the works. Microsoft stock is only 11% off its peak. But it's also trading below its flatlining 10-week and 40-week moving averages. A great stock normally trades above these technical levels right before a powerful breakout to new highs — the best time to grab shares for growth investors. Who Are The Future Microsofts of The Market? Check These Key Growth Stock Lists Microsoft's Strength Vs. Rest Of Market Another way to get a handle on the technical action? Consider using IBD's unique Relative Strength Rating. Compared with all other companies in the IBD database, Microsoft stock currently gets a lowly 36 Relative Strength Rating. This means Microsoft has outperformed only 36% of all stocks over the past 12 months. MarketSurge, meanwhile, notes an even worse 27 score for the six-month RS Rating. And the three-month rating? Weaker at 22. This means Microsoft stock has outperformed only 22% of all companies in the IBD database over the past three months. Picking the best growth stocks absolutely involves selecting those that are already outperforming their peers before they stage a new strong run."
      ],
      "text/plain": [
       "<IPython.core.display.Markdown object>"
      ]
     },
     "metadata": {},
     "output_type": "display_data"
    },
    {
     "data": {
      "text/markdown": [
       "---"
      ],
      "text/plain": [
       "<IPython.core.display.Markdown object>"
      ]
     },
     "metadata": {},
     "output_type": "display_data"
    },
    {
     "data": {
      "text/markdown": [
       "### Insights Into Microsoft's Performance Versus Peers In Software Sector"
      ],
      "text/plain": [
       "<IPython.core.display.Markdown object>"
      ]
     },
     "metadata": {},
     "output_type": "display_data"
    },
    {
     "data": {
      "text/markdown": [
       "**Benzinga.com** - 2025-02-12 - BNZNGA0020250212el2c00130 - Lang: en"
      ],
      "text/plain": [
       "<IPython.core.display.Markdown object>"
      ]
     },
     "metadata": {},
     "output_type": "display_data"
    },
    {
     "data": {
      "text/markdown": [
       "In today's rapidly changing and highly competitive business world, it is imperative for investors and industry observers to carefully assess companies before making investment choices. In this article, we will undertake a comprehensive ... Insights Into Microsoft's Performance Versus Peers In Software Sector In today's rapidly changing and highly competitive business world, it is imperative for investors and industry observers to carefully assess companies before making investment choices. In this article, we will undertake a comprehensive industry comparison, evaluating Microsoft (NASDAQ:MSFT) vis-à-vis its key competitors in the Software industry. Through a detailed analysis of important financial indicators, market standing, and growth potential, our goal is to provide valuable insights and highlight company's performance in the industry. Microsoft Background Microsoft develops and licenses consumer and enterprise software. It is known for its Windows operating systems and Office productivity suite. The company is organized into three equally sized broad segments: productivity and business processes (legacy Microsoft Office, cloud-based Office 365, Exchange, SharePoint, Skype, LinkedIn, Dynamics), intelligence cloud (infrastructure- and platform-as-a-service offerings Azure, Windows Server OS, SQL Server), and more personal computing (Windows Client, Xbox, Bing search, display advertising, and Surface laptops, tablets, and desktops). Company P/E P/B P/S ROE EBITDA (in billions) Gross Profit (in billions) Revenue Growth Microsoft Corp 33.15 10.10 11.74 8.17% $36.79 $47.83 12.27% Oracle Corp 43.32 36.05 9.17 25.66% $5.75 $9.97 8.64% ServiceNow Inc 147.52 21.68 19.15 4.06% $0.62 $2.33 21.34% Palo Alto Networks Inc 50.71 21.70 16.75 6.33% $0.45 $1.58 13.88% CrowdStrike Holdings Inc 846.35 34.77 28.86 -0.57% $0.05 $0.76 28.52% Fortinet Inc 47.93 55.58 14.04 90.26% $0.66 $1.24 13.0% Gen Digital Inc 27.30 7.98 4.48 7.48% $0.45 $0.79 4.01% Monday.Com Ltd 528.90 15.87 17.69 -1.28% $-0.02 $0.23 32.67% Dolby Laboratories Inc 30.93 3.21 6.18 2.72% $0.11 $0.32 13.13% CommVault Systems Inc 46.98 27.29 8.55 3.9% $0.02 $0.21 21.13% QXO Inc 23.63 1.21 21.53 -0.21% $-0.03 $0.01 -2.0% Qualys Inc 29.53 10.53 8.44 10.53% $0.05 $0.13 8.36% SolarWinds Corp 82.86 2.28 3.98 0.94% $0.07 $0.18 5.5% Teradata Corp 26.63 22.23 1.73 32.0% $0.08 $0.27 0.46% Progress Software Corp 37.29 5.68 3.39 0.27% $0.05 $0.18 21.47% Average 140.71 19.0 11.71 13.01% $0.59 $1.3 13.58% By carefully studying Microsoft, we can deduce the following trends: * At 33.15, the stock's Price to Earnings ratio is 0.24x less than the industry average, suggesting favorable growth potential. * The current Price to Book ratio of 10.1, which is 0.53x the industry average, is substantially lower than the industry average, indicating potential undervaluation. * The Price to Sales ratio of 11.74, which is 1.0x the industry average, suggests the stock could potentially be overvalued in relation to its sales performance compared to its peers. * With a Return on Equity (ROE) of 8.17% that is 4.84% below the industry average, it appears that the company exhibits potential inefficiency in utilizing equity to generate profits. * The company has higher Earnings Before Interest, Taxes, Depreciation, and Amortization (EBITDA) of $36.79 Billion, which is 62.36x above the industry average, indicating stronger profitability and robust cash flow generation. * Compared to its industry, the company has higher gross profit of $47.83 Billion, which indicates 36.79x above the industry average, indicating stronger profitability and higher earnings from its core operations. * The company's revenue growth of 12.27% is significantly lower compared to the industry average of 13.58%. This indicates a potential fall in the company's sales performance. Debt To Equity Ratio The debt-to-equity (D/E) ratio is a measure that indicates the level of debt a company has taken on relative to the value of its assets net of liabilities. Considering the debt-to-equity ratio in industry comparisons allows for a concise evaluation of a company's financial health and risk profile, aiding in informed decision-making. When assessing Microsoft against its top 4 peers using the Debt-to-Equity ratio, the following comparisons can be made: * Microsoft exhibits a stronger financial position compared to its top 4 peers in the sector, as indicated by its lower debt-to-equity ratio of 0.21. * This suggests that the company has a more favorable balance between debt and equity, which can be seen as a positive aspect for investors. Key Takeaways For Microsoft in the Software industry, the PE and PB ratios suggest the stock is undervalued compared to peers, indicating potential for growth. However, the high PS ratio implies the stock may be overvalued based on revenue. In terms of ROE, EBITDA, and gross profit, Microsoft shows strong performance, indicating efficient operations and profitability. The low revenue growth suggests a slower expansion rate compared to industry peers. This article was generated by Benzinga's automated content engine and reviewed by an editor. © 2025 Benzinga.com. Benzinga does not provide investment advice. All rights reserved."
      ],
      "text/plain": [
       "<IPython.core.display.Markdown object>"
      ]
     },
     "metadata": {},
     "output_type": "display_data"
    },
    {
     "data": {
      "text/markdown": [
       "---"
      ],
      "text/plain": [
       "<IPython.core.display.Markdown object>"
      ]
     },
     "metadata": {},
     "output_type": "display_data"
    },
    {
     "data": {
      "text/markdown": [
       "### Comparative Study: Microsoft And Industry Competitors In Software Industry"
      ],
      "text/plain": [
       "<IPython.core.display.Markdown object>"
      ]
     },
     "metadata": {},
     "output_type": "display_data"
    },
    {
     "data": {
      "text/markdown": [
       "**Benzinga.com** - 2025-02-10 - BNZNGA0020250210el2a000jl - Lang: en"
      ],
      "text/plain": [
       "<IPython.core.display.Markdown object>"
      ]
     },
     "metadata": {},
     "output_type": "display_data"
    },
    {
     "data": {
      "text/markdown": [
       "In the dynamic and fiercely competitive business environment, conducting a thorough analysis of companies is crucial for investors and industry enthusiasts. In this article, we will perform an extensive industry comparison, evaluating ... Comparative Study: Microsoft And Industry Competitors In Software Industry In the dynamic and fiercely competitive business environment, conducting a thorough analysis of companies is crucial for investors and industry enthusiasts. In this article, we will perform an extensive industry comparison, evaluating Microsoft (NASDAQ:MSFT) in relation to its major competitors in the Software industry. By closely examining crucial financial metrics, market position, and growth prospects, we aim to offer valuable insights for investors and shed light on company's performance within the industry. Microsoft Background Microsoft develops and licenses consumer and enterprise software. It is known for its Windows operating systems and Office productivity suite. The company is organized into three equally sized broad segments: productivity and business processes (legacy Microsoft Office, cloud-based Office 365, Exchange, SharePoint, Skype, LinkedIn, Dynamics), intelligence cloud (infrastructure- and platform-as-a-service offerings Azure, Windows Server OS, SQL Server), and more personal computing (Windows Client, Xbox, Bing search, display advertising, and Surface laptops, tablets, and desktops). Company P/E P/B P/S ROE EBITDA (in billions) Gross Profit (in billions) Revenue Growth Microsoft Corp 33.02 10.06 11.69 8.17% $36.79 $47.83 12.27% Oracle Corp 42.66 35.50 9.03 25.66% $5.75 $9.97 8.64% ServiceNow Inc 147.41 21.67 19.13 4.06% $0.62 $2.33 21.34% Palo Alto Networks Inc 50.31 21.53 16.62 6.33% $0.45 $1.58 13.88% CrowdStrike Holdings Inc 826.65 33.96 28.18 -0.57% $0.05 $0.76 28.52% Fortinet Inc 47.64 55.24 13.95 90.26% $0.66 $1.24 13.0% Gen Digital Inc 27.09 7.92 4.44 7.48% $0.45 $0.79 4.01% Monday.Com Ltd 600.56 13.26 14.64 -1.28% $-0.02 $0.23 32.67% Dolby Laboratories Inc 31.06 3.22 6.20 2.72% $0.11 $0.32 13.13% CommVault Systems Inc 46.27 26.87 8.42 3.9% $0.02 $0.21 21.13% QXO Inc 23.30 1.20 21.23 -0.21% $-0.03 $0.01 -2.0% Qualys Inc 29.15 10.40 8.33 10.53% $0.05 $0.13 8.36% SolarWinds Corp 83.23 2.29 4 0.94% $0.07 $0.18 5.5% Teradata Corp 36.29 23.62 1.70 32.0% $0.08 $0.27 0.46% Progress Software Corp 37.14 5.65 3.37 0.27% $0.05 $0.18 21.47% Average 144.91 18.74 11.37 13.01% $0.59 $1.3 13.58% By closely examining Microsoft, we can identify the following trends: * The Price to Earnings ratio of 33.02 is 0.23x lower than the industry average, indicating potential undervaluation for the stock. * The current Price to Book ratio of 10.06, which is 0.54x the industry average, is substantially lower than the industry average, indicating potential undervaluation. * The Price to Sales ratio of 11.69, which is 1.03x the industry average, suggests the stock could potentially be overvalued in relation to its sales performance compared to its peers. * The Return on Equity (ROE) of 8.17% is 4.84% below the industry average, suggesting potential inefficiency in utilizing equity to generate profits. * The company has higher Earnings Before Interest, Taxes, Depreciation, and Amortization (EBITDA) of $36.79 Billion, which is 62.36x above the industry average, indicating stronger profitability and robust cash flow generation. * The company has higher gross profit of $47.83 Billion, which indicates 36.79x above the industry average, indicating stronger profitability and higher earnings from its core operations. * The company's revenue growth of 12.27% is significantly lower compared to the industry average of 13.58%. This indicates a potential fall in the company's sales performance. Debt To Equity Ratio The debt-to-equity (D/E) ratio provides insights into the proportion of debt a company has in relation to its equity and asset value. Considering the debt-to-equity ratio in industry comparisons allows for a concise evaluation of a company's financial health and risk profile, aiding in informed decision-making. In terms of the Debt-to-Equity ratio, Microsoft can be assessed by comparing it to its top 4 peers, resulting in the following observations: * Microsoft demonstrates a stronger financial position compared to its top 4 peers in the sector. * With a lower debt-to-equity ratio of 0.21, the company relies less on debt financing and maintains a healthier balance between debt and equity, which can be viewed positively by investors. Key Takeaways For Microsoft in the Software industry, the PE and PB ratios suggest the stock is undervalued compared to peers, indicating potential for growth. However, the high PS ratio implies the stock may be overvalued based on revenue. In terms of ROE, EBITDA, and gross profit, Microsoft shows strong performance, indicating efficient operations and profitability. The low revenue growth suggests a slower expansion rate compared to industry peers. This article was generated by Benzinga's automated content engine and reviewed by an editor. © 2025 Benzinga.com. Benzinga does not provide investment advice. All rights reserved."
      ],
      "text/plain": [
       "<IPython.core.display.Markdown object>"
      ]
     },
     "metadata": {},
     "output_type": "display_data"
    },
    {
     "data": {
      "text/markdown": [
       "---"
      ],
      "text/plain": [
       "<IPython.core.display.Markdown object>"
      ]
     },
     "metadata": {},
     "output_type": "display_data"
    },
    {
     "data": {
      "text/markdown": [
       "### The Good—and Bad—in Apple, Amazon, and Other Big Tech Earnings"
      ],
      "text/plain": [
       "<IPython.core.display.Markdown object>"
      ]
     },
     "metadata": {},
     "output_type": "display_data"
    },
    {
     "data": {
      "text/markdown": [
       "**Barron's Online** - 2025-02-07 - BON0000020250207el27001e1 - Lang: en"
      ],
      "text/plain": [
       "<IPython.core.display.Markdown object>"
      ]
     },
     "metadata": {},
     "output_type": "display_data"
    },
    {
     "data": {
      "text/markdown": [
       "It is about halfway through the fourth-quarter earnings season, with results available for most of the market's top heavyweights. The Good—and Bad—in Apple, Amazon, and Other Big Tech Earnings It is about halfway through the fourth-quarter earnings season, with results available for most of the market's top heavyweights. Google-parent Alphabet, Amazon.com, Apple, Facebook and Instagram owner Meta Platforms, and Microsoft have all reported. Strong growth in advertising revenue was a big theme, as were huge spending plans for artificial intelligence-related capital expenditures. Slowing growth in all-important cloud revenue tripped up several of the Big Tech companies' results. The five companies had a combined $128 billion in net income on $523 billion in revenue during the last three months of 2025. That's a 26% increase in profit and 10% higher sales than in the same period a year ago. It has been a mixed start to 2025 for shares of the fab five, which command a combined market capitalization of more than $13 trillion. Meta stock has surged out of the gate, rising 21% already, while Apple is down 7% since the start of the year. Amazon is up 9%, a post-earnings swoon cut Alphabet's gain to 1%, and Microsoft is down 1%. Compare that to a 3% year-to-date rise by the S&P 500. Not to be forgotten: Nvidia will publish results for its November-December-January fiscal quarter on Feb. 26. Here are some highlights from each company's reports: Alphabet What was reported: $26.5 billion in net income, or $2.15 in earnings per share (up 31%), on $96.5 billion in revenue (up 12%) What was expected: $2.12 in earnings per share and $96.7 billion in revenue The good: YouTube advertising revenue surged. The Google-parent will invest $75 billion in capital expenditures to accelerate AI initiatives in 2025. The bad: All-important cloud revenue growth decelerated, up 30% from a year earlier, versus a 35% rise in the previous quarter. It also missed expectations. The stock reaction: Alphabet stock dropped 7.3% on Wednesday. Our coverage of the report Amazon What was reported: $20.0 billion in net income, or $1.86 in earnings per share (up 86%), on $187.8 billion in revenue (up 10%) What was expected: $1.49 in earnings per share and $187.3 billion in revenue The good: Black Friday and Cyber Monday week sales broke records. Advertising revenue surged. The bad: Amazon's revenue and profit outlooks for the first quarter both fell well short of expectations. AWS cloud revenue rose by a smaller-than-expected 19%. The stock reaction: Amazon stock was down approximately 3% in early trading on Friday. Our coverage of the report Apple What was reported: $36.3 billion in net income, or $2.40 in earnings per share (up 10%), on $124.3 billion in revenue (up 4%) What was expected: $2.35 in earnings per share on $124.1 billion in revenue The good: Apple's installed base of devices surpassed 2.35 billion. The company reported double-digit growth in its Mac, iPad, and services businesses. The bad: iPhone sales were down 1% from a year earlier. Overall revenue in China declined by 11%. Management expects current-quarter revenue to grow by only \"low-to-mid single digits.\" The stock reaction: Apple stock slipped 0.7% on Friday, Jan. 31. Our coverage of the report Meta Platforms What was reported: $20.8 billion in net income, or $8.02 in earnings per share (up 51%), on $48.4 billion in revenue (up 21%) What was expected: $6.76 in earnings per share on $47 billion in revenue The good: Meta topped earnings estimates by a mile. The number of ads users saw rose by 6% and the average prices for ads jumped 14%. The bad: Meta's revenue outlook came in soft. Management expects expenses to grow by 22% in 2025. TikTok wasn't banned. The stock reaction: Meta stock rose 1.6% on Thursday, Jan. 30. Our coverage of the report Microsoft What was reported: $24.1 billion in net income, or $3.23 in earnings per share (up 10%), on $69.6 billion in revenue (up 12%) What was expected: $3.11 in earnings per share on $68.8 billion in revenue The good: Earnings and revenue beat, and management expects double-digit sales and income growth this year. The bad: Revenue from Azure and other cloud services was up by 31%, slower than growth of 33% one quarter earlier. The DeepSeek threat loomed large over Microsoft's $80 billion AI-spending plan for 2025. The stock reaction: Microsoft dropped 6.2% on Thursday, Jan. 30. Our coverage of the report Write to Nicholas Jasinski at nicholas.jasinski@barrons.com"
      ],
      "text/plain": [
       "<IPython.core.display.Markdown object>"
      ]
     },
     "metadata": {},
     "output_type": "display_data"
    },
    {
     "data": {
      "text/markdown": [
       "---"
      ],
      "text/plain": [
       "<IPython.core.display.Markdown object>"
      ]
     },
     "metadata": {},
     "output_type": "display_data"
    },
    {
     "data": {
      "text/markdown": [
       "### *Microsoft 2Q Rev $69.6B >MSFT"
      ],
      "text/plain": [
       "<IPython.core.display.Markdown object>"
      ]
     },
     "metadata": {},
     "output_type": "display_data"
    },
    {
     "data": {
      "text/markdown": [
       "**Dow Jones Institutional News** - 2025-01-29 - DJDN000020250129el1t0038c - Lang: en"
      ],
      "text/plain": [
       "<IPython.core.display.Markdown object>"
      ]
     },
     "metadata": {},
     "output_type": "display_data"
    },
    {
     "data": {
      "text/markdown": [
       "29 Jan 2025 16:05 ET *Microsoft 2Q EPS $3.23 >MSFT *Microsoft 2Q Rev $69.6B >MSFT 29 Jan 2025 16:05 ET *Microsoft 2Q EPS $3.23 >MSFT 29 Jan 2025 16:08 ET *Microsoft: Revenue in Productivity and Business Processes Was $29.4 Billion and Increased 14% (up 13% in Constant Currency) >MSFT 29 Jan 2025 16:08 ET *Microsoft: Revenue in Intelligent Cloud Was $25.5 Billion and Increased 19% >MSFT 29 Jan 2025 16:08 ET *Microsoft: Server Products and Cloud Services Revenue Increased 21% Driven by Azure and Other Cloud Services Revenue Growth of 31% >MSFT 29 Jan 2025 16:08 ET *Microsoft: This Quarter Cloud Revenue Was $40.9 Billion, Up 21% Year-Over-Year, Remain Committed to Balancing Operational Discipline With Continued Investments in Cloud and AI Infrastructure >MSFT 29 Jan 2025 16:10 ET *Microsoft: Innovating Across Tech Stack and Helping Customers Unlock the Full ROI of AI to Capture the Massive Opportunity Ahead >MSFT 29 Jan 2025 16:10 ET *Microsoft: AI Business Has Surpassed an Annual Revenue Run Rate of $13 Billion, Up 175% Year-over-Year >MSFT 29 Jan 2025 16:10 ET *Microsoft: Will Provide Forward-Looking Guidance in Connection With This Quarterly Earnings Announcement on Earnings Conference Call and Webcast >MSFT 29 Jan 2025 16:14 ET *Microsoft: 2Q Operating Income $31.7 Billion and Increased 17% YoY (Up 16% in Constant Currency) >MSFT 29 Jan 2025 16:20 ET *Microsoft: 2Q Microsoft 365 Commercial Products and Cloud Services Revenue Increased 15% Driven by Microsoft 365 Commercial Cloud Revenue Growth of 16% (up 15% in Constant Currency) >MSFT 29 Jan 2025 16:20 ET *Microsoft: Microsoft 365 Consumer Products and Cloud Services Revenue Increased 8% Driven by Microsoft 365 Consumer Cloud Revenue Growth of 8% >MSFT 29 Jan 2025 16:20 ET *Microsoft: LinkedIn Revenue Increased 9% >MSFT 29 Jan 2025 16:20 ET *Microsoft: Dynamics Products and Cloud Services Revenue Increased 15% (Up 14% in Constant Currency) Driven by Dynamics 365 Revenue Growth of 19% (up 18% in Constant Currency)>MSFT 29 Jan 2025 16:20 ET *Microsoft: Revenue in More Personal Computing Was $14.7 Billion and Was Relatively Unchanged >MSFT 29 Jan 2025 16:20 ET *Microsoft: Windows OEM and Devices Revenue Increased 4% >MSFT 29 Jan 2025 16:20 ET *Microsoft: Xbox Content and Services Revenue Increased 2% >MSFT 29 Jan 2025 16:21 ET *Microsoft: Search and News Advertising Revenue Excluding Traffic Acquisition Costs Increased 21% (Up 20% in Constant Currency) >MSFT 29 Jan 2025 16:21 ET *Microsoft: Returned $9.7 Billion to Shareholders in the Form of Dividends and Share Repurchases in 2Q >MSFT (MORE TO FOLLOW) Dow Jones Newswires January 29, 2025 16:21 ET (21:21 GMT)"
      ],
      "text/plain": [
       "<IPython.core.display.Markdown object>"
      ]
     },
     "metadata": {},
     "output_type": "display_data"
    },
    {
     "data": {
      "text/markdown": [
       "---"
      ],
      "text/plain": [
       "<IPython.core.display.Markdown object>"
      ]
     },
     "metadata": {},
     "output_type": "display_data"
    },
    {
     "data": {
      "text/markdown": [
       "###                            Microsoft's Earnings Beat Estimates. The Stock Is Still Falling. -- Barrons.com"
      ],
      "text/plain": [
       "<IPython.core.display.Markdown object>"
      ]
     },
     "metadata": {},
     "output_type": "display_data"
    },
    {
     "data": {
      "text/markdown": [
       "**Dow Jones Institutional News** - 2025-01-29 - DJDN000020250129el1t003pq - Lang: en"
      ],
      "text/plain": [
       "<IPython.core.display.Markdown object>"
      ]
     },
     "metadata": {},
     "output_type": "display_data"
    },
    {
     "data": {
      "text/markdown": [
       "Microsoft reported second-quarter earnings and revenue that beat Wall Street estimates on Wednesday. Microsoft's Earnings Beat Estimates. The Stock Is Still Falling. -- Barrons.com Microsoft reported second-quarter earnings and revenue that beat Wall Street estimates on Wednesday. The company said earnings were $3.23 a share on revenue of $69.6 billion. Analysts surveyed by FactSet were expecting earnings of $3.11 a share on revenue of $68.9 billion. \"We are innovating across our tech stack and helping customers unlock the full ROI [return on investment] of AI to capture the massive opportunity ahead,\" CEO Satya Nadella said in the earnings release. But the stock was dropping after the company reported that revenue in the quarter from Azure and other cloud services increased by 31%. That's down from 33% one quarter earlier. The tech-giant also reported capital expenditures in the quarter of $15.8 billion, higher than the $15.6 billion Wall Street expected. In the same period last year, Microsoft had capex of $9.7 billion. \"With spending at these levels, growth in the AI space needed to come a little faster than it did, particularly on the Azure side,\" Thomas Monteiro, senior analyst at Investing.com, wrote. Microsoft's enormous spending on generative artificial intelligence has been closely watched by investors for some time, and the recent stock market frenzy over DeepSeek has intensified that focus. Microsoft was a part of a wider group of tech stocks that dropped on Monday as investors reacted to both the competitive risk from the Chinese artificial intelligence start-up DeepSeek, and to indications that DeepSeek has spent less than American AI companies on similar tech. Viral social-media posts said over the weekend that DeepSeek had developed an AI model similar to ChatGPT for only $5.6 million, which would be vastly lower than the amounts companies such as Microsoft have spent, and continue to spend, on AI. A closer look at what DeepSeek has actually said about its spending makes it clear that the $5.6 million doesn't tell the whole story. Still, that figure reinvigorates an important question for Microsoft shareholders: Is the company spending too much on AI? Microsoft said in a blog post on Jan. 3 that it is on track to invest approximately $80 billion in 2025 \"to build out AI-enabled data centers to train AI models and deploy AI and cloud-based applications around the world.\" Microsoft isn't the only big tech company to recently spell out big spending plans. Meta Platforms Chief Executive Mark Zuckerberg said on Jan. 24 that Meta is planning to $60 billion to $65 billion in capital expenditures this year while significantly increasing the size of the company's AI teams. Investors are eager to hear if Microsoft will provide any more color on spending on its conference call Wednesday evening. There is also the possibility that Microsoft and others could replicate the lower-cost AI models that DeepSeek appears to have created. Investors will be awaiting any updates management has to provide on that front, as well. \"If DeepSeek is capable of generating efficiencies at lower scale, this would bode well for Microsoft's ability to continue lowering the cost of AI computing and drive scale on capital expenditures, via its own operational efforts,\" BofA Securities analyst Brad Sills wrote in a note on Tuesday. Microsoft shares were down 1.0% in after-hours trading Wednesday. Write to Angela Palumbo at angela.palumbo@dowjones.com This content was created by Barron's, which is operated by Dow Jones & Co. Barron's is published independently from Dow Jones Newswires and The Wall Street Journal. (END) Dow Jones Newswires January 29, 2025 16:42 ET (21:42 GMT)"
      ],
      "text/plain": [
       "<IPython.core.display.Markdown object>"
      ]
     },
     "metadata": {},
     "output_type": "display_data"
    },
    {
     "data": {
      "text/markdown": [
       "---"
      ],
      "text/plain": [
       "<IPython.core.display.Markdown object>"
      ]
     },
     "metadata": {},
     "output_type": "display_data"
    },
    {
     "data": {
      "text/markdown": [
       "### Insights Into Microsoft's Performance Versus Peers In Software Sector"
      ],
      "text/plain": [
       "<IPython.core.display.Markdown object>"
      ]
     },
     "metadata": {},
     "output_type": "display_data"
    },
    {
     "data": {
      "text/markdown": [
       "**Benzinga.com** - 2025-01-30 - BNZNGA0020250130el1u00106 - Lang: en"
      ],
      "text/plain": [
       "<IPython.core.display.Markdown object>"
      ]
     },
     "metadata": {},
     "output_type": "display_data"
    },
    {
     "data": {
      "text/markdown": [
       "In today's rapidly changing and highly competitive business world, it is vital for investors and industry enthusiasts to carefully assess companies. In this article, we will perform a comprehensive industry comparison, evaluating Microsoft ... Insights Into Microsoft's Performance Versus Peers In Software Sector In today's rapidly changing and highly competitive business world, it is vital for investors and industry enthusiasts to carefully assess companies. In this article, we will perform a comprehensive industry comparison, evaluating Microsoft (NASDAQ:MSFT) against its key competitors in the Software industry. By analyzing important financial metrics, market position, and growth prospects, we aim to provide valuable insights for investors and shed light on company's performance within the industry. Microsoft Background Microsoft develops and licenses consumer and enterprise software. It is known for its Windows operating systems and Office productivity suite. The company is organized into three equally sized broad segments: productivity and business processes (legacy Microsoft Office, cloud-based Office 365, Exchange, SharePoint, Skype, LinkedIn, Dynamics), intelligence cloud (infrastructure- and platform-as-a-service offerings Azure, Windows Server OS, SQL Server), and more personal computing (Windows Client, Xbox, Bing search, display advertising, and Surface laptops, tablets, and desktops). Company P/E P/B P/S ROE EBITDA (in billions) Gross Profit (in billions) Revenue Growth Microsoft Corp 36.53 11.43 13 8.87% $38.23 $45.49 16.04% Oracle Corp 39.61 32.97 8.39 25.66% $5.75 $9.97 8.64% ServiceNow Inc 178.14 25.40 22.70 4.81% $0.67 $2.21 22.25% Palo Alto Networks Inc 48.10 20.58 15.89 6.33% $0.45 $1.58 13.88% CrowdStrike Holdings Inc 778.57 31.98 26.54 -0.57% $0.05 $0.76 28.52% Fortinet Inc 49.91 83.84 13.41 90.26% $0.66 $1.24 13.0% Gen Digital Inc 27.91 8.12 4.52 7.92% $0.51 $0.78 3.07% Monday.Com Ltd 581.40 12.84 14.17 -1.28% $-0.02 $0.23 32.67% Dolby Laboratories Inc 29.97 3.11 6.16 2.39% $0.07 $0.27 4.9% CommVault Systems Inc 38.64 22.44 7.03 3.9% $0.02 $0.19 12.58% QXO Inc 23.51 1.21 21.42 -0.21% $-0.03 $0.01 -2.0% Qualys Inc 32.02 11.80 9.18 10.53% $0.05 $0.13 8.36% Teradata Corp 38.07 24.77 1.78 32.0% $0.08 $0.27 0.46% SolarWinds Corp 68.09 1.87 3.27 0.94% $0.07 $0.18 5.5% Progress Software Corp 36.56 5.56 3.32 0.27% $0.05 $0.18 21.47% Average 140.75 20.46 11.27 13.07% $0.6 $1.29 12.38% By thoroughly analyzing Microsoft, we can discern the following trends: * At 36.53, the stock's Price to Earnings ratio is 0.26x less than the industry average, suggesting favorable growth potential. * With a Price to Book ratio of 11.43, significantly falling below the industry average by 0.56x, it suggests undervaluation and the possibility of untapped growth prospects. * The Price to Sales ratio of 13.0, which is 1.15x the industry average, suggests the stock could potentially be overvalued in relation to its sales performance compared to its peers. * With a Return on Equity (ROE) of 8.87% that is 4.2% below the industry average, it appears that the company exhibits potential inefficiency in utilizing equity to generate profits. * With higher Earnings Before Interest, Taxes, Depreciation, and Amortization (EBITDA) of $38.23 Billion, which is 63.72x above the industry average, the company demonstrates stronger profitability and robust cash flow generation. * Compared to its industry, the company has higher gross profit of $45.49 Billion, which indicates 35.26x above the industry average, indicating stronger profitability and higher earnings from its core operations. * The company is experiencing remarkable revenue growth, with a rate of 16.04%, outperforming the industry average of 12.38%. Debt To Equity Ratio The debt-to-equity (D/E) ratio provides insights into the proportion of debt a company has in relation to its equity and asset value. Considering the debt-to-equity ratio in industry comparisons allows for a concise evaluation of a company's financial health and risk profile, aiding in informed decision-making. When comparing Microsoft with its top 4 peers based on the Debt-to-Equity ratio, the following insights can be observed: * When considering the debt-to-equity ratio, Microsoft exhibits a stronger financial position compared to its top 4 peers. * This indicates that the company has a favorable balance between debt and equity, with a lower debt-to-equity ratio of 0.21, which can be perceived as a positive aspect by investors. Key Takeaways For Microsoft in the Software industry, the PE ratio is low compared to peers, indicating potential undervaluation. The PB ratio is also low, suggesting a possible bargain opportunity. However, the PS ratio is high, signaling rich valuation based on revenue. In terms of ROE, Microsoft shows lower profitability compared to peers. The high EBITDA and gross profit levels reflect strong operational performance. Additionally, the high revenue growth indicates a positive outlook for the company's future prospects. This article was generated by Benzinga's automated content engine and reviewed by an editor. © 2025 Benzinga.com. Benzinga does not provide investment advice. All rights reserved."
      ],
      "text/plain": [
       "<IPython.core.display.Markdown object>"
      ]
     },
     "metadata": {},
     "output_type": "display_data"
    },
    {
     "data": {
      "text/markdown": [
       "---"
      ],
      "text/plain": [
       "<IPython.core.display.Markdown object>"
      ]
     },
     "metadata": {},
     "output_type": "display_data"
    },
    {
     "data": {
      "text/markdown": [
       "###                            Microsoft Stock Remains Volatile After Earnings; Is MSFT A Buy Or Sell In January?"
      ],
      "text/plain": [
       "<IPython.core.display.Markdown object>"
      ]
     },
     "metadata": {},
     "output_type": "display_data"
    },
    {
     "data": {
      "text/markdown": [
       "**Investor's Business Daily** - 2025-01-30 - INVDAI0020250122el1m00001 - Lang: en"
      ],
      "text/plain": [
       "<IPython.core.display.Markdown object>"
      ]
     },
     "metadata": {},
     "output_type": "display_data"
    },
    {
     "data": {
      "text/markdown": [
       "Microsoft started the new year with a small gain year to date, then lost it in recent weeks. But on Friday, the stock rallied for the second week in a row and notched a six-week closing high. So, is Microsoft stock, which entered 2025 with ... Microsoft Stock Remains Volatile After Earnings; Is MSFT A Buy Or Sell In January? Microsoft started the new year with a small gain year to date, then lost it in recent weeks. But on Friday, the stock rallied for the second week in a row and notched a six-week closing high. So, is Microsoft stock, which entered 2025 with a market cap towering over $3 trillion, a buy in January? Early Thursday, shares fell sharply, trading near 419 in premarket trading, following a nice earnings beat and disappointing revenue outlook for the current fiscal third quarter ending in March. After the open, Microsoft stock slumped more than 4% and dropped to as low as 414.74 before rebounding mildly. Volume was already jumping 330% above normal levels. Please watch the video at Investors.com - Big Tech Earnings Take Center Stage As Stocks Rally Near Highs This story will assess fundamental, technical and institutional sponsorship criteria on the veteran tech giant and long-term leader of the stock market. Microsoft reports results for the December-ended fiscal second quarter on Wednesday after the close. Wall Street forecasted earnings of $3.11 a share, up 6% vs. year-ago levels, on an 11% rise in revenue to $68.9 billion. The Redmond, Wash., tech titan reported $3.23 in earnings, up 10%, on a 12% revenue gain to $69.6 billion. In the prior four quarters, earnings at Microsoft jumped 26%, 20%, 10% and 10% vs. year-ago levels on top-line increases of 18%, 17%, 15% and 16%. Microsoft Earnings On Wednesday: Q2 Earnings Top Views Microsoft Stock Today Following the three-day MLK national holiday, the leader in cloud computing, enterprise software, gaming consoles and computing hardware underperformed a broad and bullish stock market advance, edging 0.1% lower on Jan. 21 to 428.50 in above-average turnover. But two days later, MSFT showed the best action of the year so far. Shares gapped up and barreled 4% higher to 446.20, marking a one-month closing high. The jump followed news of a major artificial intelligence infrastructure project, Stargate, announced by President Donald Trump late Tuesday. During the announcement at the White House, the heads of privately held OpenAI, Oracle and Japan's Softbank stood to the side of Trump. What Is Project Stargate, And Why It Matters To Microsoft Stock Holders Also, volume accelerated vs. the prior session, a sign that large fund managers deployed capital in serious fashion. Turnover jumped a healthy 32% above its average level over the past 50 sessions. Meanwhile, ahead of the earnings news, the Accumulation/Distribution Rating for Microsoft stock proved healthy at B+ on a scale of A (indicating heavy institutional buying) to E (big selling by professional fund managers). On Thursday and Friday of this past week, Microsoft traded in relatively quiet fashion, and that's good. Why? The stock kept the lion's share of Wednesday's strong gain. But on Monday, amid a severe drop in artificial intelligence-related companies, Microsoft stock did not avoid the tech drubbing. Shares slid as much as 4.6% but trimmed that loss in heavy volume. Amid a solid 2% rebound by the Nasdaq on Tuesday, Microsoft shares outperformed with a 2.9% lift in mildly above-average trade. Big Picture: Ramp Up Exposure In Stocks As Market Makes This Bullish Turn Market In January: Chopfest So Far This story noted that amid a punishing session for growth stocks on Jan. 10, the enterprise software, cloud computing and gaming hardware giant did not defy the sell-off. Such action was normal amid a growing distribution day count, as noted in IBD's Big Picture. Microsoft stock had been struggling lately to keep abreast of key technical levels on the chart of Microsoft stock. Sellers had recently shoved shares beneath both the 50-day moving average and the long-term 200-day line, which tracks roughly 10 months' worth of price action. A healthy stock normally shows not only a steady rise, but also a positive slope in both these two moving averages. A rising moving average line means the stock price is trending up. For weeks, Microsoft's 50- and 200-day lines had been flatlining."
      ],
      "text/plain": [
       "<IPython.core.display.Markdown object>"
      ]
     },
     "metadata": {},
     "output_type": "display_data"
    },
    {
     "data": {
      "text/markdown": [
       "---"
      ],
      "text/plain": [
       "<IPython.core.display.Markdown object>"
      ]
     },
     "metadata": {},
     "output_type": "display_data"
    },
    {
     "data": {
      "text/markdown": [
       "###                            Microsoft Stock: A Deep Dive Into Analyst Perspectives (18 Ratings)"
      ],
      "text/plain": [
       "<IPython.core.display.Markdown object>"
      ]
     },
     "metadata": {},
     "output_type": "display_data"
    },
    {
     "data": {
      "text/markdown": [
       "**Benzinga.com** - 2024-12-18 - BNZNGA0020241220ekci0005s - Lang: en"
      ],
      "text/plain": [
       "<IPython.core.display.Markdown object>"
      ]
     },
     "metadata": {},
     "output_type": "display_data"
    },
    {
     "data": {
      "text/markdown": [
       "In the preceding three months, 18 analysts have released ratings for Microsoft (NASDAQ:MSFT), presenting a wide array of perspectives from bullish to bearish. insights into expectations for the relative performance of Microsoft compared to the broader market. * Price Targets: Gaining insights, analysts provide estimates for the future value of Microsoft's stock. This comparison reveals trends in analysts' expectations over time. Understanding these analyst evaluations alongside key financial indicators can offer valuable insights into Microsoft's market standing. Stay informed and make well-considered decisions with our Ratings Table. Stay up to date on Microsoft analyst ratings. Delving into Microsoft's Background Microsoft develops and licenses consumer and enterprise software. It is known for its Windows operating systems and Office productivity suite. The company is organized into three equally sized broad segments: productivity and business processes (legacy Microsoft Office, cloud-based Office 365, Exchange, SharePoint, Skype, LinkedIn, Dynamics), intelligence cloud (infrastructure- and platform-as-a-service offerings Azure, Windows Server OS, SQL Server), and more personal computing (Windows Client, Xbox, Bing search, display advertising, and Surface laptops, tablets, and desktops). Microsoft's Financial Performance Market Capitalization Analysis: The company's market capitalization is above the industry average, indicating that it is relatively larger in size compared to peers. This may suggest a higher level of investor confidence and market recognition. Revenue Growth: Over the 3 months period, Microsoft showcased positive performance, achieving a revenue growth rate of 16.04% as of 30 September, 2024. This reflects a substantial increase in the company's top-line earnings. As compared to competitors, the company surpassed expectations with a growth rate higher than the average among peers in the Information Technology sector. Net Margin: Microsoft's financial strength is reflected in its exceptional net margin, which exceeds industry averages. With a remarkable net margin of 37.61%, the company showcases strong profitability and effective cost management. Return on Equity (ROE): Microsoft's ROE excels beyond industry benchmarks, reaching 8.87%. This signifies robust financial management and efficient use of shareholder equity capital. Return on Assets (ROA): The company's ROA is a standout performer, exceeding industry averages. With an impressive ROA of 4.77%, the company showcases effective utilization of assets. Debt Management: Microsoft's debt-to-equity ratio is below the industry average at 0.21, reflecting a lower dependency on debt financing and a more conservative financial approach. The Core of Analyst Ratings: What Every Investor Should Know Analysts are specialists within banking and financial systems that typically report for specific stocks or within defined sectors. These people research company financial statements, sit in conference calls and meetings, and speak with relevant insiders to determine what are known as analyst ratings for stocks. Typically, analysts will rate each stock once a quarter. Some analysts will also offer forecasts for metrics like growth estimates, earnings, and revenue to provide further guidance on stocks. Investors who use analyst ratings should note that this specialized advice comes from humans and may be subject to error. Which Stocks Are Analysts Recommending Now? Benzinga Edge gives you instant access to all major analyst upgrades, downgrades, and price targets. Sort by accuracy, upside potential, and more. Click here to stay ahead of the market. This article was generated by Benzinga's automated content engine and reviewed by an editor. Latest Ratings for MSFT Date Firm Action From To Feb 2022 Tigress Financial Maintains Buy Jan 2022 Citigroup Maintains Buy Jan 2022 Morgan Stanley Maintains Overweight View More Analyst Ratings for MSFT View the Latest Analyst Ratings © 2024 Benzinga.com. Benzinga does not provide investment advice. All rights reserved."
      ],
      "text/plain": [
       "<IPython.core.display.Markdown object>"
      ]
     },
     "metadata": {},
     "output_type": "display_data"
    },
    {
     "data": {
      "text/markdown": [
       "---"
      ],
      "text/plain": [
       "<IPython.core.display.Markdown object>"
      ]
     },
     "metadata": {},
     "output_type": "display_data"
    }
   ],
   "source": [
    "chunks_obj = chunks_resp.json()\n",
    "for article in chunks_obj['data']:\n",
    "    display(Markdown(f\"### {article['attributes']['headline']['main']['text']}\"))\n",
    "    display(Markdown(f\"**{article['meta']['source']['name']}** - {article['attributes']['publication_date']} - {article['meta']['original_doc_id']} - Lang: {article['meta']['language']['code']}\"))\n",
    "    display(Markdown(f\"{article['attributes']['snippet']['content'][0]['text']} {article['attributes']['content'][0]['text']}\"))\n",
    "    display(Markdown(f\"---\"))"
   ]
  },
  {
   "cell_type": "markdown",
   "metadata": {},
   "source": [
    "## Retrieval API Conclusion\n",
    "\n",
    "Up to this point it the seen functionalities are connected with the Retrieval API.\n",
    "\n",
    "However, given that this service is an intermediate component in a full-stack solution, the below Test LLM steps and the [Read Article](2_read_article.ipynb) notebook are the two complementary avenues to get a full working solution."
   ]
  },
  {
   "cell_type": "markdown",
   "metadata": {},
   "source": [
    "## Test LLM"
   ]
  },
  {
   "cell_type": "markdown",
   "metadata": {},
   "source": [
    "This is a downstream step that is only illustrative on how the response generation stage can be implemented. In the below example only a few articles are used to repond the prompt in a locally running LLM. The passed request is built from the original prompt enhanced with a few retrieved articles as additional context.\n",
    "\n",
    "The goal of using only a few articles is to improve performance as the LLM can take several minutes to summarise all returned articles given the natural limitations of a desktop hardware.\n",
    "\n",
    "The tested LLM was Microsoft's Phi-4 with 14Bn parameters. Response generations took between 1 and 2 minutes for a context between 3K to 4K tokens."
   ]
  },
  {
   "cell_type": "code",
   "execution_count": 11,
   "metadata": {},
   "outputs": [],
   "source": [
    "prompt_text = f\"{frapi_query['data']['attributes']['query']['value']}. To answer use the following information:\\n\\n\"\n",
    "\n",
    "chunks_obj = chunks_resp.json()['data']\n",
    "process_chunks = chunks_obj[0:3]\n",
    "for article in process_chunks:\n",
    "    prompt_text += f\"{article['attributes']['headline']['main']['text']} - {article['attributes']['publication_date']}\"\n",
    "    prompt_text += f\"{article['attributes']['snippet']['content'][0]['text']} {article['attributes']['content'][0]['text']}\\n------\\n\"\n"
   ]
  },
  {
   "cell_type": "code",
   "execution_count": 12,
   "metadata": {},
   "outputs": [
    {
     "name": "stdout",
     "output_type": "stream",
     "text": [
      "Summarise the latest earnings report from Apple Inc. To answer use the following information:\n",
      "\n",
      "InvestorNewsBreaks – Apple Inc. (NASDAQ: AAPL) Eyes Future Growth Beyond Q1 Results - 2025-02-10Apple (NASDAQ: AAPL) reported record revenue of $124.3 billion in Q1 2025, driven by a 14% increase in services revenue, which helped offset a 0.8% decline in iPhone sales attributed to a weaker Chinese market. Looking ahead, the company ... InvestorNewsBreaks – Apple Inc. (NASDAQ: AAPL) Eyes Future Growth Beyond Q1 Results Apple (NASDAQ: AAPL) reported record revenue of $124.3 billion in Q1 2025, driven by a 14% increase in services revenue, which helped offset a 0.8% decline in iPhone sales attributed to a weaker Chinese market. Looking ahead, the company plans to launch the iPhone SE 4, explore a potential flip phone, and develop advanced wearable technologies. Apple’s strategic focus on AI integration and expansion into emerging markets is expected to drive future growth. As of 8:26 a.m. EST on Feb. 10, 2025, Apple shares were trading at $227.63, down 0.02% from the previous close. To view the full article, visit https://ibn.fm/FSyhR About Apple Apple revolutionized personal technology with the introduction of the Macintosh in 1984. Today, Apple leads the world in innovation with iPhone, iPad, Mac, Apple Watch, and Apple TV. Apple’s five software platforms—iOS, iPadOS, macOS, watchOS, and tvOS—provide seamless experiences across all Apple devices and empower people with breakthrough services including the App Store, Apple Music, Apple Pay, and iCloud. Apple’s more than 100,000 employees are dedicated to making the best products on earth and to leaving the world better than we found it. About InvestorWire InvestorWire (“IW”) is a specialized communications platform with a focus on advanced wire-grade press release syndication for private and public companies and the investment community. It is one of 70+ brands within the Dynamic Brand Portfolio @ IBN that delivers: (1) access to a vast network of wire solutions via InvestorWire to efficiently and effectively reach a myriad of target markets, demographics and diverse industries; (2) article and editorial syndication to 5,000+ outlets; (3) enhanced press release enhancement to ensure maximum impact; (4) social media distribution via IBN to millions of social media followers; and (5) a full array of tailored corporate communications solutions. With broad reach and a seasoned team of contributing journalists and writers, IW is uniquely positioned to best serve private and public companies that want to reach a wide audience of investors, influencers, consumers, journalists and the general public. By cutting through the overload of information in today’s market, IW brings its clients unparalleled recognition and brand awareness. IW is where breaking news, insightful content and actionable information converge. For more information, please visit https://www.InvestorWire.com Please see full terms of use and disclaimers on the InvestorWire website applicable to all content provided by IW, wherever published or re-published: https://www.InvestorWire.com/Disclaimer InvestorWire Austin, Texas www.InvestorWire.com 512.354.7000 Office [email protected] InvestorWire is powered by IBN\n",
      "------\n",
      "The Good -- and Bad -- in Apple, Amazon, and Other Big Tech Earnings -- Barrons.com - 2025-02-07It is about halfway through the fourth-quarter earnings season, with results available for most of the market's top heavyweights. The Good -- and Bad -- in Apple, Amazon, and Other Big Tech Earnings -- Barrons.com It is about halfway through the fourth-quarter earnings season, with results available for most of the market's top heavyweights. Google-parent Alphabet, Amazon.com, Apple, Facebook and Instagram owner Meta Platforms, and Microsoft have all reported. Strong growth in advertising revenue was a big theme, as were huge spending plans for artificial intelligence-related capital expenditures. Slowing growth in all-important cloud revenue tripped up several of the Big Tech companies' results. The five companies had a combined $128 billion in net income on $523 billion in revenue during the last three months of 2025. That's a 26% increase in profit and 10% higher sales than in the same period a year ago. It has been a mixed start to 2025 for shares of the fab five, which command a combined market capitalization of more than $13 trillion. Meta stock has surged out of the gate, rising 21% already, while Apple is down 7% since the start of the year. Amazon is up 9%, a post-earnings swoon cut Alphabet's gain to 1%, and Microsoft is down 1%. Compare that to a 3% year-to-date rise by the S&P 500. Not to be forgotten: Nvidia will publish results for its November-December-January fiscal quarter on Feb. 26. Here are some highlights from each company's reports: Alphabet What was reported: $26.5 billion in net income, or $2.15 in earnings per share (up 31%), on $96.5 billion in revenue (up 12%) What was expected: $2.12 in earnings per share and $96.7 billion in revenue The good: YouTube advertising revenue surged. The Google-parent will invest $75 billion in capital expenditures to accelerate AI initiatives in 2025. The bad: All-important cloud revenue growth decelerated, up 30% from a year earlier, versus a 35% rise in the previous quarter. It also missed expectations. The stock reaction: Alphabet stock dropped 7.3% on Wednesday. Our coverage of the report Amazon What was reported: $20.0 billion in net income, or $1.86 in earnings per share (up 86%), on $187.8 billion in revenue (up 10%) What was expected: $1.49 in earnings per share and $187.3 billion in revenue The good: Black Friday and Cyber Monday week sales broke records. Advertising revenue surged. The bad: Amazon's revenue and profit outlooks for the first quarter both fell well short of expectations. AWS cloud revenue rose by a smaller-than-expected 19%. The stock reaction: Amazon stock was down approximately 3% in early trading on Friday. Our coverage of the report Apple What was reported: $36.3 billion in net income, or $2.40 in earnings per share (up 10%), on $124.3 billion in revenue (up 4%) What was expected: $2.35 in earnings per share on $124.1 billion in revenue The good: Apple's installed base of devices surpassed 2.35 billion. The company reported double-digit growth in its Mac, iPad, and services businesses. The bad: iPhone sales were down 1% from a year earlier. Overall revenue in China declined by 11%. Management expects current-quarter revenue to grow by only \"low-to-mid single digits.\" The stock reaction: Apple stock slipped 0.7% on Friday, Jan. 31. Our coverage of the report Meta Platforms What was reported: $20.8 billion in net income, or $8.02 in earnings per share (up 51%), on $48.4 billion in revenue (up 21%) What was expected: $6.76 in earnings per share on $47 billion in revenue The good: Meta topped earnings estimates by a mile. The number of ads users saw rose by 6% and the average prices for ads jumped 14%. The bad: Meta's revenue outlook came in soft. Management expects expenses to grow by 22% in 2025. TikTok wasn't banned. The stock reaction: Meta stock rose 1.6% on Thursday, Jan. 30. Our coverage of the report Microsoft What was reported: $24.1 billion in net income, or $3.23 in earnings per share (up 10%), on $69.6 billion in revenue (up 12%) What was expected: $3.11 in earnings per share on $68.8 billion in revenue The good: Earnings and revenue beat, and management expects double-digit sales and income growth this year. The bad: Revenue from Azure and other cloud services was up by 31%, slower than growth of 33% one quarter earlier. The DeepSeek threat loomed large over Microsoft's $80 billion AI-spending plan for 2025. The stock reaction: Microsoft dropped 6.2% on Thursday, Jan. 30. Our coverage of the report Write to Nicholas Jasinski at nicholas.jasinski@barrons.com This content was created by Barron's, which is operated by Dow Jones & Co. Barron's is published independently from Dow Jones Newswires and The Wall Street Journal. (END) Dow Jones Newswires February 07, 2025 11:22 ET (16:22 GMT)\n",
      "------\n",
      "                           Apple Shares Are On The Rise After Q1 Earnings - 2025-01-31Apple Inc. (NASDAQ:AAPL) shares are trading higher Friday after the company reported better-than-expected first-quarter earnings.  Apple Shares Are On The Rise After Q1 Earnings Apple Inc. (NASDAQ:AAPL) shares are trading higher Friday after the company reported better-than-expected first-quarter earnings. Revenue for the quarter came in at $124.3 billion, beating analyst estimates of $124.13 billion. Adjusted earnings per share also exceeded expectations at $2.40, compared to the estimated $2.36. This marks the eighth consecutive quarter Apple has beaten analyst estimates on both revenue and earnings. Despite iPhone sales slipping slightly year over year to $69.14 billion from $69.7 billion, overall revenue climbed 4%. The company's services segment, which includes subscriptions and digital offerings, reached $26.34 billion, up from $23.12 billion last year. Apple's installed base of active devices also hit an all-time high, providing further confidence in the company's long-term ecosystem strength. Following Apple's better-than-expected first-quarter earnings, several analysts raised their price targets on the stock: * Goldman Sachs – Buy, price target raised from $280 to $294 * BofA Securities – Buy, price target raised from $253 to $265 * Morgan Stanley – Overweight, price target raised from $273 to $275 * JP Morgan – Overweight, price target raised from $260 to $270 * Evercore ISI Group – Outperform, price target raised from $250 to $260 * Needham – Buy, price target maintained at $260 * Barclays – Underweight, price target raised from $183 to $197 * Jefferies – Underperform, price target raised from $200.75 to $202.33 CEO Tim Cook highlighted the company's continued innovation in artificial intelligence, branding it “Apple Intelligence,\" and emphasized the upcoming expansion of these capabilities in April. The company also announced a quarterly cash dividend of 25 cents per share, payable on Feb. 13. AAPL Price Action: Apple shares were up 1.30% at $240.67 at the time of writing, according to Benzinga Pro. <figure class=\"wp-block-image size-large is-resized\"> Read Next: * AbbVie Jumps After Q4 Earnings Beat, Skyrizi And Rinvoq Boom Offsets Humira Decline Image via Shutterstock. © 2025 Benzinga.com. Benzinga does not provide investment advice. All rights reserved.\n",
      "------\n",
      "\n"
     ]
    }
   ],
   "source": [
    "print(prompt_text)"
   ]
  },
  {
   "cell_type": "markdown",
   "metadata": {},
   "source": [
    "This is a quick check to ensure the estimated number of Tokes from the `prompt_text` are below the `LLM_CONTEXT_SIZE`."
   ]
  },
  {
   "cell_type": "code",
   "execution_count": 13,
   "metadata": {},
   "outputs": [
    {
     "data": {
      "text/plain": [
       "True"
      ]
     },
     "execution_count": 13,
     "metadata": {},
     "output_type": "execute_result"
    }
   ],
   "source": [
    "len(re.split(r\"\\b\\w+\\b\", prompt_text)) * 1.25 < LLM_CONTEXT_SIZE"
   ]
  },
  {
   "cell_type": "markdown",
   "metadata": {},
   "source": [
    "LLM Payload requesting a structured response"
   ]
  },
  {
   "cell_type": "code",
   "execution_count": 24,
   "metadata": {},
   "outputs": [],
   "source": [
    "prompt_payload = {\n",
    "    \"model\": \"phi-4\",\n",
    "    \"messages\": [\n",
    "      {\n",
    "        \"role\": \"system\",\n",
    "        \"content\": \"You are an expert news analyst that respond in a professional manner. Use only the context provided by the user to answer its request at the beginning of the prompt.\"\n",
    "      },\n",
    "      {\n",
    "        \"role\": \"user\",\n",
    "        \"content\": prompt_text\n",
    "      }\n",
    "    ],\n",
    "    \"response_format\": {\n",
    "      \"type\": \"json_schema\",\n",
    "      \"json_schema\": {\n",
    "        \"name\": \"prompt_response\",\n",
    "        \"strict\": \"true\",\n",
    "        \"schema\": {\n",
    "          \"type\": \"object\",\n",
    "          \"properties\": {\n",
    "            \"response\": {\n",
    "              \"type\": \"string\"\n",
    "            }\n",
    "          },\n",
    "        \"required\": [\"response\"]\n",
    "        }\n",
    "      }\n",
    "    },\n",
    "    \"temperature\": 0.1,\n",
    "    \"max_tokens\": 500,\n",
    "    \"stream\": False\n",
    "  }"
   ]
  },
  {
   "cell_type": "markdown",
   "metadata": {},
   "source": [
    "The endpoint URL will depend on where the model is running. A tool like LM Studio provides details for developers on the ip address that can be used for this API request. Nonetheless, the general structure is simialar to the OpenAI API and can easily be adapted to use their service.\n",
    "\n",
    "This is the request that can take 1+ minutes to complete."
   ]
  },
  {
   "cell_type": "code",
   "execution_count": 15,
   "metadata": {},
   "outputs": [],
   "source": [
    "summ_resp = r.post(f\"http://192.168.1.10:1234/v1/chat/completions\", json=prompt_payload, headers={'Content-Type': 'application/json'})"
   ]
  },
  {
   "cell_type": "code",
   "execution_count": 16,
   "metadata": {},
   "outputs": [
    {
     "data": {
      "text/html": [
       "<h3>Response:</h3><p>{ \"response\": \"Apple Inc. reported record revenue of $124.3 billion for Q1 2025, marking a significant achievement despite a slight decline in iPhone sales by 0.8%, attributed to a weaker Chinese market. The company's services segment saw a robust increase of 14% in revenue, which helped offset the dip in hardware sales. Looking forward, Apple plans to introduce new products such as the iPhone SE 4 and explore potential innovations like a flip phone and advanced wearable technologies. Strategic initiatives include AI integration and expansion into emerging markets, aimed at driving future growth. As of February 10, 2025, Apple's shares were trading slightly down by 0.02% at $227.63. The company has maintained its momentum with an installed base of over 2.35 billion devices and strong performance in Mac, iPad, and services sectors.\" }</p>"
      ],
      "text/plain": [
       "<IPython.core.display.HTML object>"
      ]
     },
     "metadata": {},
     "output_type": "display_data"
    }
   ],
   "source": [
    "display(HTML(f\"<h3>Response:</h3><p>{summ_resp.json()['choices'][0]['message']['content']}</p>\"))"
   ]
  }
 ],
 "metadata": {
  "kernelspec": {
   "display_name": "fadev",
   "language": "python",
   "name": "python3"
  },
  "language_info": {
   "codemirror_mode": {
    "name": "ipython",
    "version": 3
   },
   "file_extension": ".py",
   "mimetype": "text/x-python",
   "name": "python",
   "nbconvert_exporter": "python",
   "pygments_lexer": "ipython3",
   "version": "3.12.7"
  }
 },
 "nbformat": 4,
 "nbformat_minor": 2
}
