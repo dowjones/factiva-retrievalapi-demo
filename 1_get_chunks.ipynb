{
 "cells": [
  {
   "cell_type": "markdown",
   "metadata": {},
   "source": [
    "# Retrieval API DEMO"
   ]
  },
  {
   "cell_type": "markdown",
   "metadata": {},
   "source": [
    "## Code Initialisation"
   ]
  },
  {
   "cell_type": "code",
   "execution_count": 1,
   "metadata": {},
   "outputs": [
    {
     "data": {
      "text/plain": [
       "True"
      ]
     },
     "execution_count": 1,
     "metadata": {},
     "output_type": "execute_result"
    }
   ],
   "source": [
    "import os\n",
    "import re\n",
    "import requests as r\n",
    "from IPython.display import Markdown, HTML\n",
    "import utils as u\n",
    "from dotenv import load_dotenv\n",
    "\n",
    "load_dotenv()"
   ]
  },
  {
   "cell_type": "markdown",
   "metadata": {},
   "source": [
    "## Constants"
   ]
  },
  {
   "cell_type": "code",
   "execution_count": 2,
   "metadata": {},
   "outputs": [],
   "source": [
    "API_HOST = 'api.dowjones.com'\n",
    "AUTH_HOST = 'accounts.dowjones.com'\n",
    "CLIENT_ID = os.getenv('FACTIVA_CLIENTID')\n",
    "USERNAME = os.getenv('FACTIVA_USERNAME')\n",
    "PASSWORD = os.getenv('FACTIVA_PASSWORD')\n",
    "AUTH_URL = f\"https://{AUTH_HOST}/oauth2/v1/token\"\n",
    "LLM_CONTEXT_SIZE = 4096"
   ]
  },
  {
   "cell_type": "markdown",
   "metadata": {},
   "source": [
    "## Authentication - Generate Bearer\n",
    "\n",
    "For details about getting the `bearer_token`, please see the `utils.py` file."
   ]
  },
  {
   "cell_type": "code",
   "execution_count": 3,
   "metadata": {},
   "outputs": [
    {
     "data": {
      "text/markdown": [
       "**Authentication Successful**: Bearer token OK for user 9BAI004500-svcaccount"
      ],
      "text/plain": [
       "<IPython.core.display.Markdown object>"
      ]
     },
     "metadata": {},
     "output_type": "display_data"
    }
   ],
   "source": [
    "bearer_token = u.get_bearer_token(CLIENT_ID, USERNAME, PASSWORD, AUTH_URL)\n",
    "if bearer_token:\n",
    "    display(Markdown(f\"**Authentication Successful**: Bearer token OK for user {USERNAME.split('@')[0]}\"))\n",
    "else:\n",
    "    display(Markdown('**Authentication Failed**: Cannot obtain the Bearer token'))"
   ]
  },
  {
   "cell_type": "code",
   "execution_count": 4,
   "metadata": {},
   "outputs": [],
   "source": [
    "req_headers = {\n",
    "    \"Authorization\": f\"Bearer {bearer_token}\",\n",
    "    \"Content-Type\": \"application/json\"\n",
    "}"
   ]
  },
  {
   "cell_type": "markdown",
   "metadata": {},
   "source": [
    "## Factiva Retrieval API Query"
   ]
  },
  {
   "cell_type": "code",
   "execution_count": 8,
   "metadata": {},
   "outputs": [],
   "source": [
    "frapi_query = {\n",
    "  \"data\": {\n",
    "    \"attributes\": {\n",
    "      \"response_limit\": 3,\n",
    "      \"query\": {\n",
    "        \"search_filters\": [\n",
    "          {\n",
    "            \"scope\": \"Language\",\n",
    "            \"value\": \"en\"\n",
    "          }\n",
    "        ],\n",
    "        # \"What are NASA's planned missions to the Moon in 2025, and what are their primary objectives?\"\n",
    "        # \"Summarise the latest earnings report from Microsoft Corp\"\n",
    "        \"value\": \"Summarise the latest earnings report from Microsoft Corp\"\n",
    "      }\n",
    "    },\n",
    "    \"id\": \"GenAIRetrievalExample\",\n",
    "    \"type\": \"genai-content\"\n",
    "  }\n",
    "}\n"
   ]
  },
  {
   "cell_type": "markdown",
   "metadata": {},
   "source": [
    "## Send Query and Receive Chunks from the Retrieval API"
   ]
  },
  {
   "cell_type": "code",
   "execution_count": 9,
   "metadata": {},
   "outputs": [
    {
     "name": "stdout",
     "output_type": "stream",
     "text": [
      "Successfully retrieved chunks\n"
     ]
    }
   ],
   "source": [
    "chunks_resp = r.post(f\"https://{API_HOST}/content/gen-ai/retrieve\", json=frapi_query, headers=req_headers)\n",
    "\n",
    "if chunks_resp.status_code == 200:\n",
    "    print('Successfully retrieved chunks')\n",
    "else:\n",
    "    print(f\"Request Failed: {chunks_resp.json()}\")"
   ]
  },
  {
   "cell_type": "markdown",
   "metadata": {},
   "source": [
    "## Print Chunks"
   ]
  },
  {
   "cell_type": "code",
   "execution_count": 10,
   "metadata": {},
   "outputs": [
    {
     "data": {
      "text/markdown": [
       "### This Magnificent Seven Tech Loses More Ground After Gaining On New Quantum Chip; Is Microsoft Stock A Buy In February?"
      ],
      "text/plain": [
       "<IPython.core.display.Markdown object>"
      ]
     },
     "metadata": {},
     "output_type": "display_data"
    },
    {
     "data": {
      "text/markdown": [
       "**Investor's Business Daily** - 2025-02-25 - INVDAI0020250218el2i00105 - Lang: en"
      ],
      "text/plain": [
       "<IPython.core.display.Markdown object>"
      ]
     },
     "metadata": {},
     "output_type": "display_data"
    },
    {
     "data": {
      "text/markdown": [
       "With one week left to go in the month, is Microsoft stock a buy in February? This fresh take on the long-term leader among tech stocks and growth companies pinpoints the fundamentals, technicals and fund ownership factors that are ... \"As colleague Andrew Bary wrote in this space last week, Meta Platforms, Microsoft and Alphabet are estimated to spend $200 billion on AI this year, equal to about one quarter of their revenue,\" Randall Forsyth wrote in the \"Up & Down Wall Street\" column in Barron's in the Week of Feb. 17 issue. \"Given China-based DeepSeek's reported ability to produce an AI model for a fraction of the cost of U.S. AI companies, this raises questions about American exceptionalism, or at least the payoff from the billions U.S. tech giants are sinking into AI investments,\" Forsyth added. Earnings Remain Strong In terms of EPS Rating, Microsoft ranks No. 2 in its industry group behind Adobe. Going beyond the EPS Rating, Microsoft's profit picture looks solid but not spectacular. Wall Street consensus forecasts call for earnings in the current fiscal year ending in June to rise 11% to $13.15 a share, a slight downward revision. Still, that's more than quadruple what the firm earned in fiscal 2018 ($3.88). Fiscal 2026 earnings are seen accelerating slightly, up 14% to $14.95 a share. The company's return on equity in fiscal 2025 was terrific at 37%. IBD research has found that many of the great stock market winners showed an ROE of at least 17% at the start of their moves. During recent decades, ROEs have climbed past 20% among top growth stocks. Strong profit margins have also boosted MSFT's Sales + Margins + Return on equity (SMR) Rating to a stellar A on a scale of A to E. Go to IBD Stock Checkup to see the SMR Rating of any company in the IBD database. IBD's Big Picture: 'Positive' Volatility; Also, Will These Names Outperform The Chip Sector Leader? Technical Action Today Looking at a monthly chart of Microsoft stock, the megacap tech is clearly not leading the stock market higher. Since reaching an all-time high of 468.35 in July, shares have treaded water, even as the S&P 500 and Nasdaq continued their course of higher highs and higher lows. On the positive side, Microsoft stock has gotten support at 400, a psychologically important round number for investors. Let's check out the weekly chart. It shows a eight-month consolidation pattern in the works. Microsoft stock is trading 11% off its peak. But it's also trading below its 10-week and 40-week moving averages, a no-no for any stock that is preparing to break out of a good base and launch a run of new highs. A great stock normally trades above these technical levels right before a powerful breakout to new highs — the best time to grab shares for growth investors. Who Are The Future Microsofts of The Market? Check These Key Growth Stock Lists Microsoft's Strength Vs. Rest Of Market Another way to get a handle on the technical action? Consider using IBD's unique Relative Strength Rating. Compared with all other companies in the IBD database, Microsoft stock currently gets a lowly 35 Relative Strength Rating. This means Microsoft has outperformed only 35% of all stocks over the past 12 months. Four weeks ago, it was a mediocre 58; six months ago, the RS stood at 71. MarketSurge, meanwhile, notes a 30 score for the six-month RS Rating. And the three-month rating? Also weak at 31. This means Microsoft stock has outperformed only 31% of all companies in the IBD database over the past three months. Picking the best growth stocks absolutely involves selecting those that are already outperforming their peers before they stage a new strong run. When a stock breaks out of a well-formed base, you normally want to see the Relative Strength Rating exceed 80 on a scale of 1 to 99. In some cases, when the base gets extra long (think six months or longer), you can expect the rating to be lower than 80. It's not uncommon for excellent large and megacap stocks to bust out of bases and race to new highs even though their RS ratings are in the 50s or 60s. Microsoft Stock And Institutional Sponsorship Finally, fund sponsorship remains favorable and is perhaps the strongest leg in the three-legged stool of analyzing Microsoft in terms of fundamental, technical and institutional ownership criteria."
      ],
      "text/plain": [
       "<IPython.core.display.Markdown object>"
      ]
     },
     "metadata": {},
     "output_type": "display_data"
    },
    {
     "data": {
      "text/markdown": [
       "---"
      ],
      "text/plain": [
       "<IPython.core.display.Markdown object>"
      ]
     },
     "metadata": {},
     "output_type": "display_data"
    },
    {
     "data": {
      "text/markdown": [
       "###                            Microsoft Corp - Company Statement"
      ],
      "text/plain": [
       "<IPython.core.display.Markdown object>"
      ]
     },
     "metadata": {},
     "output_type": "display_data"
    },
    {
     "data": {
      "text/markdown": [
       "**GlobalData Company Profiles** - 2025-02-17 - GLOMCP0020250217el2h004qc - Lang: en"
      ],
      "text/plain": [
       "<IPython.core.display.Markdown object>"
      ]
     },
     "metadata": {},
     "output_type": "display_data"
    },
    {
     "data": {
      "text/markdown": [
       "Overview Microsoft Corp - Company Statement Overview Microsoft Corp Company Statement A statement from the Management’s Discussion and Analysis of Financial Condition and Results of Operations section of Microsoft Corp is given below. The statement has been taken from the company's 2024 10-K filing. Fiscal Year 2024 Compared with Fiscal Year 2023 Revenue increased $33.2 billion or 16% driven by growth across each of our segments. Intelligent Cloud revenue increased driven by Azure. Productivity and Business Processes revenue increased driven by Office 365 Commercial. More Personal Computing revenue increased driven by Gaming. Cost of revenue increased $8.3 billion or 13% driven by growth in Microsoft Cloud and Gaming, offset in part by a decline in Devices. Gross margin increased $25.0 billion or 17% driven by growth across each of our segments. Gross margin percentage increased slightly. Excluding the impact of the change in accounting estimate for the useful lives of our server and network equipment, gross margin percentage increased 2 points driven by improvement in More Personal Computing. Microsoft Cloud gross margin percentage decreased slightly to 71%. Excluding the impact of the change in accounting estimate, Microsoft Cloud gross margin percentage increased slightly driven by improvements in Azure and Office 365 Commercial, inclusive of scaling our AI infrastructure, offset in part by sales mix shift to Azure. Operating expenses increased $4.0 billion or 7% driven by Gaming, with 7 points of growth from the Activision Blizzard acquisition, and investments in cloud engineering, offset in part by the prior year Q2 charge. Operating income increased $20.9 billion or 24% driven by growth across each of our segments. Prior year gross margin, operating income, net income, and diluted EPS were negatively impacted by the Q2 charge, which resulted in decreases of $152 million, $1.2 billion, $946 million, and $0.13, respectively. Reportable Segments Fiscal Year 2024 Compared with Fiscal Year 2023 Productivity and Business Processes Revenue increased $8.5 billion or 12%. Office Commercial products and cloud services revenue increased $5.8 billion or 14%. Office 365 Commercial revenue grew 16% with seat growth of 7%, driven by small and medium business and frontline worker offerings, as well as growth in revenue per user. Office Commercial products revenue declined 16% driven by continued customer shift to cloud offerings. Office Consumer products and cloud services revenue increased $237 million or 4%. Microsoft 365 Consumer subscribers grew 10% to 82.5 million. LinkedIn revenue increased $1.4 billion or 9% driven by growth across all lines of business – Talent Solutions, Premium Subscriptions, Marketing Solutions, and Sales Solutions. Dynamics products and cloud services revenue increased $1.0 billion or 19% driven by Dynamics 365. Dynamics 365 revenue grew 24% driven by growth across all workloads. Operating income increased $6.4 billion or 19%. Gross margin increased $6.5 billion or 12% driven by growth in Office 365 Commercial. Gross margin percentage decreased slightly. Excluding the impact of the change in accounting estimate, gross margin percentage increased slightly driven by improvement in Office 365 Commercial. Operating expenses increased $159 million or 1%. Intelligent Cloud Revenue increased $17.5 billion or 20%. Server products and cloud services revenue increased $17.8 billion or 22% driven by Azure and other cloud services. Azure and other cloud services revenue grew 30% driven by growth in our consumption-based services. Server products revenue increased 3% driven by continued demand for our hybrid solutions, including Windows Server and SQL Server running in multi-cloud environments. Enterprise and partner services revenue decreased $306 million or 4% driven by declines in Enterprise Support Services and Industry Solutions. Operating income increased $11.7 billion or 31%. Gross margin increased $11.6 billion or 19% driven by growth in Azure. Gross margin percentage decreased slightly. Excluding the impact of the change in accounting estimate, gross margin percentage increased slightly primarily driven by improvement in Azure, inclusive of scaling our AI infrastructure, offset in part by sales mix shift to Azure. Operating expenses decreased slightly primarily driven by the prior year Q2 charge, offset in part by investments in Azure. More Personal Computing Revenue increased $7.3 billion or 13%."
      ],
      "text/plain": [
       "<IPython.core.display.Markdown object>"
      ]
     },
     "metadata": {},
     "output_type": "display_data"
    },
    {
     "data": {
      "text/markdown": [
       "---"
      ],
      "text/plain": [
       "<IPython.core.display.Markdown object>"
      ]
     },
     "metadata": {},
     "output_type": "display_data"
    },
    {
     "data": {
      "text/markdown": [
       "### *Microsoft 2Q Rev $69.6B >MSFT"
      ],
      "text/plain": [
       "<IPython.core.display.Markdown object>"
      ]
     },
     "metadata": {},
     "output_type": "display_data"
    },
    {
     "data": {
      "text/markdown": [
       "**Dow Jones Institutional News** - 2025-01-29 - DJDN000020250129el1t0038c - Lang: en"
      ],
      "text/plain": [
       "<IPython.core.display.Markdown object>"
      ]
     },
     "metadata": {},
     "output_type": "display_data"
    },
    {
     "data": {
      "text/markdown": [
       "29 Jan 2025 16:05 ET *Microsoft 2Q EPS $3.23 >MSFT *Microsoft 2Q Rev $69.6B >MSFT \n",
       "\n",
       " 29 Jan 2025 16:05 ET *Microsoft 2Q EPS $3.23 >MSFT \n",
       "\n",
       " 29 Jan 2025 16:08 ET *Microsoft: Revenue in Productivity and Business Processes Was $29.4 Billion and Increased 14% (up 13% in Constant Currency) >MSFT \n",
       "\n",
       " 29 Jan 2025 16:08 ET *Microsoft: Revenue in Intelligent Cloud Was $25.5 Billion and Increased 19% >MSFT \n",
       "\n",
       " 29 Jan 2025 16:08 ET *Microsoft: Server Products and Cloud Services Revenue Increased 21% Driven by Azure and Other Cloud Services Revenue Growth of 31% >MSFT \n",
       "\n",
       " 29 Jan 2025 16:08 ET *Microsoft: This Quarter Cloud Revenue Was $40.9 Billion, Up 21% Year-Over-Year, Remain Committed to Balancing Operational Discipline With Continued Investments in Cloud and AI Infrastructure >MSFT \n",
       "\n",
       " 29 Jan 2025 16:10 ET *Microsoft: Innovating Across Tech Stack and Helping Customers Unlock the Full ROI of AI to Capture the Massive Opportunity Ahead >MSFT \n",
       "\n",
       " 29 Jan 2025 16:10 ET *Microsoft: AI Business Has Surpassed an Annual Revenue Run Rate of $13 Billion, Up 175% Year-over-Year >MSFT \n",
       "\n",
       " 29 Jan 2025 16:10 ET *Microsoft: Will Provide Forward-Looking Guidance in Connection With This Quarterly Earnings Announcement on Earnings Conference Call and Webcast >MSFT \n",
       "\n",
       " 29 Jan 2025 16:14 ET *Microsoft: 2Q Operating Income $31.7 Billion and Increased 17% YoY (Up 16% in Constant Currency) >MSFT \n",
       "\n",
       " 29 Jan 2025 16:20 ET *Microsoft: 2Q Microsoft 365 Commercial Products and Cloud Services Revenue Increased 15% Driven by Microsoft 365 Commercial Cloud Revenue Growth of 16% (up 15% in Constant Currency) >MSFT \n",
       "\n",
       " 29 Jan 2025 16:20 ET *Microsoft: Microsoft 365 Consumer Products and Cloud Services Revenue Increased 8% Driven by Microsoft 365 Consumer Cloud Revenue Growth of 8% >MSFT \n",
       "\n",
       " 29 Jan 2025 16:20 ET *Microsoft: LinkedIn Revenue Increased 9% >MSFT \n",
       "\n",
       " 29 Jan 2025 16:20 ET *Microsoft: Dynamics Products and Cloud Services Revenue Increased 15% (Up 14% in Constant Currency) Driven by Dynamics 365 Revenue Growth of 19% (up 18% in Constant Currency)>MSFT \n",
       "\n",
       " 29 Jan 2025 16:20 ET *Microsoft: Revenue in More Personal Computing Was $14.7 Billion and Was Relatively Unchanged >MSFT \n",
       "\n",
       " 29 Jan 2025 16:20 ET *Microsoft: Windows OEM and Devices Revenue Increased 4% >MSFT \n",
       "\n",
       " 29 Jan 2025 16:20 ET *Microsoft: Xbox Content and Services Revenue Increased 2% >MSFT \n",
       "\n",
       " 29 Jan 2025 16:21 ET *Microsoft: Search and News Advertising Revenue Excluding Traffic Acquisition Costs Increased 21% (Up 20% in Constant Currency) >MSFT \n",
       "\n",
       " 29 Jan 2025 16:21 ET *Microsoft: Returned $9.7 Billion to Shareholders in the Form of Dividends and Share Repurchases in 2Q >MSFT \n",
       "\n",
       " (MORE TO FOLLOW) Dow Jones Newswires \n",
       "\n",
       " January 29, 2025 16:21 ET (21:21 GMT) \n",
       "\n",
       " "
      ],
      "text/plain": [
       "<IPython.core.display.Markdown object>"
      ]
     },
     "metadata": {},
     "output_type": "display_data"
    },
    {
     "data": {
      "text/markdown": [
       "---"
      ],
      "text/plain": [
       "<IPython.core.display.Markdown object>"
      ]
     },
     "metadata": {},
     "output_type": "display_data"
    }
   ],
   "source": [
    "chunks_obj = chunks_resp.json()\n",
    "for article in chunks_obj['data']:\n",
    "    display(Markdown(f\"### {article['attributes']['headline']['main']['text']}\"))\n",
    "    display(Markdown(f\"**{article['meta']['source']['name']}** - {article['attributes']['publication_date']} - {article['meta']['original_doc_id']} - Lang: {article['meta']['language']['code']}\"))\n",
    "    display(Markdown(f\"{article['attributes']['snippet']['content'][0]['text']} {article['attributes']['content'][0]['text']}\"))\n",
    "    display(Markdown(f\"---\"))"
   ]
  },
  {
   "cell_type": "markdown",
   "metadata": {},
   "source": [
    "## Retrieval API Conclusion\n",
    "\n",
    "Up to this point it the seen functionalities are connected with the Retrieval API.\n",
    "\n",
    "However, given that this service is an intermediate component in a full-stack solution, the below Test LLM steps and the [Read Article](2_read_article.ipynb) notebook are the two complementary avenues to get a full working solution."
   ]
  },
  {
   "cell_type": "markdown",
   "metadata": {},
   "source": [
    "## Test LLM"
   ]
  },
  {
   "cell_type": "markdown",
   "metadata": {},
   "source": [
    "This is a downstream step that is only illustrative on how the response generation stage can be implemented. In the below example only a few articles are used to repond the prompt in a locally running LLM. The passed request is built from the original prompt enhanced with a few retrieved articles as additional context.\n",
    "\n",
    "The goal of using only a few articles is to improve performance as the LLM can take several minutes to summarise all returned articles given the natural limitations of a desktop hardware.\n",
    "\n",
    "The tested LLM was Microsoft's Phi-4 with 14Bn parameters. Response generations took between 1 and 2 minutes for a context between 3K to 4K tokens."
   ]
  },
  {
   "cell_type": "code",
   "execution_count": 11,
   "metadata": {},
   "outputs": [],
   "source": [
    "prompt_text = f\"{frapi_query['data']['attributes']['query']['value']}. To answer use the following information:\\n\\n\"\n",
    "\n",
    "chunks_obj = chunks_resp.json()['data']\n",
    "process_chunks = chunks_obj[0:3]\n",
    "for article in process_chunks:\n",
    "    prompt_text += f\"{article['attributes']['headline']['main']['text']} - {article['attributes']['publication_date']} - \"\n",
    "    prompt_text += f\"- {article['attributes']['snippet']['content'][0]['text']} {article['attributes']['content'][0]['text']}\\n------\\n\"\n"
   ]
  },
  {
   "cell_type": "code",
   "execution_count": 12,
   "metadata": {},
   "outputs": [
    {
     "name": "stdout",
     "output_type": "stream",
     "text": [
      "Summarise the latest earnings report from Microsoft Corp. To answer use the following information:\n",
      "\n",
      "This Magnificent Seven Tech Loses More Ground After Gaining On New Quantum Chip; Is Microsoft Stock A Buy In February? - 2025-02-25 - - With one week left to go in the month, is Microsoft stock a buy in February? This fresh take on the long-term leader among tech stocks and growth companies pinpoints the fundamentals, technicals and fund ownership factors that are ... \"As colleague Andrew Bary wrote in this space last week, Meta Platforms, Microsoft and Alphabet are estimated to spend $200 billion on AI this year, equal to about one quarter of their revenue,\" Randall Forsyth wrote in the \"Up & Down Wall Street\" column in Barron's in the Week of Feb. 17 issue. \"Given China-based DeepSeek's reported ability to produce an AI model for a fraction of the cost of U.S. AI companies, this raises questions about American exceptionalism, or at least the payoff from the billions U.S. tech giants are sinking into AI investments,\" Forsyth added. Earnings Remain Strong In terms of EPS Rating, Microsoft ranks No. 2 in its industry group behind Adobe. Going beyond the EPS Rating, Microsoft's profit picture looks solid but not spectacular. Wall Street consensus forecasts call for earnings in the current fiscal year ending in June to rise 11% to $13.15 a share, a slight downward revision. Still, that's more than quadruple what the firm earned in fiscal 2018 ($3.88). Fiscal 2026 earnings are seen accelerating slightly, up 14% to $14.95 a share. The company's return on equity in fiscal 2025 was terrific at 37%. IBD research has found that many of the great stock market winners showed an ROE of at least 17% at the start of their moves. During recent decades, ROEs have climbed past 20% among top growth stocks. Strong profit margins have also boosted MSFT's Sales + Margins + Return on equity (SMR) Rating to a stellar A on a scale of A to E. Go to IBD Stock Checkup to see the SMR Rating of any company in the IBD database. IBD's Big Picture: 'Positive' Volatility; Also, Will These Names Outperform The Chip Sector Leader? Technical Action Today Looking at a monthly chart of Microsoft stock, the megacap tech is clearly not leading the stock market higher. Since reaching an all-time high of 468.35 in July, shares have treaded water, even as the S&P 500 and Nasdaq continued their course of higher highs and higher lows. On the positive side, Microsoft stock has gotten support at 400, a psychologically important round number for investors. Let's check out the weekly chart. It shows a eight-month consolidation pattern in the works. Microsoft stock is trading 11% off its peak. But it's also trading below its 10-week and 40-week moving averages, a no-no for any stock that is preparing to break out of a good base and launch a run of new highs. A great stock normally trades above these technical levels right before a powerful breakout to new highs — the best time to grab shares for growth investors. Who Are The Future Microsofts of The Market? Check These Key Growth Stock Lists Microsoft's Strength Vs. Rest Of Market Another way to get a handle on the technical action? Consider using IBD's unique Relative Strength Rating. Compared with all other companies in the IBD database, Microsoft stock currently gets a lowly 35 Relative Strength Rating. This means Microsoft has outperformed only 35% of all stocks over the past 12 months. Four weeks ago, it was a mediocre 58; six months ago, the RS stood at 71. MarketSurge, meanwhile, notes a 30 score for the six-month RS Rating. And the three-month rating? Also weak at 31. This means Microsoft stock has outperformed only 31% of all companies in the IBD database over the past three months. Picking the best growth stocks absolutely involves selecting those that are already outperforming their peers before they stage a new strong run. When a stock breaks out of a well-formed base, you normally want to see the Relative Strength Rating exceed 80 on a scale of 1 to 99. In some cases, when the base gets extra long (think six months or longer), you can expect the rating to be lower than 80. It's not uncommon for excellent large and megacap stocks to bust out of bases and race to new highs even though their RS ratings are in the 50s or 60s. Microsoft Stock And Institutional Sponsorship Finally, fund sponsorship remains favorable and is perhaps the strongest leg in the three-legged stool of analyzing Microsoft in terms of fundamental, technical and institutional ownership criteria.\n",
      "------\n",
      "                           Microsoft Corp - Company Statement - 2025-02-17 - - Overview Microsoft Corp - Company Statement Overview Microsoft Corp Company Statement A statement from the Management’s Discussion and Analysis of Financial Condition and Results of Operations section of Microsoft Corp is given below. The statement has been taken from the company's 2024 10-K filing. Fiscal Year 2024 Compared with Fiscal Year 2023 Revenue increased $33.2 billion or 16% driven by growth across each of our segments. Intelligent Cloud revenue increased driven by Azure. Productivity and Business Processes revenue increased driven by Office 365 Commercial. More Personal Computing revenue increased driven by Gaming. Cost of revenue increased $8.3 billion or 13% driven by growth in Microsoft Cloud and Gaming, offset in part by a decline in Devices. Gross margin increased $25.0 billion or 17% driven by growth across each of our segments. Gross margin percentage increased slightly. Excluding the impact of the change in accounting estimate for the useful lives of our server and network equipment, gross margin percentage increased 2 points driven by improvement in More Personal Computing. Microsoft Cloud gross margin percentage decreased slightly to 71%. Excluding the impact of the change in accounting estimate, Microsoft Cloud gross margin percentage increased slightly driven by improvements in Azure and Office 365 Commercial, inclusive of scaling our AI infrastructure, offset in part by sales mix shift to Azure. Operating expenses increased $4.0 billion or 7% driven by Gaming, with 7 points of growth from the Activision Blizzard acquisition, and investments in cloud engineering, offset in part by the prior year Q2 charge. Operating income increased $20.9 billion or 24% driven by growth across each of our segments. Prior year gross margin, operating income, net income, and diluted EPS were negatively impacted by the Q2 charge, which resulted in decreases of $152 million, $1.2 billion, $946 million, and $0.13, respectively. Reportable Segments Fiscal Year 2024 Compared with Fiscal Year 2023 Productivity and Business Processes Revenue increased $8.5 billion or 12%. Office Commercial products and cloud services revenue increased $5.8 billion or 14%. Office 365 Commercial revenue grew 16% with seat growth of 7%, driven by small and medium business and frontline worker offerings, as well as growth in revenue per user. Office Commercial products revenue declined 16% driven by continued customer shift to cloud offerings. Office Consumer products and cloud services revenue increased $237 million or 4%. Microsoft 365 Consumer subscribers grew 10% to 82.5 million. LinkedIn revenue increased $1.4 billion or 9% driven by growth across all lines of business – Talent Solutions, Premium Subscriptions, Marketing Solutions, and Sales Solutions. Dynamics products and cloud services revenue increased $1.0 billion or 19% driven by Dynamics 365. Dynamics 365 revenue grew 24% driven by growth across all workloads. Operating income increased $6.4 billion or 19%. Gross margin increased $6.5 billion or 12% driven by growth in Office 365 Commercial. Gross margin percentage decreased slightly. Excluding the impact of the change in accounting estimate, gross margin percentage increased slightly driven by improvement in Office 365 Commercial. Operating expenses increased $159 million or 1%. Intelligent Cloud Revenue increased $17.5 billion or 20%. Server products and cloud services revenue increased $17.8 billion or 22% driven by Azure and other cloud services. Azure and other cloud services revenue grew 30% driven by growth in our consumption-based services. Server products revenue increased 3% driven by continued demand for our hybrid solutions, including Windows Server and SQL Server running in multi-cloud environments. Enterprise and partner services revenue decreased $306 million or 4% driven by declines in Enterprise Support Services and Industry Solutions. Operating income increased $11.7 billion or 31%. Gross margin increased $11.6 billion or 19% driven by growth in Azure. Gross margin percentage decreased slightly. Excluding the impact of the change in accounting estimate, gross margin percentage increased slightly primarily driven by improvement in Azure, inclusive of scaling our AI infrastructure, offset in part by sales mix shift to Azure. Operating expenses decreased slightly primarily driven by the prior year Q2 charge, offset in part by investments in Azure. More Personal Computing Revenue increased $7.3 billion or 13%.\n",
      "------\n",
      "*Microsoft 2Q Rev $69.6B >MSFT - 2025-01-29 - - 29 Jan 2025 16:05 ET *Microsoft 2Q EPS $3.23 >MSFT *Microsoft 2Q Rev $69.6B >MSFT \n",
      "\n",
      " 29 Jan 2025 16:05 ET *Microsoft 2Q EPS $3.23 >MSFT \n",
      "\n",
      " 29 Jan 2025 16:08 ET *Microsoft: Revenue in Productivity and Business Processes Was $29.4 Billion and Increased 14% (up 13% in Constant Currency) >MSFT \n",
      "\n",
      " 29 Jan 2025 16:08 ET *Microsoft: Revenue in Intelligent Cloud Was $25.5 Billion and Increased 19% >MSFT \n",
      "\n",
      " 29 Jan 2025 16:08 ET *Microsoft: Server Products and Cloud Services Revenue Increased 21% Driven by Azure and Other Cloud Services Revenue Growth of 31% >MSFT \n",
      "\n",
      " 29 Jan 2025 16:08 ET *Microsoft: This Quarter Cloud Revenue Was $40.9 Billion, Up 21% Year-Over-Year, Remain Committed to Balancing Operational Discipline With Continued Investments in Cloud and AI Infrastructure >MSFT \n",
      "\n",
      " 29 Jan 2025 16:10 ET *Microsoft: Innovating Across Tech Stack and Helping Customers Unlock the Full ROI of AI to Capture the Massive Opportunity Ahead >MSFT \n",
      "\n",
      " 29 Jan 2025 16:10 ET *Microsoft: AI Business Has Surpassed an Annual Revenue Run Rate of $13 Billion, Up 175% Year-over-Year >MSFT \n",
      "\n",
      " 29 Jan 2025 16:10 ET *Microsoft: Will Provide Forward-Looking Guidance in Connection With This Quarterly Earnings Announcement on Earnings Conference Call and Webcast >MSFT \n",
      "\n",
      " 29 Jan 2025 16:14 ET *Microsoft: 2Q Operating Income $31.7 Billion and Increased 17% YoY (Up 16% in Constant Currency) >MSFT \n",
      "\n",
      " 29 Jan 2025 16:20 ET *Microsoft: 2Q Microsoft 365 Commercial Products and Cloud Services Revenue Increased 15% Driven by Microsoft 365 Commercial Cloud Revenue Growth of 16% (up 15% in Constant Currency) >MSFT \n",
      "\n",
      " 29 Jan 2025 16:20 ET *Microsoft: Microsoft 365 Consumer Products and Cloud Services Revenue Increased 8% Driven by Microsoft 365 Consumer Cloud Revenue Growth of 8% >MSFT \n",
      "\n",
      " 29 Jan 2025 16:20 ET *Microsoft: LinkedIn Revenue Increased 9% >MSFT \n",
      "\n",
      " 29 Jan 2025 16:20 ET *Microsoft: Dynamics Products and Cloud Services Revenue Increased 15% (Up 14% in Constant Currency) Driven by Dynamics 365 Revenue Growth of 19% (up 18% in Constant Currency)>MSFT \n",
      "\n",
      " 29 Jan 2025 16:20 ET *Microsoft: Revenue in More Personal Computing Was $14.7 Billion and Was Relatively Unchanged >MSFT \n",
      "\n",
      " 29 Jan 2025 16:20 ET *Microsoft: Windows OEM and Devices Revenue Increased 4% >MSFT \n",
      "\n",
      " 29 Jan 2025 16:20 ET *Microsoft: Xbox Content and Services Revenue Increased 2% >MSFT \n",
      "\n",
      " 29 Jan 2025 16:21 ET *Microsoft: Search and News Advertising Revenue Excluding Traffic Acquisition Costs Increased 21% (Up 20% in Constant Currency) >MSFT \n",
      "\n",
      " 29 Jan 2025 16:21 ET *Microsoft: Returned $9.7 Billion to Shareholders in the Form of Dividends and Share Repurchases in 2Q >MSFT \n",
      "\n",
      " (MORE TO FOLLOW) Dow Jones Newswires \n",
      "\n",
      " January 29, 2025 16:21 ET (21:21 GMT) \n",
      "\n",
      " \n",
      "------\n",
      "\n"
     ]
    }
   ],
   "source": [
    "print(prompt_text)"
   ]
  },
  {
   "cell_type": "markdown",
   "metadata": {},
   "source": [
    "This is a quick check to ensure the estimated number of Tokes from the `prompt_text` are below the `LLM_CONTEXT_SIZE`."
   ]
  },
  {
   "cell_type": "code",
   "execution_count": 13,
   "metadata": {},
   "outputs": [
    {
     "data": {
      "text/plain": [
       "True"
      ]
     },
     "execution_count": 13,
     "metadata": {},
     "output_type": "execute_result"
    }
   ],
   "source": [
    "len(re.split(r\"\\b\\w+\\b\", prompt_text)) * 1.25 < LLM_CONTEXT_SIZE"
   ]
  },
  {
   "cell_type": "markdown",
   "metadata": {},
   "source": [
    "LLM Payload requesting a structured response"
   ]
  },
  {
   "cell_type": "code",
   "execution_count": 14,
   "metadata": {},
   "outputs": [],
   "source": [
    "prompt_payload = {\n",
    "    \"model\": \"phi-4\",\n",
    "    \"messages\": [\n",
    "      {\n",
    "        \"role\": \"system\",\n",
    "        \"content\": \"You are an expert news analyst that respond in a professional manner. Use only the context provided by the user to answer its request at the beginning of the prompt.\"\n",
    "      },\n",
    "      {\n",
    "        \"role\": \"user\",\n",
    "        \"content\": prompt_text\n",
    "      }\n",
    "    ],\n",
    "    \"response_format\": {\n",
    "      \"type\": \"json_schema\",\n",
    "      \"json_schema\": {\n",
    "        \"name\": \"prompt_response\",\n",
    "        \"strict\": \"true\",\n",
    "        \"schema\": {\n",
    "          \"type\": \"object\",\n",
    "          \"properties\": {\n",
    "            \"response\": {\n",
    "              \"type\": \"string\"\n",
    "            }\n",
    "          },\n",
    "        \"required\": [\"response\"]\n",
    "        }\n",
    "      }\n",
    "    },\n",
    "    \"temperature\": 0.1,\n",
    "    \"max_tokens\": 500,\n",
    "    \"stream\": False\n",
    "  }"
   ]
  },
  {
   "cell_type": "markdown",
   "metadata": {},
   "source": [
    "The endpoint URL will depend on where the model is running. A tool like LM Studio provides details for developers on the ip address that can be used for this API request. Nonetheless, the general structure is simialar to the OpenAI API and can easily be adapted to use their service.\n",
    "\n",
    "This is the request that can take 1+ minutes to complete."
   ]
  },
  {
   "cell_type": "code",
   "execution_count": 19,
   "metadata": {},
   "outputs": [],
   "source": [
    "summ_resp = r.post(f\"http://192.168.1.11:1234/v1/chat/completions\", json=prompt_payload, headers={'Content-Type': 'application/json'})"
   ]
  },
  {
   "cell_type": "code",
   "execution_count": 20,
   "metadata": {},
   "outputs": [
    {
     "data": {
      "text/html": [
       "<h3>Response:</h3><p>{ \"response\": \"Microsoft Corp's latest earnings report for the fiscal year ending June 2025 highlights strong financial performance across its segments. Revenue increased by $33.2 billion or 16% compared to the previous fiscal year, driven by growth in Intelligent Cloud, Productivity and Business Processes, and More Personal Computing. Specifically, Azure and Office 365 Commercial were significant contributors to this growth. The company's gross margin improved by $25.0 billion or 17%, with a slight increase in gross margin percentage when excluding changes in accounting estimates for server and network equipment. Operating income rose by $20.9 billion or 24%, reflecting robust segment performance despite prior year charges impacting previous metrics. In the second quarter of fiscal 2025, Microsoft reported revenue of $69.6 billion and earnings per share (EPS) of $3.23. The Intelligent Cloud segment saw a 19% increase in revenue, with Azure driving significant growth. Productivity and Business Processes revenue grew by 14%, while More Personal Computing remained relatively unchanged. Microsoft's AI business has achieved an annual revenue run rate exceeding $13 billion, marking a 175% year-over-year increase. Despite strong fundamentals, the company's stock performance has been mixed, trading below key moving averages and showing a Relative Strength Rating of 35, indicating it outperformed only 35% of stocks over the past year. Fund sponsorship remains favorable, supporting Microsoft's position as a solid investment.\" }</p>"
      ],
      "text/plain": [
       "<IPython.core.display.HTML object>"
      ]
     },
     "metadata": {},
     "output_type": "display_data"
    }
   ],
   "source": [
    "display(HTML(f\"<h3>Response:</h3><p>{summ_resp.json()['choices'][0]['message']['content']}</p>\"))"
   ]
  }
 ],
 "metadata": {
  "kernelspec": {
   "display_name": "fadev",
   "language": "python",
   "name": "python3"
  },
  "language_info": {
   "codemirror_mode": {
    "name": "ipython",
    "version": 3
   },
   "file_extension": ".py",
   "mimetype": "text/x-python",
   "name": "python",
   "nbconvert_exporter": "python",
   "pygments_lexer": "ipython3",
   "version": "3.12.7"
  }
 },
 "nbformat": 4,
 "nbformat_minor": 2
}
