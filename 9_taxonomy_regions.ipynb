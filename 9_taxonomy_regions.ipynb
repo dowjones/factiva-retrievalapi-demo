{
 "cells": [
  {
   "cell_type": "markdown",
   "id": "7bf76fa4",
   "metadata": {},
   "source": [
    "# Taxonomy - Regions\n",
    "This notebook helps retrieving the full list of Regions used by factiva. Returned codes can be added to the Retrieval API payload.\n",
    "\n",
    "## Code Initialisation\n",
    "Dependencies and environment initialisation. Taxonomy requests require authentication.\n",
    "\n",
    "Ensure there's a `.env` file with your credentials in the same directory as this script. Use the `.env.example` file as template."
   ]
  },
  {
   "cell_type": "code",
   "execution_count": 52,
   "id": "1d3e90ab",
   "metadata": {},
   "outputs": [
    {
     "data": {
      "text/plain": [
       "True"
      ]
     },
     "execution_count": 52,
     "metadata": {},
     "output_type": "execute_result"
    }
   ],
   "source": [
    "import os\n",
    "import requests as r\n",
    "import pandas as pd\n",
    "from IPython.display import Markdown\n",
    "import utils as u\n",
    "from dotenv import load_dotenv\n",
    "\n",
    "load_dotenv()"
   ]
  },
  {
   "cell_type": "markdown",
   "id": "7af05a55",
   "metadata": {},
   "source": [
    "## Constants"
   ]
  },
  {
   "cell_type": "code",
   "execution_count": 53,
   "id": "a739e1a5",
   "metadata": {},
   "outputs": [],
   "source": [
    "API_HOST = 'api.dowjones.com'\n",
    "AUTH_HOST = 'accounts.dowjones.com'\n",
    "CLIENT_ID = os.getenv('FACTIVA_CLIENTID')\n",
    "USERNAME = os.getenv('FACTIVA_USERNAME')\n",
    "PASSWORD = os.getenv('FACTIVA_PASSWORD')\n",
    "AUTH_URL = f\"https://{AUTH_HOST}/oauth2/v1/token\"\n",
    "REG_URL = f\"https://{API_HOST}/taxonomy/factiva-regions/list\""
   ]
  },
  {
   "cell_type": "markdown",
   "id": "1aedfd9e",
   "metadata": {},
   "source": [
    "## Authentication - Generate Bearer\n",
    "\n",
    "For details about getting the `bearer_token`, please see the `utils.py` file."
   ]
  },
  {
   "cell_type": "code",
   "execution_count": 54,
   "id": "7faeaa37",
   "metadata": {},
   "outputs": [
    {
     "data": {
      "text/markdown": [
       "**Authentication Successful**: Bearer token created for user 9ZZZ159100"
      ],
      "text/plain": [
       "<IPython.core.display.Markdown object>"
      ]
     },
     "metadata": {},
     "output_type": "display_data"
    }
   ],
   "source": [
    "bearer_token = u.get_bearer_token(CLIENT_ID, USERNAME, PASSWORD, AUTH_URL)\n",
    "if bearer_token:\n",
    "    display(Markdown(f\"**Authentication Successful**: Bearer token created for user {USERNAME.split('@')[0].split('-')[0]}\"))\n",
    "else:\n",
    "    display(Markdown(f\"**Authentication Failed**: Cannot obtain the Bearer token for the user {USERNAME.split('@')[0].split('-')[0]}\"))\n",
    "    \n",
    "req_headers = {\n",
    "    \"Authorization\": f\"Bearer {bearer_token}\",\n",
    "    \"Content-Type\": \"application/json\",\n",
    "    \"Accept\": \"application/json\"\n",
    "}"
   ]
  },
  {
   "cell_type": "markdown",
   "id": "1760b206",
   "metadata": {},
   "source": [
    "## Taxonomy API Request"
   ]
  },
  {
   "cell_type": "code",
   "execution_count": 55,
   "id": "b1aa26ab",
   "metadata": {},
   "outputs": [
    {
     "data": {
      "text/markdown": [
       "**Regions Retrieved Successfully**"
      ],
      "text/plain": [
       "<IPython.core.display.Markdown object>"
      ]
     },
     "metadata": {},
     "output_type": "display_data"
    },
    {
     "data": {
      "text/markdown": [
       "Returned 977 regions"
      ],
      "text/plain": [
       "<IPython.core.display.Markdown object>"
      ]
     },
     "metadata": {},
     "output_type": "display_data"
    }
   ],
   "source": [
    "reg_response = r.get(f\"{REG_URL}?language=en&parts=All\", headers=req_headers)\n",
    "reg_dict = reg_response.json()['data']['attributes']['regions']\n",
    "flat_reg = []\n",
    "for item in reg_dict:\n",
    "    parents = []\n",
    "    if 'parent' in item and item['parent']:\n",
    "        # parent can be a dict or a list of dicts\n",
    "        if isinstance(item['parent'], dict):\n",
    "            parents.append(item['parent'].get('code'))\n",
    "        elif isinstance(item['parent'], list):\n",
    "            parents = [p.get('code') for p in item['parent'] if 'code' in p]\n",
    "    flat_reg.append({\n",
    "        'reg_code': item.get('code'),\n",
    "        'reg_name': item.get('descriptor'),\n",
    "        'description': item.get('description'),\n",
    "        'region_type': item.get('regionType'),\n",
    "        'parents': parents\n",
    "    })\n",
    "reg_df = pd.DataFrame(flat_reg)\n",
    "if reg_df.shape[0] > 5:\n",
    "    display(Markdown(\"**Regions Retrieved Successfully**\"))\n",
    "    display(Markdown(f\"Returned {reg_df.shape[0]} regions\"))\n",
    "else:\n",
    "    display(Markdown(\"**Regions Retrieval Failed**\"))"
   ]
  },
  {
   "cell_type": "markdown",
   "id": "7da85877",
   "metadata": {},
   "source": [
    "## Displaying and filtering News Subjects\n",
    "\n",
    "### Display & Filter"
   ]
  },
  {
   "cell_type": "code",
   "execution_count": 56,
   "id": "d0f77fbb",
   "metadata": {},
   "outputs": [
    {
     "data": {
      "text/html": [
       "<div>\n",
       "<style scoped>\n",
       "    .dataframe tbody tr th:only-of-type {\n",
       "        vertical-align: middle;\n",
       "    }\n",
       "\n",
       "    .dataframe tbody tr th {\n",
       "        vertical-align: top;\n",
       "    }\n",
       "\n",
       "    .dataframe thead th {\n",
       "        text-align: right;\n",
       "    }\n",
       "</style>\n",
       "<table border=\"1\" class=\"dataframe\">\n",
       "  <thead>\n",
       "    <tr style=\"text-align: right;\">\n",
       "      <th></th>\n",
       "      <th>reg_code</th>\n",
       "      <th>reg_name</th>\n",
       "      <th>description</th>\n",
       "      <th>region_type</th>\n",
       "      <th>parents</th>\n",
       "    </tr>\n",
       "  </thead>\n",
       "  <tbody>\n",
       "    <tr>\n",
       "      <th>3</th>\n",
       "      <td>ABZZO</td>\n",
       "      <td>Abruzzo</td>\n",
       "      <td>Abruzzo is a region in southern Italy.</td>\n",
       "      <td>StateProvince</td>\n",
       "      <td>[ITALY]</td>\n",
       "    </tr>\n",
       "    <tr>\n",
       "      <th>45</th>\n",
       "      <td>AOSTA</td>\n",
       "      <td>Aosta Valley</td>\n",
       "      <td>Aosta Valley is an autonomous region in northw...</td>\n",
       "      <td>StateProvince</td>\n",
       "      <td>[ITALY]</td>\n",
       "    </tr>\n",
       "    <tr>\n",
       "      <th>47</th>\n",
       "      <td>APULIA</td>\n",
       "      <td>Apulia</td>\n",
       "      <td>Apulia is a region in southern Italy.</td>\n",
       "      <td>StateProvince</td>\n",
       "      <td>[ITALY]</td>\n",
       "    </tr>\n",
       "    <tr>\n",
       "      <th>97</th>\n",
       "      <td>BASILC</td>\n",
       "      <td>Basilicata</td>\n",
       "      <td>Basilicata is a region in southern Italy.</td>\n",
       "      <td>StateProvince</td>\n",
       "      <td>[ITALY]</td>\n",
       "    </tr>\n",
       "    <tr>\n",
       "      <th>156</th>\n",
       "      <td>CALABR</td>\n",
       "      <td>Calabria</td>\n",
       "      <td>Calabria is a region in southern Italy.</td>\n",
       "      <td>StateProvince</td>\n",
       "      <td>[ITALY]</td>\n",
       "    </tr>\n",
       "    <tr>\n",
       "      <th>161</th>\n",
       "      <td>CAMPAN</td>\n",
       "      <td>Campania</td>\n",
       "      <td>Campania is a region in southern Italy.</td>\n",
       "      <td>StateProvince</td>\n",
       "      <td>[ITALY]</td>\n",
       "    </tr>\n",
       "    <tr>\n",
       "      <th>276</th>\n",
       "      <td>EMILIA</td>\n",
       "      <td>Emilia-Romagna</td>\n",
       "      <td>Emilia-Romagna is a region in northeastern Italy.</td>\n",
       "      <td>StateProvince</td>\n",
       "      <td>[ITALY]</td>\n",
       "    </tr>\n",
       "    <tr>\n",
       "      <th>302</th>\n",
       "      <td>FRIULI</td>\n",
       "      <td>Friuli-Venezia Giulia</td>\n",
       "      <td>Friuli-Venezia Giulia is an autonomous region ...</td>\n",
       "      <td>StateProvince</td>\n",
       "      <td>[ITALY]</td>\n",
       "    </tr>\n",
       "    <tr>\n",
       "      <th>463</th>\n",
       "      <td>LAZIO</td>\n",
       "      <td>Lazio</td>\n",
       "      <td>Lazio is a region in Central Italy.</td>\n",
       "      <td>StateProvince</td>\n",
       "      <td>[ITALY]</td>\n",
       "    </tr>\n",
       "    <tr>\n",
       "      <th>471</th>\n",
       "      <td>LIGUR</td>\n",
       "      <td>Liguria</td>\n",
       "      <td>Liguria is a region in northwestern Italy.</td>\n",
       "      <td>StateProvince</td>\n",
       "      <td>[ITALY]</td>\n",
       "    </tr>\n",
       "    <tr>\n",
       "      <th>480</th>\n",
       "      <td>LOMBAR</td>\n",
       "      <td>Lombardy</td>\n",
       "      <td>Lombardy is a region in northwestern Italy.</td>\n",
       "      <td>StateProvince</td>\n",
       "      <td>[ITALY]</td>\n",
       "    </tr>\n",
       "    <tr>\n",
       "      <th>515</th>\n",
       "      <td>MACHE</td>\n",
       "      <td>Marche</td>\n",
       "      <td>Marche is a region in central Italy.</td>\n",
       "      <td>StateProvince</td>\n",
       "      <td>[ITALY]</td>\n",
       "    </tr>\n",
       "    <tr>\n",
       "      <th>554</th>\n",
       "      <td>MOLISE</td>\n",
       "      <td>Molise</td>\n",
       "      <td>Molise is a region in southern Italy.</td>\n",
       "      <td>StateProvince</td>\n",
       "      <td>[ITALY]</td>\n",
       "    </tr>\n",
       "    <tr>\n",
       "      <th>686</th>\n",
       "      <td>PIEDM</td>\n",
       "      <td>Piedmont</td>\n",
       "      <td>Piedmont is a region in northwestern Italy.</td>\n",
       "      <td>StateProvince</td>\n",
       "      <td>[ITALY]</td>\n",
       "    </tr>\n",
       "    <tr>\n",
       "      <th>779</th>\n",
       "      <td>SARDEG</td>\n",
       "      <td>Sardinia</td>\n",
       "      <td>Sardinia is an autonomous region of Italy and ...</td>\n",
       "      <td>StateProvince</td>\n",
       "      <td>[ITALY]</td>\n",
       "    </tr>\n",
       "    <tr>\n",
       "      <th>802</th>\n",
       "      <td>SICILY</td>\n",
       "      <td>Sicily</td>\n",
       "      <td>Sicily is an autonomous region of Italy and th...</td>\n",
       "      <td>StateProvince</td>\n",
       "      <td>[ITALY]</td>\n",
       "    </tr>\n",
       "    <tr>\n",
       "      <th>889</th>\n",
       "      <td>TRENAL</td>\n",
       "      <td>Trentino-Alto Adige</td>\n",
       "      <td>Trentino-Alto Adige is an autonomous region in...</td>\n",
       "      <td>StateProvince</td>\n",
       "      <td>[ITALY]</td>\n",
       "    </tr>\n",
       "    <tr>\n",
       "      <th>901</th>\n",
       "      <td>TOSCAN</td>\n",
       "      <td>Tuscany</td>\n",
       "      <td>Tuscany is a region in Central Italy.</td>\n",
       "      <td>StateProvince</td>\n",
       "      <td>[ITALY]</td>\n",
       "    </tr>\n",
       "    <tr>\n",
       "      <th>909</th>\n",
       "      <td>UMBRIA</td>\n",
       "      <td>Umbria</td>\n",
       "      <td>Umbria is a region in central Italy.</td>\n",
       "      <td>StateProvince</td>\n",
       "      <td>[ITALY]</td>\n",
       "    </tr>\n",
       "    <tr>\n",
       "      <th>926</th>\n",
       "      <td>VENET</td>\n",
       "      <td>Veneto</td>\n",
       "      <td>Veneto is a region in northeastern Italy.</td>\n",
       "      <td>StateProvince</td>\n",
       "      <td>[ITALY]</td>\n",
       "    </tr>\n",
       "  </tbody>\n",
       "</table>\n",
       "</div>"
      ],
      "text/plain": [
       "    reg_code               reg_name  \\\n",
       "3      ABZZO                Abruzzo   \n",
       "45     AOSTA           Aosta Valley   \n",
       "47    APULIA                 Apulia   \n",
       "97    BASILC             Basilicata   \n",
       "156   CALABR               Calabria   \n",
       "161   CAMPAN               Campania   \n",
       "276   EMILIA         Emilia-Romagna   \n",
       "302   FRIULI  Friuli-Venezia Giulia   \n",
       "463    LAZIO                  Lazio   \n",
       "471    LIGUR                Liguria   \n",
       "480   LOMBAR               Lombardy   \n",
       "515    MACHE                 Marche   \n",
       "554   MOLISE                 Molise   \n",
       "686    PIEDM               Piedmont   \n",
       "779   SARDEG               Sardinia   \n",
       "802   SICILY                 Sicily   \n",
       "889   TRENAL    Trentino-Alto Adige   \n",
       "901   TOSCAN                Tuscany   \n",
       "909   UMBRIA                 Umbria   \n",
       "926    VENET                 Veneto   \n",
       "\n",
       "                                           description    region_type  parents  \n",
       "3               Abruzzo is a region in southern Italy.  StateProvince  [ITALY]  \n",
       "45   Aosta Valley is an autonomous region in northw...  StateProvince  [ITALY]  \n",
       "47               Apulia is a region in southern Italy.  StateProvince  [ITALY]  \n",
       "97           Basilicata is a region in southern Italy.  StateProvince  [ITALY]  \n",
       "156            Calabria is a region in southern Italy.  StateProvince  [ITALY]  \n",
       "161            Campania is a region in southern Italy.  StateProvince  [ITALY]  \n",
       "276  Emilia-Romagna is a region in northeastern Italy.  StateProvince  [ITALY]  \n",
       "302  Friuli-Venezia Giulia is an autonomous region ...  StateProvince  [ITALY]  \n",
       "463                Lazio is a region in Central Italy.  StateProvince  [ITALY]  \n",
       "471         Liguria is a region in northwestern Italy.  StateProvince  [ITALY]  \n",
       "480        Lombardy is a region in northwestern Italy.  StateProvince  [ITALY]  \n",
       "515               Marche is a region in central Italy.  StateProvince  [ITALY]  \n",
       "554              Molise is a region in southern Italy.  StateProvince  [ITALY]  \n",
       "686        Piedmont is a region in northwestern Italy.  StateProvince  [ITALY]  \n",
       "779  Sardinia is an autonomous region of Italy and ...  StateProvince  [ITALY]  \n",
       "802  Sicily is an autonomous region of Italy and th...  StateProvince  [ITALY]  \n",
       "889  Trentino-Alto Adige is an autonomous region in...  StateProvince  [ITALY]  \n",
       "901              Tuscany is a region in Central Italy.  StateProvince  [ITALY]  \n",
       "909               Umbria is a region in central Italy.  StateProvince  [ITALY]  \n",
       "926          Veneto is a region in northeastern Italy.  StateProvince  [ITALY]  "
      ]
     },
     "execution_count": 56,
     "metadata": {},
     "output_type": "execute_result"
    }
   ],
   "source": [
    "# Show all\n",
    "# reg_df\n",
    "# Filter by parent\n",
    "reg_df[reg_df['parents'].apply(lambda x: 'ITALY' in x)]"
   ]
  },
  {
   "cell_type": "markdown",
   "id": "d4686785",
   "metadata": {},
   "source": [
    "### Search Keywords"
   ]
  },
  {
   "cell_type": "code",
   "execution_count": 57,
   "id": "fbede3dd",
   "metadata": {},
   "outputs": [
    {
     "data": {
      "text/html": [
       "<div>\n",
       "<style scoped>\n",
       "    .dataframe tbody tr th:only-of-type {\n",
       "        vertical-align: middle;\n",
       "    }\n",
       "\n",
       "    .dataframe tbody tr th {\n",
       "        vertical-align: top;\n",
       "    }\n",
       "\n",
       "    .dataframe thead th {\n",
       "        text-align: right;\n",
       "    }\n",
       "</style>\n",
       "<table border=\"1\" class=\"dataframe\">\n",
       "  <thead>\n",
       "    <tr style=\"text-align: right;\">\n",
       "      <th></th>\n",
       "      <th>reg_code</th>\n",
       "      <th>reg_name</th>\n",
       "      <th>description</th>\n",
       "      <th>region_type</th>\n",
       "      <th>parents</th>\n",
       "    </tr>\n",
       "  </thead>\n",
       "  <tbody>\n",
       "    <tr>\n",
       "      <th>37</th>\n",
       "      <td>ANGUIL</td>\n",
       "      <td>Anguilla</td>\n",
       "      <td>Anguilla is an overseas territory of the Unite...</td>\n",
       "      <td>Country</td>\n",
       "      <td>[CARIBZ]</td>\n",
       "    </tr>\n",
       "    <tr>\n",
       "      <th>116</th>\n",
       "      <td>BERM</td>\n",
       "      <td>Bermuda</td>\n",
       "      <td>Bermuda is a self-governing overseas territory...</td>\n",
       "      <td>Country</td>\n",
       "      <td>[NAMZ]</td>\n",
       "    </tr>\n",
       "    <tr>\n",
       "      <th>140</th>\n",
       "      <td>BIOT</td>\n",
       "      <td>British Indian Ocean Territory</td>\n",
       "      <td>The British Indian Ocean Territory is an overs...</td>\n",
       "      <td>Country</td>\n",
       "      <td>[SASIAZ]</td>\n",
       "    </tr>\n",
       "    <tr>\n",
       "      <th>141</th>\n",
       "      <td>BVI</td>\n",
       "      <td>British Virgin Islands</td>\n",
       "      <td>The British Virgin Islands is a self-governing...</td>\n",
       "      <td>Country</td>\n",
       "      <td>[CARIBZ]</td>\n",
       "    </tr>\n",
       "    <tr>\n",
       "      <th>178</th>\n",
       "      <td>CAYI</td>\n",
       "      <td>Cayman Islands</td>\n",
       "      <td>The Cayman Islands is an overseas territory of...</td>\n",
       "      <td>Country</td>\n",
       "      <td>[CARIBZ]</td>\n",
       "    </tr>\n",
       "  </tbody>\n",
       "</table>\n",
       "</div>"
      ],
      "text/plain": [
       "    reg_code                        reg_name  \\\n",
       "37    ANGUIL                        Anguilla   \n",
       "116     BERM                         Bermuda   \n",
       "140     BIOT  British Indian Ocean Territory   \n",
       "141      BVI          British Virgin Islands   \n",
       "178     CAYI                  Cayman Islands   \n",
       "\n",
       "                                           description region_type   parents  \n",
       "37   Anguilla is an overseas territory of the Unite...     Country  [CARIBZ]  \n",
       "116  Bermuda is a self-governing overseas territory...     Country    [NAMZ]  \n",
       "140  The British Indian Ocean Territory is an overs...     Country  [SASIAZ]  \n",
       "141  The British Virgin Islands is a self-governing...     Country  [CARIBZ]  \n",
       "178  The Cayman Islands is an overseas territory of...     Country  [CARIBZ]  "
      ]
     },
     "execution_count": 57,
     "metadata": {},
     "output_type": "execute_result"
    }
   ],
   "source": [
    "# By reg_code\n",
    "# reg_df[reg_df.reg_code == 'SPAIN']\n",
    "# By reg_name\n",
    "# reg_df[reg_df.reg_name.str.contains('island', case=False)].head(5)\n",
    "# By reg_description\n",
    "reg_df[reg_df.description.str.contains('overseas', case=False)].head(5)"
   ]
  }
 ],
 "metadata": {
  "kernelspec": {
   "display_name": "frapidemo",
   "language": "python",
   "name": "python3"
  },
  "language_info": {
   "codemirror_mode": {
    "name": "ipython",
    "version": 3
   },
   "file_extension": ".py",
   "mimetype": "text/x-python",
   "name": "python",
   "nbconvert_exporter": "python",
   "pygments_lexer": "ipython3",
   "version": "3.12.9"
  }
 },
 "nbformat": 4,
 "nbformat_minor": 5
}
