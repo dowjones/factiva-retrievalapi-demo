{
 "cells": [
  {
   "cell_type": "markdown",
   "metadata": {},
   "source": [
    "# Retrieval API - Step 2 - Generate LLM (Gemini) Answer"
   ]
  },
  {
   "cell_type": "markdown",
   "metadata": {},
   "source": [
    "## Code Initialization\n",
    "Dependencies and environment initialization.\n",
    "\n",
    "Ensure there's a `.env` file with your credentials in the same directory as this script. Use the `.env.example` file as template."
   ]
  },
  {
   "cell_type": "code",
   "execution_count": 1,
   "metadata": {},
   "outputs": [
    {
     "data": {
      "text/plain": [
       "True"
      ]
     },
     "execution_count": 1,
     "metadata": {},
     "output_type": "execute_result"
    }
   ],
   "source": [
    "import os\n",
    "from IPython.display import Markdown\n",
    "import utils as u\n",
    "from dotenv import load_dotenv\n",
    "\n",
    "load_dotenv()"
   ]
  },
  {
   "cell_type": "markdown",
   "metadata": {},
   "source": [
    "## Constants"
   ]
  },
  {
   "cell_type": "code",
   "execution_count": 2,
   "metadata": {},
   "outputs": [],
   "source": [
    "GCP_PROJECT = os.getenv('GCP_PROJECT')\n",
    "GCP_LOCATION = os.getenv('GCP_LOCATION')\n",
    "GCP_MODEL = os.getenv('GCP_MODEL')"
   ]
  },
  {
   "cell_type": "markdown",
   "metadata": {},
   "source": [
    "## Gemini Answer Generation"
   ]
  },
  {
   "cell_type": "markdown",
   "metadata": {},
   "source": [
    "This is a downstream step that is only illustrative on how the response generation stage can be implemented. In the below example the retrieved articles are used to respond the prompt using an LLM hosted in **Google Cloud Vertex AI**. The passed request is built from the original prompt enhanced with the retrieved articles as gounding context.\n",
    "\n",
    "The tested LLM is **Google Gemini 2.5 Flash Preview 05-20**. Response generations took a few seconds for a context between 5K to 8K LLM tokens.\n",
    "\n",
    "### Prerequisite\n",
    "\n",
    "To successfully complete the following steps, it's important that there's an active GCloud authentication in the environment where this notbeook is executed from. This can be done by running the following command:\n",
    "\n",
    "```bash\n",
    "$ gcloud auth application-default login\n",
    "```\n",
    "\n",
    "For more information see [Set up ADC for a local development environment](https://cloud.google.com/docs/authentication/set-up-adc-local-dev-environment).\n",
    "\n",
    "### Read Chunks from [Step 1](1_get_chunks.ipynb)"
   ]
  },
  {
   "cell_type": "code",
   "execution_count": 3,
   "metadata": {},
   "outputs": [
    {
     "data": {
      "text/markdown": [
       "**Original Prompt:** Summarise tariff decisions by the US administration over the last few months and their impact on the automotive industry worldwide"
      ],
      "text/plain": [
       "<IPython.core.display.Markdown object>"
      ]
     },
     "metadata": {},
     "output_type": "display_data"
    },
    {
     "data": {
      "text/markdown": [
       "**Number of Chunks:** 10"
      ],
      "text/plain": [
       "<IPython.core.display.Markdown object>"
      ]
     },
     "metadata": {},
     "output_type": "display_data"
    }
   ],
   "source": [
    "frapi_query = u.load_dict_json('query')\n",
    "chunks_list = u.load_dict_json('chunks')\n",
    "frapi_prompt = frapi_query['data']['attributes']['query']['value']\n",
    "display(Markdown(f\"**Original Prompt:** {frapi_prompt}\"))\n",
    "display(Markdown(f\"**Number of Chunks:** {len(chunks_list)}\"))"
   ]
  },
  {
   "cell_type": "markdown",
   "metadata": {},
   "source": [
    "### Gemini Structured Prompt"
   ]
  },
  {
   "cell_type": "code",
   "execution_count": 4,
   "metadata": {},
   "outputs": [],
   "source": [
    "instructions_text =\"\"\"\n",
    "    You are an experienced business analyst that respond in a professional manner.\n",
    "    Answer the query using only the information provided in the list of articles.\n",
    "    If you use information from an article, cite it using squared brackets containing the index number.\n",
    "    At the end of the answer, show a list of the cited articles ordered by index and under the title Cited Articles.\n",
    "    Each cited article must be displayed in the following Markdown format (don't forget the opening square bracket before the headline):\n",
    "    - [index] [headline - source_name - publication_date](url)\n",
    "    Use Markdown for the output.\n",
    "\"\"\"\n",
    "article_list = []\n",
    "\n",
    "for chunk in chunks_list:\n",
    "    article = {\n",
    "        'index': len(article_list) + 1,\n",
    "        'url': f\"https://dj.factiva.com/article?id=drn:archive.newsarticle.{str(chunk['meta']['original_doc_id']).strip()}\",\n",
    "        'source_name': str(chunk['meta']['source']['name']).strip(),\n",
    "        'headline': str(chunk['attributes']['headline']['main']['text']).strip(),\n",
    "        'publication_date': chunk['attributes']['publication_date'],\n",
    "        'content': f\"{str(chunk['attributes']['snippet']['content'][0]['text']).strip()} {str(chunk['attributes']['content'][0]['text']).strip()}\"\n",
    "    }\n",
    "    article_list.append(article)\n",
    "\n",
    "llm_prompt = {\n",
    "    'query': frapi_prompt,\n",
    "    'articles': article_list,\n",
    "    \"instructions\": instructions_text.strip()\n",
    "}"
   ]
  },
  {
   "cell_type": "code",
   "execution_count": 5,
   "metadata": {},
   "outputs": [
    {
     "name": "stdout",
     "output_type": "stream",
     "text": [
      "{\n",
      "    \"query\": \"Summarise tariff decisions by the US administration over the last few months and their impact on the automotive industry worldwide\",\n",
      "    \"articles\": [\n",
      "        {\n",
      "            \"index\": 1,\n",
      "            \"url\": \"https://dj.factiva.com/article?id=drn:archive.newsarticle.MRKWC00020250604el640018h\",\n",
      "            \"source_name\": \"MarketWatch\",\n",
      "            \"headline\": \"Car buyers drove sales to a 4-year high to beat tariffs. Now sales are running out of gas. Trade wars cause U.S. economy to seesaw\",\n",
      "            \"publication_date\": \"2025-06-04\",\n",
      "            \"content\": \"U.S. trade wars turbocharged sales of new cars and trucks in the spring to a four-year high, but the mad dash by consumers to avoid tariff-related pri...\"\n",
      "        },\n",
      "        {\n",
      "            \"index\": 2,\n",
      "            \"url\": \"https://dj.factiva.com/article?id=drn:archive.newsarticle.DJDN000020250603el63002rw\",\n",
      "            \"source_name\": \"Dow Jones Newswires\",\n",
      "            \"headline\": \"Americans Still Hit the Car Lots in May -- WSJ\",\n",
      "            \"publication_date\": \"2025-06-03\",\n",
      "            \"content\": \"Americans are still buying a lot of cars, despite broader consumer concerns about the economy and rising prices as a result of tariffs. Americans Stil...\"\n",
      "        },\n",
      "        {\n",
      "            \"index\": 3,\n",
      "            \"url\": \"https://dj.factiva.com/article?id=drn:archive.newsarticle.RTCNWS0020250602el620008b\",\n",
      "            \"source_name\": \"道琼斯中文通讯 (简体)\",\n",
      "            \"headline\": \"特朗普计划上调钢铝关税的举动导致汽车股普遍走低\",\n",
      "            \"publication_date\": \"2025-06-02\",\n",
      "            \"content\": \"周一在全球股市的下跌股当中，丰田汽车(Toyota)和Jeep制造商Stellantis赫然位列其中，两家车企的股价分别在东京和米兰下跌约3%。 特朗普计划上调钢铝关税的举动导致汽车股普遍走低 周一在全球股市的下跌股当中，丰田汽车(Toyota)和Jeep制造商Stellantis赫然位列其中，两家...\"\n",
      "        },\n",
      "        {\n",
      "            \"index\": 4,\n",
      "            \"url\": \"https://dj.factiva.com/article?id=drn:archive.newsarticle.PRTRIN0020250603el6300c1g\",\n",
      "            \"source_name\": \"Press Trust of India\",\n",
      "            \"headline\": \"India seeks WTO consultations with US over safeguard measures on auto components\",\n",
      "            \"publication_date\": \"2025-06-03\",\n",
      "            \"content\": \"New Delhi, Jun 3 (PTI) India on Tuesday sought consultations with the US under the World Trade Organisation's (WTO) safeguard agreement over American ...\"\n",
      "        },\n",
      "        {\n",
      "            \"index\": 5,\n",
      "            \"url\": \"https://dj.factiva.com/article?id=drn:archive.newsarticle.PRESSA0020250603el63006mx\",\n",
      "            \"source_name\": \"Press Association National Newswire\",\n",
      "            \"headline\": \"The recent trade agreement with the US \\\"is the very best deal that the UK could...\",\n",
      "            \"publication_date\": \"2025-06-03\",\n",
      "            \"content\": \"The recent trade agreement with the US \\\"is the very best deal that the UK could have hoped for under the circumstances,\\\" a Jaguar Land Rover director ...\"\n",
      "        },\n",
      "        {\n",
      "            \"index\": 6,\n",
      "            \"url\": \"https://dj.factiva.com/article?id=drn:archive.newsarticle.BSNLNO0020250603el630010g\",\n",
      "            \"source_name\": \"BusinessLine Online\",\n",
      "            \"headline\": \"India seeks consultations with US at WTO on auto tariffs\",\n",
      "            \"publication_date\": \"2025-06-03\",\n",
      "            \"content\": \"India has sought consultations with the US at the World Trade Organisation (WTO) on tariff increase of 25 per cent on imports of passenger vehicles (P...\"\n",
      "        },\n",
      "        {\n",
      "            \"index\": 7,\n",
      "            \"url\": \"https://dj.factiva.com/article?id=drn:archive.newsarticle.DJDN000020250602el62002gf\",\n",
      "            \"source_name\": \"Dow Jones Newswires\",\n",
      "            \"headline\": \"Ford, GM Stocks Are Slipping. Investors Want a Brake on Tariffs. -- Barrons.com\",\n",
      "            \"publication_date\": \"2025-06-02\",\n",
      "            \"content\": \"Al Root Ford, GM Stocks Are Slipping. Investors Want a Brake on Tariffs. -- Barrons.com Al Root Shares of Ford Motor and General Motors were weak earl...\"\n",
      "        },\n",
      "        {\n",
      "            \"index\": 8,\n",
      "            \"url\": \"https://dj.factiva.com/article?id=drn:archive.newsarticle.NAFTA00020250602el620002z\",\n",
      "            \"source_name\": \"CE NAFTA 2.0-USMCA\",\n",
      "            \"headline\": \"Automotive industry, the largest exporter within T-MEC\",\n",
      "            \"publication_date\": \"2025-06-02\",\n",
      "            \"content\": \"Faced with the uncertainty generated by President Donald Trump's trade policy, Mexican companies are opting to export under the Mexico-United States-C...\"\n",
      "        },\n",
      "        {\n",
      "            \"index\": 9,\n",
      "            \"url\": \"https://dj.factiva.com/article?id=drn:archive.newsarticle.TOI0000020250603el630008l\",\n",
      "            \"source_name\": \"The Times of India\",\n",
      "            \"headline\": \"India invokes WTO mechanism to address US safeguard duties on auto components\",\n",
      "            \"publication_date\": \"2025-06-03\",\n",
      "            \"content\": \"India has formally requested consultations with the United States under the World Trade Organisation’s (WTO) Agreement on Safeguards, challenging rece...\"\n",
      "        },\n",
      "        {\n",
      "            \"index\": 10,\n",
      "            \"url\": \"https://dj.factiva.com/article?id=drn:archive.newsarticle.KORTIM0020250603el630000i\",\n",
      "            \"source_name\": \"Korea Times\",\n",
      "            \"headline\": \"Carmakers face double whammy of export fall, domestic slump amid leadership vacuum\",\n",
      "            \"publication_date\": \"2025-06-03\",\n",
      "            \"content\": \"The nation’s auto industry is trapped in a double whammy of drastic declining exports and a domestic consumption slump amid a prolonged leadership vac...\"\n",
      "        }\n",
      "    ],\n",
      "    \"instructions\": \"You are an experienced business analyst that respond in a professional manner.\\n    Answer the query using only the information provided in the list of articles.\\n    If you use information from an article, cite it using squared brackets containing the index number.\\n    At the end of the answer, show a list of the cited articles ordered by index and under the title Cited Articles.\\n    Each cited article must be displayed in the following Markdown format (don't forget the opening square bracket before the headline):\\n    - [index] [headline - source_name - publication_date](url)\\n    Use Markdown for the output.\"\n",
      "}\n"
     ]
    }
   ],
   "source": [
    "# u.print_full_llm_prompt(llm_prompt)\n",
    "u.print_partial_llm_prompt(llm_prompt)"
   ]
  },
  {
   "cell_type": "markdown",
   "metadata": {},
   "source": [
    "### Gemini Request/Response"
   ]
  },
  {
   "cell_type": "code",
   "execution_count": 6,
   "metadata": {},
   "outputs": [
    {
     "data": {
      "text/markdown": [
       "## **Gemini Model:** gemini-2.5-flash-preview-05-20"
      ],
      "text/plain": [
       "<IPython.core.display.Markdown object>"
      ]
     },
     "metadata": {},
     "output_type": "display_data"
    },
    {
     "data": {
      "text/markdown": [
       "## **Prompt:** Summarise tariff decisions by the US administration over the last few months and their impact on the automotive industry worldwide"
      ],
      "text/plain": [
       "<IPython.core.display.Markdown object>"
      ]
     },
     "metadata": {},
     "output_type": "display_data"
    },
    {
     "data": {
      "text/markdown": [
       "## **Gemini Response:**"
      ],
      "text/plain": [
       "<IPython.core.display.Markdown object>"
      ]
     },
     "metadata": {},
     "output_type": "display_data"
    },
    {
     "data": {
      "text/markdown": [
       "Over the last few months, the US administration has made several tariff decisions impacting the automotive industry worldwide. These decisions include the doubling of steel and aluminum tariffs, the imposition of new tariffs on imported vehicles and auto components, and the negotiation of specific trade agreements.\n",
       "\n",
       "**Key Tariff Decisions by the US Administration:**\n",
       "*   **Increased Steel and Aluminum Tariffs:** The Trump administration has doubled tariffs on steel and aluminum to 50% [1, 3, 6].\n",
       "*   **Auto Import Tariffs:** A 25% import tariff on cars has been in place [7, 10].\n",
       "*   **Tariffs on Indian Auto Products:** The US adopted a 25% ad valorem tariff increase on imports of passenger vehicles, light trucks, and certain automobile parts originating from India, effective May 3, 2025, for an unlimited duration [4, 6, 9].\n",
       "*   **UK Trade Agreement:** A recent trade agreement with the US includes a 100,000 quota for a 10% tariff on car imports from the UK [5].\n",
       "*   **Call for Domestic Parts Manufacturing:** President Trump has expressed a desire for parts manufacturing to return to the US [7].\n",
       "\n",
       "**Impact on the Automotive Industry Worldwide:**\n",
       "\n",
       "**On the US Automotive Market and Consumers:**\n",
       "*   **Sales Volatility:** Consumers rushed to purchase new cars and trucks in March and April 2025 to avoid tariff-related price increases, driving sales to a four-year high (17.8 million annual rate in March). However, this surge was followed by a nearly 10% drop in May, with sales returning to a more typical pace (15.6 million annual rate) [1, 2].\n",
       "*   **Increased Costs and Prices:** Rising costs of imported goods and domestic steel have compelled some carmakers to raise prices [1]. The average price for a new vehicle in May 2025 was $45,462 [2]. Doubling steel and aluminum tariffs could add approximately 5% to cumulative tariff costs, potentially exceeding $7,000 per car [3].\n",
       "*   **Consumer Confidence:** Concerns about inflation and the impact of higher tariffs have contributed to low consumer confidence [2].\n",
       "*   **Inventory Challenges:** Dealers have begun running out of vehicles acquired before the tariffs took effect [1].\n",
       "*   **Uncertainty and Outlook:** Economists predict slower and more uneven growth for the US economy due to trade fights [1]. Ford, for instance, suspended its regular forecast of future sales and profits due to this uncertainty [1]. Auto sales in March are anticipated to be the high point of the year, with a slowdown expected before a rebound next year [1].\n",
       "\n",
       "**On Global Automotive Manufacturers and Trade Relations:**\n",
       "*   **Manufacturing Costs:** The increased metals tariffs are expected to raise manufacturing costs for carmakers in the US and complicate efforts to build and sell more vehicles [1, 3].\n",
       "*   **Company-Specific Impacts:**\n",
       "    *   **Toyota:** Reported that US tariffs added $1.25 billion to its costs in April and May 2025, as it imports about 45% of the vehicles it sells in the US [2].\n",
       "    *   **Mazda:** Experienced a 19% plunge in sales in May, largely due to its reliance on imports [2].\n",
       "    *   **Korean Automakers (Hyundai Motor, Kia, GM Korea):** Face a \"double whammy\" of declining exports and domestic slump, with the 25% US auto tariff expected to cause significant earnings damage [10]. Abolishing this tariff is a top priority for South Korea in its trade negotiations with the US [10].\n",
       "    *   **Ford, General Motors, Stellantis:** Their stock prices have been negatively affected by tariff concerns [3, 7].\n",
       "*   **Supply Chain Challenges:** The push for domestic parts manufacturing poses a long-term challenge, as it is difficult to produce all components within the US, particularly lower-value parts or those no longer manufactured there (e.g., LED displays) [7]. Low-cost parts are crucial for keeping new-car prices affordable [7].\n",
       "*   **International Trade Disputes:**\n",
       "    *   **India:** Has sought consultations with the US at the World Trade Organization (WTO) over the 25% tariffs on passenger vehicles, light trucks, and auto components, arguing these are unnotified safeguard measures. India has reserved the right to impose retaliatory duties and seeks compensation [4, 6, 9]. India's auto component exports to the US were estimated at $6.8 billion in FY24 [6].\n",
       "    *   **Mexico:** Mexican companies are increasingly utilizing the Mexico-United States-Canada Agreement (T-MEC) to ensure tariff-free access to the US market, as the US has imposed significant tariffs on other trading partners [8]. The T-MEC requires 75% regional content for automobiles to qualify for preferential treatment [8]. Without T-MEC, average tariffs for Mexican automotive exports to the US would be substantially higher (8.1%) [8].\n",
       "    *   **United Kingdom:** While a recent trade agreement with the US provides a 100,000 quota for a 10% tariff on car imports, which Jaguar Land Rover considers the \"best deal\" under the circumstances, the UK steel industry faces significant revenue losses compared to Europe due to price divergence caused by US tariffs [5].\n",
       "\n",
       "**Cited Articles:**\n",
       "- [1] [Car buyers drove sales to a 4-year high to beat tariffs. Now sales are running out of gas. Trade wars cause U.S. economy to seesaw - MarketWatch - 2025-06-04](https://dj.factiva.com/article?id=drn:archive.newsarticle.MRKWC00020250604el640018h)\n",
       "- [2] [Americans Still Hit the Car Lots in May -- WSJ - Dow Jones Newswires - 2025-06-03](https://dj.factiva.com/article?id=drn:archive.newsarticle.DJDN000020250603el63002rw)\n",
       "- [3] [特朗普计划上调钢铝关税的举动导致汽车股普遍走低 - 道琼斯中文通讯 (简体) - 2025-06-02](https://dj.factiva.com/article?id=drn:archive.newsarticle.RTCNWS0020250602el620008b)\n",
       "- [4] [India seeks WTO consultations with US over safeguard measures on auto components - Press Trust of India - 2025-06-03](https://dj.factiva.com/article?id=drn:archive.newsarticle.PRTRIN0020250603el6300c1g)\n",
       "- [5] [The recent trade agreement with the US \"is the very best deal that the UK could... - Press Association National Newswire - 2025-06-03](https://dj.factiva.com/article?id=drn:archive.newsarticle.PRESSA0020250603el63006mx)\n",
       "- [6] [India seeks consultations with US at WTO on auto tariffs - BusinessLine Online - 2025-06-03](https://dj.factiva.com/article?id=drn:archive.newsarticle.BSNLNO0020250603el630010g)\n",
       "- [7] [Ford, GM Stocks Are Slipping. Investors Want a Brake on Tariffs. -- Barrons.com - Dow Jones Newswires - 2025-06-02](https://dj.factiva.com/article?id=drn:archive.newsarticle.DJDN000020250602el62002gf)\n",
       "- [8] [Automotive industry, the largest exporter within T-MEC - CE NAFTA 2.0-USMCA - 2025-06-02](https://dj.factiva.com/article?id=drn:archive.newsarticle.NAFTA00020250602el620002z)\n",
       "- [9] [India invokes WTO mechanism to address US safeguard duties on auto components - The Times of India - 2025-06-03](https://dj.factiva.com/article?id=drn:archive.newsarticle.TOI0000020250603el630008l)\n",
       "- [10] [Carmakers face double whammy of export fall, domestic slump amid leadership vacuum - Korea Times - 2025-06-03](https://dj.factiva.com/article?id=drn:archive.newsarticle.KORTIM0020250603el630000i)"
      ],
      "text/plain": [
       "<IPython.core.display.Markdown object>"
      ]
     },
     "metadata": {},
     "output_type": "display_data"
    }
   ],
   "source": [
    "response = u.gemini_generate(llm_prompt, GCP_PROJECT, GCP_LOCATION, GCP_MODEL)\n",
    "display(Markdown(f\"## **Gemini Model:** {GCP_MODEL}\"))\n",
    "display(Markdown(f\"## **Prompt:** {frapi_prompt}\"))\n",
    "display(Markdown(f\"## **Gemini Response:**\"))\n",
    "display(Markdown(response))"
   ]
  }
 ],
 "metadata": {
  "kernelspec": {
   "display_name": "frapidemo",
   "language": "python",
   "name": "python3"
  },
  "language_info": {
   "codemirror_mode": {
    "name": "ipython",
    "version": 3
   },
   "file_extension": ".py",
   "mimetype": "text/x-python",
   "name": "python",
   "nbconvert_exporter": "python",
   "pygments_lexer": "ipython3",
   "version": "3.12.9"
  }
 },
 "nbformat": 4,
 "nbformat_minor": 2
}
