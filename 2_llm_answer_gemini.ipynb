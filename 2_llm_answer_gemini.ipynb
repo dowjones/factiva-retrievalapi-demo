{
 "cells": [
  {
   "cell_type": "markdown",
   "metadata": {},
   "source": [
    "# Retrieval API - Step 2 - Generate LLM (Gemini) Answer"
   ]
  },
  {
   "cell_type": "markdown",
   "metadata": {},
   "source": [
    "## Code Initialization\n",
    "Dependencies and environment initialization.\n",
    "\n",
    "Ensure there's a `.env` file with your credentials in the same directory as this script. Use the `.env.example` file as template."
   ]
  },
  {
   "cell_type": "code",
   "execution_count": 7,
   "metadata": {},
   "outputs": [
    {
     "data": {
      "text/plain": [
       "True"
      ]
     },
     "execution_count": 7,
     "metadata": {},
     "output_type": "execute_result"
    }
   ],
   "source": [
    "import os\n",
    "from IPython.display import Markdown\n",
    "import utils as u\n",
    "from dotenv import load_dotenv\n",
    "\n",
    "load_dotenv()"
   ]
  },
  {
   "cell_type": "markdown",
   "metadata": {},
   "source": [
    "## Constants"
   ]
  },
  {
   "cell_type": "code",
   "execution_count": 8,
   "metadata": {},
   "outputs": [],
   "source": [
    "GCP_PROJECT = os.getenv('GCP_PROJECT')\n",
    "GCP_LOCATION = os.getenv('GCP_LOCATION')\n",
    "GCP_MODEL = os.getenv('GCP_MODEL')"
   ]
  },
  {
   "cell_type": "markdown",
   "metadata": {},
   "source": [
    "## Gemini Answer Generation"
   ]
  },
  {
   "cell_type": "markdown",
   "metadata": {},
   "source": [
    "This is a downstream step that is only illustrative on how the response generation stage can be implemented. In the below example the retrieved articles are used to respond the prompt using an LLM hosted in **Google Cloud Vertex AI**. The passed request is built from the original prompt enhanced with the retrieved articles as gounding context.\n",
    "\n",
    "The tested LLM is **Google Gemini 2.5 Flash Preview 05-20**. Response generations took a few seconds for a context between 5K to 8K LLM tokens.\n",
    "\n",
    "### Prerequisite\n",
    "\n",
    "To successfully complete the following steps, it's important that there's an active GCloud authentication in the environment where this notbeook is executed from. This can be done by running the following command:\n",
    "\n",
    "```bash\n",
    "$ gcloud auth application-default login\n",
    "```\n",
    "\n",
    "For more information see [Set up ADC for a local development environment](https://cloud.google.com/docs/authentication/set-up-adc-local-dev-environment).\n",
    "\n",
    "### Read Chunks from [Step 1](1_get_chunks.ipynb)"
   ]
  },
  {
   "cell_type": "code",
   "execution_count": 9,
   "metadata": {},
   "outputs": [
    {
     "data": {
      "text/markdown": [
       "**Original Prompt:** Summarise tariff decisions by the US administration over the last few months and their impact on the automotive industry worldwide"
      ],
      "text/plain": [
       "<IPython.core.display.Markdown object>"
      ]
     },
     "metadata": {},
     "output_type": "display_data"
    },
    {
     "data": {
      "text/markdown": [
       "**Number of Chunks:** 10"
      ],
      "text/plain": [
       "<IPython.core.display.Markdown object>"
      ]
     },
     "metadata": {},
     "output_type": "display_data"
    }
   ],
   "source": [
    "frapi_query = u.load_dict_json('query')\n",
    "chunks_list = u.load_dict_json('chunks')\n",
    "frapi_prompt = frapi_query['data']['attributes']['query']['value']\n",
    "display(Markdown(f\"**Original Prompt:** {frapi_prompt}\"))\n",
    "display(Markdown(f\"**Number of Chunks:** {len(chunks_list)}\"))"
   ]
  },
  {
   "cell_type": "markdown",
   "metadata": {},
   "source": [
    "### Gemini Structured Prompt"
   ]
  },
  {
   "cell_type": "code",
   "execution_count": 10,
   "metadata": {},
   "outputs": [],
   "source": [
    "instructions_text =\"\"\"\n",
    "    You are an experienced business analyst that respond in a professional manner.\n",
    "    Answer the query using only the information provided in the list of articles.\n",
    "    If you use information from an article, cite it using squared brackets containing the index number.\n",
    "    At the end of the answer, show a list of the cited articles ordered by index and under the title Cited Articles.\n",
    "    Each cited article must be displayed in the following Markdown format (don't forget the opening square bracket before the headline):\n",
    "    - [index] [headline - source_name - publication_date](url)\n",
    "    Use Markdown for the output.\n",
    "\"\"\"\n",
    "article_list = []\n",
    "\n",
    "for chunk in chunks_list:\n",
    "    article = {\n",
    "        'index': len(article_list) + 1,\n",
    "        'url': f\"https://dj.factiva.com/article?id=drn:archive.newsarticle.{str(chunk['meta']['original_doc_id']).strip()}\",\n",
    "        'source_name': str(chunk['meta']['source']['name']).strip(),\n",
    "        'headline': str(chunk['attributes']['headline']['main']['text']).strip(),\n",
    "        'publication_date': chunk['attributes']['publication_date'],\n",
    "        'content': f\"{str(chunk['attributes']['snippet']['content'][0]['text']).strip()} {str(chunk['attributes']['content'][0]['text']).strip()}\"\n",
    "    }\n",
    "    article_list.append(article)\n",
    "\n",
    "llm_prompt = {\n",
    "    'query': frapi_prompt,\n",
    "    'articles': article_list,\n",
    "    \"instructions\": instructions_text.strip()\n",
    "}"
   ]
  },
  {
   "cell_type": "code",
   "execution_count": 11,
   "metadata": {},
   "outputs": [
    {
     "name": "stdout",
     "output_type": "stream",
     "text": [
      "{\n",
      "    \"query\": \"Summarise tariff decisions by the US administration over the last few months and their impact on the automotive industry worldwide\",\n",
      "    \"articles\": [\n",
      "        {\n",
      "            \"index\": 1,\n",
      "            \"url\": \"https://dj.factiva.com/article?id=drn:archive.newsarticle.DJDN000020250603el63002rw\",\n",
      "            \"source_name\": \"Dow Jones Newswires\",\n",
      "            \"headline\": \"Americans Still Hit the Car Lots in May -- WSJ\",\n",
      "            \"publication_date\": \"2025-06-03\",\n",
      "            \"content\": \"Americans are still buying a lot of cars, despite broader consumer concerns about the economy and rising prices as a result of tariffs. Americans Stil...\"\n",
      "        },\n",
      "        {\n",
      "            \"index\": 2,\n",
      "            \"url\": \"https://dj.factiva.com/article?id=drn:archive.newsarticle.RTCNWS0020250602el620008b\",\n",
      "            \"source_name\": \"\\u9053\\u743c\\u65af\\u4e2d\\u6587\\u901a\\u8baf (\\u7b80\\u4f53)\",\n",
      "            \"headline\": \"\\u7279\\u6717\\u666e\\u8ba1\\u5212\\u4e0a\\u8c03\\u94a2\\u94dd\\u5173\\u7a0e\\u7684\\u4e3e\\u52a8\\u5bfc\\u81f4\\u6c7d\\u8f66\\u80a1\\u666e\\u904d\\u8d70\\u4f4e\",\n",
      "            \"publication_date\": \"2025-06-02\",\n",
      "            \"content\": \"\\u5468\\u4e00\\u5728\\u5168\\u7403\\u80a1\\u5e02\\u7684\\u4e0b\\u8dcc\\u80a1\\u5f53\\u4e2d\\uff0c\\u4e30\\u7530\\u6c7d\\u8f66(Toyota)\\u548cJeep\\u5236\\u9020\\u5546Stellantis\\u8d6b\\u7136\\u4f4d\\u5217\\u5176\\u4e2d\\uff0c\\u4e24\\u5bb6\\u8f66\\u4f01\\u7684\\u80a1\\u4ef7\\u5206\\u522b\\u5728\\u4e1c\\u4eac\\u548c\\u7c73\\u5170\\u4e0b\\u8dcc\\u7ea63%\\u3002 \\u7279\\u6717\\u666e\\u8ba1\\u5212\\u4e0a\\u8c03\\u94a2\\u94dd\\u5173\\u7a0e\\u7684\\u4e3e\\u52a8\\u5bfc\\u81f4\\u6c7d\\u8f66\\u80a1\\u666e\\u904d\\u8d70\\u4f4e \\u5468\\u4e00\\u5728\\u5168\\u7403\\u80a1\\u5e02\\u7684\\u4e0b\\u8dcc\\u80a1\\u5f53\\u4e2d\\uff0c\\u4e30\\u7530\\u6c7d\\u8f66(Toyota)\\u548cJeep\\u5236\\u9020\\u5546Stellantis\\u8d6b\\u7136\\u4f4d\\u5217\\u5176\\u4e2d\\uff0c\\u4e24\\u5bb6...\"\n",
      "        },\n",
      "        {\n",
      "            \"index\": 3,\n",
      "            \"url\": \"https://dj.factiva.com/article?id=drn:archive.newsarticle.PRTRIN0020250603el6300c1g\",\n",
      "            \"source_name\": \"Press Trust of India\",\n",
      "            \"headline\": \"India seeks WTO consultations with US over safeguard measures on auto components\",\n",
      "            \"publication_date\": \"2025-06-03\",\n",
      "            \"content\": \"New Delhi, Jun 3 (PTI) India on Tuesday sought consultations with the US under the World Trade Organisation's (WTO) safeguard agreement over American ...\"\n",
      "        },\n",
      "        {\n",
      "            \"index\": 4,\n",
      "            \"url\": \"https://dj.factiva.com/article?id=drn:archive.newsarticle.PRESSA0020250603el63006mx\",\n",
      "            \"source_name\": \"Press Association National Newswire\",\n",
      "            \"headline\": \"The recent trade agreement with the US \\\"is the very best deal that the UK could...\",\n",
      "            \"publication_date\": \"2025-06-03\",\n",
      "            \"content\": \"The recent trade agreement with the US \\\"is the very best deal that the UK could have hoped for under the circumstances,\\\" a Jaguar Land Rover director ...\"\n",
      "        },\n",
      "        {\n",
      "            \"index\": 5,\n",
      "            \"url\": \"https://dj.factiva.com/article?id=drn:archive.newsarticle.BSNLNO0020250603el630010g\",\n",
      "            \"source_name\": \"BusinessLine Online\",\n",
      "            \"headline\": \"India seeks consultations with US at WTO on auto tariffs\",\n",
      "            \"publication_date\": \"2025-06-03\",\n",
      "            \"content\": \"India has sought consultations with the US at the World Trade Organisation (WTO) on tariff increase of 25 per cent on imports of passenger vehicles (P...\"\n",
      "        },\n",
      "        {\n",
      "            \"index\": 6,\n",
      "            \"url\": \"https://dj.factiva.com/article?id=drn:archive.newsarticle.DJDN000020250602el62002gf\",\n",
      "            \"source_name\": \"Dow Jones Newswires\",\n",
      "            \"headline\": \"Ford, GM Stocks Are Slipping. Investors Want a Brake on Tariffs. -- Barrons.com\",\n",
      "            \"publication_date\": \"2025-06-02\",\n",
      "            \"content\": \"Al Root Ford, GM Stocks Are Slipping. Investors Want a Brake on Tariffs. -- Barrons.com Al Root Shares of Ford Motor and General Motors were weak earl...\"\n",
      "        },\n",
      "        {\n",
      "            \"index\": 7,\n",
      "            \"url\": \"https://dj.factiva.com/article?id=drn:archive.newsarticle.NAFTA00020250602el620002z\",\n",
      "            \"source_name\": \"CE NAFTA 2.0-USMCA\",\n",
      "            \"headline\": \"Automotive industry, the largest exporter within T-MEC\",\n",
      "            \"publication_date\": \"2025-06-02\",\n",
      "            \"content\": \"Faced with the uncertainty generated by President Donald Trump's trade policy, Mexican companies are opting to export under the Mexico-United States-C...\"\n",
      "        },\n",
      "        {\n",
      "            \"index\": 8,\n",
      "            \"url\": \"https://dj.factiva.com/article?id=drn:archive.newsarticle.TOI0000020250603el630008l\",\n",
      "            \"source_name\": \"The Times of India\",\n",
      "            \"headline\": \"India invokes WTO mechanism to address US safeguard duties on auto components\",\n",
      "            \"publication_date\": \"2025-06-03\",\n",
      "            \"content\": \"India has formally requested consultations with the United States under the World Trade Organisation\\u2019s (WTO) Agreement on Safeguards, challenging rece...\"\n",
      "        },\n",
      "        {\n",
      "            \"index\": 9,\n",
      "            \"url\": \"https://dj.factiva.com/article?id=drn:archive.newsarticle.KORTIM0020250603el630000i\",\n",
      "            \"source_name\": \"Korea Times\",\n",
      "            \"headline\": \"Carmakers face double whammy of export fall, domestic slump amid leadership vacuum\",\n",
      "            \"publication_date\": \"2025-06-03\",\n",
      "            \"content\": \"The nation\\u2019s auto industry is trapped in a double whammy of drastic declining exports and a domestic consumption slump amid a prolonged leadership vac...\"\n",
      "        },\n",
      "        {\n",
      "            \"index\": 10,\n",
      "            \"url\": \"https://dj.factiva.com/article?id=drn:archive.newsarticle.ECTDEL0020250604el640000o\",\n",
      "            \"source_name\": \"The Economic Times - Delhi Edition\",\n",
      "            \"headline\": \"Consultations Sought with US on Auto Parts Levies\",\n",
      "            \"publication_date\": \"2025-06-04\",\n",
      "            \"content\": \"SAFEGUARD AGREEMENTParis: Days after India reserved the right to impose retaliatory duties on select US products in response to American tariffs on st...\"\n",
      "        }\n",
      "    ],\n",
      "    \"instructions\": \"You are an experienced business analyst that respond in a professional manner.\\n    Answer the query using only the information provided in the list of articles.\\n    If you use information from an article, cite it using squared brackets containing the index number.\\n    At the end of the answer, show a list of the cited articles ordered by index and under the title Cited Articles.\\n    Each cited article must be displayed in the following Markdown format (don't forget the opening square bracket before the headline):\\n    - [index] [headline - source_name - publication_date](url)\\n    Use Markdown for the output.\"\n",
      "}\n"
     ]
    }
   ],
   "source": [
    "# u.print_full_llm_prompt(llm_prompt)\n",
    "u.print_partial_llm_prompt(llm_prompt)"
   ]
  },
  {
   "cell_type": "markdown",
   "metadata": {},
   "source": [
    "### Gemini Request/Response"
   ]
  },
  {
   "cell_type": "code",
   "execution_count": 12,
   "metadata": {},
   "outputs": [
    {
     "data": {
      "text/markdown": [
       "## **Gemini Model:** gemini-2.5-flash-preview-05-20"
      ],
      "text/plain": [
       "<IPython.core.display.Markdown object>"
      ]
     },
     "metadata": {},
     "output_type": "display_data"
    },
    {
     "data": {
      "text/markdown": [
       "## **Prompt:** Summarise tariff decisions by the US administration over the last few months and their impact on the automotive industry worldwide"
      ],
      "text/plain": [
       "<IPython.core.display.Markdown object>"
      ]
     },
     "metadata": {},
     "output_type": "display_data"
    },
    {
     "data": {
      "text/markdown": [
       "## **Gemini Response:**"
      ],
      "text/plain": [
       "<IPython.core.display.Markdown object>"
      ]
     },
     "metadata": {},
     "output_type": "display_data"
    },
    {
     "data": {
      "text/markdown": [
       "The US administration has recently implemented or threatened several tariff decisions impacting the automotive industry worldwide.\n",
       "\n",
       "**Tariff Decisions by the US Administration:**\n",
       "*   **Steel and Aluminum Tariffs:** President Trump plans to double existing tariffs on steel and aluminum to 50% from 25%, effective June 4, 2025 [2, 5]. These tariffs were initially applied on March 12, 2025 [5].\n",
       "*   **General Automotive Import Tariffs:** There is an existing 25% import tariff on cars [6, 9]. President Trump has also threatened broader tariffs on automotive imports [1].\n",
       "*   **Automotive Imports from India:** On March 26, 2025, the US adopted a measure to increase tariffs by 25% ad valorem on imports of passenger vehicles, light trucks, and certain automobile parts originating from India. This measure for auto parts became effective on May 3, 2025, and applies for an unlimited duration [3, 5, 8, 10].\n",
       "*   **UK Trade Agreement:** A recent trade agreement with the US includes a 100,000-unit quota for a 10% tariff on car imports from the UK into the US [4].\n",
       "*   **Domestic Parts Manufacturing:** President Trump expects automotive parts manufacturing to return to the US, giving the industry approximately one year to adjust its supply chains [6].\n",
       "\n",
       "**Impact on the Automotive Industry Worldwide:**\n",
       "\n",
       "*   **Increased Costs and Prices:**\n",
       "    *   The planned doubling of steel and aluminum tariffs to 50% is expected to significantly increase manufacturing costs for carmakers in the US [2]. One estimate suggests this could add approximately 5% to cumulative Trump tariff costs, reaching over $7,000 per car [2].\n",
       "    *   Toyota reported that US tariffs added $1.25 billion to its costs in April and May [1].\n",
       "    *   Carmakers have begun raising prices to offset tariffs, particularly after existing pre-tariff inventory was sold [6].\n",
       "    *   The push for domestic parts manufacturing poses a long-term challenge, as it is difficult to produce all parts in the US, especially lower-value components or those no longer manufactured domestically (e.g., LED displays). This could impact the affordability of new cars [6].\n",
       "\n",
       "*   **Sales and Consumer Behavior:**\n",
       "    *   Concerns about inflation and the impact of higher tariffs have weighed on consumer confidence, which remains near a record low [1].\n",
       "    *   Despite low consumer confidence, Americans continue to purchase vehicles, with 1.2 million units sold in May, roughly in line with the previous year [1]. A rush of buying occurred in late March and April as consumers sought to get ahead of threatened automotive import tariffs [1].\n",
       "    *   Americans spent around $53.8 billion on new vehicles in May, a 7% increase from a year prior, with an average price of $45,462 [1].\n",
       "    *   Sales performance varied among manufacturers: Ford (up 16%), Toyota (up 11%), Honda (up 7%), Hyundai (up 8%), and Kia (up 5%) reported gains, while Mazda, which heavily relies on imports, saw its sales plunge 19% [1].\n",
       "    *   In Korea, domestic sales for Hyundai Motor, Kia, KG Mobility, and GM Korea dropped in May, partly attributed to the US 25% auto tariff impacting exports [9].\n",
       "\n",
       "*   **Financial Market Reactions:**\n",
       "    *   Auto stocks, including Toyota, Stellantis, Ford, and General Motors, experienced declines globally following news of the planned steel and aluminum tariff increases, as investors worry about increased costs and the impact on demand [2, 6].\n",
       "\n",
       "*   **International Trade Relations and WTO Challenges:**\n",
       "    *   India has formally challenged the US 25% tariffs on passenger vehicles, light trucks, and auto components from India at the World Trade Organization (WTO) [3, 5, 8, 10]. India argues these are \"safeguard measures\" that the US failed to notify to the WTO and is seeking consultations and potential compensation [3, 5, 8, 10]. India's auto component exports to the US were estimated at $6.8 billion in FY24 [5].\n",
       "    *   India had previously reserved the right to impose retaliatory duties on US products in response to steel and aluminum tariffs [3, 5].\n",
       "    *   Korea's auto industry faces a \"double whammy\" of declining exports due to the US 25% auto tariff and a domestic slump. Abolishing this auto tariff is Korea's top priority in ongoing trade negotiations with the US [9].\n",
       "    *   The UK's steel industry is experiencing a divergence in prices compared to the EU due to US tariffs, leading to an estimated £100-150 million annual revenue loss for UK companies like Tata Steel, indicating that the EU is moving faster to defend its industry against US tariffs [4].\n",
       "\n",
       "*   **Supply Chain Adjustments:**\n",
       "    *   Mexican companies are increasingly utilizing the Mexico-United States-Canada Agreement (T-MEC) to secure tariff-free access to the US market, particularly for trucks (nearly 100%), cars (80%), and auto parts (over 50%) [7].\n",
       "    *   The T-MEC requires 75% regional content for automobiles to qualify for tariff-free access [7]. While some steel and aluminum products face 25% tariffs and cars 15% under T-MEC, the agreement generally provides preferential treatment compared to non-treaty exports, which would face higher tariffs (e.g., an average of 8.1% for Mexican automotive exports without T-MEC) [7].\n",
       "\n",
       "**Cited Articles:**\n",
       "*   [1] [Americans Still Hit the Car Lots in May -- WSJ - Dow Jones Newswires - 2025-06-03](https://dj.factiva.com/article?id=drn:archive.newsarticle.DJDN000020250603el63002rw)\n",
       "*   [2] [特朗普计划上调钢铝关税的举动导致汽车股普遍走低 - 道琼斯中文通讯 (简体) - 2025-06-02](https://dj.factiva.com/article?id=drn:archive.newsarticle.RTCNWS0020250602el620008b)\n",
       "*   [3] [India seeks WTO consultations with US over safeguard measures on auto components - Press Trust of India - 2025-06-03](https://dj.factiva.com/article?id=drn:archive.newsarticle.PRTRIN0020250603el6300c1g)\n",
       "*   [4] [The recent trade agreement with the US \"is the very best deal that the UK could... - Press Association National Newswire - 2025-06-03](https://dj.factiva.com/article?id=drn:archive.newsarticle.PRESSA0020250603el63006mx)\n",
       "*   [5] [India seeks consultations with US at WTO on auto tariffs - BusinessLine Online - 2025-06-03](https://dj.factiva.com/article?id=drn:archive.newsarticle.BSNLNO0020250603el630010g)\n",
       "*   [6] [Ford, GM Stocks Are Slipping. Investors Want a Brake on Tariffs. -- Barrons.com - Dow Jones Newswires - 2025-06-02](https://dj.factiva.com/article?id=drn:archive.newsarticle.DJDN000020250602el62002gf)\n",
       "*   [7] [Automotive industry, the largest exporter within T-MEC - CE NAFTA 2.0-USMCA - 2025-06-02](https://dj.factiva.com/article?id=drn:archive.newsarticle.NAFTA00020250602el620002z)\n",
       "*   [8] [India invokes WTO mechanism to address US safeguard duties on auto components - The Times of India - 2025-06-03](https://dj.factiva.com/article?id=drn:archive.newsarticle.TOI0000020250603el630008l)\n",
       "*   [9] [Carmakers face double whammy of export fall, domestic slump amid leadership vacuum - Korea Times - 2025-06-03](https://dj.factiva.com/article?id=drn:archive.newsarticle.KORTIM0020250603el630000i)\n",
       "*   [10] [Consultations Sought with US on Auto Parts Levies - The Economic Times - Delhi Edition - 2025-06-04](https://dj.factiva.com/article?id=drn:archive.newsarticle.ECTDEL0020250604el640000o)"
      ],
      "text/plain": [
       "<IPython.core.display.Markdown object>"
      ]
     },
     "metadata": {},
     "output_type": "display_data"
    }
   ],
   "source": [
    "response = u.gemini_generate(llm_prompt, GCP_PROJECT, GCP_LOCATION, GCP_MODEL)\n",
    "display(Markdown(f\"## **Gemini Model:** {GCP_MODEL}\"))\n",
    "display(Markdown(f\"## **Prompt:** {frapi_prompt}\"))\n",
    "display(Markdown(f\"## **Gemini Response:**\"))\n",
    "display(Markdown(response))"
   ]
  }
 ],
 "metadata": {
  "kernelspec": {
   "display_name": "frapidemo",
   "language": "python",
   "name": "python3"
  },
  "language_info": {
   "codemirror_mode": {
    "name": "ipython",
    "version": 3
   },
   "file_extension": ".py",
   "mimetype": "text/x-python",
   "name": "python",
   "nbconvert_exporter": "python",
   "pygments_lexer": "ipython3",
   "version": "3.12.9"
  }
 },
 "nbformat": 4,
 "nbformat_minor": 2
}
