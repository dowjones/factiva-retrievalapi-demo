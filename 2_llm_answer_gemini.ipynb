{
 "cells": [
  {
   "cell_type": "markdown",
   "metadata": {},
   "source": [
    "# Retrieval API - Step 2 - Generate LLM (Gemini) Answer"
   ]
  },
  {
   "cell_type": "markdown",
   "metadata": {},
   "source": [
    "## Code Initialization\n",
    "Dependencies and environment initialization.\n",
    "\n",
    "Ensure there's a `.env` file with your credentials in the same directory as this script. Use the `.env.example` file as template."
   ]
  },
  {
   "cell_type": "code",
   "execution_count": 1,
   "metadata": {},
   "outputs": [
    {
     "data": {
      "text/plain": [
       "True"
      ]
     },
     "execution_count": 1,
     "metadata": {},
     "output_type": "execute_result"
    }
   ],
   "source": [
    "import os\n",
    "from IPython.display import Markdown\n",
    "import utils as u\n",
    "from dotenv import load_dotenv\n",
    "\n",
    "load_dotenv()"
   ]
  },
  {
   "cell_type": "markdown",
   "metadata": {},
   "source": [
    "## Constants"
   ]
  },
  {
   "cell_type": "code",
   "execution_count": 2,
   "metadata": {},
   "outputs": [],
   "source": [
    "GCP_PROJECT = os.getenv('GCP_PROJECT')\n",
    "GCP_LOCATION = os.getenv('GCP_LOCATION')\n",
    "GCP_MODEL = os.getenv('GCP_MODEL')"
   ]
  },
  {
   "cell_type": "markdown",
   "metadata": {},
   "source": [
    "## Gemini Answer Generation"
   ]
  },
  {
   "cell_type": "markdown",
   "metadata": {},
   "source": [
    "This is a downstream step that is only illustrative on how the response generation stage can be implemented. In the below example the retrieved articles are used to respond the prompt using an LLM hosted in **Google Cloud Vertex AI**. The passed request is built from the original prompt enhanced with the retrieved articles as gounding context.\n",
    "\n",
    "The tested LLM is **Google Gemini 2.5 Flash Preview 05-20**. Response generations took a few seconds for a context between 5K to 8K LLM tokens.\n",
    "\n",
    "### Prerequisite\n",
    "\n",
    "To successfully complete the following steps, it's important that there's an active GCloud authentication in the environment where this notbeook is executed from. This can be done by running the following command:\n",
    "\n",
    "```bash\n",
    "$ gcloud auth application-default login\n",
    "```\n",
    "\n",
    "For more information see [Set up ADC for a local development environment](https://cloud.google.com/docs/authentication/set-up-adc-local-dev-environment).\n",
    "\n",
    "### Read Chunks from [Step 1](1_get_chunks.ipynb)"
   ]
  },
  {
   "cell_type": "code",
   "execution_count": 3,
   "metadata": {},
   "outputs": [
    {
     "data": {
      "text/markdown": [
       "**Original Prompt:** Summarise tariff decisions by the US administration during April and May 2025 and their impact for Tesla"
      ],
      "text/plain": [
       "<IPython.core.display.Markdown object>"
      ]
     },
     "metadata": {},
     "output_type": "display_data"
    },
    {
     "data": {
      "text/markdown": [
       "**Number of Chunks:** 10"
      ],
      "text/plain": [
       "<IPython.core.display.Markdown object>"
      ]
     },
     "metadata": {},
     "output_type": "display_data"
    }
   ],
   "source": [
    "frapi_query = u.load_dict_json('query')\n",
    "chunks_list = u.load_dict_json('chunks')\n",
    "frapi_prompt = frapi_query['data']['attributes']['query']['value']\n",
    "display(Markdown(f\"**Original Prompt:** {frapi_prompt}\"))\n",
    "display(Markdown(f\"**Number of Chunks:** {len(chunks_list)}\"))"
   ]
  },
  {
   "cell_type": "markdown",
   "metadata": {},
   "source": [
    "### Gemini Structured Prompt"
   ]
  },
  {
   "cell_type": "code",
   "execution_count": 4,
   "metadata": {},
   "outputs": [],
   "source": [
    "instructions_text =\"\"\"\n",
    "    You are an experienced business analyst that respond in a professional manner.\n",
    "    Answer the query using only the information provided in the list of articles.\n",
    "    If you use information from an article, cite it using squared brackets containing the index number.\n",
    "    At the end of the answer, show a list of the cited articles ordered by index and under the title Cited Articles.\n",
    "    Each cited article must be displayed in the following Markdown format (don't forget the opening square bracket before the headline):\n",
    "    - [index] [headline - source_name - publication_date](url)\n",
    "    Use Markdown for the output.\n",
    "\"\"\"\n",
    "article_list = []\n",
    "\n",
    "for chunk in chunks_list:\n",
    "    article = {\n",
    "        'index': len(article_list) + 1,\n",
    "        'url': f\"https://dj.factiva.com/article?id=drn:archive.newsarticle.{str(chunk['meta']['original_doc_id']).strip()}\",\n",
    "        'source_name': str(chunk['meta']['source']['name']).strip(),\n",
    "        'headline': str(chunk['attributes']['headline']['main']['text']).strip(),\n",
    "        'publication_date': chunk['attributes']['publication_date'],\n",
    "        'content': f\"{str(chunk['attributes']['snippet']['content'][0]['text']).strip()} {str(chunk['attributes']['content'][0]['text']).strip()}\"\n",
    "    }\n",
    "    article_list.append(article)\n",
    "\n",
    "llm_prompt = {\n",
    "    'query': frapi_prompt,\n",
    "    'articles': article_list,\n",
    "    \"instructions\": instructions_text.strip()\n",
    "}"
   ]
  },
  {
   "cell_type": "code",
   "execution_count": 5,
   "metadata": {},
   "outputs": [
    {
     "name": "stdout",
     "output_type": "stream",
     "text": [
      "{\n",
      "    \"query\": \"Summarise tariff decisions by the US administration during April and May 2025 and their impact for Tesla\",\n",
      "    \"articles\": [\n",
      "        {\n",
      "            \"index\": 1,\n",
      "            \"url\": \"https://dj.factiva.com/article?id=drn:archive.newsarticle.DJDN000020250508el58004jd\",\n",
      "            \"source_name\": \"Dow Jones Institutional News\",\n",
      "            \"headline\": \"Tesla Stock Got a Lift From Trump's Trade Deal -- Barrons.com\",\n",
      "            \"publication_date\": \"2025-05-08\",\n",
      "            \"content\": \"Al Root Tesla Stock Got a Lift From Trump's Trade Deal -- Barrons.com Al Root Tesla stock rose Thursday as President Donald Trump's trade deal with th...\"\n",
      "        },\n",
      "        {\n",
      "            \"index\": 2,\n",
      "            \"url\": \"https://dj.factiva.com/article?id=drn:archive.newsarticle.DJDN000020250506el56000ps\",\n",
      "            \"source_name\": \"Dow Jones Institutional News\",\n",
      "            \"headline\": \"Tesla Stock Falls Amid Tariffs Turmoil. What Ford Earnings Mean for Auto Makers. -- Barrons.com\",\n",
      "            \"publication_date\": \"2025-05-06\",\n",
      "            \"content\": \"Al Root Tesla Stock Falls Amid Tariffs Turmoil. What Ford Earnings Mean for Auto Makers. -- Barrons.com Al Root Tesla stock was falling in premarket t...\"\n",
      "        },\n",
      "        {\n",
      "            \"index\": 3,\n",
      "            \"url\": \"https://dj.factiva.com/article?id=drn:archive.newsarticle.DJDN000020250513el5d002pj\",\n",
      "            \"source_name\": \"Dow Jones Institutional News\",\n",
      "            \"headline\": \"Tesla Stock Drops on Fall in Chinese Sales, Trump's Plan to Kill EV Credit -- Barrons.com\",\n",
      "            \"publication_date\": \"2025-05-13\",\n",
      "            \"content\": \"Al Root Tesla Stock Drops on Fall in Chinese Sales, Trump's Plan to Kill EV Credit -- Barrons.com Al Root Tesla stock was rising again early Tuesday a...\"\n",
      "        },\n",
      "        {\n",
      "            \"index\": 4,\n",
      "            \"url\": \"https://dj.factiva.com/article?id=drn:archive.newsarticle.DJDN000020250520el5k002n6\",\n",
      "            \"source_name\": \"Dow Jones Newswires\",\n",
      "            \"headline\": \"Tesla's China Sales Stink. Why the Stock Is Rising Anyway. -- Barrons.com\",\n",
      "            \"publication_date\": \"2025-05-20\",\n",
      "            \"content\": \"Al Root Tesla's China Sales Stink. Why the Stock Is Rising Anyway. -- Barrons.com Al Root Tesla stock rose early Tuesday despite more weak sales data....\"\n",
      "        },\n",
      "        {\n",
      "            \"index\": 5,\n",
      "            \"url\": \"https://dj.factiva.com/article?id=drn:archive.newsarticle.DJDN000020250508el58002y4\",\n",
      "            \"source_name\": \"Dow Jones Institutional News\",\n",
      "            \"headline\": \"Tesla Stock Is Rising. There's Little Evidence of a Post-DOGE Sales Recovery. -- Barrons.com\",\n",
      "            \"publication_date\": \"2025-05-08\",\n",
      "            \"content\": \"Al Root Tesla Stock Is Rising. There's Little Evidence of a Post-DOGE Sales Recovery. -- Barrons.com Al Root Tesla stock was rising in early Thursday ...\"\n",
      "        },\n",
      "        {\n",
      "            \"index\": 6,\n",
      "            \"url\": \"https://dj.factiva.com/article?id=drn:archive.newsarticle.DJDN000020250518el5i00017\",\n",
      "            \"source_name\": \"Dow Jones Newswires\",\n",
      "            \"headline\": \"Tesla Demand Hasn't Rebounded Yet. Watch China This Week. -- Barrons.com\",\n",
      "            \"publication_date\": \"2025-05-18\",\n",
      "            \"content\": \"Al Root Tesla Demand Hasn't Rebounded Yet. Watch China This Week. -- Barrons.com Al Root Investors are looking for evidence that brand \\\"challenges\\\" ca...\"\n",
      "        },\n",
      "        {\n",
      "            \"index\": 7,\n",
      "            \"url\": \"https://dj.factiva.com/article?id=drn:archive.newsarticle.DJDN000020250506el56001q4\",\n",
      "            \"source_name\": \"Dow Jones Institutional News\",\n",
      "            \"headline\": \"Tesla Stock Falls as Sales in Germany Tumble. It's About More Than Musk. -- Barrons.com\",\n",
      "            \"publication_date\": \"2025-05-06\",\n",
      "            \"content\": \"Al Root Tesla Stock Falls as Sales in Germany Tumble. It's About More Than Musk. -- Barrons.com Al Root Tesla stock fell early Tuesday after more bad ...\"\n",
      "        },\n",
      "        {\n",
      "            \"index\": 8,\n",
      "            \"url\": \"https://dj.factiva.com/article?id=drn:archive.newsarticle.DJDN000020250422el4m003rc\",\n",
      "            \"source_name\": \"Dow Jones Institutional News\",\n",
      "            \"headline\": \"Tesla Profit Sinks, Hurt by Backlash Over Elon Musk's Political Role -- Update\",\n",
      "            \"publication_date\": \"2025-04-22\",\n",
      "            \"content\": \"Tesla's net income slid 71% in the first quarter, as the company struggled to overcome competitive pressure overseas and a reputational hit from Chief...\"\n",
      "        },\n",
      "        {\n",
      "            \"index\": 9,\n",
      "            \"url\": \"https://dj.factiva.com/article?id=drn:archive.newsarticle.WSJO000020250422el4m0053d\",\n",
      "            \"source_name\": \"The Wall Street Journal Online\",\n",
      "            \"headline\": \"Tesla Profit Sinks, Hurt by Backlash Over Elon Musk's Political Role; CEO says he will spend significantly less time on DOGE starting in May; electric-vehicle maker's net income falls 71%\",\n",
      "            \"publication_date\": \"2025-04-22\",\n",
      "            \"content\": \"Tesla's net income slid 71% in the first quarter, as the company struggled to overcome competitive pressure overseas and a reputational hit from Chief...\"\n",
      "        },\n",
      "        {\n",
      "            \"index\": 10,\n",
      "            \"url\": \"https://dj.factiva.com/article?id=drn:archive.newsarticle.DJDN000020250422el4m003sa\",\n",
      "            \"source_name\": \"Dow Jones Institutional News\",\n",
      "            \"headline\": \"Tesla Profit Sinks, Hurt by Backlash Over Elon Musk's Political Role -- WSJ\",\n",
      "            \"publication_date\": \"2025-04-22\",\n",
      "            \"content\": \"Tesla's net income slid 71% in the first quarter, as the company struggled to overcome competitive pressure overseas and a reputational hit from Chief...\"\n",
      "        }\n",
      "    ],\n",
      "    \"instructions\": \"You are an experienced business analyst that respond in a professional manner.\\n    Answer the query using only the information provided in the list of articles.\\n    If you use information from an article, cite it using squared brackets containing the index number.\\n    At the end of the answer, show a list of the cited articles ordered by index and under the title Cited Articles.\\n    Each cited article must be displayed in the following Markdown format (don't forget the opening square bracket before the headline):\\n    - [index] [headline - source_name - publication_date](url)\\n    Use Markdown for the output.\"\n",
      "}\n"
     ]
    }
   ],
   "source": [
    "# u.print_full_llm_prompt(llm_prompt)\n",
    "u.print_partial_llm_prompt(llm_prompt)"
   ]
  },
  {
   "cell_type": "markdown",
   "metadata": {},
   "source": [
    "### Gemini Request/Response"
   ]
  },
  {
   "cell_type": "code",
   "execution_count": 6,
   "metadata": {},
   "outputs": [
    {
     "data": {
      "text/markdown": [
       "## **Gemini Model:** gemini-2.5-flash-preview-05-20"
      ],
      "text/plain": [
       "<IPython.core.display.Markdown object>"
      ]
     },
     "metadata": {},
     "output_type": "display_data"
    },
    {
     "data": {
      "text/markdown": [
       "## **Prompt:** Summarise tariff decisions by the US administration during April and May 2025 and their impact for Tesla"
      ],
      "text/plain": [
       "<IPython.core.display.Markdown object>"
      ]
     },
     "metadata": {},
     "output_type": "display_data"
    },
    {
     "data": {
      "text/markdown": [
       "## **Gemini Response:**"
      ],
      "text/plain": [
       "<IPython.core.display.Markdown object>"
      ]
     },
     "metadata": {},
     "output_type": "display_data"
    },
    {
     "data": {
      "text/markdown": [
       "During April and May 2025, the US administration made several tariff-related decisions impacting the automotive industry, including Tesla.\n",
       "\n",
       "**Tariff Decisions:**\n",
       "*   In April 2025, Tesla reported that \"shifting trade policies, exacerbated by the administration's tariff regime,\" were stressing supply chains and increasing costs for the automaker. The company was also \"contending with 25% tariffs imposed on auto imports\" [8, 9, 10].\n",
       "*   By early May 2025, President Donald Trump \"altered his auto tariff policies, giving manufacturers some relief on imported parts\" [7].\n",
       "*   On May 8, 2025, details emerged of a trade deal between President Trump and the U.K., which included \"smaller tariffs on imports of vehicles from Britain\" [1].\n",
       "*   Over the weekend preceding May 13, 2025, U.S. and Chinese officials announced a \"90-day pause on steep import tariffs\" following talks in Switzerland. These tariffs were previously \"north of 100%\" [3].\n",
       "\n",
       "**Impact for Tesla:**\n",
       "*   **Costs and Margins:** Tesla, while assembling all cars sold domestically in the U.S. and having lower direct tariff exposure than many automakers, still faces tariffs on imported parts [2, 7]. Elon Musk noted that \"tariffs are still tough on a company when margins are still low\" [2, 7]. Tesla's first-quarter operating profit margin was 2%, its weakest since the second quarter of 2019 [2, 7]. The company imports some battery cells from China and over 20% of its components from Mexico, which adds to costs due to tariffs [8, 10].\n",
       "*   **Sales and Demand:** The ongoing \"trade fight\" and \"changing political sentiment\" were cited as factors that could weigh on demand for Tesla's vehicles [8, 9, 10]. President Trump's trade war has led Chinese car buyers to favor local models, impacting Tesla's sales in China [1, 5]. Tesla's sales in China were down about 15% year-over-year over the five weeks ending May 4, and down about 2% in the first quarter of 2025 [1, 5]. Chinese EV sales dropped almost 9% year-over-year in April, and Tesla's Chinese sales were down 56% year-over-year in May (as of May 13) [3]. Weak second-quarter China sales were also linked to U.S.-China trade tensions [6].\n",
       "*   **Stock Performance:** The announcement of smaller tariffs in the U.S.-U.K. trade deal was seen as a \"boon for all auto makers,\" contributing to a 3.1% rise in Tesla stock on May 8 [1]. Furthermore, the 90-day pause on U.S.-China import tariffs led to a significant boost for Tesla's stock, which rose 6.7% on May 12, as investors welcomed the easing of trade tensions [3].\n",
       "\n",
       "Cited Articles:\n",
       "*   [1] [Tesla Stock Got a Lift From Trump's Trade Deal -- Barrons.com - Dow Jones Institutional News - 2025-05-08](https://dj.factiva.com/article?id=drn:archive.newsarticle.DJDN000020250508el58004jd)\n",
       "*   [2] [Tesla Stock Falls Amid Tariffs Turmoil. What Ford Earnings Mean for Auto Makers. -- Barrons.com - Dow Jones Institutional News - 2025-05-06](https://dj.factiva.com/article?id=drn:archive.newsarticle.DJDN000020250506el56000ps)\n",
       "*   [3] [Tesla Stock Drops on Fall in Chinese Sales, Trump's Plan to Kill EV Credit -- Barrons.com - Dow Jones Institutional News - 2025-05-13](https://dj.factiva.com/article?id=drn:archive.newsarticle.DJDN000020250513el5d002pj)\n",
       "*   [5] [Tesla Stock Is Rising. There's Little Evidence of a Post-DOGE Sales Recovery. -- Barrons.com - Dow Jones Institutional News - 2025-05-08](https://dj.factiva.com/article?id=drn:archive.newsarticle.DJDN000020250508el58002y4)\n",
       "*   [6] [Tesla Demand Hasn't Rebounded Yet. Watch China This Week. -- Barrons.com - Dow Jones Newswires - 2025-05-18](https://dj.factiva.com/article?id=drn:archive.newsarticle.DJDN000020250518el5i00017)\n",
       "*   [7] [Tesla Stock Falls as Sales in Germany Tumble. It's About More Than Musk. -- Barrons.com - Dow Jones Institutional News - 2025-05-06](https://dj.factiva.com/article?id=drn:archive.newsarticle.DJDN000020250506el56001q4)\n",
       "*   [8] [Tesla Profit Sinks, Hurt by Backlash Over Elon Musk's Political Role -- Update - Dow Jones Institutional News - 2025-04-22](https://dj.factiva.com/article?id=drn:archive.newsarticle.DJDN000020250422el4m003rc)\n",
       "*   [9] [Tesla Profit Sinks, Hurt by Backlash Over Elon Musk's Political Role; CEO says he will spend significantly less time on DOGE starting in May; electric-vehicle maker's net income falls 71% - The Wall Street Journal Online - 2025-04-22](https://dj.factiva.com/article?id=drn:archive.newsarticle.WSJO000020250422el4m0053d)\n",
       "*   [10] [Tesla Profit Sinks, Hurt by Backlash Over Elon Musk's Political Role -- WSJ - Dow Jones Institutional News - 2025-04-22](https://dj.factiva.com/article?id=drn:archive.newsarticle.DJDN000020250422el4m003sa)"
      ],
      "text/plain": [
       "<IPython.core.display.Markdown object>"
      ]
     },
     "metadata": {},
     "output_type": "display_data"
    }
   ],
   "source": [
    "response = u.gemini_generate(llm_prompt, GCP_PROJECT, GCP_LOCATION, GCP_MODEL)\n",
    "display(Markdown(f\"## **Gemini Model:** {GCP_MODEL}\"))\n",
    "display(Markdown(f\"## **Prompt:** {frapi_prompt}\"))\n",
    "display(Markdown(f\"## **Gemini Response:**\"))\n",
    "display(Markdown(response))"
   ]
  }
 ],
 "metadata": {
  "kernelspec": {
   "display_name": "frapidemo",
   "language": "python",
   "name": "python3"
  },
  "language_info": {
   "codemirror_mode": {
    "name": "ipython",
    "version": 3
   },
   "file_extension": ".py",
   "mimetype": "text/x-python",
   "name": "python",
   "nbconvert_exporter": "python",
   "pygments_lexer": "ipython3",
   "version": "3.12.9"
  }
 },
 "nbformat": 4,
 "nbformat_minor": 2
}
