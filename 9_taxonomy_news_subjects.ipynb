{
 "cells": [
  {
   "cell_type": "markdown",
   "id": "7bf76fa4",
   "metadata": {},
   "source": [
    "# Taxonomy - News Subjects\n",
    "This notebook helps retrieving the full list of News Subjects used by factiva. Returned codes can be added to the Retrieval API payload.\n",
    "\n",
    "## Code Initialisation\n",
    "Dependencies and environment initialisation. Taxonomy requests require authentication.\n",
    "\n",
    "Ensure there's a `.env` file with your credentials in the same directory as this script. Use the `.env.example` file as template."
   ]
  },
  {
   "cell_type": "code",
   "execution_count": 5,
   "id": "1d3e90ab",
   "metadata": {},
   "outputs": [
    {
     "data": {
      "text/plain": [
       "True"
      ]
     },
     "execution_count": 5,
     "metadata": {},
     "output_type": "execute_result"
    }
   ],
   "source": [
    "import os\n",
    "import requests as r\n",
    "import pandas as pd\n",
    "from IPython.display import Markdown\n",
    "import utils as u\n",
    "from dotenv import load_dotenv\n",
    "\n",
    "load_dotenv()"
   ]
  },
  {
   "cell_type": "markdown",
   "id": "7af05a55",
   "metadata": {},
   "source": [
    "## Constants"
   ]
  },
  {
   "cell_type": "code",
   "execution_count": 6,
   "id": "a739e1a5",
   "metadata": {},
   "outputs": [],
   "source": [
    "API_HOST = 'api.dowjones.com'\n",
    "AUTH_HOST = 'accounts.dowjones.com'\n",
    "CLIENT_ID = os.getenv('FACTIVA_CLIENTID')\n",
    "USERNAME = os.getenv('FACTIVA_USERNAME')\n",
    "PASSWORD = os.getenv('FACTIVA_PASSWORD')\n",
    "AUTH_URL = f\"https://{AUTH_HOST}/oauth2/v1/token\"\n",
    "NS_URL = f\"https://{API_HOST}/taxonomy/factiva-news-subjects/list\""
   ]
  },
  {
   "cell_type": "markdown",
   "id": "1aedfd9e",
   "metadata": {},
   "source": [
    "## Authentication - Generate Bearer\n",
    "\n",
    "For details about getting the `bearer_token`, please see the `utils.py` file."
   ]
  },
  {
   "cell_type": "code",
   "execution_count": 7,
   "id": "7faeaa37",
   "metadata": {},
   "outputs": [
    {
     "data": {
      "text/markdown": [
       "**Authentication Successful**: Bearer token created for user 9ZZZ159100"
      ],
      "text/plain": [
       "<IPython.core.display.Markdown object>"
      ]
     },
     "metadata": {},
     "output_type": "display_data"
    }
   ],
   "source": [
    "bearer_token = u.get_bearer_token(CLIENT_ID, USERNAME, PASSWORD, AUTH_URL)\n",
    "if bearer_token:\n",
    "    display(Markdown(f\"**Authentication Successful**: Bearer token created for user {USERNAME.split('@')[0].split('-')[0]}\"))\n",
    "else:\n",
    "    display(Markdown(f\"**Authentication Failed**: Cannot obtain the Bearer token for the user {USERNAME.split('@')[0].split('-')[0]}\"))\n",
    "    \n",
    "req_headers = {\n",
    "    \"Authorization\": f\"Bearer {bearer_token}\",\n",
    "    \"Content-Type\": \"application/json\",\n",
    "    \"Accept\": \"application/json\"\n",
    "}"
   ]
  },
  {
   "cell_type": "markdown",
   "id": "1760b206",
   "metadata": {},
   "source": [
    "## Taxonomy API Request"
   ]
  },
  {
   "cell_type": "code",
   "execution_count": 8,
   "id": "b1aa26ab",
   "metadata": {},
   "outputs": [
    {
     "data": {
      "text/markdown": [
       "**News Subjects Retrieved Successfully**"
      ],
      "text/plain": [
       "<IPython.core.display.Markdown object>"
      ]
     },
     "metadata": {},
     "output_type": "display_data"
    },
    {
     "data": {
      "text/markdown": [
       "Returned 913 news subjects"
      ],
      "text/plain": [
       "<IPython.core.display.Markdown object>"
      ]
     },
     "metadata": {},
     "output_type": "display_data"
    }
   ],
   "source": [
    "ns_response = r.get(f\"{NS_URL}?language=en&parts=Descriptor&parts=ParentDescriptor&parts=Description\", headers=req_headers)\n",
    "ns_dict = ns_response.json()['data']['attributes']['news_subjects']\n",
    "flat_ns = []\n",
    "for item in ns_dict:\n",
    "    parents = []\n",
    "    if 'parent' in item and item['parent']:\n",
    "        # parent can be a dict or a list of dicts\n",
    "        if isinstance(item['parent'], dict):\n",
    "            parents.append(item['parent'].get('code'))\n",
    "        elif isinstance(item['parent'], list):\n",
    "            parents = [p.get('code') for p in item['parent'] if 'code' in p]\n",
    "    flat_ns.append({\n",
    "        'ns_code': item.get('code'),\n",
    "        'ns_name': item.get('descriptor'),\n",
    "        'description': item.get('description'),\n",
    "        'parents': parents\n",
    "    })\n",
    "ns_df = pd.DataFrame(flat_ns)\n",
    "if ns_df.shape[0] > 5:\n",
    "    display(Markdown(\"**News Subjects Retrieved Successfully**\"))\n",
    "    display(Markdown(f\"Returned {ns_df.shape[0]} news subjects\"))\n",
    "else:\n",
    "    display(Markdown(\"**News Subjects Retrieval Failed**\"))"
   ]
  },
  {
   "cell_type": "markdown",
   "id": "7da85877",
   "metadata": {},
   "source": [
    "## Displaying and filtering News Subjects\n",
    "\n",
    "### Display"
   ]
  },
  {
   "cell_type": "code",
   "execution_count": 9,
   "id": "d0f77fbb",
   "metadata": {},
   "outputs": [
    {
     "data": {
      "text/html": [
       "<div>\n",
       "<style scoped>\n",
       "    .dataframe tbody tr th:only-of-type {\n",
       "        vertical-align: middle;\n",
       "    }\n",
       "\n",
       "    .dataframe tbody tr th {\n",
       "        vertical-align: top;\n",
       "    }\n",
       "\n",
       "    .dataframe thead th {\n",
       "        text-align: right;\n",
       "    }\n",
       "</style>\n",
       "<table border=\"1\" class=\"dataframe\">\n",
       "  <thead>\n",
       "    <tr style=\"text-align: right;\">\n",
       "      <th></th>\n",
       "      <th>ns_code</th>\n",
       "      <th>ns_name</th>\n",
       "      <th>description</th>\n",
       "      <th>parents</th>\n",
       "    </tr>\n",
       "  </thead>\n",
       "  <tbody>\n",
       "    <tr>\n",
       "      <th>0</th>\n",
       "      <td>GABOR</td>\n",
       "      <td>Abortion</td>\n",
       "      <td>The non-spontaneous termination of a pregnancy...</td>\n",
       "      <td>[GTREA]</td>\n",
       "    </tr>\n",
       "    <tr>\n",
       "      <th>1</th>\n",
       "      <td>NABST</td>\n",
       "      <td>Abstracts</td>\n",
       "      <td>Brief non-evaluative summaries of longer docum...</td>\n",
       "      <td>[NCAT]</td>\n",
       "    </tr>\n",
       "    <tr>\n",
       "      <th>2</th>\n",
       "      <td>CACQU</td>\n",
       "      <td>Acquisitions/Mergers</td>\n",
       "      <td>Acquisitions, takeovers and mergers of compani...</td>\n",
       "      <td>[C181]</td>\n",
       "    </tr>\n",
       "    <tr>\n",
       "      <th>3</th>\n",
       "      <td>C181</td>\n",
       "      <td>Acquisitions/Mergers/Shareholdings</td>\n",
       "      <td>Acquisitions, mergers, or takeovers of compani...</td>\n",
       "      <td>[C18]</td>\n",
       "    </tr>\n",
       "    <tr>\n",
       "      <th>4</th>\n",
       "      <td>GADR</td>\n",
       "      <td>Adverse Drug Reactions</td>\n",
       "      <td>Unintended and noxious reactions caused by the...</td>\n",
       "      <td>[GHEA]</td>\n",
       "    </tr>\n",
       "  </tbody>\n",
       "</table>\n",
       "</div>"
      ],
      "text/plain": [
       "  ns_code                             ns_name  \\\n",
       "0   GABOR                            Abortion   \n",
       "1   NABST                           Abstracts   \n",
       "2   CACQU                Acquisitions/Mergers   \n",
       "3    C181  Acquisitions/Mergers/Shareholdings   \n",
       "4    GADR              Adverse Drug Reactions   \n",
       "\n",
       "                                         description  parents  \n",
       "0  The non-spontaneous termination of a pregnancy...  [GTREA]  \n",
       "1  Brief non-evaluative summaries of longer docum...   [NCAT]  \n",
       "2  Acquisitions, takeovers and mergers of compani...   [C181]  \n",
       "3  Acquisitions, mergers, or takeovers of compani...    [C18]  \n",
       "4  Unintended and noxious reactions caused by the...   [GHEA]  "
      ]
     },
     "execution_count": 9,
     "metadata": {},
     "output_type": "execute_result"
    }
   ],
   "source": [
    "ns_df.head(5)"
   ]
  },
  {
   "cell_type": "markdown",
   "id": "d4686785",
   "metadata": {},
   "source": [
    "### Search Keywords"
   ]
  },
  {
   "cell_type": "code",
   "execution_count": 10,
   "id": "fbede3dd",
   "metadata": {},
   "outputs": [
    {
     "data": {
      "text/html": [
       "<div>\n",
       "<style scoped>\n",
       "    .dataframe tbody tr th:only-of-type {\n",
       "        vertical-align: middle;\n",
       "    }\n",
       "\n",
       "    .dataframe tbody tr th {\n",
       "        vertical-align: top;\n",
       "    }\n",
       "\n",
       "    .dataframe thead th {\n",
       "        text-align: right;\n",
       "    }\n",
       "</style>\n",
       "<table border=\"1\" class=\"dataframe\">\n",
       "  <thead>\n",
       "    <tr style=\"text-align: right;\">\n",
       "      <th></th>\n",
       "      <th>ns_code</th>\n",
       "      <th>ns_name</th>\n",
       "      <th>description</th>\n",
       "      <th>parents</th>\n",
       "    </tr>\n",
       "  </thead>\n",
       "  <tbody>\n",
       "    <tr>\n",
       "      <th>53</th>\n",
       "      <td>GAIML</td>\n",
       "      <td>Artificial Intelligence/Machine Learning</td>\n",
       "      <td>An area of computer science that deals with th...</td>\n",
       "      <td>[GCSCI]</td>\n",
       "    </tr>\n",
       "    <tr>\n",
       "      <th>276</th>\n",
       "      <td>C151</td>\n",
       "      <td>Earnings</td>\n",
       "      <td>Announcements of the earnings of a company or ...</td>\n",
       "      <td>[C15]</td>\n",
       "    </tr>\n",
       "    <tr>\n",
       "      <th>277</th>\n",
       "      <td>C152</td>\n",
       "      <td>Earnings Projections</td>\n",
       "      <td>Covers projections of earnings or sales figure...</td>\n",
       "      <td>[C15]</td>\n",
       "    </tr>\n",
       "    <tr>\n",
       "      <th>278</th>\n",
       "      <td>C1514</td>\n",
       "      <td>Earnings Surprises</td>\n",
       "      <td>Reported earnings significantly above or below...</td>\n",
       "      <td>[C151]</td>\n",
       "    </tr>\n",
       "    <tr>\n",
       "      <th>290</th>\n",
       "      <td>GELEAR</td>\n",
       "      <td>E-learning</td>\n",
       "      <td>Education or training delivered partially or e...</td>\n",
       "      <td>[GEDU]</td>\n",
       "    </tr>\n",
       "  </tbody>\n",
       "</table>\n",
       "</div>"
      ],
      "text/plain": [
       "    ns_code                                   ns_name  \\\n",
       "53    GAIML  Artificial Intelligence/Machine Learning   \n",
       "276    C151                                  Earnings   \n",
       "277    C152                      Earnings Projections   \n",
       "278   C1514                        Earnings Surprises   \n",
       "290  GELEAR                                E-learning   \n",
       "\n",
       "                                           description  parents  \n",
       "53   An area of computer science that deals with th...  [GCSCI]  \n",
       "276  Announcements of the earnings of a company or ...    [C15]  \n",
       "277  Covers projections of earnings or sales figure...    [C15]  \n",
       "278  Reported earnings significantly above or below...   [C151]  \n",
       "290  Education or training delivered partially or e...   [GEDU]  "
      ]
     },
     "execution_count": 10,
     "metadata": {},
     "output_type": "execute_result"
    }
   ],
   "source": [
    "# By ns_code\n",
    "# ns_df[ns_df.ns_code == 'C151']\n",
    "# By ns_name\n",
    "ns_df[ns_df.ns_name.str.contains('earning', case=False)].head(5)\n",
    "# By ns_description\n",
    "# ns_df[ns_df.description.str.contains('earning', case=False)].head(5)"
   ]
  }
 ],
 "metadata": {
  "kernelspec": {
   "display_name": "frapidemo",
   "language": "python",
   "name": "python3"
  },
  "language_info": {
   "codemirror_mode": {
    "name": "ipython",
    "version": 3
   },
   "file_extension": ".py",
   "mimetype": "text/x-python",
   "name": "python",
   "nbconvert_exporter": "python",
   "pygments_lexer": "ipython3",
   "version": "3.12.9"
  }
 },
 "nbformat": 4,
 "nbformat_minor": 5
}
