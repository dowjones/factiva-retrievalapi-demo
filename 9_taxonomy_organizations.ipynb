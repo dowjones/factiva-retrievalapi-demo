{
 "cells": [
  {
   "cell_type": "markdown",
   "id": "7bf76fa4",
   "metadata": {},
   "source": [
    "# Taxonomy - Organizations Search\n",
    "This notebook helps retrieving sepcific organizations codes based on a set of parameters. Returned codes be added to the Retrieval API payload.\n",
    "\n",
    "## Code Initialization\n",
    "Dependencies and environment initialization. Taxonomy requests require authentication.\n",
    "\n",
    "Ensure there's a `.env` file with your credentials in the same directory as this script. Use the `.env.example` file as template."
   ]
  },
  {
   "cell_type": "code",
   "execution_count": 1,
   "id": "1d3e90ab",
   "metadata": {},
   "outputs": [
    {
     "data": {
      "text/plain": [
       "True"
      ]
     },
     "execution_count": 1,
     "metadata": {},
     "output_type": "execute_result"
    }
   ],
   "source": [
    "import os\n",
    "import requests as r\n",
    "import pandas as pd\n",
    "from IPython.display import Markdown\n",
    "import utils as u\n",
    "from dotenv import load_dotenv\n",
    "\n",
    "load_dotenv()"
   ]
  },
  {
   "cell_type": "markdown",
   "id": "7af05a55",
   "metadata": {},
   "source": [
    "## Constants"
   ]
  },
  {
   "cell_type": "code",
   "execution_count": 2,
   "id": "a739e1a5",
   "metadata": {},
   "outputs": [],
   "source": [
    "API_HOST = 'api.dowjones.com'\n",
    "AUTH_HOST = 'accounts.dowjones.com'\n",
    "CLIENT_ID = os.getenv('FACTIVA_CLIENTID')\n",
    "USERNAME = os.getenv('FACTIVA_USERNAME')\n",
    "PASSWORD = os.getenv('FACTIVA_PASSWORD')\n",
    "AUTH_URL = f\"https://{AUTH_HOST}/oauth2/v1/token\"\n",
    "CO_URL = f\"https://{API_HOST}/taxonomy/factiva-companies/search\""
   ]
  },
  {
   "cell_type": "markdown",
   "id": "1aedfd9e",
   "metadata": {},
   "source": [
    "## Authentication - Generate Bearer\n",
    "\n",
    "For details about getting the `bearer_token`, please see the `utils.py` file."
   ]
  },
  {
   "cell_type": "code",
   "execution_count": 3,
   "id": "7faeaa37",
   "metadata": {},
   "outputs": [
    {
     "data": {
      "text/markdown": [
       "**Authentication Successful**: Bearer token created for user 9ZZZ159100"
      ],
      "text/plain": [
       "<IPython.core.display.Markdown object>"
      ]
     },
     "metadata": {},
     "output_type": "display_data"
    }
   ],
   "source": [
    "bearer_token = u.get_bearer_token(CLIENT_ID, USERNAME, PASSWORD, AUTH_URL)\n",
    "if bearer_token:\n",
    "    display(Markdown(f\"**Authentication Successful**: Bearer token created for user {USERNAME.split('@')[0].split('-')[0]}\"))\n",
    "else:\n",
    "    display(Markdown(f\"**Authentication Failed**: Cannot obtain the Bearer token for the user {USERNAME.split('@')[0].split('-')[0]}\"))\n",
    "    \n",
    "req_headers = {\n",
    "    \"Authorization\": f\"Bearer {bearer_token}\",\n",
    "    \"Content-Type\": \"application/json\",\n",
    "    \"Accept\": \"application/json\"\n",
    "}"
   ]
  },
  {
   "cell_type": "markdown",
   "id": "47fa0f61",
   "metadata": {},
   "source": [
    "## Company Search Keyword"
   ]
  },
  {
   "cell_type": "code",
   "execution_count": 4,
   "id": "50fe650d",
   "metadata": {},
   "outputs": [],
   "source": [
    "company_keyword = \"greenpeace\""
   ]
  },
  {
   "cell_type": "markdown",
   "id": "1760b206",
   "metadata": {},
   "source": [
    "## Taxonomy API Request"
   ]
  },
  {
   "cell_type": "code",
   "execution_count": 5,
   "id": "b1aa26ab",
   "metadata": {},
   "outputs": [
    {
     "data": {
      "text/markdown": [
       "Found: 6 results for the keyword 'greenpeace'"
      ],
      "text/plain": [
       "<IPython.core.display.Markdown object>"
      ]
     },
     "metadata": {},
     "output_type": "display_data"
    }
   ],
   "source": [
    "co_response = r.get(f\"{CO_URL}?filter.search_string={company_keyword}&language=en&parts=All&sort_by=CompanyName\", headers=req_headers)\n",
    "if co_response.status_code == 200:\n",
    "    co_dict = co_response.json()['data']\n",
    "    co_count = co_response.json()['meta']['total_count']\n",
    "    display(Markdown(f\"Found: {co_count} results for the keyword '{company_keyword}'\"))\n",
    "else:\n",
    "    display(Markdown(f\"**Error**: {co_response.status_code} - {co_response.reason}\"))\n"
   ]
  },
  {
   "cell_type": "markdown",
   "id": "84593f99",
   "metadata": {},
   "source": [
    "Results processing and transform into a Pandas DataFrame"
   ]
  },
  {
   "cell_type": "code",
   "execution_count": 6,
   "id": "c0e941d6",
   "metadata": {},
   "outputs": [],
   "source": [
    "flat_co = []\n",
    "for item in co_dict:\n",
    "    country_iso2 = None\n",
    "    country_iso3 = None\n",
    "    tptc = item.get('attributes').get('third_party_taxonomy_code')\n",
    "    if tptc:\n",
    "        for tpc in tptc:\n",
    "            if tpc.keys() == {'code'} and len(tpc.get('code')) == 2:\n",
    "                country_iso2 = tpc.get('code')\n",
    "            elif tpc.keys() == {'code'} and len(tpc.get('code')) == 3:\n",
    "                country_iso3 = tpc.get('code')\n",
    "    flat_co.append({\n",
    "        'org_code': item.get('attributes').get('code'),\n",
    "        'org_name': item.get('attributes').get('name'),\n",
    "        'duns': str(int(float(item.get('attributes').get('duns_number')))) if item.get('attributes').get('duns_number') else '',\n",
    "        'status': item.get('attributes').get('company_status').get('active_status', 'N/A'),\n",
    "        'address1': item.get('attributes').get('address').get('address1', '') if item.get('attributes').get('address') else '',\n",
    "        'address2': item.get('attributes').get('address').get('address2', '') if item.get('attributes').get('address') else '',\n",
    "        'city': item.get('attributes').get('address').get('city', '') if item.get('attributes').get('address') else '',\n",
    "        'postal_code': item.get('attributes').get('address').get('postal_code', '') if item.get('attributes').get('address') else '',\n",
    "        'country_iso2': country_iso2,\n",
    "        'country_iso3': country_iso3,\n",
    "        'factiva_region_code': item.get('attributes').get('primary_region').get('code'),\n",
    "        'factiva_region_name': item.get('attributes').get('primary_region').get('descriptor'),\n",
    "        'factiva_industry_code': item.get('attributes').get('primary_industry').get('code'),\n",
    "        'factiva_industry_name': item.get('attributes').get('primary_industry').get('descriptor',''),\n",
    "        'listed': item.get('attributes').get('company_status').get('listing_status', 'N/A'),\n",
    "        'is_newscoded': item.get('attributes').get('company_status').get('is_news_coded', 'N/A')\n",
    "    })\n",
    "co_df = pd.DataFrame(flat_co)"
   ]
  },
  {
   "cell_type": "markdown",
   "id": "7da85877",
   "metadata": {},
   "source": [
    "## Display Organization Results"
   ]
  },
  {
   "cell_type": "code",
   "execution_count": 7,
   "id": "d0f77fbb",
   "metadata": {},
   "outputs": [
    {
     "data": {
      "text/html": [
       "<div>\n",
       "<style scoped>\n",
       "    .dataframe tbody tr th:only-of-type {\n",
       "        vertical-align: middle;\n",
       "    }\n",
       "\n",
       "    .dataframe tbody tr th {\n",
       "        vertical-align: top;\n",
       "    }\n",
       "\n",
       "    .dataframe thead th {\n",
       "        text-align: right;\n",
       "    }\n",
       "</style>\n",
       "<table border=\"1\" class=\"dataframe\">\n",
       "  <thead>\n",
       "    <tr style=\"text-align: right;\">\n",
       "      <th></th>\n",
       "      <th>org_code</th>\n",
       "      <th>org_name</th>\n",
       "      <th>duns</th>\n",
       "      <th>status</th>\n",
       "      <th>address1</th>\n",
       "      <th>address2</th>\n",
       "      <th>city</th>\n",
       "      <th>postal_code</th>\n",
       "      <th>country_iso2</th>\n",
       "      <th>country_iso3</th>\n",
       "      <th>factiva_region_code</th>\n",
       "      <th>factiva_region_name</th>\n",
       "      <th>factiva_industry_code</th>\n",
       "      <th>factiva_industry_name</th>\n",
       "      <th>listed</th>\n",
       "      <th>is_newscoded</th>\n",
       "    </tr>\n",
       "  </thead>\n",
       "  <tbody>\n",
       "    <tr>\n",
       "      <th>0</th>\n",
       "      <td>GREEEE</td>\n",
       "      <td>Green Planet Energy eG</td>\n",
       "      <td>325955099</td>\n",
       "      <td>Active</td>\n",
       "      <td>Schulterblatt 120</td>\n",
       "      <td></td>\n",
       "      <td>Hamburg</td>\n",
       "      <td>20357</td>\n",
       "      <td>DE</td>\n",
       "      <td>DEU</td>\n",
       "      <td>GFR</td>\n",
       "      <td>Germany</td>\n",
       "      <td>I163</td>\n",
       "      <td>Renewable Energy Generation</td>\n",
       "      <td>Unlisted</td>\n",
       "      <td>True</td>\n",
       "    </tr>\n",
       "    <tr>\n",
       "      <th>1</th>\n",
       "      <td>GPCNDA</td>\n",
       "      <td>Greenpeace Canada</td>\n",
       "      <td>209594217</td>\n",
       "      <td>Active</td>\n",
       "      <td>33 Cecil Street</td>\n",
       "      <td></td>\n",
       "      <td>Toronto</td>\n",
       "      <td>M5T 1N1</td>\n",
       "      <td>CA</td>\n",
       "      <td>CAN</td>\n",
       "      <td>CANA</td>\n",
       "      <td>Canada</td>\n",
       "      <td>IEWM</td>\n",
       "      <td>Environment/Waste Management</td>\n",
       "      <td>Unlisted</td>\n",
       "      <td>True</td>\n",
       "    </tr>\n",
       "    <tr>\n",
       "      <th>2</th>\n",
       "      <td>GRNPCE</td>\n",
       "      <td>Greenpeace e.V.</td>\n",
       "      <td>317578292</td>\n",
       "      <td>Active</td>\n",
       "      <td>Hongkongstraße 10</td>\n",
       "      <td></td>\n",
       "      <td>Hamburg</td>\n",
       "      <td>20457</td>\n",
       "      <td>DE</td>\n",
       "      <td>DEU</td>\n",
       "      <td>GFR</td>\n",
       "      <td>Germany</td>\n",
       "      <td></td>\n",
       "      <td></td>\n",
       "      <td>Unlisted</td>\n",
       "      <td>True</td>\n",
       "    </tr>\n",
       "    <tr>\n",
       "      <th>3</th>\n",
       "      <td>TXJCHR</td>\n",
       "      <td>Greenpeace India</td>\n",
       "      <td>677374112</td>\n",
       "      <td>Active</td>\n",
       "      <td>60, Wellington Street</td>\n",
       "      <td>Richmond Town</td>\n",
       "      <td>Bangalore</td>\n",
       "      <td>560025</td>\n",
       "      <td>IN</td>\n",
       "      <td>IND</td>\n",
       "      <td>INDIA</td>\n",
       "      <td>India</td>\n",
       "      <td></td>\n",
       "      <td></td>\n",
       "      <td>Unlisted</td>\n",
       "      <td>True</td>\n",
       "    </tr>\n",
       "    <tr>\n",
       "      <th>4</th>\n",
       "      <td>GPEACI</td>\n",
       "      <td>Greenpeace International</td>\n",
       "      <td></td>\n",
       "      <td>Active</td>\n",
       "      <td>Ottho Heldringstraat 5</td>\n",
       "      <td></td>\n",
       "      <td>Amsterdam</td>\n",
       "      <td>1066</td>\n",
       "      <td>NL</td>\n",
       "      <td>NLD</td>\n",
       "      <td>NETH</td>\n",
       "      <td>Netherlands</td>\n",
       "      <td></td>\n",
       "      <td></td>\n",
       "      <td>Unlisted</td>\n",
       "      <td>True</td>\n",
       "    </tr>\n",
       "    <tr>\n",
       "      <th>5</th>\n",
       "      <td>GPEACE</td>\n",
       "      <td>Greenpeace UK</td>\n",
       "      <td>227080231</td>\n",
       "      <td>Active</td>\n",
       "      <td>Canonbury Villas</td>\n",
       "      <td></td>\n",
       "      <td>London</td>\n",
       "      <td>N1 2PN</td>\n",
       "      <td>GB</td>\n",
       "      <td>GBR</td>\n",
       "      <td>UK</td>\n",
       "      <td>United Kingdom</td>\n",
       "      <td>I8395413</td>\n",
       "      <td>Environmental Consulting Services</td>\n",
       "      <td>Unlisted</td>\n",
       "      <td>True</td>\n",
       "    </tr>\n",
       "  </tbody>\n",
       "</table>\n",
       "</div>"
      ],
      "text/plain": [
       "  org_code                  org_name       duns  status  \\\n",
       "0   GREEEE    Green Planet Energy eG  325955099  Active   \n",
       "1   GPCNDA         Greenpeace Canada  209594217  Active   \n",
       "2   GRNPCE           Greenpeace e.V.  317578292  Active   \n",
       "3   TXJCHR          Greenpeace India  677374112  Active   \n",
       "4   GPEACI  Greenpeace International             Active   \n",
       "5   GPEACE             Greenpeace UK  227080231  Active   \n",
       "\n",
       "                 address1       address2       city postal_code country_iso2  \\\n",
       "0       Schulterblatt 120                   Hamburg       20357           DE   \n",
       "1         33 Cecil Street                   Toronto     M5T 1N1           CA   \n",
       "2       Hongkongstraße 10                   Hamburg       20457           DE   \n",
       "3   60, Wellington Street  Richmond Town  Bangalore      560025           IN   \n",
       "4  Ottho Heldringstraat 5                 Amsterdam        1066           NL   \n",
       "5        Canonbury Villas                    London      N1 2PN           GB   \n",
       "\n",
       "  country_iso3 factiva_region_code factiva_region_name factiva_industry_code  \\\n",
       "0          DEU                 GFR             Germany                  I163   \n",
       "1          CAN                CANA              Canada                  IEWM   \n",
       "2          DEU                 GFR             Germany                         \n",
       "3          IND               INDIA               India                         \n",
       "4          NLD                NETH         Netherlands                         \n",
       "5          GBR                  UK      United Kingdom              I8395413   \n",
       "\n",
       "               factiva_industry_name    listed  is_newscoded  \n",
       "0        Renewable Energy Generation  Unlisted          True  \n",
       "1       Environment/Waste Management  Unlisted          True  \n",
       "2                                     Unlisted          True  \n",
       "3                                     Unlisted          True  \n",
       "4                                     Unlisted          True  \n",
       "5  Environmental Consulting Services  Unlisted          True  "
      ]
     },
     "execution_count": 7,
     "metadata": {},
     "output_type": "execute_result"
    }
   ],
   "source": [
    "co_df"
   ]
  }
 ],
 "metadata": {
  "kernelspec": {
   "display_name": "frapidemo",
   "language": "python",
   "name": "python3"
  },
  "language_info": {
   "codemirror_mode": {
    "name": "ipython",
    "version": 3
   },
   "file_extension": ".py",
   "mimetype": "text/x-python",
   "name": "python",
   "nbconvert_exporter": "python",
   "pygments_lexer": "ipython3",
   "version": "3.12.9"
  }
 },
 "nbformat": 4,
 "nbformat_minor": 5
}
